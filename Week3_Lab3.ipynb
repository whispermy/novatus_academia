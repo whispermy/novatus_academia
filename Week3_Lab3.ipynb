{
  "nbformat": 4,
  "nbformat_minor": 0,
  "metadata": {
    "colab": {
      "name": "Week3_Lab3-현장.ipynb의 사본",
      "provenance": [],
      "collapsed_sections": [],
      "toc_visible": true,
      "include_colab_link": true
    },
    "kernelspec": {
      "display_name": "Python 3",
      "language": "python",
      "name": "python3"
    },
    "language_info": {
      "codemirror_mode": {
        "name": "ipython",
        "version": 3
      },
      "file_extension": ".py",
      "mimetype": "text/x-python",
      "name": "python",
      "nbconvert_exporter": "python",
      "pygments_lexer": "ipython3",
      "version": "3.8.5"
    }
  },
  "cells": [
    {
      "cell_type": "markdown",
      "metadata": {
        "id": "view-in-github",
        "colab_type": "text"
      },
      "source": [
        "<a href=\"https://colab.research.google.com/github/whispermy/novatus_academia/blob/main/Week3_Lab3.ipynb\" target=\"_parent\"><img src=\"https://colab.research.google.com/assets/colab-badge.svg\" alt=\"Open In Colab\"/></a>"
      ]
    },
    {
      "cell_type": "markdown",
      "metadata": {
        "id": "hpfJVnI0JG_C"
      },
      "source": [
        "**AI 노바투스과정**\n",
        "\n",
        "Week 3: 딥러닝 기초 I (2021-08-20)\n",
        "\n",
        "실습 #3: 신경망 모형의 초모수 결정하기/ Early-Stopping 실습하기"
      ]
    },
    {
      "cell_type": "markdown",
      "metadata": {
        "id": "4qHbw0ONbCom"
      },
      "source": [
        "## 1. 학습률 스케줄링 하기\n",
        "\n"
      ]
    },
    {
      "cell_type": "code",
      "metadata": {
        "id": "JLvN_WS1--lA"
      },
      "source": [
        "#keras 라이브러리 가져오기\n",
        "\n",
        "import tensorflow.keras as keras"
      ],
      "execution_count": 6,
      "outputs": []
    },
    {
      "cell_type": "code",
      "metadata": {
        "id": "5w9C0Guw_dHh"
      },
      "source": [
        "#MNIST 패션 데이터 로딩하기\n",
        "\n",
        "fashion_mnist=keras.datasets.fashion_mnist"
      ],
      "execution_count": 7,
      "outputs": []
    },
    {
      "cell_type": "code",
      "metadata": {
        "id": "5THzsbWu_oAb",
        "colab": {
          "base_uri": "https://localhost:8080/"
        },
        "outputId": "f17bd2de-2d19-4656-f69c-75552ba23877"
      },
      "source": [
        "(X_train_full, y_train_full), (X_test, y_test) =fashion_mnist.load_data()"
      ],
      "execution_count": 8,
      "outputs": [
        {
          "output_type": "stream",
          "text": [
            "Downloading data from https://storage.googleapis.com/tensorflow/tf-keras-datasets/train-labels-idx1-ubyte.gz\n",
            "32768/29515 [=================================] - 0s 0us/step\n",
            "40960/29515 [=========================================] - 0s 0us/step\n",
            "Downloading data from https://storage.googleapis.com/tensorflow/tf-keras-datasets/train-images-idx3-ubyte.gz\n",
            "26427392/26421880 [==============================] - 0s 0us/step\n",
            "26435584/26421880 [==============================] - 0s 0us/step\n",
            "Downloading data from https://storage.googleapis.com/tensorflow/tf-keras-datasets/t10k-labels-idx1-ubyte.gz\n",
            "16384/5148 [===============================================================================================] - 0s 0us/step\n",
            "Downloading data from https://storage.googleapis.com/tensorflow/tf-keras-datasets/t10k-images-idx3-ubyte.gz\n",
            "4423680/4422102 [==============================] - 0s 0us/step\n",
            "4431872/4422102 [==============================] - 0s 0us/step\n"
          ],
          "name": "stdout"
        }
      ]
    },
    {
      "cell_type": "code",
      "metadata": {
        "id": "yVGIpeMgABS5"
      },
      "source": [
        "#target 의 각 숫자값에 해당하는 클래스 명 지정하기\n",
        "\n",
        "class_names=[\"T-shirt/top\",'Trouser','Pullover','Dress',\"Coat\", \"Sandal\", \"Shirt\", \"Sneaker\", \"Bag\", \"Ankle boot\"]"
      ],
      "execution_count": 9,
      "outputs": []
    },
    {
      "cell_type": "code",
      "metadata": {
        "id": "a70Q2VQJ_ziq"
      },
      "source": [
        "# 학습용 데이터를 다시 학습용 데이터와 검증용 데이터 (valdiation set) 으로 분리\n",
        "# 분리와 동시에 정규화\n",
        "\n",
        "X_valid, X_train= X_train_full[:5000]/255.0, X_train_full[5000:]/255.0\n",
        "y_valid, y_train= y_train_full[:5000], y_train_full[5000:]\n",
        "\n",
        "X_test=X_test/255.0"
      ],
      "execution_count": 10,
      "outputs": []
    },
    {
      "cell_type": "code",
      "metadata": {
        "id": "QKxXMaXDASBx"
      },
      "source": [
        "# keras 의 Sequential API 를 활용하여 신경망 모형의 골격 만들기 \n",
        "# 은닉층이 2개이며 첫번째 은닉층에 뉴런 300개, 두번째 은닉층에 뉴런 100개 인 골격 만들기\n",
        "# 활성함수는 relu 사용하기 \n",
        "\n",
        "\n",
        "model=keras.models.Sequential()\n",
        "\n",
        "model.add(keras.layers.Flatten(input_shape=[28,28]))\n",
        "model.add(keras.layers.Dense(300,activation=\"relu\"))\n",
        "\n",
        "model.add(keras.layers.Dense(100,activation=\"relu\"))\n",
        "model.add(keras.layers.Dense(10,activation=\"softmax\"))"
      ],
      "execution_count": 11,
      "outputs": []
    },
    {
      "cell_type": "code",
      "metadata": {
        "id": "anR1jTNmCUml",
        "colab": {
          "base_uri": "https://localhost:8080/"
        },
        "outputId": "682a746e-6275-4334-b8df-2b05c313ba9d"
      },
      "source": [
        "model.summary()"
      ],
      "execution_count": 12,
      "outputs": [
        {
          "output_type": "stream",
          "text": [
            "Model: \"sequential\"\n",
            "_________________________________________________________________\n",
            "Layer (type)                 Output Shape              Param #   \n",
            "=================================================================\n",
            "flatten (Flatten)            (None, 784)               0         \n",
            "_________________________________________________________________\n",
            "dense (Dense)                (None, 300)               235500    \n",
            "_________________________________________________________________\n",
            "dense_1 (Dense)              (None, 100)               30100     \n",
            "_________________________________________________________________\n",
            "dense_2 (Dense)              (None, 10)                1010      \n",
            "=================================================================\n",
            "Total params: 266,610\n",
            "Trainable params: 266,610\n",
            "Non-trainable params: 0\n",
            "_________________________________________________________________\n"
          ],
          "name": "stdout"
        }
      ]
    },
    {
      "cell_type": "markdown",
      "metadata": {
        "id": "fQsaDvWZNFS0"
      },
      "source": [
        "### 1.1 power scheduling"
      ]
    },
    {
      "cell_type": "code",
      "metadata": {
        "id": "mMCuI62aCuuZ",
        "colab": {
          "base_uri": "https://localhost:8080/"
        },
        "outputId": "fc36c709-5898-443f-9942-ea38f5a5800d"
      },
      "source": [
        "# 모형 컴파일하기 (손실함수, 최적화 방법 지정하기)\n",
        "### power scheduling 으로 학습률을 스케줄링하기 !!  \n",
        "\n",
        "optimizer = keras.optimizers.SGD(lr=0.01, decay = 0.0001)\n",
        "model.compile(loss=\"sparse_categorical_crossentropy\", optimizer=optimizer, metrics=[\"accuracy\"])\n",
        "\n"
      ],
      "execution_count": 15,
      "outputs": [
        {
          "output_type": "stream",
          "text": [
            "/usr/local/lib/python3.7/dist-packages/keras/optimizer_v2/optimizer_v2.py:356: UserWarning: The `lr` argument is deprecated, use `learning_rate` instead.\n",
            "  \"The `lr` argument is deprecated, use `learning_rate` instead.\")\n"
          ],
          "name": "stderr"
        }
      ]
    },
    {
      "cell_type": "code",
      "metadata": {
        "id": "QUEk3UJ4OQWy",
        "colab": {
          "base_uri": "https://localhost:8080/"
        },
        "outputId": "e89d3e4a-1e84-4c46-9d41-dcc326cbd743"
      },
      "source": [
        "#epoch 개수를 30개로 설정하여 모형 학습하기\n",
        "\n",
        "history=model.fit(X_train, y_train, epochs=30, validation_data=(X_valid, y_valid))"
      ],
      "execution_count": 16,
      "outputs": [
        {
          "output_type": "stream",
          "text": [
            "Epoch 1/30\n",
            "1719/1719 [==============================] - 7s 4ms/step - loss: 0.7282 - accuracy: 0.7602 - val_loss: 0.5078 - val_accuracy: 0.8262\n",
            "Epoch 2/30\n",
            "1719/1719 [==============================] - 7s 4ms/step - loss: 0.4911 - accuracy: 0.8284 - val_loss: 0.4755 - val_accuracy: 0.8364\n",
            "Epoch 3/30\n",
            "1719/1719 [==============================] - 7s 4ms/step - loss: 0.4481 - accuracy: 0.8425 - val_loss: 0.4356 - val_accuracy: 0.8494\n",
            "Epoch 4/30\n",
            "1719/1719 [==============================] - 6s 4ms/step - loss: 0.4247 - accuracy: 0.8516 - val_loss: 0.4242 - val_accuracy: 0.8522\n",
            "Epoch 5/30\n",
            "1719/1719 [==============================] - 6s 3ms/step - loss: 0.4069 - accuracy: 0.8570 - val_loss: 0.4084 - val_accuracy: 0.8592\n",
            "Epoch 6/30\n",
            "1719/1719 [==============================] - 6s 3ms/step - loss: 0.3935 - accuracy: 0.8618 - val_loss: 0.3963 - val_accuracy: 0.8632\n",
            "Epoch 7/30\n",
            "1719/1719 [==============================] - 6s 3ms/step - loss: 0.3828 - accuracy: 0.8665 - val_loss: 0.3849 - val_accuracy: 0.8670\n",
            "Epoch 8/30\n",
            "1719/1719 [==============================] - 6s 3ms/step - loss: 0.3749 - accuracy: 0.8694 - val_loss: 0.3712 - val_accuracy: 0.8710\n",
            "Epoch 9/30\n",
            "1719/1719 [==============================] - 6s 3ms/step - loss: 0.3675 - accuracy: 0.8712 - val_loss: 0.3755 - val_accuracy: 0.8700\n",
            "Epoch 10/30\n",
            "1719/1719 [==============================] - 6s 3ms/step - loss: 0.3610 - accuracy: 0.8725 - val_loss: 0.3729 - val_accuracy: 0.8708\n",
            "Epoch 11/30\n",
            "1719/1719 [==============================] - 6s 3ms/step - loss: 0.3557 - accuracy: 0.8737 - val_loss: 0.3642 - val_accuracy: 0.8756\n",
            "Epoch 12/30\n",
            "1719/1719 [==============================] - 5s 3ms/step - loss: 0.3501 - accuracy: 0.8767 - val_loss: 0.3584 - val_accuracy: 0.8732\n",
            "Epoch 13/30\n",
            "1719/1719 [==============================] - 6s 3ms/step - loss: 0.3461 - accuracy: 0.8778 - val_loss: 0.3552 - val_accuracy: 0.8748\n",
            "Epoch 14/30\n",
            "1719/1719 [==============================] - 5s 3ms/step - loss: 0.3419 - accuracy: 0.8801 - val_loss: 0.3500 - val_accuracy: 0.8764\n",
            "Epoch 15/30\n",
            "1719/1719 [==============================] - 6s 3ms/step - loss: 0.3381 - accuracy: 0.8807 - val_loss: 0.3516 - val_accuracy: 0.8764\n",
            "Epoch 16/30\n",
            "1719/1719 [==============================] - 5s 3ms/step - loss: 0.3345 - accuracy: 0.8820 - val_loss: 0.3489 - val_accuracy: 0.8788\n",
            "Epoch 17/30\n",
            "1719/1719 [==============================] - 5s 3ms/step - loss: 0.3310 - accuracy: 0.8834 - val_loss: 0.3514 - val_accuracy: 0.8768\n",
            "Epoch 18/30\n",
            "1719/1719 [==============================] - 6s 3ms/step - loss: 0.3279 - accuracy: 0.8846 - val_loss: 0.3407 - val_accuracy: 0.8796\n",
            "Epoch 19/30\n",
            "1719/1719 [==============================] - 6s 3ms/step - loss: 0.3255 - accuracy: 0.8846 - val_loss: 0.3436 - val_accuracy: 0.8768\n",
            "Epoch 20/30\n",
            "1719/1719 [==============================] - 6s 3ms/step - loss: 0.3227 - accuracy: 0.8860 - val_loss: 0.3441 - val_accuracy: 0.8792\n",
            "Epoch 21/30\n",
            "1719/1719 [==============================] - 5s 3ms/step - loss: 0.3202 - accuracy: 0.8868 - val_loss: 0.3380 - val_accuracy: 0.8798\n",
            "Epoch 22/30\n",
            "1719/1719 [==============================] - 5s 3ms/step - loss: 0.3179 - accuracy: 0.8878 - val_loss: 0.3362 - val_accuracy: 0.8806\n",
            "Epoch 23/30\n",
            "1719/1719 [==============================] - 6s 3ms/step - loss: 0.3154 - accuracy: 0.8883 - val_loss: 0.3383 - val_accuracy: 0.8808\n",
            "Epoch 24/30\n",
            "1719/1719 [==============================] - 6s 3ms/step - loss: 0.3135 - accuracy: 0.8895 - val_loss: 0.3369 - val_accuracy: 0.8816\n",
            "Epoch 25/30\n",
            "1719/1719 [==============================] - 5s 3ms/step - loss: 0.3118 - accuracy: 0.8896 - val_loss: 0.3385 - val_accuracy: 0.8826\n",
            "Epoch 26/30\n",
            "1719/1719 [==============================] - 5s 3ms/step - loss: 0.3093 - accuracy: 0.8903 - val_loss: 0.3345 - val_accuracy: 0.8840\n",
            "Epoch 27/30\n",
            "1719/1719 [==============================] - 5s 3ms/step - loss: 0.3076 - accuracy: 0.8916 - val_loss: 0.3330 - val_accuracy: 0.8862\n",
            "Epoch 28/30\n",
            "1719/1719 [==============================] - 5s 3ms/step - loss: 0.3058 - accuracy: 0.8926 - val_loss: 0.3327 - val_accuracy: 0.8840\n",
            "Epoch 29/30\n",
            "1719/1719 [==============================] - 5s 3ms/step - loss: 0.3043 - accuracy: 0.8916 - val_loss: 0.3299 - val_accuracy: 0.8824\n",
            "Epoch 30/30\n",
            "1719/1719 [==============================] - 6s 3ms/step - loss: 0.3024 - accuracy: 0.8928 - val_loss: 0.3308 - val_accuracy: 0.8826\n"
          ],
          "name": "stdout"
        }
      ]
    },
    {
      "cell_type": "code",
      "metadata": {
        "id": "2bd1ij7UPi_K",
        "colab": {
          "base_uri": "https://localhost:8080/"
        },
        "outputId": "cb8f6688-d242-431c-ff9a-4fd6bc7ad255"
      },
      "source": [
        "model.evaluate(X_test, y_test)"
      ],
      "execution_count": 17,
      "outputs": [
        {
          "output_type": "stream",
          "text": [
            "313/313 [==============================] - 1s 2ms/step - loss: 0.3676 - accuracy: 0.8678\n"
          ],
          "name": "stdout"
        },
        {
          "output_type": "execute_result",
          "data": {
            "text/plain": [
              "[0.36756521463394165, 0.8677999973297119]"
            ]
          },
          "metadata": {},
          "execution_count": 17
        }
      ]
    },
    {
      "cell_type": "markdown",
      "metadata": {
        "id": "7bRzyfnaPvts"
      },
      "source": [
        "### 1.2 Exponential scheduling"
      ]
    },
    {
      "cell_type": "code",
      "metadata": {
        "id": "3z8wt0vhS_H0"
      },
      "source": [
        "# keras 의 Sequential API 를 활용하여 신경망 모형의 골격 만들기 \n",
        "# 은닉층이 2개이며 첫번째 은닉층에 뉴런 300개, 두번째 은닉층에 뉴런 100개 인 골격 만들기\n",
        "# 활성함수는 relu 사용하기 \n",
        "\n",
        "\n",
        "model=keras.models.Sequential()\n",
        "\n",
        "model.add(keras.layers.Flatten(input_shape=[28,28]))\n",
        "model.add(keras.layers.Dense(300,activation=\"relu\"))\n",
        "\n",
        "model.add(keras.layers.Dense(100,activation=\"relu\"))\n",
        "model.add(keras.layers.Dense(10,activation=\"softmax\"))"
      ],
      "execution_count": 18,
      "outputs": []
    },
    {
      "cell_type": "code",
      "metadata": {
        "id": "aAH098CCTFOc"
      },
      "source": [
        "# 모형 컴파일하기 (손실함수, 최적화 방법 지정하기)\n",
        "\n",
        "model.compile(loss=\"sparse_categorical_crossentropy\", optimizer=\"sgd\", metrics=[\"accuracy\"])\n"
      ],
      "execution_count": 19,
      "outputs": []
    },
    {
      "cell_type": "code",
      "metadata": {
        "id": "ykZ0Z49TwS0S"
      },
      "source": [
        "#callback 으로 scheduler 지정하기\n",
        "\n",
        "def exponential_decay_fn(epoch,lr):\n",
        "  return lr*0.1**(1/20)\n",
        "\n",
        "lr_scheduler = keras.callbacks.LearningRateScheduler(exponential_decay_fn)\n"
      ],
      "execution_count": 20,
      "outputs": []
    },
    {
      "cell_type": "code",
      "metadata": {
        "id": "jyoYsQiDwiYt",
        "colab": {
          "base_uri": "https://localhost:8080/"
        },
        "outputId": "35eae703-01bf-4b62-e0b6-9cee1b445f32"
      },
      "source": [
        "#모형 학습하기\n",
        "\n",
        "model.fit(X_train, y_train, epochs=30, validation_data=(X_valid, y_valid), callbacks=[lr_scheduler])"
      ],
      "execution_count": 22,
      "outputs": [
        {
          "output_type": "stream",
          "text": [
            "Epoch 1/30\n",
            "1719/1719 [==============================] - 6s 3ms/step - loss: 0.2575 - accuracy: 0.9079 - val_loss: 0.3114 - val_accuracy: 0.8860\n",
            "Epoch 2/30\n",
            "1719/1719 [==============================] - 6s 3ms/step - loss: 0.2510 - accuracy: 0.9094 - val_loss: 0.3021 - val_accuracy: 0.8914\n",
            "Epoch 3/30\n",
            "1719/1719 [==============================] - 6s 4ms/step - loss: 0.2452 - accuracy: 0.9123 - val_loss: 0.3041 - val_accuracy: 0.8890\n",
            "Epoch 4/30\n",
            "1719/1719 [==============================] - 7s 4ms/step - loss: 0.2396 - accuracy: 0.9141 - val_loss: 0.2977 - val_accuracy: 0.8920\n",
            "Epoch 5/30\n",
            "1719/1719 [==============================] - 6s 4ms/step - loss: 0.2359 - accuracy: 0.9150 - val_loss: 0.3062 - val_accuracy: 0.8894\n",
            "Epoch 6/30\n",
            "1719/1719 [==============================] - 6s 3ms/step - loss: 0.2305 - accuracy: 0.9177 - val_loss: 0.2955 - val_accuracy: 0.8952\n",
            "Epoch 7/30\n",
            "1719/1719 [==============================] - 6s 4ms/step - loss: 0.2273 - accuracy: 0.9191 - val_loss: 0.2906 - val_accuracy: 0.8972\n",
            "Epoch 8/30\n",
            "1719/1719 [==============================] - 6s 4ms/step - loss: 0.2240 - accuracy: 0.9206 - val_loss: 0.2988 - val_accuracy: 0.8930\n",
            "Epoch 9/30\n",
            "1719/1719 [==============================] - 6s 4ms/step - loss: 0.2204 - accuracy: 0.9220 - val_loss: 0.2919 - val_accuracy: 0.8958\n",
            "Epoch 10/30\n",
            "1719/1719 [==============================] - 6s 3ms/step - loss: 0.2185 - accuracy: 0.9226 - val_loss: 0.2913 - val_accuracy: 0.8976\n",
            "Epoch 11/30\n",
            "1719/1719 [==============================] - 6s 3ms/step - loss: 0.2159 - accuracy: 0.9241 - val_loss: 0.2928 - val_accuracy: 0.8962\n",
            "Epoch 12/30\n",
            "1719/1719 [==============================] - 6s 3ms/step - loss: 0.2136 - accuracy: 0.9253 - val_loss: 0.2919 - val_accuracy: 0.8972\n",
            "Epoch 13/30\n",
            "1719/1719 [==============================] - 6s 3ms/step - loss: 0.2123 - accuracy: 0.9255 - val_loss: 0.2924 - val_accuracy: 0.8974\n",
            "Epoch 14/30\n",
            "1719/1719 [==============================] - 6s 4ms/step - loss: 0.2098 - accuracy: 0.9262 - val_loss: 0.2899 - val_accuracy: 0.8976\n",
            "Epoch 15/30\n",
            "1719/1719 [==============================] - 6s 4ms/step - loss: 0.2087 - accuracy: 0.9272 - val_loss: 0.2888 - val_accuracy: 0.8996\n",
            "Epoch 16/30\n",
            "1719/1719 [==============================] - 6s 4ms/step - loss: 0.2071 - accuracy: 0.9281 - val_loss: 0.2928 - val_accuracy: 0.8956\n",
            "Epoch 17/30\n",
            "1719/1719 [==============================] - 6s 4ms/step - loss: 0.2058 - accuracy: 0.9287 - val_loss: 0.2870 - val_accuracy: 0.8972\n",
            "Epoch 18/30\n",
            "1719/1719 [==============================] - 6s 4ms/step - loss: 0.2047 - accuracy: 0.9291 - val_loss: 0.2864 - val_accuracy: 0.8970\n",
            "Epoch 19/30\n",
            "1719/1719 [==============================] - 6s 4ms/step - loss: 0.2037 - accuracy: 0.9294 - val_loss: 0.2854 - val_accuracy: 0.8974\n",
            "Epoch 20/30\n",
            "1719/1719 [==============================] - 6s 4ms/step - loss: 0.2028 - accuracy: 0.9299 - val_loss: 0.2866 - val_accuracy: 0.8960\n",
            "Epoch 21/30\n",
            "1719/1719 [==============================] - 7s 4ms/step - loss: 0.2019 - accuracy: 0.9299 - val_loss: 0.2900 - val_accuracy: 0.8990\n",
            "Epoch 22/30\n",
            "1719/1719 [==============================] - 7s 4ms/step - loss: 0.2014 - accuracy: 0.9302 - val_loss: 0.2881 - val_accuracy: 0.8968\n",
            "Epoch 23/30\n",
            "1719/1719 [==============================] - 7s 4ms/step - loss: 0.2007 - accuracy: 0.9306 - val_loss: 0.2878 - val_accuracy: 0.8982\n",
            "Epoch 24/30\n",
            "1719/1719 [==============================] - 6s 4ms/step - loss: 0.2001 - accuracy: 0.9307 - val_loss: 0.2858 - val_accuracy: 0.8978\n",
            "Epoch 25/30\n",
            "1719/1719 [==============================] - 6s 3ms/step - loss: 0.1995 - accuracy: 0.9315 - val_loss: 0.2867 - val_accuracy: 0.8998\n",
            "Epoch 26/30\n",
            "1719/1719 [==============================] - 6s 3ms/step - loss: 0.1989 - accuracy: 0.9315 - val_loss: 0.2871 - val_accuracy: 0.8984\n",
            "Epoch 27/30\n",
            "1719/1719 [==============================] - 6s 3ms/step - loss: 0.1987 - accuracy: 0.9319 - val_loss: 0.2869 - val_accuracy: 0.8978\n",
            "Epoch 28/30\n",
            "1719/1719 [==============================] - 6s 3ms/step - loss: 0.1983 - accuracy: 0.9315 - val_loss: 0.2860 - val_accuracy: 0.8984\n",
            "Epoch 29/30\n",
            "1719/1719 [==============================] - 6s 3ms/step - loss: 0.1979 - accuracy: 0.9319 - val_loss: 0.2864 - val_accuracy: 0.8988\n",
            "Epoch 30/30\n",
            "1719/1719 [==============================] - 6s 3ms/step - loss: 0.1977 - accuracy: 0.9319 - val_loss: 0.2866 - val_accuracy: 0.9000\n"
          ],
          "name": "stdout"
        },
        {
          "output_type": "execute_result",
          "data": {
            "text/plain": [
              "<keras.callbacks.History at 0x7f17074f00d0>"
            ]
          },
          "metadata": {},
          "execution_count": 22
        }
      ]
    },
    {
      "cell_type": "code",
      "metadata": {
        "id": "784oBiq9TiCF",
        "colab": {
          "base_uri": "https://localhost:8080/"
        },
        "outputId": "ae7da60a-c434-4db5-b126-6c7e943e48f9"
      },
      "source": [
        "model.evaluate(X_test, y_test)"
      ],
      "execution_count": 23,
      "outputs": [
        {
          "output_type": "stream",
          "text": [
            "313/313 [==============================] - 1s 2ms/step - loss: 0.3180 - accuracy: 0.8877\n"
          ],
          "name": "stdout"
        },
        {
          "output_type": "execute_result",
          "data": {
            "text/plain": [
              "[0.31795746088027954, 0.8877000212669373]"
            ]
          },
          "metadata": {},
          "execution_count": 23
        }
      ]
    },
    {
      "cell_type": "markdown",
      "metadata": {
        "id": "MW6DhoXoWOq6"
      },
      "source": [
        "### 1.3 Performance scheduling"
      ]
    },
    {
      "cell_type": "code",
      "metadata": {
        "id": "i8f5NkclYEwK"
      },
      "source": [
        "# keras 의 Sequential API 를 활용하여 신경망 모형의 골격 만들기 \n",
        "# 은닉층이 2개이며 첫번째 은닉층에 뉴런 300개, 두번째 은닉층에 뉴런 100개 인 골격 만들기\n",
        "# 활성함수는 relu 사용하기 \n",
        "\n",
        "\n",
        "model=keras.models.Sequential()\n",
        "\n",
        "model.add(keras.layers.Flatten(input_shape=[28,28]))\n",
        "model.add(keras.layers.Dense(300,activation=\"relu\"))\n",
        "\n",
        "model.add(keras.layers.Dense(100,activation=\"relu\"))\n",
        "model.add(keras.layers.Dense(10,activation=\"softmax\"))"
      ],
      "execution_count": 24,
      "outputs": []
    },
    {
      "cell_type": "code",
      "metadata": {
        "id": "VD1GHiPcYKNm"
      },
      "source": [
        "# 모형 컴파일하기 (손실함수, 최적화 방법 지정하기)\n",
        "\n",
        "model.compile(loss=\"sparse_categorical_crossentropy\", optimizer=\"sgd\", metrics=[\"accuracy\"])\n"
      ],
      "execution_count": 25,
      "outputs": []
    },
    {
      "cell_type": "code",
      "metadata": {
        "id": "wcye4AbDwrWT"
      },
      "source": [
        "#callback 으로 scheduler 지정하기\n",
        "\n",
        "lr_scheduler = keras.callbacks.ReduceLROnPlateau(factor=0.5, patience=5)\n",
        "\n"
      ],
      "execution_count": 26,
      "outputs": []
    },
    {
      "cell_type": "code",
      "metadata": {
        "id": "oHS4Dr2Lw31Q",
        "colab": {
          "base_uri": "https://localhost:8080/"
        },
        "outputId": "815bf62a-0db9-4b7b-c7a1-4975ba6586c3"
      },
      "source": [
        "# 모형 학습하기\n",
        "\n",
        "model.fit(X_train, y_train, epochs=30, validation_data=(X_valid, y_valid), callbacks=[lr_scheduler])"
      ],
      "execution_count": 28,
      "outputs": [
        {
          "output_type": "stream",
          "text": [
            "Epoch 1/30\n",
            "1719/1719 [==============================] - 7s 4ms/step - loss: 0.7017 - accuracy: 0.7717 - val_loss: 0.5150 - val_accuracy: 0.8240\n",
            "Epoch 2/30\n",
            "1719/1719 [==============================] - 6s 4ms/step - loss: 0.4895 - accuracy: 0.8291 - val_loss: 0.4976 - val_accuracy: 0.8206\n",
            "Epoch 3/30\n",
            "1719/1719 [==============================] - 6s 4ms/step - loss: 0.4442 - accuracy: 0.8451 - val_loss: 0.4269 - val_accuracy: 0.8494\n",
            "Epoch 4/30\n",
            "1719/1719 [==============================] - 6s 3ms/step - loss: 0.4160 - accuracy: 0.8536 - val_loss: 0.4079 - val_accuracy: 0.8600\n",
            "Epoch 5/30\n",
            "1719/1719 [==============================] - 6s 3ms/step - loss: 0.3959 - accuracy: 0.8604 - val_loss: 0.3867 - val_accuracy: 0.8634\n",
            "Epoch 6/30\n",
            "1719/1719 [==============================] - 6s 3ms/step - loss: 0.3810 - accuracy: 0.8649 - val_loss: 0.3799 - val_accuracy: 0.8674\n",
            "Epoch 7/30\n",
            "1719/1719 [==============================] - 6s 4ms/step - loss: 0.3672 - accuracy: 0.8708 - val_loss: 0.3680 - val_accuracy: 0.8718\n",
            "Epoch 8/30\n",
            "1719/1719 [==============================] - 6s 4ms/step - loss: 0.3568 - accuracy: 0.8738 - val_loss: 0.3728 - val_accuracy: 0.8678\n",
            "Epoch 9/30\n",
            "1719/1719 [==============================] - 6s 3ms/step - loss: 0.3456 - accuracy: 0.8772 - val_loss: 0.3492 - val_accuracy: 0.8772\n",
            "Epoch 10/30\n",
            "1719/1719 [==============================] - 6s 3ms/step - loss: 0.3361 - accuracy: 0.8802 - val_loss: 0.3413 - val_accuracy: 0.8774\n",
            "Epoch 11/30\n",
            "1719/1719 [==============================] - 6s 4ms/step - loss: 0.3273 - accuracy: 0.8832 - val_loss: 0.3369 - val_accuracy: 0.8798\n",
            "Epoch 12/30\n",
            "1719/1719 [==============================] - 6s 4ms/step - loss: 0.3195 - accuracy: 0.8863 - val_loss: 0.3419 - val_accuracy: 0.8762\n",
            "Epoch 13/30\n",
            "1719/1719 [==============================] - 6s 4ms/step - loss: 0.3121 - accuracy: 0.8894 - val_loss: 0.3504 - val_accuracy: 0.8760\n",
            "Epoch 14/30\n",
            "1719/1719 [==============================] - 6s 3ms/step - loss: 0.3051 - accuracy: 0.8906 - val_loss: 0.3426 - val_accuracy: 0.8776\n",
            "Epoch 15/30\n",
            "1719/1719 [==============================] - 6s 4ms/step - loss: 0.2985 - accuracy: 0.8924 - val_loss: 0.3287 - val_accuracy: 0.8796\n",
            "Epoch 16/30\n",
            "1719/1719 [==============================] - 6s 4ms/step - loss: 0.2924 - accuracy: 0.8949 - val_loss: 0.3170 - val_accuracy: 0.8860\n",
            "Epoch 17/30\n",
            "1719/1719 [==============================] - 6s 4ms/step - loss: 0.2868 - accuracy: 0.8967 - val_loss: 0.3214 - val_accuracy: 0.8824\n",
            "Epoch 18/30\n",
            "1719/1719 [==============================] - 6s 4ms/step - loss: 0.2798 - accuracy: 0.8993 - val_loss: 0.3082 - val_accuracy: 0.8880\n",
            "Epoch 19/30\n",
            "1719/1719 [==============================] - 6s 3ms/step - loss: 0.2753 - accuracy: 0.9011 - val_loss: 0.3067 - val_accuracy: 0.8882\n",
            "Epoch 20/30\n",
            "1719/1719 [==============================] - 6s 4ms/step - loss: 0.2705 - accuracy: 0.9018 - val_loss: 0.3476 - val_accuracy: 0.8744\n",
            "Epoch 21/30\n",
            "1719/1719 [==============================] - 6s 4ms/step - loss: 0.2652 - accuracy: 0.9041 - val_loss: 0.3274 - val_accuracy: 0.8786\n",
            "Epoch 22/30\n",
            "1719/1719 [==============================] - 6s 4ms/step - loss: 0.2613 - accuracy: 0.9051 - val_loss: 0.3002 - val_accuracy: 0.8898\n",
            "Epoch 23/30\n",
            "1719/1719 [==============================] - 6s 3ms/step - loss: 0.2560 - accuracy: 0.9064 - val_loss: 0.3141 - val_accuracy: 0.8872\n",
            "Epoch 24/30\n",
            "1719/1719 [==============================] - 6s 3ms/step - loss: 0.2522 - accuracy: 0.9095 - val_loss: 0.3173 - val_accuracy: 0.8860\n",
            "Epoch 25/30\n",
            "1719/1719 [==============================] - 6s 3ms/step - loss: 0.2470 - accuracy: 0.9110 - val_loss: 0.3510 - val_accuracy: 0.8750\n",
            "Epoch 26/30\n",
            "1719/1719 [==============================] - 6s 3ms/step - loss: 0.2427 - accuracy: 0.9120 - val_loss: 0.3195 - val_accuracy: 0.8844\n",
            "Epoch 27/30\n",
            "1719/1719 [==============================] - 6s 4ms/step - loss: 0.2387 - accuracy: 0.9141 - val_loss: 0.3172 - val_accuracy: 0.8858\n",
            "Epoch 28/30\n",
            "1719/1719 [==============================] - 6s 4ms/step - loss: 0.2238 - accuracy: 0.9202 - val_loss: 0.2888 - val_accuracy: 0.8938\n",
            "Epoch 29/30\n",
            "1719/1719 [==============================] - 6s 3ms/step - loss: 0.2209 - accuracy: 0.9210 - val_loss: 0.2920 - val_accuracy: 0.8940\n",
            "Epoch 30/30\n",
            "1719/1719 [==============================] - 6s 3ms/step - loss: 0.2186 - accuracy: 0.9211 - val_loss: 0.2913 - val_accuracy: 0.8926\n"
          ],
          "name": "stdout"
        },
        {
          "output_type": "execute_result",
          "data": {
            "text/plain": [
              "<keras.callbacks.History at 0x7f1706206790>"
            ]
          },
          "metadata": {},
          "execution_count": 28
        }
      ]
    },
    {
      "cell_type": "code",
      "metadata": {
        "id": "26NRe9oU5Y8m",
        "colab": {
          "base_uri": "https://localhost:8080/"
        },
        "outputId": "f15d31f0-a844-4acc-9774-7b6ac1fbe45e"
      },
      "source": [
        "model.evaluate(X_test, y_test)"
      ],
      "execution_count": 29,
      "outputs": [
        {
          "output_type": "stream",
          "text": [
            "313/313 [==============================] - 1s 2ms/step - loss: 0.3257 - accuracy: 0.8858\n"
          ],
          "name": "stdout"
        },
        {
          "output_type": "execute_result",
          "data": {
            "text/plain": [
              "[0.32569625973701477, 0.8858000040054321]"
            ]
          },
          "metadata": {},
          "execution_count": 29
        }
      ]
    },
    {
      "cell_type": "markdown",
      "metadata": {
        "id": "obLrv-Rkmf3c"
      },
      "source": [
        "## 2. Early-stopping 수행하기"
      ]
    },
    {
      "cell_type": "markdown",
      "metadata": {
        "id": "H36oXXkLmjpO"
      },
      "source": [
        "### 2.1 ModelCheckpoint callback 을 이용하는 방법"
      ]
    },
    {
      "cell_type": "code",
      "metadata": {
        "id": "wUhnTKJ1mrSL"
      },
      "source": [
        "# keras 의 Sequential API 를 활용하여 신경망 모형의 골격 만들기 \n",
        "# 은닉층이 2개이며 첫번째 은닉층에 뉴런 300개, 두번째 은닉층에 뉴런 100개 인 골격 만들기\n",
        "# 활성함수는 relu 사용하기 \n",
        "\n",
        "\n",
        "model=keras.models.Sequential()\n",
        "\n",
        "model.add(keras.layers.Flatten(input_shape=[28,28]))\n",
        "model.add(keras.layers.Dense(300,activation=\"relu\"))\n",
        "\n",
        "model.add(keras.layers.Dense(100,activation=\"relu\"))\n",
        "model.add(keras.layers.Dense(10,activation=\"softmax\"))"
      ],
      "execution_count": 30,
      "outputs": []
    },
    {
      "cell_type": "code",
      "metadata": {
        "id": "3j11eBjwmsHi"
      },
      "source": [
        "# 모형 컴파일하기 (손실함수, 최적화 방법 지정하기)\n",
        "\n",
        "model.compile(loss=\"sparse_categorical_crossentropy\", optimizer=\"sgd\", metrics=[\"accuracy\"])\n"
      ],
      "execution_count": 31,
      "outputs": []
    },
    {
      "cell_type": "code",
      "metadata": {
        "id": "SlphPsmkXLgQ"
      },
      "source": [
        "#callback 만들기\n",
        "\n",
        "checkpoint_cb = keras.callbacks.ModelCheckpoint(\"my_keras_model.h5\", save_best_only=True)"
      ],
      "execution_count": 32,
      "outputs": []
    },
    {
      "cell_type": "code",
      "metadata": {
        "id": "9FF8L3GJFhhQ",
        "colab": {
          "base_uri": "https://localhost:8080/"
        },
        "outputId": "ca0825fb-9176-41be-cbb1-dd41c82fb215"
      },
      "source": [
        "#모형 학습하기\n",
        "\n",
        "model.fit(X_train, y_train, epochs=30, validation_data=(X_valid, y_valid), callbacks=[checkpoint_cb])\n",
        "# model.fit(X_train, y_train, epochs=30, validation_data=(X_valid, y_valid), callbacks=[checkpoint_cb, lr_scheduler]\n",
        "# -> 학습시킬때 같이 복합적으로 하고 싶으면 적어준다"
      ],
      "execution_count": 33,
      "outputs": [
        {
          "output_type": "stream",
          "text": [
            "Epoch 1/30\n",
            "1719/1719 [==============================] - 6s 3ms/step - loss: 0.7330 - accuracy: 0.7591 - val_loss: 0.5304 - val_accuracy: 0.8260\n",
            "Epoch 2/30\n",
            "1719/1719 [==============================] - 7s 4ms/step - loss: 0.4947 - accuracy: 0.8278 - val_loss: 0.4542 - val_accuracy: 0.8500\n",
            "Epoch 3/30\n",
            "1719/1719 [==============================] - 7s 4ms/step - loss: 0.4491 - accuracy: 0.8438 - val_loss: 0.4799 - val_accuracy: 0.8364\n",
            "Epoch 4/30\n",
            "1719/1719 [==============================] - 7s 4ms/step - loss: 0.4207 - accuracy: 0.8535 - val_loss: 0.4002 - val_accuracy: 0.8622\n",
            "Epoch 5/30\n",
            "1719/1719 [==============================] - 6s 4ms/step - loss: 0.4005 - accuracy: 0.8596 - val_loss: 0.4195 - val_accuracy: 0.8490\n",
            "Epoch 6/30\n",
            "1719/1719 [==============================] - 7s 4ms/step - loss: 0.3841 - accuracy: 0.8650 - val_loss: 0.3803 - val_accuracy: 0.8694\n",
            "Epoch 7/30\n",
            "1719/1719 [==============================] - 7s 4ms/step - loss: 0.3699 - accuracy: 0.8687 - val_loss: 0.3592 - val_accuracy: 0.8764\n",
            "Epoch 8/30\n",
            "1719/1719 [==============================] - 6s 3ms/step - loss: 0.3581 - accuracy: 0.8730 - val_loss: 0.3646 - val_accuracy: 0.8734\n",
            "Epoch 9/30\n",
            "1719/1719 [==============================] - 6s 3ms/step - loss: 0.3467 - accuracy: 0.8773 - val_loss: 0.3511 - val_accuracy: 0.8764\n",
            "Epoch 10/30\n",
            "1719/1719 [==============================] - 6s 3ms/step - loss: 0.3373 - accuracy: 0.8788 - val_loss: 0.3371 - val_accuracy: 0.8812\n",
            "Epoch 11/30\n",
            "1719/1719 [==============================] - 6s 3ms/step - loss: 0.3296 - accuracy: 0.8819 - val_loss: 0.3455 - val_accuracy: 0.8758\n",
            "Epoch 12/30\n",
            "1719/1719 [==============================] - 6s 3ms/step - loss: 0.3211 - accuracy: 0.8848 - val_loss: 0.3423 - val_accuracy: 0.8780\n",
            "Epoch 13/30\n",
            "1719/1719 [==============================] - 6s 3ms/step - loss: 0.3140 - accuracy: 0.8868 - val_loss: 0.3266 - val_accuracy: 0.8840\n",
            "Epoch 14/30\n",
            "1719/1719 [==============================] - 6s 3ms/step - loss: 0.3071 - accuracy: 0.8889 - val_loss: 0.3342 - val_accuracy: 0.8796\n",
            "Epoch 15/30\n",
            "1719/1719 [==============================] - 5s 3ms/step - loss: 0.2999 - accuracy: 0.8906 - val_loss: 0.3249 - val_accuracy: 0.8822\n",
            "Epoch 16/30\n",
            "1719/1719 [==============================] - 6s 3ms/step - loss: 0.2943 - accuracy: 0.8927 - val_loss: 0.3310 - val_accuracy: 0.8800\n",
            "Epoch 17/30\n",
            "1719/1719 [==============================] - 6s 3ms/step - loss: 0.2888 - accuracy: 0.8960 - val_loss: 0.3263 - val_accuracy: 0.8856\n",
            "Epoch 18/30\n",
            "1719/1719 [==============================] - 6s 3ms/step - loss: 0.2831 - accuracy: 0.8986 - val_loss: 0.3151 - val_accuracy: 0.8870\n",
            "Epoch 19/30\n",
            "1719/1719 [==============================] - 6s 3ms/step - loss: 0.2770 - accuracy: 0.9003 - val_loss: 0.3134 - val_accuracy: 0.8882\n",
            "Epoch 20/30\n",
            "1719/1719 [==============================] - 6s 3ms/step - loss: 0.2725 - accuracy: 0.9013 - val_loss: 0.3131 - val_accuracy: 0.8880\n",
            "Epoch 21/30\n",
            "1719/1719 [==============================] - 5s 3ms/step - loss: 0.2685 - accuracy: 0.9032 - val_loss: 0.3075 - val_accuracy: 0.8910\n",
            "Epoch 22/30\n",
            "1719/1719 [==============================] - 6s 3ms/step - loss: 0.2638 - accuracy: 0.9049 - val_loss: 0.3066 - val_accuracy: 0.8952\n",
            "Epoch 23/30\n",
            "1719/1719 [==============================] - 6s 3ms/step - loss: 0.2580 - accuracy: 0.9074 - val_loss: 0.3095 - val_accuracy: 0.8884\n",
            "Epoch 24/30\n",
            "1719/1719 [==============================] - 5s 3ms/step - loss: 0.2546 - accuracy: 0.9080 - val_loss: 0.3098 - val_accuracy: 0.8882\n",
            "Epoch 25/30\n",
            "1719/1719 [==============================] - 5s 3ms/step - loss: 0.2496 - accuracy: 0.9097 - val_loss: 0.3203 - val_accuracy: 0.8862\n",
            "Epoch 26/30\n",
            "1719/1719 [==============================] - 5s 3ms/step - loss: 0.2463 - accuracy: 0.9104 - val_loss: 0.3051 - val_accuracy: 0.8924\n",
            "Epoch 27/30\n",
            "1719/1719 [==============================] - 5s 3ms/step - loss: 0.2414 - accuracy: 0.9129 - val_loss: 0.3007 - val_accuracy: 0.8934\n",
            "Epoch 28/30\n",
            "1719/1719 [==============================] - 6s 3ms/step - loss: 0.2378 - accuracy: 0.9142 - val_loss: 0.2942 - val_accuracy: 0.8950\n",
            "Epoch 29/30\n",
            "1719/1719 [==============================] - 6s 3ms/step - loss: 0.2346 - accuracy: 0.9149 - val_loss: 0.2961 - val_accuracy: 0.8940\n",
            "Epoch 30/30\n",
            "1719/1719 [==============================] - 6s 3ms/step - loss: 0.2298 - accuracy: 0.9172 - val_loss: 0.3061 - val_accuracy: 0.8928\n"
          ],
          "name": "stdout"
        },
        {
          "output_type": "execute_result",
          "data": {
            "text/plain": [
              "<keras.callbacks.History at 0x7f1706211710>"
            ]
          },
          "metadata": {},
          "execution_count": 33
        }
      ]
    },
    {
      "cell_type": "code",
      "metadata": {
        "id": "WpX352Mky94H",
        "colab": {
          "base_uri": "https://localhost:8080/"
        },
        "outputId": "edfb8224-d3b1-4290-c277-b1a292911eb1"
      },
      "source": [
        "model.evaluate(X_test,y_test)"
      ],
      "execution_count": 34,
      "outputs": [
        {
          "output_type": "stream",
          "text": [
            "313/313 [==============================] - 1s 2ms/step - loss: 0.3359 - accuracy: 0.8841\n"
          ],
          "name": "stdout"
        },
        {
          "output_type": "execute_result",
          "data": {
            "text/plain": [
              "[0.33594951033592224, 0.8841000199317932]"
            ]
          },
          "metadata": {},
          "execution_count": 34
        }
      ]
    },
    {
      "cell_type": "code",
      "metadata": {
        "id": "l0eIO5__PTvF"
      },
      "source": [
        "#저장된 모형 불러오기\n",
        "\n"
      ],
      "execution_count": null,
      "outputs": []
    },
    {
      "cell_type": "markdown",
      "metadata": {
        "id": "xkknkMpGmzbO"
      },
      "source": [
        "### 2.2 EarlyStopping callback 을 이용하는 방법"
      ]
    },
    {
      "cell_type": "code",
      "metadata": {
        "id": "exiVp8QSwFQ_"
      },
      "source": [
        "# keras 의 Sequential API 를 활용하여 신경망 모형의 골격 만들기 \n",
        "# 은닉층이 2개이며 첫번째 은닉층에 뉴런 300개, 두번째 은닉층에 뉴런 100개 인 골격 만들기\n",
        "# 활성함수는 relu 사용하기 \n",
        "\n",
        "\n",
        "model=keras.models.Sequential()\n",
        "\n",
        "model.add(keras.layers.Flatten(input_shape=[28,28]))\n",
        "model.add(keras.layers.Dense(300,activation=\"relu\"))\n",
        "\n",
        "model.add(keras.layers.Dense(100,activation=\"relu\"))\n",
        "model.add(keras.layers.Dense(10,activation=\"softmax\"))"
      ],
      "execution_count": 35,
      "outputs": []
    },
    {
      "cell_type": "code",
      "metadata": {
        "id": "XsV6eFKMwGP4"
      },
      "source": [
        "# 모형 컴파일하기 (손실함수, 최적화 방법 지정하기)\n",
        "\n",
        "model.compile(loss=\"sparse_categorical_crossentropy\", optimizer=\"sgd\", metrics=[\"accuracy\"])\n"
      ],
      "execution_count": 36,
      "outputs": []
    },
    {
      "cell_type": "code",
      "metadata": {
        "id": "q92KVy3KPZ3c"
      },
      "source": [
        "#callback 만들기\n",
        "\n",
        "early_stopping_cb = keras.callbacks.EarlyStopping(monitor=\"val_accuracy\",patience=5, restore_best_weights=True)\n",
        "# keras.callbacks.EarlyStopping(monitor=\"accuracy\",patience=5, restore_best_weights=True)\n",
        "# -> train data에 대해서 할려면 그냥 accuracy로 기입\n"
      ],
      "execution_count": 37,
      "outputs": []
    },
    {
      "cell_type": "code",
      "metadata": {
        "id": "DnUYaSNewZtL",
        "colab": {
          "base_uri": "https://localhost:8080/"
        },
        "outputId": "df5c0441-b099-47e8-fd9b-53c770653178"
      },
      "source": [
        "#모형 학습하기\n",
        "\n",
        "model.fit(X_train, y_train, epochs=30, validation_data=(X_valid, y_valid), callbacks=[early_stopping_cb])\n"
      ],
      "execution_count": 38,
      "outputs": [
        {
          "output_type": "stream",
          "text": [
            "Epoch 1/30\n",
            "1719/1719 [==============================] - 6s 3ms/step - loss: 0.7276 - accuracy: 0.7606 - val_loss: 0.5286 - val_accuracy: 0.8166\n",
            "Epoch 2/30\n",
            "1719/1719 [==============================] - 5s 3ms/step - loss: 0.4929 - accuracy: 0.8282 - val_loss: 0.4367 - val_accuracy: 0.8522\n",
            "Epoch 3/30\n",
            "1719/1719 [==============================] - 6s 3ms/step - loss: 0.4464 - accuracy: 0.8447 - val_loss: 0.4312 - val_accuracy: 0.8502\n",
            "Epoch 4/30\n",
            "1719/1719 [==============================] - 6s 3ms/step - loss: 0.4178 - accuracy: 0.8520 - val_loss: 0.4064 - val_accuracy: 0.8620\n",
            "Epoch 5/30\n",
            "1719/1719 [==============================] - 6s 3ms/step - loss: 0.3970 - accuracy: 0.8605 - val_loss: 0.3832 - val_accuracy: 0.8686\n",
            "Epoch 6/30\n",
            "1719/1719 [==============================] - 6s 3ms/step - loss: 0.3807 - accuracy: 0.8649 - val_loss: 0.3697 - val_accuracy: 0.8708\n",
            "Epoch 7/30\n",
            "1719/1719 [==============================] - 6s 4ms/step - loss: 0.3670 - accuracy: 0.8687 - val_loss: 0.3608 - val_accuracy: 0.8744\n",
            "Epoch 8/30\n",
            "1719/1719 [==============================] - 7s 4ms/step - loss: 0.3557 - accuracy: 0.8725 - val_loss: 0.3667 - val_accuracy: 0.8696\n",
            "Epoch 9/30\n",
            "1719/1719 [==============================] - 6s 4ms/step - loss: 0.3452 - accuracy: 0.8778 - val_loss: 0.3499 - val_accuracy: 0.8762\n",
            "Epoch 10/30\n",
            "1719/1719 [==============================] - 6s 3ms/step - loss: 0.3349 - accuracy: 0.8798 - val_loss: 0.3368 - val_accuracy: 0.8778\n",
            "Epoch 11/30\n",
            "1719/1719 [==============================] - 6s 3ms/step - loss: 0.3261 - accuracy: 0.8833 - val_loss: 0.3618 - val_accuracy: 0.8730\n",
            "Epoch 12/30\n",
            "1719/1719 [==============================] - 6s 3ms/step - loss: 0.3177 - accuracy: 0.8857 - val_loss: 0.3429 - val_accuracy: 0.8760\n",
            "Epoch 13/30\n",
            "1719/1719 [==============================] - 6s 3ms/step - loss: 0.3110 - accuracy: 0.8880 - val_loss: 0.3314 - val_accuracy: 0.8838\n",
            "Epoch 14/30\n",
            "1719/1719 [==============================] - 5s 3ms/step - loss: 0.3037 - accuracy: 0.8899 - val_loss: 0.3144 - val_accuracy: 0.8862\n",
            "Epoch 15/30\n",
            "1719/1719 [==============================] - 5s 3ms/step - loss: 0.2969 - accuracy: 0.8933 - val_loss: 0.3297 - val_accuracy: 0.8804\n",
            "Epoch 16/30\n",
            "1719/1719 [==============================] - 5s 3ms/step - loss: 0.2906 - accuracy: 0.8950 - val_loss: 0.3181 - val_accuracy: 0.8866\n",
            "Epoch 17/30\n",
            "1719/1719 [==============================] - 6s 3ms/step - loss: 0.2852 - accuracy: 0.8970 - val_loss: 0.3214 - val_accuracy: 0.8858\n",
            "Epoch 18/30\n",
            "1719/1719 [==============================] - 6s 3ms/step - loss: 0.2797 - accuracy: 0.8979 - val_loss: 0.3186 - val_accuracy: 0.8868\n",
            "Epoch 19/30\n",
            "1719/1719 [==============================] - 6s 3ms/step - loss: 0.2743 - accuracy: 0.9014 - val_loss: 0.3195 - val_accuracy: 0.8846\n",
            "Epoch 20/30\n",
            "1719/1719 [==============================] - 6s 3ms/step - loss: 0.2687 - accuracy: 0.9027 - val_loss: 0.3091 - val_accuracy: 0.8886\n",
            "Epoch 21/30\n",
            "1719/1719 [==============================] - 6s 3ms/step - loss: 0.2634 - accuracy: 0.9050 - val_loss: 0.3052 - val_accuracy: 0.8912\n",
            "Epoch 22/30\n",
            "1719/1719 [==============================] - 6s 4ms/step - loss: 0.2593 - accuracy: 0.9061 - val_loss: 0.3037 - val_accuracy: 0.8916\n",
            "Epoch 23/30\n",
            "1719/1719 [==============================] - 6s 3ms/step - loss: 0.2551 - accuracy: 0.9086 - val_loss: 0.3014 - val_accuracy: 0.8896\n",
            "Epoch 24/30\n",
            "1719/1719 [==============================] - 5s 3ms/step - loss: 0.2509 - accuracy: 0.9090 - val_loss: 0.2960 - val_accuracy: 0.8970\n",
            "Epoch 25/30\n",
            "1719/1719 [==============================] - 5s 3ms/step - loss: 0.2461 - accuracy: 0.9117 - val_loss: 0.2929 - val_accuracy: 0.8942\n",
            "Epoch 26/30\n",
            "1719/1719 [==============================] - 5s 3ms/step - loss: 0.2417 - accuracy: 0.9133 - val_loss: 0.3090 - val_accuracy: 0.8872\n",
            "Epoch 27/30\n",
            "1719/1719 [==============================] - 5s 3ms/step - loss: 0.2367 - accuracy: 0.9144 - val_loss: 0.3097 - val_accuracy: 0.8910\n",
            "Epoch 28/30\n",
            "1719/1719 [==============================] - 5s 3ms/step - loss: 0.2331 - accuracy: 0.9167 - val_loss: 0.2920 - val_accuracy: 0.8968\n",
            "Epoch 29/30\n",
            "1719/1719 [==============================] - 5s 3ms/step - loss: 0.2292 - accuracy: 0.9178 - val_loss: 0.2975 - val_accuracy: 0.8894\n"
          ],
          "name": "stdout"
        },
        {
          "output_type": "execute_result",
          "data": {
            "text/plain": [
              "<keras.callbacks.History at 0x7f17060e6e10>"
            ]
          },
          "metadata": {},
          "execution_count": 38
        }
      ]
    },
    {
      "cell_type": "code",
      "metadata": {
        "id": "oo-2HLlQwcOh",
        "colab": {
          "base_uri": "https://localhost:8080/"
        },
        "outputId": "71def7a9-20b7-4f68-f0a4-0672800c79db"
      },
      "source": [
        "model.evaluate(X_test, y_test)"
      ],
      "execution_count": 39,
      "outputs": [
        {
          "output_type": "stream",
          "text": [
            "313/313 [==============================] - 1s 2ms/step - loss: 0.3318 - accuracy: 0.8804\n"
          ],
          "name": "stdout"
        },
        {
          "output_type": "execute_result",
          "data": {
            "text/plain": [
              "[0.3318115472793579, 0.8804000020027161]"
            ]
          },
          "metadata": {},
          "execution_count": 39
        }
      ]
    },
    {
      "cell_type": "code",
      "metadata": {
        "id": "fgw5CoEpk0Os"
      },
      "source": [
        ""
      ],
      "execution_count": null,
      "outputs": []
    }
  ]
}