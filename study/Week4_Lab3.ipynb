{
  "nbformat": 4,
  "nbformat_minor": 0,
  "metadata": {
    "colab": {
      "name": "Week4_Lab3_현장.ipynb의 사본",
      "provenance": [],
      "collapsed_sections": [],
      "toc_visible": true,
      "include_colab_link": true
    },
    "kernelspec": {
      "display_name": "Python 3",
      "language": "python",
      "name": "python3"
    },
    "language_info": {
      "codemirror_mode": {
        "name": "ipython",
        "version": 3
      },
      "file_extension": ".py",
      "mimetype": "text/x-python",
      "name": "python",
      "nbconvert_exporter": "python",
      "pygments_lexer": "ipython3",
      "version": "3.8.3"
    },
    "accelerator": "GPU"
  },
  "cells": [
    {
      "cell_type": "markdown",
      "metadata": {
        "id": "view-in-github",
        "colab_type": "text"
      },
      "source": [
        "<a href=\"https://colab.research.google.com/github/whispermy/novatus_academia/blob/main/Week4_Lab3.ipynb\" target=\"_parent\"><img src=\"https://colab.research.google.com/assets/colab-badge.svg\" alt=\"Open In Colab\"/></a>"
      ]
    },
    {
      "cell_type": "markdown",
      "metadata": {
        "id": "LZEP01opGXx5"
      },
      "source": [
        "**AI 노바투스과정**\n",
        "\n",
        "Week 4: 딥러닝 기초 II (2021-08-27)\n",
        "\n",
        "실습 #3 [**심화 실습**] : 순환 신경망 학습 실습하기 (텍스트 데이터 생성하기)"
      ]
    },
    {
      "cell_type": "code",
      "metadata": {
        "id": "2gqYNWAgILsJ"
      },
      "source": [
        "### 필요 패키지 불러오기\n",
        "\n",
        "import numpy as np\n",
        "import tensorflow.keras as keras\n",
        "import matplotlib as mpl\n",
        "import matplotlib.pyplot as plt\n",
        "import pandas as pd\n",
        "import tensorflow as tf"
      ],
      "execution_count": null,
      "outputs": []
    },
    {
      "cell_type": "markdown",
      "metadata": {
        "id": "DdlCRRzQH5nV"
      },
      "source": [
        "## 1. 데이터셋 준비"
      ]
    },
    {
      "cell_type": "code",
      "metadata": {
        "id": "_DAt0Uk6Gjz0"
      },
      "source": [
        "# 데이터셋 받아와서 charcter 의 모음인 string 으로 저장하기\n",
        "\n",
        "shakespeare_url = \"https://homl.info/shakespeare\" \n",
        "filepath = keras.utils.get_file(\"shakespeare.txt\", shakespeare_url)\n",
        "with open(filepath) as f:\n",
        "  shakespeare_text = f.read()"
      ],
      "execution_count": null,
      "outputs": []
    },
    {
      "cell_type": "code",
      "metadata": {
        "id": "UHHZHm2kISH8"
      },
      "source": [
        "# 데이터 살피기\n",
        "\n",
        "print(shakespeare_text[:1000])"
      ],
      "execution_count": null,
      "outputs": []
    },
    {
      "cell_type": "code",
      "metadata": {
        "id": "GUT5dU0EIe3a"
      },
      "source": [
        "# 각 글자를 정수로 코딩하기\n",
        "\n",
        "tokenizer = keras.preprocessing.text.Tokenizer(char_level=True)\n",
        "tokenizer.fit_on_texts([shakespeare_text])\n",
        "tokenizer.texts_to_sequences([\"First\"])"
      ],
      "execution_count": null,
      "outputs": []
    },
    {
      "cell_type": "code",
      "metadata": {
        "id": "BVRJqcFSIpyy"
      },
      "source": [
        "# tokenizer 사용해보기\n",
        "\n",
        "tokenizer.sequence_to_texts([[20,6,9,8,3]])"
      ],
      "execution_count": null,
      "outputs": []
    },
    {
      "cell_type": "code",
      "metadata": {
        "id": "qRh_c69RJE3b"
      },
      "source": [
        "# 서로 다른 글자의 개수\n",
        "\n",
        "max_id=len(tokenizer.word_index)"
      ],
      "execution_count": null,
      "outputs": []
    },
    {
      "cell_type": "code",
      "metadata": {
        "id": "bYpXlj8HJjLh"
      },
      "source": [
        "# 전체 글자의 개수 \n",
        "\n",
        "dataset_size=tokenizer.document_count"
      ],
      "execution_count": null,
      "outputs": []
    },
    {
      "cell_type": "code",
      "metadata": {
        "id": "NcovniSRJpRQ"
      },
      "source": [
        "tokenizer.word_index"
      ],
      "execution_count": null,
      "outputs": []
    },
    {
      "cell_type": "code",
      "metadata": {
        "id": "R9CeAcjPJwgw"
      },
      "source": [
        "#학습용 데이터셋 분리하기\n",
        "\n",
        "train_size = dataset_size * 40 // 100\n",
        "dataset = tf.data.Dataset.from_tensor_slices(encoded[:train_size])"
      ],
      "execution_count": null,
      "outputs": []
    },
    {
      "cell_type": "code",
      "metadata": {
        "id": "lN6tw0KeK59Z"
      },
      "source": [
        "# window() 함수 이용하여 하나의 긴 글을 길이가 101 인 여러 구간으로 분리\n",
        "\n",
        "n_steps = 100\n",
        "window_length = n_steps + 1 \n",
        "dataset = dataset.window(window_length, shift=1, drop_remainder=True)\n",
        "\n",
        "dataset = dataset.flat_map(lambda window: window.batch(window_length))"
      ],
      "execution_count": null,
      "outputs": []
    },
    {
      "cell_type": "code",
      "metadata": {
        "id": "m2KMdEZNL_kJ"
      },
      "source": [
        "# 구간들을 셔플 (shuffle) 한 후 batch 로 나누고 첫 100 개 글자와 뒤 100 개 글자를 분리\n",
        "\n",
        "batch_size = 10000\n",
        "dataset = dataset.shuffle(10000).batch(batch_size)\n",
        "dataset = dataset.map(lambda windows: (windows[:, :-1], windows[:, 1:]))\n",
        "\n"
      ],
      "execution_count": null,
      "outputs": []
    },
    {
      "cell_type": "code",
      "metadata": {
        "id": "ygaurErqM2pQ"
      },
      "source": [
        "# 각 정수 값을 one-hot 벡터로 바꾸기\n",
        "\n",
        "dataset = dataset.map(lambda X_batch, Y_batch: (tf.one_hot(X_batch, depth=max_id), Y_batch))\n",
        "\n",
        "dataset = dataset.prefetch(1) # 데이터 prefetching"
      ],
      "execution_count": null,
      "outputs": []
    },
    {
      "cell_type": "markdown",
      "metadata": {
        "id": "EnsA0EdoN_Ul"
      },
      "source": [
        "## 2. GRU 모형 만들고 학습하기"
      ]
    },
    {
      "cell_type": "code",
      "metadata": {
        "id": "zY2qmoOGzvPY"
      },
      "source": [
        "# gpu 설정\n",
        "import tensorflow as tf\n",
        "device_name = tf.test.gpu_device_name()\n",
        "if device_name != '/device:GPU:0':\n",
        "  raise SystemError('GPU device not found')\n",
        "print('Found GPU at: {}'.format(device_name))"
      ],
      "execution_count": null,
      "outputs": []
    },
    {
      "cell_type": "code",
      "metadata": {
        "id": "5k3NiDLCNQQm"
      },
      "source": [
        "model = keras.models.Sequential()\n",
        "model.add(keras.layers.GRU(64, return_sequences=True, input_shape=[None, max_id],\n",
        "dropout=0.2, recurrent_dropout=0))\n",
        "model.add(keras.layers.GRU(64, return_sequences=True, dropout=0.2, recurrent_dropout=0))\n",
        "model.add(keras.layers.TimeDistributed(keras.layers.Dense(max_id, activation=\"softmax\")))\n",
        "\n",
        "model.compile(loss=\"sparse_categorical_crossentropy\", optimizer=\"adam\")\n",
        "history = model.fit(dataset, epochs=10)"
      ],
      "execution_count": null,
      "outputs": []
    },
    {
      "cell_type": "markdown",
      "metadata": {
        "id": "SbbI5qg0OvMy"
      },
      "source": [
        "##3. 글자 생성하기"
      ]
    },
    {
      "cell_type": "code",
      "metadata": {
        "id": "7nO6qcRMO6f3"
      },
      "source": [
        "# 입력 데이터를 숫자 & one-hot vector 로 변환하는 함수 만들기\n",
        "\n",
        "def preprocess(texts):\n",
        "  X = np.array(tokenizer.texts_to_sequences(texts)) - 1\n",
        "  return tf.one_hot(X, max_id)"
      ],
      "execution_count": null,
      "outputs": []
    },
    {
      "cell_type": "code",
      "metadata": {
        "id": "JZbzk5T0O8fw"
      },
      "source": [
        "import numpy as np\n",
        "# \"How are yo\" 예측\n",
        "X_new = preprocess([\"How are yo\"])\n",
        "y_proba=model.predict(X_new)\n",
        "Y_pred=y_proba.argmax(axis=2)\n",
        "tokenizer.sequences_to_texts(Y_pred + 1)[0][-1]"
      ],
      "execution_count": null,
      "outputs": []
    },
    {
      "cell_type": "code",
      "metadata": {
        "id": "dXcfbTW66mkH"
      },
      "source": [
        "# \"hel\" 예측\n",
        "\n",
        "X_new = preprocess([\"hel\"])\n",
        "y_proba=model.predict(X_new)\n",
        "Y_pred=y_proba.argmax(axis=2)\n",
        "print(Y_pred)\n",
        "tokenizer.sequences_to_texts(Y_pred+1)[0][-1]"
      ],
      "execution_count": null,
      "outputs": []
    },
    {
      "cell_type": "code",
      "metadata": {
        "id": "caqn2PeA-ebB"
      },
      "source": [
        "tokenizer.sequences_to_texts(Y_pred+1)"
      ],
      "execution_count": null,
      "outputs": []
    },
    {
      "cell_type": "code",
      "metadata": {
        "id": "vZhYmycm-opK"
      },
      "source": [
        "tokenizer.sequences_to_texts(Y_pred+1)[0]"
      ],
      "execution_count": null,
      "outputs": []
    },
    {
      "cell_type": "code",
      "metadata": {
        "id": "GqmPHRyd-w5F"
      },
      "source": [
        "tokenizer.sequences_to_texts(Y_pred+1)[0][-1]"
      ],
      "execution_count": null,
      "outputs": []
    },
    {
      "cell_type": "markdown",
      "metadata": {
        "id": "rcnALxPeQPhH"
      },
      "source": [
        "## 4. 가짜 글 생성하기"
      ]
    },
    {
      "cell_type": "code",
      "metadata": {
        "id": "uE3HO3OSQRlE"
      },
      "source": [
        "def next_char(text, temperature=1):\n",
        "  X_new = preprocess([text])\n",
        "  y_proba = model.predict(X_new)[0, -1:, :]\n",
        "  rescaled_logits = tf.math.log(y_proba) / temperature\n",
        "  char_id = tf.random.categorical(rescaled_logits, num_samples=1) + 1\n",
        "  return tokenizer.sequences_to_texts(char_id.numpy())[0]"
      ],
      "execution_count": null,
      "outputs": []
    },
    {
      "cell_type": "code",
      "metadata": {
        "id": "MliUUtrhQh9W"
      },
      "source": [
        "def complete_text(text, n_chars=50, temperature=1):\n",
        "  for _ in range(n_chars):\n",
        "    text += next_char(text, temperature)\n",
        "  return text"
      ],
      "execution_count": null,
      "outputs": []
    },
    {
      "cell_type": "code",
      "metadata": {
        "id": "FSBKiOW7QjpL"
      },
      "source": [
        "print(complete_text(\"t\", temperature=0.2))\n"
      ],
      "execution_count": null,
      "outputs": []
    },
    {
      "cell_type": "code",
      "metadata": {
        "id": "hVv0Xh2SRZFO"
      },
      "source": [
        "print(complete_text(\"w\", temperature=2))\n"
      ],
      "execution_count": null,
      "outputs": []
    },
    {
      "cell_type": "markdown",
      "metadata": {
        "id": "rThlBI1-REW1"
      },
      "source": [
        "## 5. Stateful RNN 모형으로 해보기"
      ]
    },
    {
      "cell_type": "code",
      "metadata": {
        "id": "yWz8PGYsRVwl"
      },
      "source": [
        "## 학습용 데이터 준비\n",
        "\n",
        "# ***주의*** 각 입력 시퀀스는 이전 시퀀스와 이어져야 하므로,  \n",
        "# shift=n_steps 으로 하며, shuffle() 을 사용하지 말것.\n",
        "\n",
        "\n",
        "dataset = tf.data.Dataset.from_tensor_slices(encoded[:train_size])\n",
        "dataset = dataset.window(window_length, shift=n_steps, drop_remainder=True)\n",
        "dataset = dataset.flat_map(lambda window: window.batch(window_length))\n",
        "dataset = dataset.batch(1)\n",
        "dataset = dataset.map(lambda windows: (windows[:, :-1], windows[:, 1:]))\n",
        "dataset = dataset.map(lambda X_batch, Y_batch: (tf.one_hot(X_batch, depth=max_id), Y_batch))\n",
        "dataset = dataset.prefetch(1)"
      ],
      "execution_count": null,
      "outputs": []
    },
    {
      "cell_type": "code",
      "metadata": {
        "id": "b48jXkLcS7mH"
      },
      "source": [
        "# 모형의 골격 만들기 (Stateful=True 로 설정)\n",
        "\n",
        "batch_size = 1\n",
        "model = keras.models.Sequential()\n",
        "model.add( keras.layers.GRU(128, return_sequences=True, stateful=True, dropout=0.2, recurrent_dropout=0,\n",
        "batch_input_shape=[batch_size, None, max_id]) )\n",
        "model.add( keras.layers.GRU(128, return_sequences=True, stateful=True,\n",
        "dropout=0.2, recurrent_dropout=0) )\n",
        "model.add( keras.layers.TimeDistributed(keras.layers.Dense(max_id, activation=\"softmax\")))\n"
      ],
      "execution_count": null,
      "outputs": []
    },
    {
      "cell_type": "code",
      "metadata": {
        "id": "zJ9ShwaiTdkr"
      },
      "source": [
        "# callback 만들기 (다음 epoch 으로 넘어가기 전에 state 재설정하는 callback)\n",
        "\n",
        "class ResetStatesCallback(keras.callbacks.Callback):\n",
        "  def on_epoch_begin(self, epoch, logs):\n",
        "    self.model.reset_states()"
      ],
      "execution_count": null,
      "outputs": []
    },
    {
      "cell_type": "code",
      "metadata": {
        "id": "_QMo4HimTshJ"
      },
      "source": [
        "# 모형 컴파일 및 학습하기\n",
        "\n",
        "model.compile(loss=\"sparse_categorical_crossentropy\", optimizer=\"adam\")\n",
        "model.fit(dataset, epochs=20, callbacks=[ResetStatesCallback()])"
      ],
      "execution_count": null,
      "outputs": []
    }
  ]
}
