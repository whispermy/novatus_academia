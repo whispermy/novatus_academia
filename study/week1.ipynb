{
  "nbformat": 4,
  "nbformat_minor": 0,
  "metadata": {
    "colab": {
      "name": "Untitled1.ipynb",
      "provenance": [],
      "collapsed_sections": [
        "ClDAcGmlnh7D"
      ],
      "toc_visible": true,
      "authorship_tag": "ABX9TyOCnS2/wgc6aubYoatQuae2",
      "include_colab_link": true
    },
    "kernelspec": {
      "name": "python3",
      "display_name": "Python 3"
    },
    "language_info": {
      "name": "python"
    }
  },
  "cells": [
    {
      "cell_type": "markdown",
      "metadata": {
        "id": "view-in-github",
        "colab_type": "text"
      },
      "source": [
        "<a href=\"https://colab.research.google.com/github/whispermy/novatus_academia/blob/main/week1.ipynb\" target=\"_parent\"><img src=\"https://colab.research.google.com/assets/colab-badge.svg\" alt=\"Open In Colab\"/></a>"
      ]
    },
    {
      "cell_type": "markdown",
      "metadata": {
        "id": "ClDAcGmlnh7D"
      },
      "source": [
        "# 첫 시작"
      ]
    },
    {
      "cell_type": "code",
      "metadata": {
        "colab": {
          "base_uri": "https://localhost:8080/"
        },
        "id": "3npwcTG7l0Dr",
        "outputId": "5d6e08fb-5bc8-4046-f212-8c08543716b4"
      },
      "source": [
        "print(\"hello world\")"
      ],
      "execution_count": 2,
      "outputs": [
        {
          "output_type": "stream",
          "text": [
            "hello world\n"
          ],
          "name": "stdout"
        }
      ]
    },
    {
      "cell_type": "code",
      "metadata": {
        "colab": {
          "base_uri": "https://localhost:8080/"
        },
        "id": "R_YUibD0nVhV",
        "outputId": "08d4c50c-073e-470a-ea7a-cacf3201c829"
      },
      "source": [
        "print(\"Hello nivatus\")"
      ],
      "execution_count": 3,
      "outputs": [
        {
          "output_type": "stream",
          "text": [
            "Hello nivatus\n"
          ],
          "name": "stdout"
        }
      ]
    },
    {
      "cell_type": "markdown",
      "metadata": {
        "id": "YDe7Yl9gnQtV"
      },
      "source": [
        "# 실습 1-Python 처음 사용하기"
      ]
    },
    {
      "cell_type": "markdown",
      "metadata": {
        "id": "NrfuwhfZn4xM"
      },
      "source": [
        "# 1. 파이썬 리스트 만들기"
      ]
    },
    {
      "cell_type": "code",
      "metadata": {
        "colab": {
          "base_uri": "https://localhost:8080/"
        },
        "id": "9QGu_BBXnbPU",
        "outputId": "055c5692-44da-484d-cea3-4e8413da9cdd"
      },
      "source": [
        "lhs = ['이현석', '유비마이크로', '연구원', '통신팀', 2020, 'leehs@ubimicro.co.kr']\n",
        "yoon = ['윤성환', 'UNIST', '인공지능대학원', '교수', 2020, 'shyoon8@unist.ac.kr']\n",
        "jeong = ['정유호', 'UNIST', '인공지능대학원', 'TA', 2021, 'yuho8437@unist.ac.kr']\n",
        "\n",
        "print(lhs)\n",
        "print(yoon)\n",
        "print(jeong)"
      ],
      "execution_count": 7,
      "outputs": [
        {
          "output_type": "stream",
          "text": [
            "['이현석', '유비마이크로', '연구원', '통신팀', 2020, 'leehs@ubimicro.co.kr']\n",
            "['윤성환', 'UNIST', '인공지능대학원', '교수', 2020, 'shyoon8@unist.ac.kr']\n",
            "['정유호', 'UNIST', '인공지능대학원', 'TA', 2021, 'yuho8437@unist.ac.kr']\n"
          ],
          "name": "stdout"
        }
      ]
    },
    {
      "cell_type": "code",
      "metadata": {
        "colab": {
          "base_uri": "https://localhost:8080/"
        },
        "id": "B5kOS5VpozH9",
        "outputId": "2217ea9d-8bd6-46fe-b128-7e4e0d7f24d1"
      },
      "source": [
        "lhs"
      ],
      "execution_count": 11,
      "outputs": [
        {
          "output_type": "execute_result",
          "data": {
            "text/plain": [
              "['이현석', '유비마이크로', '연구원', '통신팀', 2020, 'leehs@ubimicro.co.kr']"
            ]
          },
          "metadata": {
            "tags": []
          },
          "execution_count": 11
        }
      ]
    },
    {
      "cell_type": "markdown",
      "metadata": {
        "id": "CYhJpvhipDCj"
      },
      "source": [
        "# 2. 파이썬 리스트 인덱싱하기"
      ]
    },
    {
      "cell_type": "code",
      "metadata": {
        "colab": {
          "base_uri": "https://localhost:8080/"
        },
        "id": "Z4wlRoSIpF-K",
        "outputId": "8a1054f0-b028-4313-b2cb-5d5e057aa028"
      },
      "source": [
        "lhs"
      ],
      "execution_count": 13,
      "outputs": [
        {
          "output_type": "execute_result",
          "data": {
            "text/plain": [
              "['이현석', '유비마이크로', '연구원', '통신팀', 2020, 'leehs@ubimicro.co.kr']"
            ]
          },
          "metadata": {
            "tags": []
          },
          "execution_count": 13
        }
      ]
    },
    {
      "cell_type": "code",
      "metadata": {
        "colab": {
          "base_uri": "https://localhost:8080/",
          "height": 35
        },
        "id": "QEXYc0W2qMuV",
        "outputId": "f31c0da7-8ac1-438b-db73-d072e6ad7522"
      },
      "source": [
        "lhs[2] # list 범위 내에 index를 []안에 입력하면 해당 값을 반환"
      ],
      "execution_count": 14,
      "outputs": [
        {
          "output_type": "execute_result",
          "data": {
            "application/vnd.google.colaboratory.intrinsic+json": {
              "type": "string"
            },
            "text/plain": [
              "'연구원'"
            ]
          },
          "metadata": {
            "tags": []
          },
          "execution_count": 14
        }
      ]
    },
    {
      "cell_type": "code",
      "metadata": {
        "colab": {
          "base_uri": "https://localhost:8080/",
          "height": 35
        },
        "id": "hCaKZ45LqNoJ",
        "outputId": "1c9c5a1a-b1a2-40b3-cc57-fb6a9476a8f2"
      },
      "source": [
        "lhs[-1] # '-' 를 사용하면 뒤에서부터의 순서를 반환한다."
      ],
      "execution_count": 17,
      "outputs": [
        {
          "output_type": "execute_result",
          "data": {
            "application/vnd.google.colaboratory.intrinsic+json": {
              "type": "string"
            },
            "text/plain": [
              "'leehs@ubimicro.co.kr'"
            ]
          },
          "metadata": {
            "tags": []
          },
          "execution_count": 17
        }
      ]
    },
    {
      "cell_type": "code",
      "metadata": {
        "colab": {
          "base_uri": "https://localhost:8080/"
        },
        "id": "zKu66-9DqRL0",
        "outputId": "f707c533-bef5-484a-ecc9-4a11b67cf932"
      },
      "source": [
        "lhs = ['이현석', ['유비마이크로', '연구원', '통신팀'], 2020, 'leehs@ubimicro.co.kr']\n",
        "yoon = ['윤성환', ['UNIST', '인공지능대학원', '교수'], 2020, 'shyoon8@unist.ac.kr']\n",
        "jeong = ['정유호', ['UNIST', '인공지능대학원', 'TA'], 2021, 'yuho8437@unist.ac.kr']\n",
        "\n",
        "print(lhs)\n",
        "print(yoon)\n",
        "print(jeong)"
      ],
      "execution_count": 21,
      "outputs": [
        {
          "output_type": "stream",
          "text": [
            "['이현석', ['유비마이크로', '연구원', '통신팀'], 2020, 'leehs@ubimicro.co.kr']\n",
            "['윤성환', ['UNIST', '인공지능대학원', '교수'], 2020, 'shyoon8@unist.ac.kr']\n",
            "['정유호', ['UNIST', '인공지능대학원', 'TA'], 2021, 'yuho8437@unist.ac.kr']\n"
          ],
          "name": "stdout"
        }
      ]
    },
    {
      "cell_type": "code",
      "metadata": {
        "colab": {
          "base_uri": "https://localhost:8080/"
        },
        "id": "jUjGmI14rNix",
        "outputId": "d0ab1246-6ee2-4e1e-d172-327023318134"
      },
      "source": [
        "lhs[1]"
      ],
      "execution_count": 24,
      "outputs": [
        {
          "output_type": "execute_result",
          "data": {
            "text/plain": [
              "['유비마이크로', '연구원', '통신팀']"
            ]
          },
          "metadata": {
            "tags": []
          },
          "execution_count": 24
        }
      ]
    },
    {
      "cell_type": "code",
      "metadata": {
        "colab": {
          "base_uri": "https://localhost:8080/",
          "height": 35
        },
        "id": "QRp61eSFrsZB",
        "outputId": "8c31a30b-da44-493f-b928-3bc3668eeb93"
      },
      "source": [
        "lhs[1][0]"
      ],
      "execution_count": 26,
      "outputs": [
        {
          "output_type": "execute_result",
          "data": {
            "application/vnd.google.colaboratory.intrinsic+json": {
              "type": "string"
            },
            "text/plain": [
              "'유비마이크로'"
            ]
          },
          "metadata": {
            "tags": []
          },
          "execution_count": 26
        }
      ]
    },
    {
      "cell_type": "code",
      "metadata": {
        "id": "mBlBCFGLrvil"
      },
      "source": [
        "lhs = ['이현석', [['유비마이크로', '연구원'], '통신팀'], 2020, 'leehs@ubimicro.co.kr']\n",
        "yoon = ['윤성환', [['UNIST', '인공지능대학원'], '교수'], 2020, 'shyoon8@unist.ac.kr']\n",
        "jeong = ['정유호', [['UNIST', '인공지능대학원'], 'TA'], 2021, 'yuho8437@unist.ac.kr']"
      ],
      "execution_count": 46,
      "outputs": []
    },
    {
      "cell_type": "code",
      "metadata": {
        "colab": {
          "base_uri": "https://localhost:8080/",
          "height": 35
        },
        "id": "z-_tj2NXsTZb",
        "outputId": "69214ba3-e2a3-4ea6-8219-2ace72a612b3"
      },
      "source": [
        "lhs[1][0][0]"
      ],
      "execution_count": 29,
      "outputs": [
        {
          "output_type": "execute_result",
          "data": {
            "application/vnd.google.colaboratory.intrinsic+json": {
              "type": "string"
            },
            "text/plain": [
              "'유비마이크로'"
            ]
          },
          "metadata": {
            "tags": []
          },
          "execution_count": 29
        }
      ]
    },
    {
      "cell_type": "markdown",
      "metadata": {
        "id": "dBtJehn1saJ6"
      },
      "source": [
        "# 3. 파이썬 리스트 슬라이싱(slicing)하기"
      ]
    },
    {
      "cell_type": "code",
      "metadata": {
        "colab": {
          "base_uri": "https://localhost:8080/"
        },
        "id": "yqgYHwNhsYtH",
        "outputId": "9957a197-0728-4993-91a7-7277352a43aa"
      },
      "source": [
        "lhs[0:2]"
      ],
      "execution_count": 31,
      "outputs": [
        {
          "output_type": "execute_result",
          "data": {
            "text/plain": [
              "['이현석', [['유비마이크로', '연구원'], '통신팀']]"
            ]
          },
          "metadata": {
            "tags": []
          },
          "execution_count": 31
        }
      ]
    },
    {
      "cell_type": "code",
      "metadata": {
        "colab": {
          "base_uri": "https://localhost:8080/"
        },
        "id": "TZ7oz16gsj3e",
        "outputId": "c45180e3-4c03-4d6b-cdc8-38832f2e1cc8"
      },
      "source": [
        "lhs"
      ],
      "execution_count": 32,
      "outputs": [
        {
          "output_type": "execute_result",
          "data": {
            "text/plain": [
              "['이현석', [['유비마이크로', '연구원'], '통신팀'], 2020, 'leehs@ubimicro.co.kr']"
            ]
          },
          "metadata": {
            "tags": []
          },
          "execution_count": 32
        }
      ]
    },
    {
      "cell_type": "code",
      "metadata": {
        "colab": {
          "base_uri": "https://localhost:8080/"
        },
        "id": "1qC4B1AqtAI3",
        "outputId": "8a5f83a5-8504-4967-e5a0-8d691c8700d8"
      },
      "source": [
        "lhs[1][0:2]"
      ],
      "execution_count": 33,
      "outputs": [
        {
          "output_type": "execute_result",
          "data": {
            "text/plain": [
              "[['유비마이크로', '연구원'], '통신팀']"
            ]
          },
          "metadata": {
            "tags": []
          },
          "execution_count": 33
        }
      ]
    },
    {
      "cell_type": "code",
      "metadata": {
        "colab": {
          "base_uri": "https://localhost:8080/"
        },
        "id": "UGlXMe-JtVfW",
        "outputId": "b7d5097a-6e0d-4b5a-fb1f-87e0102b0e9e"
      },
      "source": [
        "lhs[1:]"
      ],
      "execution_count": 35,
      "outputs": [
        {
          "output_type": "execute_result",
          "data": {
            "text/plain": [
              "[[['유비마이크로', '연구원'], '통신팀'], 2020, 'leehs@ubimicro.co.kr']"
            ]
          },
          "metadata": {
            "tags": []
          },
          "execution_count": 35
        }
      ]
    },
    {
      "cell_type": "code",
      "metadata": {
        "colab": {
          "base_uri": "https://localhost:8080/"
        },
        "id": "7S0VCX9OtaqN",
        "outputId": "501843ce-ce36-451a-d693-f924137ee3db"
      },
      "source": [
        "lhs[:2]"
      ],
      "execution_count": 36,
      "outputs": [
        {
          "output_type": "execute_result",
          "data": {
            "text/plain": [
              "['이현석', [['유비마이크로', '연구원'], '통신팀']]"
            ]
          },
          "metadata": {
            "tags": []
          },
          "execution_count": 36
        }
      ]
    },
    {
      "cell_type": "markdown",
      "metadata": {
        "id": "PRRvf9rhtra9"
      },
      "source": [
        "# 4. 파이썬 리스트 값 수정하기"
      ]
    },
    {
      "cell_type": "code",
      "metadata": {
        "colab": {
          "base_uri": "https://localhost:8080/"
        },
        "id": "gg7EYStctci8",
        "outputId": "183a4f10-5866-4b6f-c898-e81058ad20fb"
      },
      "source": [
        "lhs[3] = 'leehs_ubi@naver.com'\n",
        "lhs"
      ],
      "execution_count": 39,
      "outputs": [
        {
          "output_type": "execute_result",
          "data": {
            "text/plain": [
              "['이현석', [['유비마이크로', '연구원'], '통신팀'], 2020, 'leehs_ubi@naver.com']"
            ]
          },
          "metadata": {
            "tags": []
          },
          "execution_count": 39
        }
      ]
    },
    {
      "cell_type": "code",
      "metadata": {
        "colab": {
          "base_uri": "https://localhost:8080/"
        },
        "id": "MN1p4kb0t30t",
        "outputId": "19920457-27c6-44da-f138-445abb8d9f9a"
      },
      "source": [
        "yoon[3] = 'swyoon8912@gmail.com'\n",
        "yoon"
      ],
      "execution_count": 41,
      "outputs": [
        {
          "output_type": "execute_result",
          "data": {
            "text/plain": [
              "['윤성환', [['UNIST', '인공지능대학원'], '교수'], 2020, 'swyoon8912@gmail.com']"
            ]
          },
          "metadata": {
            "tags": []
          },
          "execution_count": 41
        }
      ]
    },
    {
      "cell_type": "markdown",
      "metadata": {
        "id": "K-plUGmKuPBX"
      },
      "source": [
        "# 5. 파이썬 리스트 값 지우기"
      ]
    },
    {
      "cell_type": "code",
      "metadata": {
        "colab": {
          "base_uri": "https://localhost:8080/"
        },
        "id": "7Yst9S7yt-Ua",
        "outputId": "4093586e-c7aa-4dd9-ab92-c093e6941f42"
      },
      "source": [
        "lhs"
      ],
      "execution_count": 42,
      "outputs": [
        {
          "output_type": "execute_result",
          "data": {
            "text/plain": [
              "['이현석', [['유비마이크로', '연구원'], '통신팀'], 2020, 'leehs_ubi@naver.com']"
            ]
          },
          "metadata": {
            "tags": []
          },
          "execution_count": 42
        }
      ]
    },
    {
      "cell_type": "code",
      "metadata": {
        "colab": {
          "base_uri": "https://localhost:8080/"
        },
        "id": "bsNfY3G8uToJ",
        "outputId": "529d8294-749c-496d-ec5d-f986f358a980"
      },
      "source": [
        "del lhs[1][0][0]\n",
        "lhs"
      ],
      "execution_count": 47,
      "outputs": [
        {
          "output_type": "execute_result",
          "data": {
            "text/plain": [
              "['이현석', [['연구원'], '통신팀'], 2020, 'leehs@ubimicro.co.kr']"
            ]
          },
          "metadata": {
            "tags": []
          },
          "execution_count": 47
        }
      ]
    },
    {
      "cell_type": "markdown",
      "metadata": {
        "id": "C5nbGSFZvAPv"
      },
      "source": [
        "# 6. 행렬 형태의 리스트"
      ]
    },
    {
      "cell_type": "code",
      "metadata": {
        "id": "Vtrw0-QsubhP"
      },
      "source": [
        "lhs = ['이현석', [['유비마이크로', '연구원'], '통신팀'], 2020, 'leehs@ubimicro.co.kr']\n",
        "yoon = ['윤성환', [['UNIST', '인공지능대학원'], '교수'], 2020, 'shyoon8@unist.ac.kr']\n",
        "jeong = ['정유호', [['UNIST', '인공지능대학원'], 'TA'], 2021, 'yuho8437@unist.ac.kr']"
      ],
      "execution_count": 81,
      "outputs": []
    },
    {
      "cell_type": "code",
      "metadata": {
        "colab": {
          "base_uri": "https://localhost:8080/"
        },
        "id": "iUF0U6d3vKED",
        "outputId": "2e5e2776-bcbb-413e-e925-5baf01423206"
      },
      "source": [
        "admin = [lhs, yoon, jeong]\n",
        "admin"
      ],
      "execution_count": 82,
      "outputs": [
        {
          "output_type": "execute_result",
          "data": {
            "text/plain": [
              "[['이현석', [['유비마이크로', '연구원'], '통신팀'], 2020, 'leehs@ubimicro.co.kr'],\n",
              " ['윤성환', [['UNIST', '인공지능대학원'], '교수'], 2020, 'shyoon8@unist.ac.kr'],\n",
              " ['정유호', [['UNIST', '인공지능대학원'], 'TA'], 2021, 'yuho8437@unist.ac.kr']]"
            ]
          },
          "metadata": {
            "tags": []
          },
          "execution_count": 82
        }
      ]
    },
    {
      "cell_type": "code",
      "metadata": {
        "colab": {
          "base_uri": "https://localhost:8080/"
        },
        "id": "0ZAXpRJNvOdl",
        "outputId": "89e66333-7763-4d8b-b43b-6a9f58c9c52b"
      },
      "source": [
        "admin[0]"
      ],
      "execution_count": 51,
      "outputs": [
        {
          "output_type": "execute_result",
          "data": {
            "text/plain": [
              "['이현석', [['유비마이크로', '연구원'], '통신팀'], 2020, 'leehs@ubimicro.co.kr']"
            ]
          },
          "metadata": {
            "tags": []
          },
          "execution_count": 51
        }
      ]
    },
    {
      "cell_type": "code",
      "metadata": {
        "colab": {
          "base_uri": "https://localhost:8080/"
        },
        "id": "G-uoAYsqvTIf",
        "outputId": "aad6318e-be48-4f0d-c765-fbad8cffa65d"
      },
      "source": [
        "admin[1]"
      ],
      "execution_count": 52,
      "outputs": [
        {
          "output_type": "execute_result",
          "data": {
            "text/plain": [
              "['윤성환', [['UNIST', '인공지능대학원'], '교수'], 2020, 'shyoon8@unist.ac.kr']"
            ]
          },
          "metadata": {
            "tags": []
          },
          "execution_count": 52
        }
      ]
    },
    {
      "cell_type": "markdown",
      "metadata": {
        "id": "rORejegSvX8d"
      },
      "source": [
        "# 7. 반복문(for) 사용하기 - admin 데이터에 'unist' 부분만 삭제하고 싶을 때?"
      ]
    },
    {
      "cell_type": "code",
      "metadata": {
        "colab": {
          "base_uri": "https://localhost:8080/"
        },
        "id": "462-x-WwvVjQ",
        "outputId": "92bfd127-5e03-478b-fd40-3c2a50cb89ed"
      },
      "source": [
        "del admin[0][1][0][0] \n",
        "del admin[1][1][0][0] \n",
        "del admin[2][1][0][0] \n",
        "admin"
      ],
      "execution_count": 83,
      "outputs": [
        {
          "output_type": "execute_result",
          "data": {
            "text/plain": [
              "[['이현석', [['연구원'], '통신팀'], 2020, 'leehs@ubimicro.co.kr'],\n",
              " ['윤성환', [['인공지능대학원'], '교수'], 2020, 'shyoon8@unist.ac.kr'],\n",
              " ['정유호', [['인공지능대학원'], 'TA'], 2021, 'yuho8437@unist.ac.kr']]"
            ]
          },
          "metadata": {
            "tags": []
          },
          "execution_count": 83
        }
      ]
    },
    {
      "cell_type": "code",
      "metadata": {
        "colab": {
          "base_uri": "https://localhost:8080/"
        },
        "id": "k8-4GEKpwC1s",
        "outputId": "ffa7109d-b76b-4d49-854b-0f36a20be92a"
      },
      "source": [
        "#for i in admin:\n",
        "#  i[1][0].append('소속')\n",
        "for i in admin:\n",
        "  i[1][0].insert(0,'소속')\n",
        "\n",
        "admin"
      ],
      "execution_count": 84,
      "outputs": [
        {
          "output_type": "execute_result",
          "data": {
            "text/plain": [
              "[['이현석', [['소속', '연구원'], '통신팀'], 2020, 'leehs@ubimicro.co.kr'],\n",
              " ['윤성환', [['소속', '인공지능대학원'], '교수'], 2020, 'shyoon8@unist.ac.kr'],\n",
              " ['정유호', [['소속', '인공지능대학원'], 'TA'], 2021, 'yuho8437@unist.ac.kr']]"
            ]
          },
          "metadata": {
            "tags": []
          },
          "execution_count": 84
        }
      ]
    },
    {
      "cell_type": "code",
      "metadata": {
        "colab": {
          "base_uri": "https://localhost:8080/"
        },
        "id": "ifjlnrfWwdEb",
        "outputId": "048e295d-3e0e-482d-8cc8-7320e041bc31"
      },
      "source": [
        "for i in range (5):\n",
        "  print(i)"
      ],
      "execution_count": 58,
      "outputs": [
        {
          "output_type": "stream",
          "text": [
            "0\n",
            "1\n",
            "2\n",
            "3\n",
            "4\n"
          ],
          "name": "stdout"
        }
      ]
    },
    {
      "cell_type": "code",
      "metadata": {
        "colab": {
          "base_uri": "https://localhost:8080/"
        },
        "id": "Ahd4dvOrwq05",
        "outputId": "a81d86b5-5e34-406a-a2a9-8b58107c9279"
      },
      "source": [
        "list(range(5))"
      ],
      "execution_count": 59,
      "outputs": [
        {
          "output_type": "execute_result",
          "data": {
            "text/plain": [
              "[0, 1, 2, 3, 4]"
            ]
          },
          "metadata": {
            "tags": []
          },
          "execution_count": 59
        }
      ]
    },
    {
      "cell_type": "code",
      "metadata": {
        "colab": {
          "base_uri": "https://localhost:8080/"
        },
        "id": "swyYPOflwuWQ",
        "outputId": "debbb022-2e4d-49c1-9653-015c5c6a0a94"
      },
      "source": [
        "list(range(1,10))"
      ],
      "execution_count": 60,
      "outputs": [
        {
          "output_type": "execute_result",
          "data": {
            "text/plain": [
              "[1, 2, 3, 4, 5, 6, 7, 8, 9]"
            ]
          },
          "metadata": {
            "tags": []
          },
          "execution_count": 60
        }
      ]
    },
    {
      "cell_type": "code",
      "metadata": {
        "colab": {
          "base_uri": "https://localhost:8080/"
        },
        "id": "IjzwjnC5ww5_",
        "outputId": "dff154ca-489b-42c8-9499-5f82ab57eb85"
      },
      "source": [
        "sum = 0\n",
        "for i in range(1,11):\n",
        "  sum += i\n",
        "\n",
        "print(sum)"
      ],
      "execution_count": 76,
      "outputs": [
        {
          "output_type": "stream",
          "text": [
            "55\n"
          ],
          "name": "stdout"
        }
      ]
    },
    {
      "cell_type": "code",
      "metadata": {
        "id": "So8jeS3LxrtH"
      },
      "source": [
        "lhs = ['이현석', [['유비마이크로', '연구원'], '통신팀'], 2020, 'leehs@ubimicro.co.kr']\n",
        "yoon = ['윤성환', [['UNIST', '인공지능대학원'], '교수'], 2020, 'shyoon8@unist.ac.kr']\n",
        "jeong = ['정유호', [['UNIST', '인공지능대학원'], 'TA'], 2021, 'yuho8437@unist.ac.kr']\n",
        "admin = [lhs, yoon, jeong]"
      ],
      "execution_count": 88,
      "outputs": []
    },
    {
      "cell_type": "code",
      "metadata": {
        "colab": {
          "base_uri": "https://localhost:8080/"
        },
        "id": "9eqrJs-PyO_G",
        "outputId": "a00ebe3b-1ab8-40c3-dde4-e6874424a24f"
      },
      "source": [
        "for i in range(0,3):\n",
        "  del admin[i][1][0][0]\n",
        "\n",
        "admin"
      ],
      "execution_count": 89,
      "outputs": [
        {
          "output_type": "execute_result",
          "data": {
            "text/plain": [
              "[['이현석', [['연구원'], '통신팀'], 2020, 'leehs@ubimicro.co.kr'],\n",
              " ['윤성환', [['인공지능대학원'], '교수'], 2020, 'shyoon8@unist.ac.kr'],\n",
              " ['정유호', [['인공지능대학원'], 'TA'], 2021, 'yuho8437@unist.ac.kr']]"
            ]
          },
          "metadata": {
            "tags": []
          },
          "execution_count": 89
        }
      ]
    },
    {
      "cell_type": "markdown",
      "metadata": {
        "id": "Kmbu3iPcy6HO"
      },
      "source": [
        "# 8. 서로 다른 list 끼리 이어붙이기 : + / append / extend"
      ]
    },
    {
      "cell_type": "code",
      "metadata": {
        "colab": {
          "base_uri": "https://localhost:8080/"
        },
        "id": "2XD42urcy1QP",
        "outputId": "7e048320-a66f-4c15-c3b1-62bd3a8d141f"
      },
      "source": [
        "a = [1,2,3]\n",
        "b = [4,5]\n",
        "c = a+b\n",
        "\n",
        "c"
      ],
      "execution_count": 100,
      "outputs": [
        {
          "output_type": "execute_result",
          "data": {
            "text/plain": [
              "[1, 2, 3, 4, 5]"
            ]
          },
          "metadata": {
            "tags": []
          },
          "execution_count": 100
        }
      ]
    },
    {
      "cell_type": "code",
      "metadata": {
        "colab": {
          "base_uri": "https://localhost:8080/"
        },
        "id": "T1xYDpThzGMV",
        "outputId": "b4343ca8-3308-47b1-fab5-4c765dc957b2"
      },
      "source": [
        "a.extend(b)\n",
        "a"
      ],
      "execution_count": 101,
      "outputs": [
        {
          "output_type": "execute_result",
          "data": {
            "text/plain": [
              "[1, 2, 3, 4, 5]"
            ]
          },
          "metadata": {
            "tags": []
          },
          "execution_count": 101
        }
      ]
    },
    {
      "cell_type": "code",
      "metadata": {
        "colab": {
          "base_uri": "https://localhost:8080/"
        },
        "id": "yi0brMUAzMyS",
        "outputId": "0123e02b-fad6-4d1f-ca2d-5a0743d0321a"
      },
      "source": [
        "a = [1,2,3]\n",
        "a.append(b)\n",
        "a"
      ],
      "execution_count": 102,
      "outputs": [
        {
          "output_type": "execute_result",
          "data": {
            "text/plain": [
              "[1, 2, 3, [4, 5]]"
            ]
          },
          "metadata": {
            "tags": []
          },
          "execution_count": 102
        }
      ]
    },
    {
      "cell_type": "code",
      "metadata": {
        "colab": {
          "base_uri": "https://localhost:8080/"
        },
        "id": "INL4LpM6zqiW",
        "outputId": "ed6aaec4-0919-4184-a4b6-8ac406b2958e"
      },
      "source": [
        "kim = ['김지수',[['인공지능대학원'], '교수'], 2021, 'jskim@unist.ac.kr']\n",
        "admin + kim"
      ],
      "execution_count": 113,
      "outputs": [
        {
          "output_type": "execute_result",
          "data": {
            "text/plain": [
              "[['이현석', [['연구원'], '통신팀'], 2020, 'leehs@ubimicro.co.kr'],\n",
              " ['윤성환', [['인공지능대학원'], '교수'], 2020, 'shyoon8@unist.ac.kr'],\n",
              " ['정유호', [['인공지능대학원'], 'TA'], 2021, 'yuho8437@unist.ac.kr'],\n",
              " ['김지수', ['인공지능대학원'], '교수', 2021, 'jskim@unist.ac.kr'],\n",
              " '김지수',\n",
              " [['인공지능대학원'], '교수'],\n",
              " 2021,\n",
              " 'jskim@unist.ac.kr']"
            ]
          },
          "metadata": {
            "tags": []
          },
          "execution_count": 113
        }
      ]
    },
    {
      "cell_type": "code",
      "metadata": {
        "colab": {
          "base_uri": "https://localhost:8080/"
        },
        "id": "RQRbjCs60kdf",
        "outputId": "50feaf00-4bf9-483f-e1a2-db64e485392f"
      },
      "source": [
        "admin.append(kim)\n",
        "admin"
      ],
      "execution_count": 115,
      "outputs": [
        {
          "output_type": "execute_result",
          "data": {
            "text/plain": [
              "[['이현석', [['연구원'], '통신팀'], 2020, 'leehs@ubimicro.co.kr'],\n",
              " ['윤성환', [['인공지능대학원'], '교수'], 2020, 'shyoon8@unist.ac.kr'],\n",
              " ['정유호', [['인공지능대학원'], 'TA'], 2021, 'yuho8437@unist.ac.kr'],\n",
              " ['김지수', [['인공지능대학원'], '교수'], 2021, 'jskim@unist.ac.kr']]"
            ]
          },
          "metadata": {
            "tags": []
          },
          "execution_count": 115
        }
      ]
    },
    {
      "cell_type": "markdown",
      "metadata": {
        "id": "6sItxJx21Cmp"
      },
      "source": [
        "# 9. 리스트 내 원하는 위치에 데이터 넣기"
      ]
    },
    {
      "cell_type": "code",
      "metadata": {
        "id": "x53QHYnz0y4f"
      },
      "source": [
        "del admin[-1]"
      ],
      "execution_count": 117,
      "outputs": []
    },
    {
      "cell_type": "code",
      "metadata": {
        "colab": {
          "base_uri": "https://localhost:8080/"
        },
        "id": "j9cP_oJY1QS9",
        "outputId": "41410f1d-c24f-4863-eced-9c58e63f7372"
      },
      "source": [
        "admin"
      ],
      "execution_count": 118,
      "outputs": [
        {
          "output_type": "execute_result",
          "data": {
            "text/plain": [
              "[['이현석', [['연구원'], '통신팀'], 2020, 'leehs@ubimicro.co.kr'],\n",
              " ['윤성환', [['인공지능대학원'], '교수'], 2020, 'shyoon8@unist.ac.kr'],\n",
              " ['정유호', [['인공지능대학원'], 'TA'], 2021, 'yuho8437@unist.ac.kr']]"
            ]
          },
          "metadata": {
            "tags": []
          },
          "execution_count": 118
        }
      ]
    },
    {
      "cell_type": "code",
      "metadata": {
        "colab": {
          "base_uri": "https://localhost:8080/"
        },
        "id": "fepf5sw61Q5K",
        "outputId": "970e79fd-acc1-4534-d6bc-c78441650f14"
      },
      "source": [
        "admin.insert(1,kim)\n",
        "admin"
      ],
      "execution_count": 119,
      "outputs": [
        {
          "output_type": "execute_result",
          "data": {
            "text/plain": [
              "[['이현석', [['연구원'], '통신팀'], 2020, 'leehs@ubimicro.co.kr'],\n",
              " ['김지수', [['인공지능대학원'], '교수'], 2021, 'jskim@unist.ac.kr'],\n",
              " ['윤성환', [['인공지능대학원'], '교수'], 2020, 'shyoon8@unist.ac.kr'],\n",
              " ['정유호', [['인공지능대학원'], 'TA'], 2021, 'yuho8437@unist.ac.kr']]"
            ]
          },
          "metadata": {
            "tags": []
          },
          "execution_count": 119
        }
      ]
    },
    {
      "cell_type": "code",
      "metadata": {
        "id": "PtPA71vm1ULI"
      },
      "source": [
        ""
      ],
      "execution_count": null,
      "outputs": []
    }
  ]
}
