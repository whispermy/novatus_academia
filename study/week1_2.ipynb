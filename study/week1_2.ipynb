{
  "nbformat": 4,
  "nbformat_minor": 0,
  "metadata": {
    "colab": {
      "name": "week1-2.ipynb",
      "provenance": [],
      "authorship_tag": "ABX9TyOXeiR0GSmUu7atmRWfKw0x",
      "include_colab_link": true
    },
    "kernelspec": {
      "name": "python3",
      "display_name": "Python 3"
    },
    "language_info": {
      "name": "python"
    }
  },
  "cells": [
    {
      "cell_type": "markdown",
      "metadata": {
        "id": "view-in-github",
        "colab_type": "text"
      },
      "source": [
        "<a href=\"https://colab.research.google.com/github/whispermy/novatus_academia/blob/main/week1_2.ipynb\" target=\"_parent\"><img src=\"https://colab.research.google.com/assets/colab-badge.svg\" alt=\"Open In Colab\"/></a>"
      ]
    },
    {
      "cell_type": "markdown",
      "metadata": {
        "id": "f9g4HjIv4pih"
      },
      "source": [
        ""
      ]
    },
    {
      "cell_type": "markdown",
      "metadata": {
        "id": "AuM8U4c04yNG"
      },
      "source": [
        "# 실습 2 - Python에서 텐서 데이터 다뤄보기"
      ]
    },
    {
      "cell_type": "code",
      "metadata": {
        "colab": {
          "base_uri": "https://localhost:8080/"
        },
        "id": "GyU4VS-K4uxT",
        "outputId": "81fc5bf8-ba7f-46c9-9dd5-07c0cbcdc172"
      },
      "source": [
        "a = [1,2,3]\n",
        "b = [4,5,6]\n",
        "a+b"
      ],
      "execution_count": 4,
      "outputs": [
        {
          "output_type": "execute_result",
          "data": {
            "text/plain": [
              "[1, 2, 3, 4, 5, 6]"
            ]
          },
          "metadata": {
            "tags": []
          },
          "execution_count": 4
        }
      ]
    },
    {
      "cell_type": "markdown",
      "metadata": {
        "id": "8GToYYGi5A4l"
      },
      "source": [
        "# 1. Numpy라는 툴(라이브러리)은 행렬 / 벡터 / 텐서 데이터의 수학적 연산에 적합"
      ]
    },
    {
      "cell_type": "code",
      "metadata": {
        "id": "CICJzJ9W4j6X"
      },
      "source": [
        "import numpy as np # Numpy 라이브러리를 np라는 이름으로 불러온다."
      ],
      "execution_count": 5,
      "outputs": []
    },
    {
      "cell_type": "code",
      "metadata": {
        "colab": {
          "base_uri": "https://localhost:8080/"
        },
        "id": "XhxpXSXI4thK",
        "outputId": "51277bce-dbff-4a81-860b-077da22c4d1e"
      },
      "source": [
        "a = np.array([1,2,3,4])\n",
        "a"
      ],
      "execution_count": 7,
      "outputs": [
        {
          "output_type": "execute_result",
          "data": {
            "text/plain": [
              "array([1, 2, 3, 4])"
            ]
          },
          "metadata": {
            "tags": []
          },
          "execution_count": 7
        }
      ]
    },
    {
      "cell_type": "code",
      "metadata": {
        "colab": {
          "base_uri": "https://localhost:8080/"
        },
        "id": "4_b8PHF05c3V",
        "outputId": "12651b87-7788-40a5-d66d-2d8310b75af2"
      },
      "source": [
        "a + 2"
      ],
      "execution_count": 8,
      "outputs": [
        {
          "output_type": "execute_result",
          "data": {
            "text/plain": [
              "array([3, 4, 5, 6])"
            ]
          },
          "metadata": {
            "tags": []
          },
          "execution_count": 8
        }
      ]
    },
    {
      "cell_type": "code",
      "metadata": {
        "colab": {
          "base_uri": "https://localhost:8080/"
        },
        "id": "3t801GAz5kZi",
        "outputId": "6a24122d-a9d1-4b25-f009-c77a936ee38c"
      },
      "source": [
        "b = np.array([5,6,7,8])\n",
        "c = a+b\n",
        "c"
      ],
      "execution_count": 9,
      "outputs": [
        {
          "output_type": "execute_result",
          "data": {
            "text/plain": [
              "array([ 6,  8, 10, 12])"
            ]
          },
          "metadata": {
            "tags": []
          },
          "execution_count": 9
        }
      ]
    },
    {
      "cell_type": "code",
      "metadata": {
        "colab": {
          "base_uri": "https://localhost:8080/"
        },
        "id": "8Rj_9FQR5vRy",
        "outputId": "85be9111-447b-40eb-e368-1cab2963e9a3"
      },
      "source": [
        "a = a*5\n",
        "a"
      ],
      "execution_count": 11,
      "outputs": [
        {
          "output_type": "execute_result",
          "data": {
            "text/plain": [
              "array([ 5, 10, 15, 20])"
            ]
          },
          "metadata": {
            "tags": []
          },
          "execution_count": 11
        }
      ]
    },
    {
      "cell_type": "markdown",
      "metadata": {
        "id": "ABiQh43-7OfV"
      },
      "source": [
        "# 2. 다차원 array를 numpy로 구현하기"
      ]
    },
    {
      "cell_type": "code",
      "metadata": {
        "colab": {
          "base_uri": "https://localhost:8080/"
        },
        "id": "okm26WXG7KhC",
        "outputId": "69eedfc3-2249-4398-be84-d14c036db867"
      },
      "source": [
        "a = np.array([[1,2,3],[4,5,6]])\n",
        "a"
      ],
      "execution_count": 13,
      "outputs": [
        {
          "output_type": "execute_result",
          "data": {
            "text/plain": [
              "array([[1, 2, 3],\n",
              "       [4, 5, 6]])"
            ]
          },
          "metadata": {
            "tags": []
          },
          "execution_count": 13
        }
      ]
    },
    {
      "cell_type": "markdown",
      "metadata": {
        "id": "h8euQGnZ7xHe"
      },
      "source": [
        "# 3. Numpy array 인덱싱 하기"
      ]
    },
    {
      "cell_type": "code",
      "metadata": {
        "colab": {
          "base_uri": "https://localhost:8080/"
        },
        "id": "KeR3w2Zr7tKi",
        "outputId": "00f481f6-4e51-45bf-e69e-75d4d966347e"
      },
      "source": [
        "a"
      ],
      "execution_count": 14,
      "outputs": [
        {
          "output_type": "execute_result",
          "data": {
            "text/plain": [
              "array([[1, 2, 3],\n",
              "       [4, 5, 6]])"
            ]
          },
          "metadata": {
            "tags": []
          },
          "execution_count": 14
        }
      ]
    },
    {
      "cell_type": "code",
      "metadata": {
        "colab": {
          "base_uri": "https://localhost:8080/"
        },
        "id": "pG_Hf1Bj73nu",
        "outputId": "e1cb78f2-0822-41cd-9592-fa15986bee65"
      },
      "source": [
        "a[0]"
      ],
      "execution_count": 15,
      "outputs": [
        {
          "output_type": "execute_result",
          "data": {
            "text/plain": [
              "array([1, 2, 3])"
            ]
          },
          "metadata": {
            "tags": []
          },
          "execution_count": 15
        }
      ]
    },
    {
      "cell_type": "code",
      "metadata": {
        "colab": {
          "base_uri": "https://localhost:8080/"
        },
        "id": "qG7IR5L074TD",
        "outputId": "6570e736-9c42-4faf-b68e-2ba0b5900ed8"
      },
      "source": [
        "a[0,0] # 리스트와 다른 접근방식을 확인한다"
      ],
      "execution_count": 17,
      "outputs": [
        {
          "output_type": "execute_result",
          "data": {
            "text/plain": [
              "1"
            ]
          },
          "metadata": {
            "tags": []
          },
          "execution_count": 17
        }
      ]
    },
    {
      "cell_type": "markdown",
      "metadata": {
        "id": "obwaiLVQ8e_m"
      },
      "source": [
        "# 4. Numpy array의 크기 파악하기"
      ]
    },
    {
      "cell_type": "code",
      "metadata": {
        "colab": {
          "base_uri": "https://localhost:8080/"
        },
        "id": "uA8Oyxx778Do",
        "outputId": "2cf17f00-ccec-4782-da89-4697b81802aa"
      },
      "source": [
        "a = np.array([7,6,5,5,7,3,7])\n",
        "np.shape(a)"
      ],
      "execution_count": 19,
      "outputs": [
        {
          "output_type": "execute_result",
          "data": {
            "text/plain": [
              "(7,)"
            ]
          },
          "metadata": {
            "tags": []
          },
          "execution_count": 19
        }
      ]
    },
    {
      "cell_type": "code",
      "metadata": {
        "colab": {
          "base_uri": "https://localhost:8080/"
        },
        "id": "Be0BA0_U8rD4",
        "outputId": "d07ee45a-9bae-450e-eaa0-31b8a59c4026"
      },
      "source": [
        "b = np.array([[1,2,3,4,5,6],[7,8,9,10,11,12]])\n",
        "np.shape(b)"
      ],
      "execution_count": 42,
      "outputs": [
        {
          "output_type": "execute_result",
          "data": {
            "text/plain": [
              "(2, 6)"
            ]
          },
          "metadata": {
            "tags": []
          },
          "execution_count": 42
        }
      ]
    },
    {
      "cell_type": "code",
      "metadata": {
        "colab": {
          "base_uri": "https://localhost:8080/"
        },
        "id": "1KBi1Kij84yo",
        "outputId": "a5d5c7ac-d734-48c2-d5a2-d9c2c2641b8d"
      },
      "source": [
        "a.shape\n",
        "b.shape"
      ],
      "execution_count": 43,
      "outputs": [
        {
          "output_type": "execute_result",
          "data": {
            "text/plain": [
              "(2, 6)"
            ]
          },
          "metadata": {
            "tags": []
          },
          "execution_count": 43
        }
      ]
    },
    {
      "cell_type": "markdown",
      "metadata": {
        "id": "2jPZQO-P9eze"
      },
      "source": [
        "# 5. Array shape 변경하기 (2차원 -> 1차원)"
      ]
    },
    {
      "cell_type": "markdown",
      "metadata": {
        "id": "UaE7koPA-aF0"
      },
      "source": [
        "reshape() / flatten() / ravel()"
      ]
    },
    {
      "cell_type": "code",
      "metadata": {
        "colab": {
          "base_uri": "https://localhost:8080/"
        },
        "id": "C30D5tfN9Cb1",
        "outputId": "ad992fa9-8b65-4568-9bbd-953cc9d0b2d9"
      },
      "source": [
        "b.shape"
      ],
      "execution_count": 44,
      "outputs": [
        {
          "output_type": "execute_result",
          "data": {
            "text/plain": [
              "(2, 6)"
            ]
          },
          "metadata": {
            "tags": []
          },
          "execution_count": 44
        }
      ]
    },
    {
      "cell_type": "code",
      "metadata": {
        "colab": {
          "base_uri": "https://localhost:8080/"
        },
        "id": "lnTDeafW9qM3",
        "outputId": "8fde735d-6729-44e1-a771-527808b64dc1"
      },
      "source": [
        "np.reshape(b,(12,))"
      ],
      "execution_count": 45,
      "outputs": [
        {
          "output_type": "execute_result",
          "data": {
            "text/plain": [
              "array([ 1,  2,  3,  4,  5,  6,  7,  8,  9, 10, 11, 12])"
            ]
          },
          "metadata": {
            "tags": []
          },
          "execution_count": 45
        }
      ]
    },
    {
      "cell_type": "code",
      "metadata": {
        "colab": {
          "base_uri": "https://localhost:8080/"
        },
        "id": "rJGkO03e9w4J",
        "outputId": "c1c9c925-9af5-40cf-ace2-521285a96749"
      },
      "source": [
        "b.reshape(3,4)"
      ],
      "execution_count": 46,
      "outputs": [
        {
          "output_type": "execute_result",
          "data": {
            "text/plain": [
              "array([[ 1,  2,  3,  4],\n",
              "       [ 5,  6,  7,  8],\n",
              "       [ 9, 10, 11, 12]])"
            ]
          },
          "metadata": {
            "tags": []
          },
          "execution_count": 46
        }
      ]
    },
    {
      "cell_type": "code",
      "metadata": {
        "colab": {
          "base_uri": "https://localhost:8080/"
        },
        "id": "QxPKhVpZ97Vb",
        "outputId": "930f08a5-2e5c-41ec-fdb4-39d20d94de5f"
      },
      "source": [
        "b.flatten()"
      ],
      "execution_count": 47,
      "outputs": [
        {
          "output_type": "execute_result",
          "data": {
            "text/plain": [
              "array([ 1,  2,  3,  4,  5,  6,  7,  8,  9, 10, 11, 12])"
            ]
          },
          "metadata": {
            "tags": []
          },
          "execution_count": 47
        }
      ]
    },
    {
      "cell_type": "code",
      "metadata": {
        "colab": {
          "base_uri": "https://localhost:8080/"
        },
        "id": "KqmgsWht-i9H",
        "outputId": "541d0624-0c8e-4cd1-b949-c224b6d34b2e"
      },
      "source": [
        "np.ravel(b, order='C') # 행을 기준으로 합친다"
      ],
      "execution_count": 48,
      "outputs": [
        {
          "output_type": "execute_result",
          "data": {
            "text/plain": [
              "array([ 1,  2,  3,  4,  5,  6,  7,  8,  9, 10, 11, 12])"
            ]
          },
          "metadata": {
            "tags": []
          },
          "execution_count": 48
        }
      ]
    },
    {
      "cell_type": "code",
      "metadata": {
        "colab": {
          "base_uri": "https://localhost:8080/"
        },
        "id": "byJDOoPA-lb9",
        "outputId": "11e563af-8c14-414d-f207-df10a5bba0e8"
      },
      "source": [
        "np.ravel(b, order='F') # 열을 기준으로 합친다"
      ],
      "execution_count": 49,
      "outputs": [
        {
          "output_type": "execute_result",
          "data": {
            "text/plain": [
              "array([ 1,  7,  2,  8,  3,  9,  4, 10,  5, 11,  6, 12])"
            ]
          },
          "metadata": {
            "tags": []
          },
          "execution_count": 49
        }
      ]
    },
    {
      "cell_type": "markdown",
      "metadata": {
        "id": "L2eZN3qb_VDV"
      },
      "source": [
        "# 6. 1 또는 0 으로 채워진 Array 만들어서 사용하기"
      ]
    },
    {
      "cell_type": "code",
      "metadata": {
        "id": "zTEsHhOL-zaE"
      },
      "source": [
        "one = np.ones(5)\n",
        "zero = np.zeros(5)"
      ],
      "execution_count": 53,
      "outputs": []
    },
    {
      "cell_type": "code",
      "metadata": {
        "colab": {
          "base_uri": "https://localhost:8080/"
        },
        "id": "NRFeutfl_iL1",
        "outputId": "8a9c103a-96d9-4795-9e98-37024ae8839f"
      },
      "source": [
        "one"
      ],
      "execution_count": 54,
      "outputs": [
        {
          "output_type": "execute_result",
          "data": {
            "text/plain": [
              "array([1., 1., 1., 1., 1.])"
            ]
          },
          "metadata": {
            "tags": []
          },
          "execution_count": 54
        }
      ]
    },
    {
      "cell_type": "code",
      "metadata": {
        "colab": {
          "base_uri": "https://localhost:8080/"
        },
        "id": "op_58cnA_ij4",
        "outputId": "9670ceae-90a5-4ea9-dec4-6690a453738b"
      },
      "source": [
        "zero"
      ],
      "execution_count": 55,
      "outputs": [
        {
          "output_type": "execute_result",
          "data": {
            "text/plain": [
              "array([0., 0., 0., 0., 0.])"
            ]
          },
          "metadata": {
            "tags": []
          },
          "execution_count": 55
        }
      ]
    },
    {
      "cell_type": "code",
      "metadata": {
        "id": "SmJ8tvPA_kLD"
      },
      "source": [
        "one2 = np.ones((2,3))"
      ],
      "execution_count": 56,
      "outputs": []
    },
    {
      "cell_type": "code",
      "metadata": {
        "colab": {
          "base_uri": "https://localhost:8080/"
        },
        "id": "9QI_auNNAAkj",
        "outputId": "22b2fd7f-9182-4d36-be7d-0b311faa99f2"
      },
      "source": [
        "one2"
      ],
      "execution_count": 57,
      "outputs": [
        {
          "output_type": "execute_result",
          "data": {
            "text/plain": [
              "array([[1., 1., 1.],\n",
              "       [1., 1., 1.]])"
            ]
          },
          "metadata": {
            "tags": []
          },
          "execution_count": 57
        }
      ]
    },
    {
      "cell_type": "code",
      "metadata": {
        "id": "xaDYzT3TABQL"
      },
      "source": [
        "zero2 = np.zeros((5,5))"
      ],
      "execution_count": 58,
      "outputs": []
    },
    {
      "cell_type": "code",
      "metadata": {
        "colab": {
          "base_uri": "https://localhost:8080/"
        },
        "id": "rjkYGObOAElR",
        "outputId": "8f001cf8-a08d-4252-c2d4-603f5f6ff5ff"
      },
      "source": [
        "zero2"
      ],
      "execution_count": 59,
      "outputs": [
        {
          "output_type": "execute_result",
          "data": {
            "text/plain": [
              "array([[0., 0., 0., 0., 0.],\n",
              "       [0., 0., 0., 0., 0.],\n",
              "       [0., 0., 0., 0., 0.],\n",
              "       [0., 0., 0., 0., 0.],\n",
              "       [0., 0., 0., 0., 0.]])"
            ]
          },
          "metadata": {
            "tags": []
          },
          "execution_count": 59
        }
      ]
    },
    {
      "cell_type": "markdown",
      "metadata": {
        "id": "1qHiEHANAG_7"
      },
      "source": [
        "# 7. Array 슬라이싱"
      ]
    },
    {
      "cell_type": "code",
      "metadata": {
        "colab": {
          "base_uri": "https://localhost:8080/"
        },
        "id": "kkzlVF2xAFHz",
        "outputId": "8152b3e4-7cea-4a70-884f-c289cdaa99ec"
      },
      "source": [
        "a = np.array([[1,2,3,4],[5,6,7,8],[9,10,11,12]])\n",
        "a"
      ],
      "execution_count": 60,
      "outputs": [
        {
          "output_type": "execute_result",
          "data": {
            "text/plain": [
              "array([[ 1,  2,  3,  4],\n",
              "       [ 5,  6,  7,  8],\n",
              "       [ 9, 10, 11, 12]])"
            ]
          },
          "metadata": {
            "tags": []
          },
          "execution_count": 60
        }
      ]
    },
    {
      "cell_type": "code",
      "metadata": {
        "colab": {
          "base_uri": "https://localhost:8080/"
        },
        "id": "7R0VbLtsAQNW",
        "outputId": "65a78787-107e-44f5-bd39-78fef1c2e904"
      },
      "source": [
        "a[1:,1:3]"
      ],
      "execution_count": 61,
      "outputs": [
        {
          "output_type": "execute_result",
          "data": {
            "text/plain": [
              "array([[ 6,  7],\n",
              "       [10, 11]])"
            ]
          },
          "metadata": {
            "tags": []
          },
          "execution_count": 61
        }
      ]
    },
    {
      "cell_type": "markdown",
      "metadata": {
        "id": "67Bqw5p6Bcm4"
      },
      "source": [
        "# pop quiz: (10,10) 크기를 갖는 행렬의 가장자리가 1이고, 안쪽이 0값을 갖는 array를 만들어봅시다!"
      ]
    },
    {
      "cell_type": "code",
      "metadata": {
        "colab": {
          "base_uri": "https://localhost:8080/"
        },
        "id": "jSQ89WqIAuHl",
        "outputId": "0fbe7df7-bd54-4f90-dda0-8e7e5ef7064f"
      },
      "source": [
        "a = np.ones((10,10))\n",
        "a[1:9,1:9] = 0\n",
        "a"
      ],
      "execution_count": 66,
      "outputs": [
        {
          "output_type": "execute_result",
          "data": {
            "text/plain": [
              "array([[1., 1., 1., 1., 1., 1., 1., 1., 1., 1.],\n",
              "       [1., 0., 0., 0., 0., 0., 0., 0., 0., 1.],\n",
              "       [1., 0., 0., 0., 0., 0., 0., 0., 0., 1.],\n",
              "       [1., 0., 0., 0., 0., 0., 0., 0., 0., 1.],\n",
              "       [1., 0., 0., 0., 0., 0., 0., 0., 0., 1.],\n",
              "       [1., 0., 0., 0., 0., 0., 0., 0., 0., 1.],\n",
              "       [1., 0., 0., 0., 0., 0., 0., 0., 0., 1.],\n",
              "       [1., 0., 0., 0., 0., 0., 0., 0., 0., 1.],\n",
              "       [1., 0., 0., 0., 0., 0., 0., 0., 0., 1.],\n",
              "       [1., 1., 1., 1., 1., 1., 1., 1., 1., 1.]])"
            ]
          },
          "metadata": {
            "tags": []
          },
          "execution_count": 66
        }
      ]
    },
    {
      "cell_type": "code",
      "metadata": {
        "colab": {
          "base_uri": "https://localhost:8080/"
        },
        "id": "wTX8vMV8A7zn",
        "outputId": "263f3404-7735-4ef3-dd0b-207983ed4231"
      },
      "source": [
        "a = np.ones((10,10))\n",
        "b = np.zeros((8,8))\n",
        "a[1:9,1:9] = b\n",
        "a"
      ],
      "execution_count": 69,
      "outputs": [
        {
          "output_type": "execute_result",
          "data": {
            "text/plain": [
              "array([[1., 1., 1., 1., 1., 1., 1., 1., 1., 1.],\n",
              "       [1., 0., 0., 0., 0., 0., 0., 0., 0., 1.],\n",
              "       [1., 0., 0., 0., 0., 0., 0., 0., 0., 1.],\n",
              "       [1., 0., 0., 0., 0., 0., 0., 0., 0., 1.],\n",
              "       [1., 0., 0., 0., 0., 0., 0., 0., 0., 1.],\n",
              "       [1., 0., 0., 0., 0., 0., 0., 0., 0., 1.],\n",
              "       [1., 0., 0., 0., 0., 0., 0., 0., 0., 1.],\n",
              "       [1., 0., 0., 0., 0., 0., 0., 0., 0., 1.],\n",
              "       [1., 0., 0., 0., 0., 0., 0., 0., 0., 1.],\n",
              "       [1., 1., 1., 1., 1., 1., 1., 1., 1., 1.]])"
            ]
          },
          "metadata": {
            "tags": []
          },
          "execution_count": 69
        }
      ]
    },
    {
      "cell_type": "markdown",
      "metadata": {
        "id": "zEQCKMkaBg4x"
      },
      "source": [
        "# 8. 리스트에 range가 있다면, numpy는 arange"
      ]
    },
    {
      "cell_type": "code",
      "metadata": {
        "colab": {
          "base_uri": "https://localhost:8080/"
        },
        "id": "v-zOz9bCBSUm",
        "outputId": "4a71ce66-0a9e-49e9-9c38-838029780afb"
      },
      "source": [
        "list(range(5))"
      ],
      "execution_count": 74,
      "outputs": [
        {
          "output_type": "execute_result",
          "data": {
            "text/plain": [
              "[0, 1, 2, 3, 4]"
            ]
          },
          "metadata": {
            "tags": []
          },
          "execution_count": 74
        }
      ]
    },
    {
      "cell_type": "code",
      "metadata": {
        "colab": {
          "base_uri": "https://localhost:8080/"
        },
        "id": "nLBrq3rLBo_i",
        "outputId": "35eeebe7-201d-418f-bc2a-170618dda00d"
      },
      "source": [
        "np.arange(5)"
      ],
      "execution_count": 75,
      "outputs": [
        {
          "output_type": "execute_result",
          "data": {
            "text/plain": [
              "array([0, 1, 2, 3, 4])"
            ]
          },
          "metadata": {
            "tags": []
          },
          "execution_count": 75
        }
      ]
    },
    {
      "cell_type": "code",
      "metadata": {
        "colab": {
          "base_uri": "https://localhost:8080/"
        },
        "id": "JI0d_rqtBqTa",
        "outputId": "3e8dd37b-fa7b-4c97-ae0b-ac90d97d7ee2"
      },
      "source": [
        "np.arange(10,0,-1)"
      ],
      "execution_count": 76,
      "outputs": [
        {
          "output_type": "execute_result",
          "data": {
            "text/plain": [
              "array([10,  9,  8,  7,  6,  5,  4,  3,  2,  1])"
            ]
          },
          "metadata": {
            "tags": []
          },
          "execution_count": 76
        }
      ]
    },
    {
      "cell_type": "markdown",
      "metadata": {
        "id": "e6gl0M61By4h"
      },
      "source": [
        "# 9. Numpy의 Broadcasting"
      ]
    },
    {
      "cell_type": "code",
      "metadata": {
        "colab": {
          "base_uri": "https://localhost:8080/"
        },
        "id": "pJ-_yZiqBwKG",
        "outputId": "2fb0e5cb-8964-4146-cf38-fdadaa7616ee"
      },
      "source": [
        "np.arange(3) + 5  # 0,1,2 에 5가 broadcasting되어서 각각 5씩 더해진다. 그래서 5,6,7로 나오게 된다."
      ],
      "execution_count": 81,
      "outputs": [
        {
          "output_type": "execute_result",
          "data": {
            "text/plain": [
              "array([5, 6, 7])"
            ]
          },
          "metadata": {
            "tags": []
          },
          "execution_count": 81
        }
      ]
    },
    {
      "cell_type": "code",
      "metadata": {
        "colab": {
          "base_uri": "https://localhost:8080/"
        },
        "id": "4dKU4JjiCFdP",
        "outputId": "ec891837-3e96-47b9-9e7c-faf653745ce4"
      },
      "source": [
        "np.ones((3,3)) + np.arange(3) # 3x3 1행렬에 [0,1,2]인 3x1 행렬을 더하기 위해서 broadcasting 되어 각 행마다 [0,1,2] 가 더해진다."
      ],
      "execution_count": 78,
      "outputs": [
        {
          "output_type": "execute_result",
          "data": {
            "text/plain": [
              "array([[1., 2., 3.],\n",
              "       [1., 2., 3.],\n",
              "       [1., 2., 3.]])"
            ]
          },
          "metadata": {
            "tags": []
          },
          "execution_count": 78
        }
      ]
    },
    {
      "cell_type": "code",
      "metadata": {
        "colab": {
          "base_uri": "https://localhost:8080/"
        },
        "id": "DNUUYzn5CKYr",
        "outputId": "7e9b4b75-c3be-4ed4-d990-a30f33c9952d"
      },
      "source": [
        "np.arange(3).reshape((3,1)) + np.arange(3)  # 3x1 행렬에 [0,1,2]인 1x3 행렬을 더하기 위해서 각각 broadcasting 되어 각 행과 각 열마다 [0,1,2] 가 더해져서 아래와 같은 결과가 나온다."
      ],
      "execution_count": 80,
      "outputs": [
        {
          "output_type": "execute_result",
          "data": {
            "text/plain": [
              "array([[0, 1, 2],\n",
              "       [1, 2, 3],\n",
              "       [2, 3, 4]])"
            ]
          },
          "metadata": {
            "tags": []
          },
          "execution_count": 80
        }
      ]
    },
    {
      "cell_type": "markdown",
      "metadata": {
        "id": "B86j2AeXC3cT"
      },
      "source": [
        "# 10. Array 끼리 이어붙이는 연산"
      ]
    },
    {
      "cell_type": "code",
      "metadata": {
        "id": "2naC6gO6CTH_"
      },
      "source": [
        "a = np.array([[1,2,3],[4,5,6]])\n",
        "b = np.array([[7,8,9],[10,11,12]])"
      ],
      "execution_count": 82,
      "outputs": []
    },
    {
      "cell_type": "code",
      "metadata": {
        "colab": {
          "base_uri": "https://localhost:8080/"
        },
        "id": "Y5oBUzIVDF0o",
        "outputId": "a80b5fff-8b80-41de-f45e-fcb6b7a7e89a"
      },
      "source": [
        "a"
      ],
      "execution_count": 83,
      "outputs": [
        {
          "output_type": "execute_result",
          "data": {
            "text/plain": [
              "array([[1, 2, 3],\n",
              "       [4, 5, 6]])"
            ]
          },
          "metadata": {
            "tags": []
          },
          "execution_count": 83
        }
      ]
    },
    {
      "cell_type": "code",
      "metadata": {
        "colab": {
          "base_uri": "https://localhost:8080/"
        },
        "id": "tFZgxQC-DGnZ",
        "outputId": "7e1f5e9e-847f-4976-a371-01525f8ff445"
      },
      "source": [
        "b"
      ],
      "execution_count": 84,
      "outputs": [
        {
          "output_type": "execute_result",
          "data": {
            "text/plain": [
              "array([[ 7,  8,  9],\n",
              "       [10, 11, 12]])"
            ]
          },
          "metadata": {
            "tags": []
          },
          "execution_count": 84
        }
      ]
    },
    {
      "cell_type": "code",
      "metadata": {
        "colab": {
          "base_uri": "https://localhost:8080/"
        },
        "id": "SYQz3GkEDGy5",
        "outputId": "394636ca-f126-4b62-f1c5-de5dfe2ebe79"
      },
      "source": [
        "# append\n",
        "c = np.append(a,b, axis = 0) # 행을 기준으로 붙인다. 즉 a의 아래로 b가 붙는다.\n",
        "c"
      ],
      "execution_count": 85,
      "outputs": [
        {
          "output_type": "execute_result",
          "data": {
            "text/plain": [
              "array([[ 1,  2,  3],\n",
              "       [ 4,  5,  6],\n",
              "       [ 7,  8,  9],\n",
              "       [10, 11, 12]])"
            ]
          },
          "metadata": {
            "tags": []
          },
          "execution_count": 85
        }
      ]
    },
    {
      "cell_type": "code",
      "metadata": {
        "colab": {
          "base_uri": "https://localhost:8080/"
        },
        "id": "TvY4VDzfDOt0",
        "outputId": "c74ad0b8-1a6a-40ac-9ec4-7a1c0772dbe6"
      },
      "source": [
        "c = np.append(a,b, axis = 1) # 열을 기준으로 붙인다. 즉 a의 우측에 b가 붙는다.\n",
        "c"
      ],
      "execution_count": 86,
      "outputs": [
        {
          "output_type": "execute_result",
          "data": {
            "text/plain": [
              "array([[ 1,  2,  3,  7,  8,  9],\n",
              "       [ 4,  5,  6, 10, 11, 12]])"
            ]
          },
          "metadata": {
            "tags": []
          },
          "execution_count": 86
        }
      ]
    },
    {
      "cell_type": "markdown",
      "metadata": {
        "id": "V1DwaC3MDi3m"
      },
      "source": [
        "# POP Quiz: 위 a,b를 가로로 붙였다가 flatten 한 후, (3,4) 형태로 reshape 한다."
      ]
    },
    {
      "cell_type": "code",
      "metadata": {
        "colab": {
          "base_uri": "https://localhost:8080/"
        },
        "id": "H_CzKnZ3DZYj",
        "outputId": "c62f977c-2002-4b14-c368-065c106371df"
      },
      "source": [
        "d = np.append(a,b, axis = 1)\n",
        "print('append:',d)\n",
        "e = d.flatten()\n",
        "print('flatten: ',e)\n",
        "e.reshape((3,4))"
      ],
      "execution_count": 91,
      "outputs": [
        {
          "output_type": "stream",
          "text": [
            "append: [[ 1  2  3  7  8  9]\n",
            " [ 4  5  6 10 11 12]]\n",
            "flatten:  [ 1  2  3  7  8  9  4  5  6 10 11 12]\n"
          ],
          "name": "stdout"
        },
        {
          "output_type": "execute_result",
          "data": {
            "text/plain": [
              "array([[ 1,  2,  3,  7],\n",
              "       [ 8,  9,  4,  5],\n",
              "       [ 6, 10, 11, 12]])"
            ]
          },
          "metadata": {
            "tags": []
          },
          "execution_count": 91
        }
      ]
    },
    {
      "cell_type": "markdown",
      "metadata": {
        "id": "qDC_nNdPESXM"
      },
      "source": [
        "# 11. 정해진 구간을 정해진 개수로 나누는 Array 만들기"
      ]
    },
    {
      "cell_type": "code",
      "metadata": {
        "colab": {
          "base_uri": "https://localhost:8080/"
        },
        "id": "QBER66AYD7SF",
        "outputId": "ba1f0118-4f74-4ec3-abc1-0983b4d8ba91"
      },
      "source": [
        "a = np.linspace(0,10,5)\n",
        "a\n"
      ],
      "execution_count": 92,
      "outputs": [
        {
          "output_type": "execute_result",
          "data": {
            "text/plain": [
              "array([ 0. ,  2.5,  5. ,  7.5, 10. ])"
            ]
          },
          "metadata": {
            "tags": []
          },
          "execution_count": 92
        }
      ]
    },
    {
      "cell_type": "markdown",
      "metadata": {
        "id": "CVDqpXArElJf"
      },
      "source": [
        "# 12. Numpy를 이용하여 행렬 연산 쉽게하기"
      ]
    },
    {
      "cell_type": "code",
      "metadata": {
        "id": "Tn98KaSEEYSm"
      },
      "source": [
        "a = np.array([[1,2,3],[4,5,6],[7,8,9]])\n",
        "b = np.array([[3,4,5],[6,7,8],[9,10,11]])"
      ],
      "execution_count": 93,
      "outputs": []
    },
    {
      "cell_type": "code",
      "metadata": {
        "colab": {
          "base_uri": "https://localhost:8080/"
        },
        "id": "PbqFM5tCE094",
        "outputId": "e05829e5-bdd3-460b-a959-6969e16a1db7"
      },
      "source": [
        "a"
      ],
      "execution_count": 94,
      "outputs": [
        {
          "output_type": "execute_result",
          "data": {
            "text/plain": [
              "array([[1, 2, 3],\n",
              "       [4, 5, 6],\n",
              "       [7, 8, 9]])"
            ]
          },
          "metadata": {
            "tags": []
          },
          "execution_count": 94
        }
      ]
    },
    {
      "cell_type": "code",
      "metadata": {
        "colab": {
          "base_uri": "https://localhost:8080/"
        },
        "id": "02p-5HqGE1Pv",
        "outputId": "450c98eb-acc4-4fa1-8b6b-c3f897b75441"
      },
      "source": [
        "b"
      ],
      "execution_count": 95,
      "outputs": [
        {
          "output_type": "execute_result",
          "data": {
            "text/plain": [
              "array([[ 3,  4,  5],\n",
              "       [ 6,  7,  8],\n",
              "       [ 9, 10, 11]])"
            ]
          },
          "metadata": {
            "tags": []
          },
          "execution_count": 95
        }
      ]
    },
    {
      "cell_type": "code",
      "metadata": {
        "colab": {
          "base_uri": "https://localhost:8080/"
        },
        "id": "XLcHOAc_E1Yo",
        "outputId": "e07c356e-6fa7-41df-852b-19c05cdbe30c"
      },
      "source": [
        "# 요소곱\n",
        "a*b \n",
        "np.multiply(a,b)"
      ],
      "execution_count": 100,
      "outputs": [
        {
          "output_type": "execute_result",
          "data": {
            "text/plain": [
              "array([[ 3,  8, 15],\n",
              "       [24, 35, 48],\n",
              "       [63, 80, 99]])"
            ]
          },
          "metadata": {
            "tags": []
          },
          "execution_count": 100
        }
      ]
    },
    {
      "cell_type": "code",
      "metadata": {
        "colab": {
          "base_uri": "https://localhost:8080/"
        },
        "id": "A1XfurwHE2gS",
        "outputId": "a6a320f8-dd87-44af-82d1-9c143cf4dab9"
      },
      "source": [
        "np.matmul(a,b) # 행렬곱을 수행할 땐 해당 함수를 사용한다. "
      ],
      "execution_count": 101,
      "outputs": [
        {
          "output_type": "execute_result",
          "data": {
            "text/plain": [
              "array([[ 42,  48,  54],\n",
              "       [ 96, 111, 126],\n",
              "       [150, 174, 198]])"
            ]
          },
          "metadata": {
            "tags": []
          },
          "execution_count": 101
        }
      ]
    },
    {
      "cell_type": "code",
      "metadata": {
        "colab": {
          "base_uri": "https://localhost:8080/"
        },
        "id": "FSdmC7LjE_K_",
        "outputId": "a638040d-a2ca-47d4-b3f0-14a5bcafb5f5"
      },
      "source": [
        "# 행렬의 가로와 세로를 대칭시키는 방법\n",
        "np.transpose(a) "
      ],
      "execution_count": 102,
      "outputs": [
        {
          "output_type": "execute_result",
          "data": {
            "text/plain": [
              "array([[1, 4, 7],\n",
              "       [2, 5, 8],\n",
              "       [3, 6, 9]])"
            ]
          },
          "metadata": {
            "tags": []
          },
          "execution_count": 102
        }
      ]
    },
    {
      "cell_type": "code",
      "metadata": {
        "colab": {
          "base_uri": "https://localhost:8080/"
        },
        "id": "7Y9G408MFZry",
        "outputId": "6694dc0b-a134-4445-ccbf-711e8b086e0d"
      },
      "source": [
        "c = a*b\n",
        "print(c)\n",
        "print(np.linalg.inv(c))\n",
        "d = np.eye(3)\n",
        "d_inv = np.linalg.inv(d)\n",
        "d_inv"
      ],
      "execution_count": 114,
      "outputs": [
        {
          "output_type": "stream",
          "text": [
            "[[ 3  8 15]\n",
            " [24 35 48]\n",
            " [63 80 99]]\n",
            "[[ 1.73611111 -1.88888889  0.65277778]\n",
            " [-3.          3.         -1.        ]\n",
            " [ 1.31944444 -1.22222222  0.40277778]]\n"
          ],
          "name": "stdout"
        },
        {
          "output_type": "execute_result",
          "data": {
            "text/plain": [
              "array([[1., 0., 0.],\n",
              "       [0., 1., 0.],\n",
              "       [0., 0., 1.]])"
            ]
          },
          "metadata": {
            "tags": []
          },
          "execution_count": 114
        }
      ]
    },
    {
      "cell_type": "markdown",
      "metadata": {
        "id": "UflmN35BGDzR"
      },
      "source": [
        "break"
      ]
    },
    {
      "cell_type": "code",
      "metadata": {
        "colab": {
          "base_uri": "https://localhost:8080/"
        },
        "id": "HSAhi6rzF9UF",
        "outputId": "ec4c4e86-864e-473c-8894-eb366d1ac887"
      },
      "source": [
        "f1 = np.array([6.1, 2.8, 4.7, 1.2])\n",
        "w = np.array([0.043, 0.754, -0.767, 1.860])\n",
        "c = f1*w\n",
        "np.sum(c)"
      ],
      "execution_count": 104,
      "outputs": [
        {
          "output_type": "execute_result",
          "data": {
            "text/plain": [
              "1.0006"
            ]
          },
          "metadata": {
            "tags": []
          },
          "execution_count": 104
        }
      ]
    },
    {
      "cell_type": "code",
      "metadata": {
        "id": "KqZWohbCGW4I"
      },
      "source": [
        ""
      ],
      "execution_count": null,
      "outputs": []
    }
  ]
}
