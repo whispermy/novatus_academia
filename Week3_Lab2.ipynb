{
  "nbformat": 4,
  "nbformat_minor": 0,
  "metadata": {
    "colab": {
      "name": "Week3_Lab2-현장.ipynb의 사본",
      "provenance": [],
      "collapsed_sections": [],
      "include_colab_link": true
    },
    "kernelspec": {
      "display_name": "Python 3",
      "language": "python",
      "name": "python3"
    },
    "language_info": {
      "codemirror_mode": {
        "name": "ipython",
        "version": 3
      },
      "file_extension": ".py",
      "mimetype": "text/x-python",
      "name": "python",
      "nbconvert_exporter": "python",
      "pygments_lexer": "ipython3",
      "version": "3.8.5"
    }
  },
  "cells": [
    {
      "cell_type": "markdown",
      "metadata": {
        "id": "view-in-github",
        "colab_type": "text"
      },
      "source": [
        "<a href=\"https://colab.research.google.com/github/whispermy/novatus_academia/blob/main/Week3_Lab2.ipynb\" target=\"_parent\"><img src=\"https://colab.research.google.com/assets/colab-badge.svg\" alt=\"Open In Colab\"/></a>"
      ]
    },
    {
      "cell_type": "markdown",
      "metadata": {
        "id": "APMpdGRF2EnW"
      },
      "source": [
        "**AI 노바투스과정**\n",
        "\n",
        "Week 3: 딥러닝 기초 I (2021-08-20)\n",
        "\n",
        "실습 #2: 신경망 모형 학습하여 MNIST 패션 데이터 분류 문제 및 California Housing Price 데이터의 회귀분석 문제 풀기"
      ]
    },
    {
      "cell_type": "markdown",
      "metadata": {
        "id": "gz0sbclr5jUk"
      },
      "source": [
        "## 0. 데이터셋 준비"
      ]
    },
    {
      "cell_type": "code",
      "metadata": {
        "id": "JLvN_WS1--lA"
      },
      "source": [
        "#keras 라이브러리 가져오기\n",
        "import tensorflow.keras as  keras"
      ],
      "execution_count": 2,
      "outputs": []
    },
    {
      "cell_type": "code",
      "metadata": {
        "id": "5w9C0Guw_dHh"
      },
      "source": [
        "#MNIST 패션 데이터 로딩하기\n",
        "fashion_mnist = keras.datasets.fashion_mnist\n",
        "# fashion_mnist = keras.datasets.fashion_mnist.load_data() \n",
        "# 위처럼 작성하여도 무방, 변수명과 가독성에 주의 할 것\n",
        "# training 과 test의 비율은 대부분 8:2 ~ 9:1 정도로 설정한다. but 가장 효과적인건 무작위이고, 아래 코드는 무작위로 되어 있다.\n",
        "(X_train, y_train), (X_test, y_test) = fashion_mnist.load_data()"
      ],
      "execution_count": 3,
      "outputs": []
    },
    {
      "cell_type": "code",
      "metadata": {
        "id": "Rw7lHK4b_w1x",
        "colab": {
          "base_uri": "https://localhost:8080/"
        },
        "outputId": "9d02ecec-9e8d-4be4-a73b-8eb9854cab5a"
      },
      "source": [
        "# 패션 데이터 탐색하기\n",
        "\n",
        "# X_train.shape\n",
        "# X_train[0]\n",
        "# y_train.shape\n",
        "# y_train[0]\n",
        "import numpy as np\n",
        "\n",
        "np.unique(y_train)"
      ],
      "execution_count": 4,
      "outputs": [
        {
          "output_type": "execute_result",
          "data": {
            "text/plain": [
              "array([0, 1, 2, 3, 4, 5, 6, 7, 8, 9], dtype=uint8)"
            ]
          },
          "metadata": {},
          "execution_count": 4
        }
      ]
    },
    {
      "cell_type": "code",
      "metadata": {
        "id": "ZJclxDzUUe4_",
        "colab": {
          "base_uri": "https://localhost:8080/",
          "height": 283
        },
        "outputId": "d14f1424-4e7a-44b3-84b8-e7f387228968"
      },
      "source": [
        "# 28 * 28 차원의 X 를 그림으로 표현하기\n",
        "\n",
        "import matplotlib.pyplot as plt\n",
        "\n",
        "plt.imshow(X_train[0], cmap=\"gray\")\n"
      ],
      "execution_count": 5,
      "outputs": [
        {
          "output_type": "execute_result",
          "data": {
            "text/plain": [
              "<matplotlib.image.AxesImage at 0x7efb95f26b10>"
            ]
          },
          "metadata": {},
          "execution_count": 5
        },
        {
          "output_type": "display_data",
          "data": {
            "image/png": "[encoded data removed]",
            "text/plain": [
              "<Figure size 432x288 with 1 Axes>"
            ]
          },
          "metadata": {
            "needs_background": "light"
          }
        }
      ]
    },
    {
      "cell_type": "code",
      "metadata": {
        "id": "yVGIpeMgABS5"
      },
      "source": [
        "#target 의 각 숫자값에 해당하는 클래스 명 지정하기\n",
        "class_name = [\"T-shirt/top\", \"Trouser\", \"Pullover\", \"Dress\", \"Coat\", \"Sandal\", \"Shirt\", \"Sneaker\", \"Bag\", \"Ankle boot\"]"
      ],
      "execution_count": 6,
      "outputs": []
    },
    {
      "cell_type": "code",
      "metadata": {
        "colab": {
          "base_uri": "https://localhost:8080/"
        },
        "id": "P2e05J2LCuTR",
        "outputId": "ff2727d1-d1c8-4b9b-f4e6-cbfbc65f4317"
      },
      "source": [
        "len(class_name)"
      ],
      "execution_count": 7,
      "outputs": [
        {
          "output_type": "execute_result",
          "data": {
            "text/plain": [
              "10"
            ]
          },
          "metadata": {},
          "execution_count": 7
        }
      ]
    },
    {
      "cell_type": "code",
      "metadata": {
        "id": "a70Q2VQJ_ziq"
      },
      "source": [
        "# 학습용 데이터를 다시 학습용 데이터와 검증용 데이터 (valdiation set) 으로 분리\n",
        "# 분리와 동시에 정규화 \n",
        "X_train_full = X_train\n",
        "y_train_full = y_train\n",
        "\n",
        "X_train, X_valid = X_train_full[:55000]/255.0, X_train_full[55000:]/255.0\n",
        "y_train, y_valid = y_train_full[:55000], y_train_full[55000:]\n",
        "\n",
        "X_test = X_test / 255.0\n"
      ],
      "execution_count": 8,
      "outputs": []
    },
    {
      "cell_type": "code",
      "metadata": {
        "colab": {
          "base_uri": "https://localhost:8080/"
        },
        "id": "dvjvYsumL9Vb",
        "outputId": "12213432-d221-4d6d-c2d9-4af92b2c559c"
      },
      "source": [
        "X_valid.shape"
      ],
      "execution_count": 9,
      "outputs": [
        {
          "output_type": "execute_result",
          "data": {
            "text/plain": [
              "(5000, 28, 28)"
            ]
          },
          "metadata": {},
          "execution_count": 9
        }
      ]
    },
    {
      "cell_type": "markdown",
      "metadata": {
        "id": "RzCzOsbj7-54"
      },
      "source": [
        "## 1. 모형 만들기"
      ]
    },
    {
      "cell_type": "code",
      "metadata": {
        "id": "QKxXMaXDASBx"
      },
      "source": [
        "# keras 의 Sequential API 를 활용하여 신경망 모형의 골격 만들기 \n",
        "# 은닉층이 2개이며 첫번째 은닉층에 뉴런 300개, 두번째 은닉층에 뉴런 100개 인 골격 만들기\n",
        "# 활성함수는 relu 사용하기 \n",
        "\n",
        "model = keras.models.Sequential()\n",
        "model.add(keras.layers.Flatten(input_shape=[28,28]))\n",
        "model.add(keras.layers.Dense(300, activation=\"relu\"))\n",
        "model.add(keras.layers.Dense(100, activation=\"relu\"))\n",
        "model.add(keras.layers.Dense(10, activation=\"softmax\")) # 다중 라벨의 분류작업이므로 활성함수를 softmax로 사용한다."
      ],
      "execution_count": 10,
      "outputs": []
    },
    {
      "cell_type": "code",
      "metadata": {
        "id": "anR1jTNmCUml",
        "colab": {
          "base_uri": "https://localhost:8080/"
        },
        "outputId": "47ecbf79-4419-4d18-cf82-ba011143f164"
      },
      "source": [
        "# 모형의 골격과 모수 개수 출력하기\n",
        "\n",
        "model.summary()\n",
        "# 784 * 300 + 300 = 235500\n",
        "# 300 * 100 + 100 = 30100\n",
        "# 100*10 + 10 = 1010"
      ],
      "execution_count": 11,
      "outputs": [
        {
          "output_type": "stream",
          "text": [
            "Model: \"sequential\"\n",
            "_________________________________________________________________\n",
            "Layer (type)                 Output Shape              Param #   \n",
            "=================================================================\n",
            "flatten (Flatten)            (None, 784)               0         \n",
            "_________________________________________________________________\n",
            "dense (Dense)                (None, 300)               235500    \n",
            "_________________________________________________________________\n",
            "dense_1 (Dense)              (None, 100)               30100     \n",
            "_________________________________________________________________\n",
            "dense_2 (Dense)              (None, 10)                1010      \n",
            "=================================================================\n",
            "Total params: 266,610\n",
            "Trainable params: 266,610\n",
            "Non-trainable params: 0\n",
            "_________________________________________________________________\n"
          ],
          "name": "stdout"
        }
      ]
    },
    {
      "cell_type": "code",
      "metadata": {
        "id": "RymVYSnBCal4"
      },
      "source": [
        "# 모수의 초기값 출력하기\n",
        "\n",
        "hidden1 = model.layers[1]\n",
        "\n",
        "weightes, biases = hidden1.get_weights()\n",
        "\n",
        "#weightes\n",
        "#weightes.shape\n",
        "#biases\n",
        "#biases.shape"
      ],
      "execution_count": 12,
      "outputs": []
    },
    {
      "cell_type": "code",
      "metadata": {
        "id": "mMCuI62aCuuZ"
      },
      "source": [
        "# 모형 컴파일하기 (손실함수, 최적화 방법 지정하기)\n",
        "model.compile(loss=\"sparse_categorical_crossentropy\" ,optimizer=\"sgd\" ,metrics=[\"accuracy\"] )\n"
      ],
      "execution_count": 13,
      "outputs": []
    },
    {
      "cell_type": "markdown",
      "metadata": {
        "id": "ZIwlS00bECWM"
      },
      "source": [
        "손실함수 종류: https://keras.io/ko/losses/"
      ]
    },
    {
      "cell_type": "markdown",
      "metadata": {
        "id": "QGVbNaz08XlL"
      },
      "source": [
        "## 2. 모형 학습하기"
      ]
    },
    {
      "cell_type": "code",
      "metadata": {
        "colab": {
          "base_uri": "https://localhost:8080/"
        },
        "id": "bZAGySLHL1Ny",
        "outputId": "a2c62fb0-40b6-4a08-9585-727215fd1281"
      },
      "source": [
        "X_valid.shape"
      ],
      "execution_count": 14,
      "outputs": [
        {
          "output_type": "execute_result",
          "data": {
            "text/plain": [
              "(5000, 28, 28)"
            ]
          },
          "metadata": {},
          "execution_count": 14
        }
      ]
    },
    {
      "cell_type": "code",
      "metadata": {
        "id": "9FF8L3GJFhhQ",
        "colab": {
          "base_uri": "https://localhost:8080/"
        },
        "outputId": "35e25a4e-63cb-461d-8220-2f7fb818a49d"
      },
      "source": [
        "#epoch 개수를 30개로 설정하여 모형 학습하기\n",
        "# history = model.fit(X_train, y_train, epochs=30, validation_data=(X_valid,y_valid) )\n",
        "\n",
        "history = model.fit(x=X_train, y=y_train, epochs=30, validation_data=(X_valid,y_valid))\n",
        "\n",
        "# history = model.fit(x=X_train, y=y_train, epochs=30, batch_size = 50, validation_data=(X_valid,y_valid))\n",
        "# batch_size를 지정하지 않으면 default로 32이다. 그래서 55000/32 = 1719가 된다."
      ],
      "execution_count": 15,
      "outputs": [
        {
          "output_type": "stream",
          "text": [
            "Epoch 1/30\n",
            "1719/1719 [==============================] - 6s 3ms/step - loss: 0.7093 - accuracy: 0.7654 - val_loss: 0.5866 - val_accuracy: 0.7778\n",
            "Epoch 2/30\n",
            "1719/1719 [==============================] - 5s 3ms/step - loss: 0.4846 - accuracy: 0.8309 - val_loss: 0.4349 - val_accuracy: 0.8482\n",
            "Epoch 3/30\n",
            "1719/1719 [==============================] - 5s 3ms/step - loss: 0.4414 - accuracy: 0.8461 - val_loss: 0.4372 - val_accuracy: 0.8444\n",
            "Epoch 4/30\n",
            "1719/1719 [==============================] - 5s 3ms/step - loss: 0.4128 - accuracy: 0.8558 - val_loss: 0.4109 - val_accuracy: 0.8538\n",
            "Epoch 5/30\n",
            "1719/1719 [==============================] - 5s 3ms/step - loss: 0.3936 - accuracy: 0.8631 - val_loss: 0.3926 - val_accuracy: 0.8614\n",
            "Epoch 6/30\n",
            "1719/1719 [==============================] - 5s 3ms/step - loss: 0.3763 - accuracy: 0.8681 - val_loss: 0.3861 - val_accuracy: 0.8622\n",
            "Epoch 7/30\n",
            "1719/1719 [==============================] - 5s 3ms/step - loss: 0.3636 - accuracy: 0.8731 - val_loss: 0.3625 - val_accuracy: 0.8682\n",
            "Epoch 8/30\n",
            "1719/1719 [==============================] - 5s 3ms/step - loss: 0.3504 - accuracy: 0.8771 - val_loss: 0.3540 - val_accuracy: 0.8770\n",
            "Epoch 9/30\n",
            "1719/1719 [==============================] - 5s 3ms/step - loss: 0.3401 - accuracy: 0.8793 - val_loss: 0.3599 - val_accuracy: 0.8726\n",
            "Epoch 10/30\n",
            "1719/1719 [==============================] - 5s 3ms/step - loss: 0.3311 - accuracy: 0.8817 - val_loss: 0.3961 - val_accuracy: 0.8610\n",
            "Epoch 11/30\n",
            "1719/1719 [==============================] - 5s 3ms/step - loss: 0.3223 - accuracy: 0.8849 - val_loss: 0.3371 - val_accuracy: 0.8770\n",
            "Epoch 12/30\n",
            "1719/1719 [==============================] - 5s 3ms/step - loss: 0.3140 - accuracy: 0.8880 - val_loss: 0.3392 - val_accuracy: 0.8792\n",
            "Epoch 13/30\n",
            "1719/1719 [==============================] - 5s 3ms/step - loss: 0.3068 - accuracy: 0.8903 - val_loss: 0.3453 - val_accuracy: 0.8752\n",
            "Epoch 14/30\n",
            "1719/1719 [==============================] - 5s 3ms/step - loss: 0.2998 - accuracy: 0.8931 - val_loss: 0.3446 - val_accuracy: 0.8792\n",
            "Epoch 15/30\n",
            "1719/1719 [==============================] - 5s 3ms/step - loss: 0.2931 - accuracy: 0.8956 - val_loss: 0.3484 - val_accuracy: 0.8702\n",
            "Epoch 16/30\n",
            "1719/1719 [==============================] - 5s 3ms/step - loss: 0.2877 - accuracy: 0.8954 - val_loss: 0.3373 - val_accuracy: 0.8748\n",
            "Epoch 17/30\n",
            "1719/1719 [==============================] - 5s 3ms/step - loss: 0.2814 - accuracy: 0.8993 - val_loss: 0.3222 - val_accuracy: 0.8826\n",
            "Epoch 18/30\n",
            "1719/1719 [==============================] - 5s 3ms/step - loss: 0.2748 - accuracy: 0.9020 - val_loss: 0.3374 - val_accuracy: 0.8812\n",
            "Epoch 19/30\n",
            "1719/1719 [==============================] - 5s 3ms/step - loss: 0.2699 - accuracy: 0.9015 - val_loss: 0.3328 - val_accuracy: 0.8794\n",
            "Epoch 20/30\n",
            "1719/1719 [==============================] - 5s 3ms/step - loss: 0.2647 - accuracy: 0.9035 - val_loss: 0.3388 - val_accuracy: 0.8772\n",
            "Epoch 21/30\n",
            "1719/1719 [==============================] - 5s 3ms/step - loss: 0.2610 - accuracy: 0.9066 - val_loss: 0.3176 - val_accuracy: 0.8838\n",
            "Epoch 22/30\n",
            "1719/1719 [==============================] - 5s 3ms/step - loss: 0.2557 - accuracy: 0.9083 - val_loss: 0.3115 - val_accuracy: 0.8886\n",
            "Epoch 23/30\n",
            "1719/1719 [==============================] - 5s 3ms/step - loss: 0.2510 - accuracy: 0.9094 - val_loss: 0.3298 - val_accuracy: 0.8826\n",
            "Epoch 24/30\n",
            "1719/1719 [==============================] - 5s 3ms/step - loss: 0.2473 - accuracy: 0.9112 - val_loss: 0.3143 - val_accuracy: 0.8802\n",
            "Epoch 25/30\n",
            "1719/1719 [==============================] - 5s 3ms/step - loss: 0.2423 - accuracy: 0.9134 - val_loss: 0.3200 - val_accuracy: 0.8870\n",
            "Epoch 26/30\n",
            "1719/1719 [==============================] - 5s 3ms/step - loss: 0.2373 - accuracy: 0.9152 - val_loss: 0.3135 - val_accuracy: 0.8848\n",
            "Epoch 27/30\n",
            "1719/1719 [==============================] - 5s 3ms/step - loss: 0.2339 - accuracy: 0.9163 - val_loss: 0.3208 - val_accuracy: 0.8866\n",
            "Epoch 28/30\n",
            "1719/1719 [==============================] - 5s 3ms/step - loss: 0.2306 - accuracy: 0.9179 - val_loss: 0.3086 - val_accuracy: 0.8908\n",
            "Epoch 29/30\n",
            "1719/1719 [==============================] - 5s 3ms/step - loss: 0.2255 - accuracy: 0.9190 - val_loss: 0.3186 - val_accuracy: 0.8834\n",
            "Epoch 30/30\n",
            "1719/1719 [==============================] - 5s 3ms/step - loss: 0.2221 - accuracy: 0.9211 - val_loss: 0.3174 - val_accuracy: 0.8868\n"
          ],
          "name": "stdout"
        }
      ]
    },
    {
      "cell_type": "markdown",
      "metadata": {
        "id": "E1LeiMHH9MUw"
      },
      "source": [
        "## 3. 학습 결과 확인하기"
      ]
    },
    {
      "cell_type": "code",
      "metadata": {
        "id": "XOkkdBS1GlGx",
        "colab": {
          "base_uri": "https://localhost:8080/",
          "height": 320
        },
        "outputId": "e4a33509-2301-44fd-f2f0-c44950ad8f72"
      },
      "source": [
        "#학습 곡선 그리기\n",
        "import pandas as pd\n",
        "\n",
        "pd.DataFrame(history.history).plot(figsize=[8,5])\n",
        "plt.grid(True)\n"
      ],
      "execution_count": 16,
      "outputs": [
        {
          "output_type": "display_data",
          "data": {
            "image/png": "[encoded data removed]",
            "text/plain": [
              "<Figure size 576x360 with 1 Axes>"
            ]
          },
          "metadata": {
            "needs_background": "light"
          }
        }
      ]
    },
    {
      "cell_type": "code",
      "metadata": {
        "id": "C3lPgxcKGxCN",
        "colab": {
          "base_uri": "https://localhost:8080/"
        },
        "outputId": "92e54686-9f80-4178-ec18-25b45fb62096"
      },
      "source": [
        "#학습된 모형으로 새로운 그림이 각 범주에 속할 확률 출력하기\n",
        "X_new = X_test[:3]\n",
        "y_proba = model.predict(X_new)\n",
        "# y_proba.round(2)\n",
        "# y_proba.max(axis=0) -> 세로 방향에서 max값 표현\n",
        "# y_proba.max(axis=1) -> 가로 방향에서 max값 표현\n",
        "y_proba.argmax(axis=1) # -> max값의 인덱스 반환"
      ],
      "execution_count": 17,
      "outputs": [
        {
          "output_type": "execute_result",
          "data": {
            "text/plain": [
              "array([9, 2, 1])"
            ]
          },
          "metadata": {},
          "execution_count": 17
        }
      ]
    },
    {
      "cell_type": "code",
      "metadata": {
        "id": "LDPczq1MG3Y5",
        "colab": {
          "base_uri": "https://localhost:8080/"
        },
        "outputId": "d5ece77a-7fbd-4186-f702-86c7a620e606"
      },
      "source": [
        "#학습된 모형으로 새로운 그림의 범주 예측하기\n",
        "# model.predict_classes(X_new)  -> 교재에 나와있지만, keras 내부 라이브러리 변동으로 사용 불능\n",
        "#y_proba.argmax(axis=1)\n",
        "#class_name\n",
        "np.array(class_name)[y_proba.argmax(axis=1)]"
      ],
      "execution_count": 18,
      "outputs": [
        {
          "output_type": "execute_result",
          "data": {
            "text/plain": [
              "array(['Ankle boot', 'Pullover', 'Trouser'], dtype='<U11')"
            ]
          },
          "metadata": {},
          "execution_count": 18
        }
      ]
    },
    {
      "cell_type": "code",
      "metadata": {
        "colab": {
          "base_uri": "https://localhost:8080/",
          "height": 283
        },
        "id": "fH1pMM7WRpb6",
        "outputId": "a78b8c10-50c3-4e0d-bf9f-d5221f4078ef"
      },
      "source": [
        "plt.imshow(X_new[2],cmap=\"gray\")"
      ],
      "execution_count": 19,
      "outputs": [
        {
          "output_type": "execute_result",
          "data": {
            "text/plain": [
              "<matplotlib.image.AxesImage at 0x7efb9274fa10>"
            ]
          },
          "metadata": {},
          "execution_count": 19
        },
        {
          "output_type": "display_data",
          "data": {
            "image/png": "[encoded data removed]",
            "text/plain": [
              "<Figure size 432x288 with 1 Axes>"
            ]
          },
          "metadata": {
            "needs_background": "light"
          }
        }
      ]
    },
    {
      "cell_type": "code",
      "metadata": {
        "id": "elOOhgoDHBTx",
        "colab": {
          "base_uri": "https://localhost:8080/"
        },
        "outputId": "f501caac-c095-4db3-cd1f-2f8a76dbe62d"
      },
      "source": [
        "# 실제 범주와 비교해보기\n",
        "y_test[:3]"
      ],
      "execution_count": 20,
      "outputs": [
        {
          "output_type": "execute_result",
          "data": {
            "text/plain": [
              "array([9, 2, 1], dtype=uint8)"
            ]
          },
          "metadata": {},
          "execution_count": 20
        }
      ]
    },
    {
      "cell_type": "code",
      "metadata": {
        "id": "DZT7UFfpBU2o",
        "colab": {
          "base_uri": "https://localhost:8080/"
        },
        "outputId": "b7779146-264d-4c07-9fbe-6f7deebbf484"
      },
      "source": [
        "# 테스트용 데이터에서의 정분류율 출력하기\n",
        "model.evaluate(X_test, y_test)"
      ],
      "execution_count": 21,
      "outputs": [
        {
          "output_type": "stream",
          "text": [
            "313/313 [==============================] - 1s 2ms/step - loss: 0.3311 - accuracy: 0.8854\n"
          ],
          "name": "stdout"
        },
        {
          "output_type": "execute_result",
          "data": {
            "text/plain": [
              "[0.33108437061309814, 0.8853999972343445]"
            ]
          },
          "metadata": {},
          "execution_count": 21
        }
      ]
    },
    {
      "cell_type": "code",
      "metadata": {
        "id": "Uo67BLzGEuu-"
      },
      "source": [
        "#학습된 모형 저장하기\n",
        "model.save(\"Week3_my_keras_model.h5\")"
      ],
      "execution_count": 22,
      "outputs": []
    },
    {
      "cell_type": "code",
      "metadata": {
        "id": "KoP165d8E3Lp"
      },
      "source": [
        "#저장된 모형 로딩하기\n",
        "loaded_model = keras.models.load_model(\"Week3_my_keras_model.h5\")"
      ],
      "execution_count": 23,
      "outputs": []
    },
    {
      "cell_type": "markdown",
      "metadata": {
        "id": "J0847X2ZCUhl"
      },
      "source": [
        "## 4. California Housing Price 데이터셋에 신경망 모형 적용하여 회귀분석하기"
      ]
    },
    {
      "cell_type": "code",
      "metadata": {
        "id": "lB0G-N2dIFYc"
      },
      "source": [
        "#데이터셋 로딩, 데이터셋 분리, 데이터 정규화에 필요한 패키지 로딩하기\n",
        "\n",
        "from sklearn.datasets import fetch_california_housing\n",
        "from sklearn.model_selection import train_test_split\n",
        "from sklearn.preprocessing import StandardScaler"
      ],
      "execution_count": 24,
      "outputs": []
    },
    {
      "cell_type": "code",
      "metadata": {
        "id": "xNiwuefSKe1j"
      },
      "source": [
        "#데이터셋 로딩하기\n",
        "housing = fetch_california_housing()"
      ],
      "execution_count": 25,
      "outputs": []
    },
    {
      "cell_type": "code",
      "metadata": {
        "id": "lvzgNH9XKh8P"
      },
      "source": [
        "# 데이터를 학습용 데이터와 테스트용 데이터로 나누기\n",
        "# 학습용 데이터를 다시 학습용 데이터와 검증용 데이터로 나누기\n",
        "X_train_full2, X_test2, y_train_full2, y_test2  = train_test_split(housing.data, housing.target)\n",
        "# X_train_full2, X_test2, y_train_full2, y_test2  = train_test_split(housing.data, housing.target, size = 0.8)\n",
        "# -> size는 변경하고 싶은 수치로 변경 가능하다. \n",
        "X_train2, X_vaild2, y_train2, y_vaild2  = train_test_split(X_train_full2, y_train_full2)\n"
      ],
      "execution_count": 26,
      "outputs": []
    },
    {
      "cell_type": "code",
      "metadata": {
        "id": "-1N0NjBWKuug"
      },
      "source": [
        "# 데이터 정규화 하기\n",
        "scaler = StandardScaler()\n",
        "X_train2 = scaler.fit_transform(X_train2)\n",
        "X_vaild2 = scaler.transform(X_vaild2)  # -> fit을 쓰게 된다면 새롭게 fit을 하게 되므로, 같은 scaler를 사용하기 위해 fit을 없앤다.\n",
        "X_test2 = scaler.transform(X_test2) # 마찬가지"
      ],
      "execution_count": 27,
      "outputs": []
    },
    {
      "cell_type": "code",
      "metadata": {
        "colab": {
          "base_uri": "https://localhost:8080/"
        },
        "id": "c93IBJi7Wp4O",
        "outputId": "cadf7544-3019-4993-969d-4e28c4a8324c"
      },
      "source": [
        "X_train2.shape"
      ],
      "execution_count": 28,
      "outputs": [
        {
          "output_type": "execute_result",
          "data": {
            "text/plain": [
              "(11610, 8)"
            ]
          },
          "metadata": {},
          "execution_count": 28
        }
      ]
    },
    {
      "cell_type": "code",
      "metadata": {
        "id": "CIZCGdw-Lkuv",
        "colab": {
          "base_uri": "https://localhost:8080/"
        },
        "outputId": "47658b31-ad5b-4741-bdac-824d6e312ea4"
      },
      "source": [
        "# keras 의 Sequential API 를 활용하여 신경망 모형의 골격 만들기 \n",
        "# 은닉층이 1개이며 뉴런이 30개 인 골격 만들기\n",
        "# 활성함수는 relu 사용하기\n",
        "\n",
        "# model2 = keras.models.Sequential()\n",
        "# model2.add(keras.layers.Flatten(input_shape=[8]))\n",
        "# model2.add(keras.layers.Dense(30, activation=\"relu\"))\n",
        "# model2.add(keras.layers.Dense(1, activation=\"relu\")) # 예측이므로 함수를 뭘써야하나?\n",
        "# model2.summary()\n",
        "\n",
        "model2 = keras.models.Sequential([\n",
        "  keras.layers.Dense(30, activation=\"relu\", input_shape = X_train2.shape[1:]),\n",
        "  keras.layers.Dense(1)\n",
        "])\n",
        "model2.summary()"
      ],
      "execution_count": 29,
      "outputs": [
        {
          "output_type": "stream",
          "text": [
            "Model: \"sequential_1\"\n",
            "_________________________________________________________________\n",
            "Layer (type)                 Output Shape              Param #   \n",
            "=================================================================\n",
            "dense_3 (Dense)              (None, 30)                270       \n",
            "_________________________________________________________________\n",
            "dense_4 (Dense)              (None, 1)                 31        \n",
            "=================================================================\n",
            "Total params: 301\n",
            "Trainable params: 301\n",
            "Non-trainable params: 0\n",
            "_________________________________________________________________\n"
          ],
          "name": "stdout"
        }
      ]
    },
    {
      "cell_type": "code",
      "metadata": {
        "id": "IcmCBEBlOAYX"
      },
      "source": [
        "#모형 컴파일하기(손실함수, 최적화 방법 지정하기)\n",
        "\n",
        "# model.compile(loss=\"sparse_categorical_crossentropy\" ,optimizer=\"sgd\" ,metrics=[\"accuracy\"] )\n",
        "\n",
        "model2.compile(loss=\"mean_squared_error\", optimizer=\"sgd\")"
      ],
      "execution_count": 30,
      "outputs": []
    },
    {
      "cell_type": "code",
      "metadata": {
        "id": "mEwMaKgYD-J2",
        "colab": {
          "base_uri": "https://localhost:8080/"
        },
        "outputId": "f2533c47-a3ab-463e-e172-89528f98931b"
      },
      "source": [
        "#epoch 개수를 20개로 설정하여 모형 학습하기\n",
        "\n",
        "# history2 = model2.fit(x=X_train2, y=y_train2, epochs=20, validation_data=(X_valid2,y_valid2))\n",
        "\n",
        "history2 = model2.fit(X_train2, y_train2, epochs=20, validation_data=(X_vaild2,y_vaild2))"
      ],
      "execution_count": 31,
      "outputs": [
        {
          "output_type": "stream",
          "text": [
            "Epoch 1/20\n",
            "363/363 [==============================] - 1s 2ms/step - loss: 0.8270 - val_loss: 0.5817\n",
            "Epoch 2/20\n",
            "363/363 [==============================] - 0s 1ms/step - loss: 1.0226 - val_loss: 0.7499\n",
            "Epoch 3/20\n",
            "363/363 [==============================] - 0s 1ms/step - loss: 208.7527 - val_loss: 4.6180\n",
            "Epoch 4/20\n",
            "363/363 [==============================] - 1s 1ms/step - loss: 2.0683 - val_loss: 1.3099\n",
            "Epoch 5/20\n",
            "363/363 [==============================] - 1s 1ms/step - loss: 0.8283 - val_loss: 0.6375\n",
            "Epoch 6/20\n",
            "363/363 [==============================] - 1s 1ms/step - loss: 0.6340 - val_loss: 0.5136\n",
            "Epoch 7/20\n",
            "363/363 [==============================] - 0s 1ms/step - loss: 0.4802 - val_loss: 0.4890\n",
            "Epoch 8/20\n",
            "363/363 [==============================] - 1s 1ms/step - loss: 0.4600 - val_loss: 0.4980\n",
            "Epoch 9/20\n",
            "363/363 [==============================] - 1s 2ms/step - loss: 0.4525 - val_loss: 0.4770\n",
            "Epoch 10/20\n",
            "363/363 [==============================] - 0s 1ms/step - loss: 0.4594 - val_loss: 0.4674\n",
            "Epoch 11/20\n",
            "363/363 [==============================] - 1s 1ms/step - loss: 0.4300 - val_loss: 0.4685\n",
            "Epoch 12/20\n",
            "363/363 [==============================] - 1s 1ms/step - loss: 0.4223 - val_loss: 0.4575\n",
            "Epoch 13/20\n",
            "363/363 [==============================] - 0s 1ms/step - loss: 0.4213 - val_loss: 0.4477\n",
            "Epoch 14/20\n",
            "363/363 [==============================] - 1s 1ms/step - loss: 0.4125 - val_loss: 0.4516\n",
            "Epoch 15/20\n",
            "363/363 [==============================] - 0s 1ms/step - loss: 0.5651 - val_loss: 0.4941\n",
            "Epoch 16/20\n",
            "363/363 [==============================] - 1s 1ms/step - loss: 0.4205 - val_loss: 0.4366\n",
            "Epoch 17/20\n",
            "363/363 [==============================] - 1s 1ms/step - loss: 0.4046 - val_loss: 0.4327\n",
            "Epoch 18/20\n",
            "363/363 [==============================] - 1s 1ms/step - loss: 0.4005 - val_loss: 0.4246\n",
            "Epoch 19/20\n",
            "363/363 [==============================] - 0s 1ms/step - loss: 0.3927 - val_loss: 0.4303\n",
            "Epoch 20/20\n",
            "363/363 [==============================] - 0s 1ms/step - loss: 0.3978 - val_loss: 0.4271\n"
          ],
          "name": "stdout"
        }
      ]
    },
    {
      "cell_type": "code",
      "metadata": {
        "id": "zQTjDXtRO7M5",
        "colab": {
          "base_uri": "https://localhost:8080/",
          "height": 320
        },
        "outputId": "6f293322-33d9-4534-a282-c0d1e7ee8286"
      },
      "source": [
        "#학습결과 확인하기\n",
        "# import pandas as pd\n",
        "\n",
        "# pd.DataFrame(history.history).plot(figsize=[8,5])\n",
        "# plt.grid(True)\n",
        "\n",
        "pd.DataFrame(history2.history).plot(figsize=[8,5])\n",
        "plt.grid(True)"
      ],
      "execution_count": 32,
      "outputs": [
        {
          "output_type": "display_data",
          "data": {
            "image/png": "[encoded data removed]",
            "text/plain": [
              "<Figure size 576x360 with 1 Axes>"
            ]
          },
          "metadata": {
            "needs_background": "light"
          }
        }
      ]
    },
    {
      "cell_type": "code",
      "metadata": {
        "colab": {
          "base_uri": "https://localhost:8080/"
        },
        "id": "dlYvSalkanCS",
        "outputId": "3469db8c-1157-43ca-8969-dada46a311e1"
      },
      "source": [
        "mse_test = model2.evaluate(X_test2, y_test2)"
      ],
      "execution_count": 33,
      "outputs": [
        {
          "output_type": "stream",
          "text": [
            "162/162 [==============================] - 0s 860us/step - loss: 0.3735\n"
          ],
          "name": "stdout"
        }
      ]
    },
    {
      "cell_type": "markdown",
      "metadata": {
        "id": "a3yvWkP053YT"
      },
      "source": [
        "## 5. **심화** : Functional API 이용하여 복잡한 모형 만들기"
      ]
    },
    {
      "cell_type": "markdown",
      "metadata": {
        "id": "bv0j5JdN7vJt"
      },
      "source": [
        "### 5.1 예제 1"
      ]
    },
    {
      "cell_type": "code",
      "metadata": {
        "id": "_eIGV7mc5_GV"
      },
      "source": [
        "# keras 의 Functional API 를 활용하여 신경망 모형의 골격 만들기 \n",
        "\n",
        "input_=keras.layers.Input(shape=X_train.shape[1:])\n",
        "hidden1=keras.layers.Dense(30, activation=\"relu\")(input_)\n",
        "hidden2=keras.layers.Dense(30, activation=\"relu\")(hidden1)\n",
        "concat=keras.layers.Concatenate()([input_,hidden2])\n",
        "output=keras.layers.Dense(1)(concat)\n",
        "\n",
        "model=keras.Model(inputs=[input_], outputs=[output])"
      ],
      "execution_count": 34,
      "outputs": []
    },
    {
      "cell_type": "code",
      "metadata": {
        "id": "0ACvoJ6z7nIB",
        "colab": {
          "base_uri": "https://localhost:8080/",
          "height": 466
        },
        "outputId": "8777e37b-7735-408d-ca45-9ed2d885bbe8"
      },
      "source": [
        "#모형 도식화 하기\n",
        "keras.utils.plot_model(model)"
      ],
      "execution_count": 36,
      "outputs": [
        {
          "output_type": "execute_result",
          "data": {
            "image/png": "[encoded data removed]",
            "text/plain": [
              "<IPython.core.display.Image object>"
            ]
          },
          "metadata": {},
          "execution_count": 36
        }
      ]
    },
    {
      "cell_type": "code",
      "metadata": {
        "id": "lKJJ8q147S7y"
      },
      "source": [
        "#모형 컴파일하기(손실함수, 최적화 방법 지정하기)\n",
        "\n",
        "\n"
      ],
      "execution_count": null,
      "outputs": []
    },
    {
      "cell_type": "code",
      "metadata": {
        "id": "ykXiciy67aH5"
      },
      "source": [
        "#epoch 개수를 20개로 설정하여 모형 학습하기\n",
        "\n"
      ],
      "execution_count": null,
      "outputs": []
    },
    {
      "cell_type": "markdown",
      "metadata": {
        "id": "IhL1uzPM72OY"
      },
      "source": [
        "### 5.2 예제 2"
      ]
    },
    {
      "cell_type": "code",
      "metadata": {
        "id": "2A8mI7Xx74bR"
      },
      "source": [
        "# keras 의 Functional API 를 활용하여 신경망 모형의 골격 만들기\n",
        "\n",
        "input_A= keras.layers.Input(shape=[5], name=\"wide input\")\n",
        "input_B= keras.layers.Input(shape=[6], name=\"deep input\")\n",
        "hidden1=keras.layers.Dense(30, activation=\"relu\")(input_B)\n",
        "hidden2=keras.layers.Dense(30, activation=\"relu\")(hidden1)\n",
        "concat=keras.layers.concatenate([input_A, hidden2])\n",
        "output=keras.layers.Dense(1, name=\"output\")(concat)\n",
        "\n",
        "model=keras.Model(inputs=[input_A, input_B], outputs=[output])"
      ],
      "execution_count": null,
      "outputs": []
    },
    {
      "cell_type": "code",
      "metadata": {
        "id": "0BiX8X1p8l2P"
      },
      "source": [
        "#모형 도식화 하기\n",
        "\n"
      ],
      "execution_count": null,
      "outputs": []
    },
    {
      "cell_type": "code",
      "metadata": {
        "id": "n97F0jGK8paR"
      },
      "source": [
        "#모형 컴파일하기(손실함수, 최적화 방법 지정하기)\n",
        "\n",
        "\n"
      ],
      "execution_count": null,
      "outputs": []
    },
    {
      "cell_type": "code",
      "metadata": {
        "id": "ACM2Nw__80jG"
      },
      "source": [
        "#epoch 개수를 20개로 설정하여 모형 학습하기\n",
        "\n"
      ],
      "execution_count": null,
      "outputs": []
    },
    {
      "cell_type": "markdown",
      "metadata": {
        "id": "EIZ-pqh1_WeF"
      },
      "source": [
        "### 5.3 예제 3: 다중 출력값 모형 만들기"
      ]
    },
    {
      "cell_type": "code",
      "metadata": {
        "id": "k2lMUTaS_byU"
      },
      "source": [
        "# keras 의 Functional API 를 활용하여 신경망 모형의 골격 만들기\n",
        "\n",
        "input_A= keras.layers.Input(shape=[5], name=\"wide input\")\n",
        "input_B= keras.layers.Input(shape=[6], name=\"deep input\")\n",
        "hidden1=keras.layers.Dense(30, activation=\"relu\")(input_B)\n",
        "hidden2=keras.layers.Dense(30, activation=\"relu\")(hidden1)\n",
        "concat=keras.layers.concatenate([input_A, hidden2])\n",
        "output=keras.layers.Dense(1, name=\"output\")(concat)\n",
        "\n",
        "aux_output=keras.layers.Dense(1, name=\"aux_output\")(hidden2)\n",
        "\n",
        "model=keras.Model(inputs=[input_A, input_B], outputs=[output, aux_output])"
      ],
      "execution_count": null,
      "outputs": []
    },
    {
      "cell_type": "code",
      "metadata": {
        "id": "e-hE7Qok_ua0"
      },
      "source": [
        "#모형 도식화 하기\n"
      ],
      "execution_count": null,
      "outputs": []
    },
    {
      "cell_type": "code",
      "metadata": {
        "id": "TzgLMxsE_3Qn"
      },
      "source": [
        "#모형 컴파일하기(손실함수, 최적화 방법 지정하기)\n",
        "\n"
      ],
      "execution_count": null,
      "outputs": []
    },
    {
      "cell_type": "code",
      "metadata": {
        "id": "9N3AyXHk_58W"
      },
      "source": [
        "#epoch 개수를 20개로 설정하여 모형 학습하기\n",
        "\n"
      ],
      "execution_count": null,
      "outputs": []
    },
    {
      "cell_type": "code",
      "metadata": {
        "id": "3rpI3Ff4AbMk"
      },
      "source": [
        "#학습 결과 확인하기 \n",
        "\n"
      ],
      "execution_count": null,
      "outputs": []
    }
  ]
}