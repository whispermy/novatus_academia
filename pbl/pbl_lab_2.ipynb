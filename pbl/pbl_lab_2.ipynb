{
  "nbformat": 4,
  "nbformat_minor": 0,
  "metadata": {
    "colab": {
      "name": "pbl_lab_2.ipynb",
      "provenance": [],
      "mount_file_id": "1JmtKlJKOWERyOog8251HiDqLMZm33Mnn",
      "authorship_tag": "ABX9TyNDaxJIkFnZmQZOC/Vt88jY",
      "include_colab_link": true
    },
    "kernelspec": {
      "name": "python3",
      "display_name": "Python 3"
    },
    "language_info": {
      "name": "python"
    },
    "accelerator": "GPU"
  },
  "cells": [
    {
      "cell_type": "markdown",
      "metadata": {
        "id": "view-in-github",
        "colab_type": "text"
      },
      "source": [
        "<a href=\"https://colab.research.google.com/github/whispermy/novatus_academia/blob/main/pbl/pbl_lab_2.ipynb\" target=\"_parent\"><img src=\"https://colab.research.google.com/assets/colab-badge.svg\" alt=\"Open In Colab\"/></a>"
      ]
    },
    {
      "cell_type": "code",
      "metadata": {
        "colab": {
          "base_uri": "https://localhost:8080/"
        },
        "id": "1ez3vr3sifiC",
        "outputId": "e971620d-b7d5-4ac2-ae6b-65b91ad71700"
      },
      "source": [
        "from google.colab import drive\n",
        "drive.mount('/content/drive')"
      ],
      "execution_count": 1,
      "outputs": [
        {
          "output_type": "stream",
          "name": "stdout",
          "text": [
            "Drive already mounted at /content/drive; to attempt to forcibly remount, call drive.mount(\"/content/drive\", force_remount=True).\n"
          ]
        }
      ]
    },
    {
      "cell_type": "code",
      "metadata": {
        "id": "AfoarV6xgwqg",
        "colab": {
          "base_uri": "https://localhost:8080/",
          "height": 376
        },
        "outputId": "a674ce6c-0b7f-4381-dcdc-aca24a4778a8"
      },
      "source": [
        "import zipfile\n",
        "\n",
        "filezip = zipfile.ZipFile('/content/drive/MyDrive/review_polarity.zip')\n",
        "filezip.extractall('/content/drive/MyDrive/review_polarity')"
      ],
      "execution_count": 6,
      "outputs": [
        {
          "output_type": "error",
          "ename": "KeyboardInterrupt",
          "evalue": "ignored",
          "traceback": [
            "\u001b[0;31m---------------------------------------------------------------------------\u001b[0m",
            "\u001b[0;31mKeyboardInterrupt\u001b[0m                         Traceback (most recent call last)",
            "\u001b[0;32m<ipython-input-6-27488d930299>\u001b[0m in \u001b[0;36m<module>\u001b[0;34m()\u001b[0m\n\u001b[1;32m      2\u001b[0m \u001b[0;34m\u001b[0m\u001b[0m\n\u001b[1;32m      3\u001b[0m \u001b[0mfilezip\u001b[0m \u001b[0;34m=\u001b[0m \u001b[0mzipfile\u001b[0m\u001b[0;34m.\u001b[0m\u001b[0mZipFile\u001b[0m\u001b[0;34m(\u001b[0m\u001b[0;34m'/content/drive/MyDrive/review_polarity.zip'\u001b[0m\u001b[0;34m)\u001b[0m\u001b[0;34m\u001b[0m\u001b[0;34m\u001b[0m\u001b[0m\n\u001b[0;32m----> 4\u001b[0;31m \u001b[0mfilezip\u001b[0m\u001b[0;34m.\u001b[0m\u001b[0mextractall\u001b[0m\u001b[0;34m(\u001b[0m\u001b[0;34m'/content/drive/MyDrive/review_polarity'\u001b[0m\u001b[0;34m)\u001b[0m\u001b[0;34m\u001b[0m\u001b[0;34m\u001b[0m\u001b[0m\n\u001b[0m\u001b[1;32m      5\u001b[0m \u001b[0mpositive\u001b[0m \u001b[0;34m=\u001b[0m \u001b[0;34m'/content/drive/MyDrive/review_polarity/txtsentoken/pos'\u001b[0m\u001b[0;34m\u001b[0m\u001b[0;34m\u001b[0m\u001b[0m\n",
            "\u001b[0;32m/usr/lib/python3.7/zipfile.py\u001b[0m in \u001b[0;36mextractall\u001b[0;34m(self, path, members, pwd)\u001b[0m\n\u001b[1;32m   1634\u001b[0m \u001b[0;34m\u001b[0m\u001b[0m\n\u001b[1;32m   1635\u001b[0m         \u001b[0;32mfor\u001b[0m \u001b[0mzipinfo\u001b[0m \u001b[0;32min\u001b[0m \u001b[0mmembers\u001b[0m\u001b[0;34m:\u001b[0m\u001b[0;34m\u001b[0m\u001b[0;34m\u001b[0m\u001b[0m\n\u001b[0;32m-> 1636\u001b[0;31m             \u001b[0mself\u001b[0m\u001b[0;34m.\u001b[0m\u001b[0m_extract_member\u001b[0m\u001b[0;34m(\u001b[0m\u001b[0mzipinfo\u001b[0m\u001b[0;34m,\u001b[0m \u001b[0mpath\u001b[0m\u001b[0;34m,\u001b[0m \u001b[0mpwd\u001b[0m\u001b[0;34m)\u001b[0m\u001b[0;34m\u001b[0m\u001b[0;34m\u001b[0m\u001b[0m\n\u001b[0m\u001b[1;32m   1637\u001b[0m \u001b[0;34m\u001b[0m\u001b[0m\n\u001b[1;32m   1638\u001b[0m     \u001b[0;34m@\u001b[0m\u001b[0mclassmethod\u001b[0m\u001b[0;34m\u001b[0m\u001b[0;34m\u001b[0m\u001b[0m\n",
            "\u001b[0;32m/usr/lib/python3.7/zipfile.py\u001b[0m in \u001b[0;36m_extract_member\u001b[0;34m(self, member, targetpath, pwd)\u001b[0m\n\u001b[1;32m   1688\u001b[0m \u001b[0;34m\u001b[0m\u001b[0m\n\u001b[1;32m   1689\u001b[0m         \u001b[0;32mwith\u001b[0m \u001b[0mself\u001b[0m\u001b[0;34m.\u001b[0m\u001b[0mopen\u001b[0m\u001b[0;34m(\u001b[0m\u001b[0mmember\u001b[0m\u001b[0;34m,\u001b[0m \u001b[0mpwd\u001b[0m\u001b[0;34m=\u001b[0m\u001b[0mpwd\u001b[0m\u001b[0;34m)\u001b[0m \u001b[0;32mas\u001b[0m \u001b[0msource\u001b[0m\u001b[0;34m,\u001b[0m\u001b[0;31m \u001b[0m\u001b[0;31m\\\u001b[0m\u001b[0;34m\u001b[0m\u001b[0;34m\u001b[0m\u001b[0m\n\u001b[0;32m-> 1690\u001b[0;31m              \u001b[0mopen\u001b[0m\u001b[0;34m(\u001b[0m\u001b[0mtargetpath\u001b[0m\u001b[0;34m,\u001b[0m \u001b[0;34m\"wb\"\u001b[0m\u001b[0;34m)\u001b[0m \u001b[0;32mas\u001b[0m \u001b[0mtarget\u001b[0m\u001b[0;34m:\u001b[0m\u001b[0;34m\u001b[0m\u001b[0;34m\u001b[0m\u001b[0m\n\u001b[0m\u001b[1;32m   1691\u001b[0m             \u001b[0mshutil\u001b[0m\u001b[0;34m.\u001b[0m\u001b[0mcopyfileobj\u001b[0m\u001b[0;34m(\u001b[0m\u001b[0msource\u001b[0m\u001b[0;34m,\u001b[0m \u001b[0mtarget\u001b[0m\u001b[0;34m)\u001b[0m\u001b[0;34m\u001b[0m\u001b[0;34m\u001b[0m\u001b[0m\n\u001b[1;32m   1692\u001b[0m \u001b[0;34m\u001b[0m\u001b[0m\n",
            "\u001b[0;31mKeyboardInterrupt\u001b[0m: "
          ]
        }
      ]
    },
    {
      "cell_type": "code",
      "metadata": {
        "colab": {
          "base_uri": "https://localhost:8080/",
          "height": 143
        },
        "id": "NNVTV0Vbi7n6",
        "outputId": "19a08b33-5523-4955-c381-ab47a45d938c"
      },
      "source": [
        "positive = '/content/drive/MyDrive/review_polarity/txt_sentoken/pos/cv000_29590.txt'\n",
        "file_1 = open(positive, 'r')\n",
        "text = file_1.read()\n",
        "file_1.close()\n",
        "text"
      ],
      "execution_count": 10,
      "outputs": [
        {
          "output_type": "execute_result",
          "data": {
            "application/vnd.google.colaboratory.intrinsic+json": {
              "type": "string"
            },
            "text/plain": [
              "'films adapted from comic books have had plenty of success , whether they\\'re about superheroes ( batman , superman , spawn ) , or geared toward kids ( casper ) or the arthouse crowd ( ghost world ) , but there\\'s never really been a comic book like from hell before . \\nfor starters , it was created by alan moore ( and eddie campbell ) , who brought the medium to a whole new level in the mid \\'80s with a 12-part series called the watchmen . \\nto say moore and campbell thoroughly researched the subject of jack the ripper would be like saying michael jackson is starting to look a little odd . \\nthe book ( or \" graphic novel , \" if you will ) is over 500 pages long and includes nearly 30 more that consist of nothing but footnotes . \\nin other words , don\\'t dismiss this film because of its source . \\nif you can get past the whole comic book thing , you might find another stumbling block in from hell\\'s directors , albert and allen hughes . \\ngetting the hughes brothers to direct this seems almost as ludicrous as casting carrot top in , well , anything , but riddle me this : who better to direct a film that\\'s set in the ghetto and features really violent street crime than the mad geniuses behind menace ii society ? \\nthe ghetto in question is , of course , whitechapel in 1888 london\\'s east end . \\nit\\'s a filthy , sooty place where the whores ( called \" unfortunates \" ) are starting to get a little nervous about this mysterious psychopath who has been carving through their profession with surgical precision . \\nwhen the first stiff turns up , copper peter godley ( robbie coltrane , the world is not enough ) calls in inspector frederick abberline ( johnny depp , blow ) to crack the case . \\nabberline , a widower , has prophetic dreams he unsuccessfully tries to quell with copious amounts of absinthe and opium . \\nupon arriving in whitechapel , he befriends an unfortunate named mary kelly ( heather graham , say it isn\\'t so ) and proceeds to investigate the horribly gruesome crimes that even the police surgeon can\\'t stomach . \\ni don\\'t think anyone needs to be briefed on jack the ripper , so i won\\'t go into the particulars here , other than to say moore and campbell have a unique and interesting theory about both the identity of the killer and the reasons he chooses to slay . \\nin the comic , they don\\'t bother cloaking the identity of the ripper , but screenwriters terry hayes ( vertical limit ) and rafael yglesias ( les mis ? rables ) do a good job of keeping him hidden from viewers until the very end . \\nit\\'s funny to watch the locals blindly point the finger of blame at jews and indians because , after all , an englishman could never be capable of committing such ghastly acts . \\nand from hell\\'s ending had me whistling the stonecutters song from the simpsons for days ( \" who holds back the electric car/who made steve guttenberg a star ? \" ) . \\ndon\\'t worry - it\\'ll all make sense when you see it . \\nnow onto from hell\\'s appearance : it\\'s certainly dark and bleak enough , and it\\'s surprising to see how much more it looks like a tim burton film than planet of the apes did ( at times , it seems like sleepy hollow 2 ) . \\nthe print i saw wasn\\'t completely finished ( both color and music had not been finalized , so no comments about marilyn manson ) , but cinematographer peter deming ( don\\'t say a word ) ably captures the dreariness of victorian-era london and helped make the flashy killing scenes remind me of the crazy flashbacks in twin peaks , even though the violence in the film pales in comparison to that in the black-and-white comic . \\noscar winner martin childs\\' ( shakespeare in love ) production design turns the original prague surroundings into one creepy place . \\neven the acting in from hell is solid , with the dreamy depp turning in a typically strong performance and deftly handling a british accent . \\nians holm ( joe gould\\'s secret ) and richardson ( 102 dalmatians ) log in great supporting roles , but the big surprise here is graham . \\ni cringed the first time she opened her mouth , imagining her attempt at an irish accent , but it actually wasn\\'t half bad . \\nthe film , however , is all good . \\n2 : 00 - r for strong violence/gore , sexuality , language and drug content \\n'"
            ]
          },
          "metadata": {},
          "execution_count": 10
        }
      ]
    },
    {
      "cell_type": "code",
      "metadata": {
        "colab": {
          "base_uri": "https://localhost:8080/"
        },
        "id": "Uor_cCPFjpQ3",
        "outputId": "f441b091-8dae-4dbe-b82f-645effadc169"
      },
      "source": [
        "print(text[0])\n",
        "print(text[10:30])\n",
        "print(text[200])"
      ],
      "execution_count": 11,
      "outputs": [
        {
          "output_type": "stream",
          "name": "stdout",
          "text": [
            "f\n",
            "ted from comic books\n",
            "u\n"
          ]
        }
      ]
    },
    {
      "cell_type": "code",
      "metadata": {
        "colab": {
          "base_uri": "https://localhost:8080/"
        },
        "id": "8ErflLtzkrjm",
        "outputId": "642b72cd-c2ae-4c08-9839-5258b75d62d0"
      },
      "source": [
        "print(len(text))"
      ],
      "execution_count": 12,
      "outputs": [
        {
          "output_type": "stream",
          "name": "stdout",
          "text": [
            "4227\n"
          ]
        }
      ]
    },
    {
      "cell_type": "code",
      "metadata": {
        "id": "jnWrZIHZk3K3"
      },
      "source": [
        "tokens = text.split()"
      ],
      "execution_count": 40,
      "outputs": []
    },
    {
      "cell_type": "code",
      "metadata": {
        "id": "T3UzHC0Qlcde"
      },
      "source": [
        "import string"
      ],
      "execution_count": 31,
      "outputs": []
    },
    {
      "cell_type": "code",
      "metadata": {
        "id": "9ZbYmWGlmWoq"
      },
      "source": [
        "table = str.maketrans(\" \",\" \",string.punctuation)"
      ],
      "execution_count": 32,
      "outputs": []
    },
    {
      "cell_type": "code",
      "metadata": {
        "id": "iPJXzlIfo2sw"
      },
      "source": [
        "# tokens[236] = tokens[236].translate(table)"
      ],
      "execution_count": 36,
      "outputs": []
    },
    {
      "cell_type": "code",
      "metadata": {
        "id": "oee5oco5ncxm"
      },
      "source": [
        "# for i in range(len(tokens)):\n",
        "#   tokens[i] = tokens[i].translate(table)"
      ],
      "execution_count": 38,
      "outputs": []
    },
    {
      "cell_type": "code",
      "metadata": {
        "id": "8_dxxii_qNf2"
      },
      "source": [
        "# token_lst = []\n",
        "# for i in tokens:\n",
        "#   token_lst.append(i.translate(table))\n",
        "token_lst = []\n",
        "for i in tokens:\n",
        "  temp = i.translate(table)\n",
        "  if len(temp) > 1:\n",
        "    token_lst.append(temp)"
      ],
      "execution_count": 70,
      "outputs": []
    },
    {
      "cell_type": "code",
      "metadata": {
        "id": "5Vf3UJ9brslp"
      },
      "source": [
        "# l_tokens = list(map(lambda x: x.translate(table), tokens))\n",
        "l_tokens = list(map(lambda x : x.translate(table) if len(x.translate(table))>1 else x, tokens))"
      ],
      "execution_count": 71,
      "outputs": []
    },
    {
      "cell_type": "code",
      "metadata": {
        "colab": {
          "base_uri": "https://localhost:8080/"
        },
        "id": "PlWzEMBOru-G",
        "outputId": "c8bc223b-3bd7-415d-91a7-81a0516d214a"
      },
      "source": [
        "if l_tokens == token_lst:\n",
        "  print(\"aaa\")\n",
        "else:\n",
        "  print(\"BBB\")"
      ],
      "execution_count": 72,
      "outputs": [
        {
          "output_type": "stream",
          "name": "stdout",
          "text": [
            "BBB\n"
          ]
        }
      ]
    },
    {
      "cell_type": "code",
      "metadata": {
        "colab": {
          "base_uri": "https://localhost:8080/"
        },
        "id": "cRPtQBuDtQ-_",
        "outputId": "71114156-446f-477d-a2d5-f4001c9c0339"
      },
      "source": [
        "from nltk.corpus import stopwords\n",
        "import nltk\n",
        "nltk.download('stopwords')\n",
        "stopwords = set(stopwords.words('english'))"
      ],
      "execution_count": 57,
      "outputs": [
        {
          "output_type": "stream",
          "name": "stdout",
          "text": [
            "[nltk_data] Downloading package stopwords to /root/nltk_data...\n",
            "[nltk_data]   Package stopwords is already up-to-date!\n"
          ]
        }
      ]
    },
    {
      "cell_type": "code",
      "metadata": {
        "id": "E3v6R4JKxX5V"
      },
      "source": [
        "# token_lst = []\n",
        "# for i in tokens:\n",
        "#   temp = i.translate(table)\n",
        "#   if len(temp) > 1 and temp not in stopwords:\n",
        "#     token_lst.append(temp)\n",
        "token_lst = []\n",
        "for i in tokens:\n",
        "  temp = i.translate(table)\n",
        "  if len(temp) > 1 and temp not in stopwords and temp.isalpha():\n",
        "    token_lst.append(temp)"
      ],
      "execution_count": 67,
      "outputs": []
    },
    {
      "cell_type": "code",
      "metadata": {
        "id": "H8m1MEZOyT3f"
      },
      "source": [
        "# directory path 설정\n",
        "pos_directory = '/content/drive/MyDrive/review_polarity/txt_sentoken/pos/'\n",
        "neg_directory = '/content/drive/MyDrive/review_polarity/txt_sentoken/neg/'"
      ],
      "execution_count": 93,
      "outputs": []
    },
    {
      "cell_type": "code",
      "metadata": {
        "id": "C8i5qmaM0LHo"
      },
      "source": [
        "# listdir 패키지 import\n",
        "from os import listdir"
      ],
      "execution_count": 94,
      "outputs": []
    },
    {
      "cell_type": "code",
      "metadata": {
        "id": "ZjLOJwfb0PgG"
      },
      "source": [
        "pos_list = listdir(pos_directory)\n",
        "neg_list = listdir(neg_directory)"
      ],
      "execution_count": 95,
      "outputs": []
    },
    {
      "cell_type": "code",
      "metadata": {
        "id": "TRDDvZf00aT3"
      },
      "source": [
        "pos_data = {}\n",
        "neg_data = {}\n",
        "\n",
        "for name in pos_list:\n",
        "  file_temp = open(pos_directory+name, 'r')\n",
        "  text_temp = file_temp.read()\n",
        "  file_temp.close()\n",
        "  token_temp = text_temp.split()\n",
        "  token_lst_temp = []\n",
        "  for i in token_temp:\n",
        "    temp = i.translate(table)\n",
        "    if len(temp) > 1 and temp not in stopwords and temp.isalpha():\n",
        "      token_lst_temp.append(temp)\n",
        "    \n",
        "  pos_data[name] = token_lst_temp\n",
        "\n",
        "for name in neg_list:\n",
        "  file_temp = open(neg_directory+name, 'r')\n",
        "  text_temp = file_temp.read()\n",
        "  file_temp.close()\n",
        "  token_temp = text_temp.split()\n",
        "  token_lst_temp = []\n",
        "  for i in token_temp:\n",
        "    temp = i.translate(table)\n",
        "    if len(temp) > 1 and temp not in stopwords and temp.isalpha():\n",
        "      token_lst_temp.append(temp)\n",
        "    \n",
        "  neg_data[name] = token_lst_temp\n"
      ],
      "execution_count": 96,
      "outputs": []
    },
    {
      "cell_type": "code",
      "metadata": {
        "colab": {
          "base_uri": "https://localhost:8080/"
        },
        "id": "XOh3UcD92S35",
        "outputId": "b9bf7455-dbc3-4407-9ba9-ef2d4cd31339"
      },
      "source": [
        "print(pos_data.keys())\n",
        "print(neg_data.keys())"
      ],
      "execution_count": 97,
      "outputs": [
        {
          "output_type": "stream",
          "name": "stdout",
          "text": [
            "dict_keys(['cv000_29590.txt', 'cv001_18431.txt', 'cv002_15918.txt', 'cv003_11664.txt', 'cv004_11636.txt', 'cv005_29443.txt', 'cv006_15448.txt', 'cv007_4968.txt', 'cv008_29435.txt', 'cv009_29592.txt', 'cv010_29198.txt', 'cv011_12166.txt', 'cv012_29576.txt', 'cv013_10159.txt', 'cv014_13924.txt', 'cv015_29439.txt', 'cv016_4659.txt', 'cv017_22464.txt', 'cv018_20137.txt', 'cv019_14482.txt', 'cv020_8825.txt', 'cv021_15838.txt', 'cv022_12864.txt', 'cv023_12672.txt', 'cv024_6778.txt', 'cv025_3108.txt', 'cv026_29325.txt', 'cv027_25219.txt', 'cv028_26746.txt', 'cv029_18643.txt', 'cv030_21593.txt', 'cv031_18452.txt', 'cv032_22550.txt', 'cv033_24444.txt', 'cv034_29647.txt', 'cv035_3954.txt', 'cv036_16831.txt', 'cv037_18510.txt', 'cv038_9749.txt', 'cv039_6170.txt', 'cv040_8276.txt', 'cv041_21113.txt', 'cv042_10982.txt', 'cv043_15013.txt', 'cv044_16969.txt', 'cv045_23923.txt', 'cv046_10188.txt', 'cv047_1754.txt', 'cv048_16828.txt', 'cv049_20471.txt', 'cv050_11175.txt', 'cv051_10306.txt', 'cv052_29378.txt', 'cv053_21822.txt', 'cv054_4230.txt', 'cv055_8338.txt', 'cv056_13133.txt', 'cv057_7453.txt', 'cv058_8025.txt', 'cv059_28885.txt', 'cv060_10844.txt', 'cv061_8837.txt', 'cv062_23115.txt', 'cv063_28997.txt', 'cv064_24576.txt', 'cv065_15248.txt', 'cv066_10821.txt', 'cv067_19774.txt', 'cv068_13400.txt', 'cv069_10801.txt', 'cv070_12289.txt', 'cv071_12095.txt', 'cv072_6169.txt', 'cv073_21785.txt', 'cv074_6875.txt', 'cv075_6500.txt', 'cv076_24945.txt', 'cv077_22138.txt', 'cv078_14730.txt', 'cv079_11933.txt', 'cv080_13465.txt', 'cv081_16582.txt', 'cv082_11080.txt', 'cv083_24234.txt', 'cv084_13566.txt', 'cv085_1381.txt', 'cv086_18371.txt', 'cv087_1989.txt', 'cv088_24113.txt', 'cv089_11418.txt', 'cv090_0042.txt', 'cv091_7400.txt', 'cv092_28017.txt', 'cv093_13951.txt', 'cv094_27889.txt', 'cv095_28892.txt', 'cv096_11474.txt', 'cv097_24970.txt', 'cv098_15435.txt', 'cv099_10534.txt', 'cv100_11528.txt', 'cv101_10175.txt', 'cv102_7846.txt', 'cv103_11021.txt', 'cv104_18134.txt', 'cv105_17990.txt', 'cv106_16807.txt', 'cv107_24319.txt', 'cv108_15571.txt', 'cv109_21172.txt', 'cv110_27788.txt', 'cv111_11473.txt', 'cv112_11193.txt', 'cv113_23102.txt', 'cv114_18398.txt', 'cv115_25396.txt', 'cv116_28942.txt', 'cv117_24295.txt', 'cv118_28980.txt', 'cv119_9867.txt', 'cv120_4111.txt', 'cv121_17302.txt', 'cv122_7392.txt', 'cv123_11182.txt', 'cv124_4122.txt', 'cv125_9391.txt', 'cv126_28971.txt', 'cv127_14711.txt', 'cv128_29627.txt', 'cv129_16741.txt', 'cv130_17083.txt', 'cv131_10713.txt', 'cv132_5618.txt', 'cv133_16336.txt', 'cv134_22246.txt', 'cv135_11603.txt', 'cv136_11505.txt', 'cv137_15422.txt', 'cv138_12721.txt', 'cv139_12873.txt', 'cv140_7479.txt', 'cv141_15686.txt', 'cv142_22516.txt', 'cv143_19666.txt', 'cv144_5007.txt', 'cv145_11472.txt', 'cv146_18458.txt', 'cv147_21193.txt', 'cv148_16345.txt', 'cv149_15670.txt', 'cv150_12916.txt', 'cv151_15771.txt', 'cv152_8736.txt', 'cv153_10779.txt', 'cv154_9328.txt', 'cv155_7308.txt', 'cv156_10481.txt', 'cv157_29372.txt', 'cv158_10390.txt', 'cv159_29505.txt', 'cv160_10362.txt', 'cv161_11425.txt', 'cv162_10424.txt', 'cv163_10052.txt', 'cv164_22447.txt', 'cv165_22619.txt', 'cv166_11052.txt', 'cv167_16376.txt', 'cv168_7050.txt', 'cv169_23778.txt', 'cv170_3006.txt', 'cv171_13537.txt', 'cv172_11131.txt', 'cv173_4471.txt', 'cv174_9659.txt', 'cv175_6964.txt', 'cv176_12857.txt', 'cv177_10367.txt', 'cv178_12972.txt', 'cv179_9228.txt', 'cv180_16113.txt', 'cv181_14401.txt', 'cv182_7281.txt', 'cv183_18612.txt', 'cv184_2673.txt', 'cv185_28654.txt', 'cv186_2269.txt', 'cv187_12829.txt', 'cv188_19226.txt', 'cv189_22934.txt', 'cv190_27052.txt', 'cv191_29719.txt', 'cv192_14395.txt', 'cv193_5416.txt', 'cv194_12079.txt', 'cv195_14528.txt', 'cv196_29027.txt', 'cv197_29328.txt', 'cv198_18180.txt', 'cv199_9629.txt', 'cv200_2915.txt', 'cv201_6997.txt', 'cv202_10654.txt', 'cv203_17986.txt', 'cv204_8451.txt', 'cv205_9457.txt', 'cv206_14293.txt', 'cv207_29284.txt', 'cv208_9020.txt', 'cv209_29118.txt', 'cv210_9312.txt', 'cv211_9953.txt', 'cv212_10027.txt', 'cv213_18934.txt', 'cv214_12294.txt', 'cv215_22240.txt', 'cv216_18738.txt', 'cv217_28842.txt', 'cv218_24352.txt', 'cv219_18626.txt', 'cv220_29059.txt', 'cv221_2695.txt', 'cv222_17395.txt', 'cv223_29066.txt', 'cv224_17661.txt', 'cv225_29224.txt', 'cv226_2618.txt', 'cv227_24215.txt', 'cv228_5806.txt', 'cv229_13611.txt', 'cv230_7428.txt', 'cv231_10425.txt', 'cv232_14991.txt', 'cv233_15964.txt', 'cv234_20643.txt', 'cv235_10217.txt', 'cv236_11565.txt', 'cv237_19221.txt', 'cv238_12931.txt', 'cv239_3385.txt', 'cv240_14336.txt', 'cv241_23130.txt', 'cv242_10638.txt', 'cv243_20728.txt', 'cv244_21649.txt', 'cv245_8569.txt', 'cv246_28807.txt', 'cv247_13142.txt', 'cv248_13987.txt', 'cv249_11640.txt', 'cv250_25616.txt', 'cv251_22636.txt', 'cv252_23779.txt', 'cv253_10077.txt', 'cv254_6027.txt', 'cv255_13683.txt', 'cv256_14740.txt', 'cv257_10975.txt', 'cv258_5792.txt', 'cv259_10934.txt', 'cv260_13959.txt', 'cv261_10954.txt', 'cv262_12649.txt', 'cv263_19259.txt', 'cv264_12801.txt', 'cv265_10814.txt', 'cv266_25779.txt', 'cv267_14952.txt', 'cv268_18834.txt', 'cv269_21732.txt', 'cv270_6079.txt', 'cv271_13837.txt', 'cv272_18974.txt', 'cv273_29112.txt', 'cv274_25253.txt', 'cv275_28887.txt', 'cv276_15684.txt', 'cv277_19091.txt', 'cv278_13041.txt', 'cv279_18329.txt', 'cv280_8267.txt', 'cv281_23253.txt', 'cv282_6653.txt', 'cv283_11055.txt', 'cv284_19119.txt', 'cv285_16494.txt', 'cv286_25050.txt', 'cv287_15900.txt', 'cv288_18791.txt', 'cv289_6463.txt', 'cv290_11084.txt', 'cv291_26635.txt', 'cv292_7282.txt', 'cv293_29856.txt', 'cv294_11684.txt', 'cv295_15570.txt', 'cv296_12251.txt', 'cv297_10047.txt', 'cv298_23111.txt', 'cv299_16214.txt', 'cv300_22284.txt', 'cv301_12146.txt', 'cv302_25649.txt', 'cv303_27520.txt', 'cv304_28706.txt', 'cv305_9946.txt', 'cv306_10364.txt', 'cv307_25270.txt', 'cv308_5016.txt', 'cv309_22571.txt', 'cv310_13091.txt', 'cv311_16002.txt', 'cv312_29377.txt', 'cv313_18198.txt', 'cv314_14422.txt', 'cv315_11629.txt', 'cv316_6370.txt', 'cv317_24049.txt', 'cv318_10493.txt', 'cv319_14727.txt', 'cv320_9530.txt', 'cv321_12843.txt', 'cv322_20318.txt', 'cv323_29805.txt', 'cv324_7082.txt', 'cv325_16629.txt', 'cv326_13295.txt', 'cv327_20292.txt', 'cv328_10373.txt', 'cv329_29370.txt', 'cv330_29809.txt', 'cv331_8273.txt', 'cv332_16307.txt', 'cv333_8916.txt', 'cv334_10001.txt', 'cv335_14665.txt', 'cv336_10143.txt', 'cv337_29181.txt', 'cv338_8821.txt', 'cv339_21119.txt', 'cv340_13287.txt', 'cv341_24430.txt', 'cv342_19456.txt', 'cv343_10368.txt', 'cv344_5312.txt', 'cv345_9954.txt', 'cv346_18168.txt', 'cv347_13194.txt', 'cv348_18176.txt', 'cv349_13507.txt', 'cv350_20670.txt', 'cv351_15458.txt', 'cv352_5524.txt', 'cv353_18159.txt', 'cv354_8132.txt', 'cv355_16413.txt', 'cv356_25163.txt', 'cv357_13156.txt', 'cv358_10691.txt', 'cv359_6647.txt', 'cv360_8398.txt', 'cv361_28944.txt', 'cv362_15341.txt', 'cv363_29332.txt', 'cv364_12901.txt', 'cv365_11576.txt', 'cv366_10221.txt', 'cv367_22792.txt', 'cv368_10466.txt', 'cv369_12886.txt', 'cv370_5221.txt', 'cv371_7630.txt', 'cv372_6552.txt', 'cv373_20404.txt', 'cv374_25436.txt', 'cv375_9929.txt', 'cv376_19435.txt', 'cv377_7946.txt', 'cv378_20629.txt', 'cv379_21963.txt', 'cv380_7574.txt', 'cv381_20172.txt', 'cv382_7897.txt', 'cv383_13116.txt', 'cv384_17140.txt', 'cv385_29741.txt', 'cv386_10080.txt', 'cv387_11507.txt', 'cv388_12009.txt', 'cv389_9369.txt', 'cv390_11345.txt', 'cv391_10802.txt', 'cv392_11458.txt', 'cv393_29327.txt', 'cv394_5137.txt', 'cv395_10849.txt', 'cv396_17989.txt', 'cv397_29023.txt', 'cv398_15537.txt', 'cv399_2877.txt', 'cv400_19220.txt', 'cv401_12605.txt', 'cv402_14425.txt', 'cv403_6621.txt', 'cv404_20315.txt', 'cv405_20399.txt', 'cv406_21020.txt', 'cv407_22637.txt', 'cv408_5297.txt', 'cv409_29786.txt', 'cv410_24266.txt', 'cv411_15007.txt', 'cv412_24095.txt', 'cv413_7398.txt', 'cv414_10518.txt', 'cv415_22517.txt', 'cv416_11136.txt', 'cv417_13115.txt', 'cv418_14774.txt', 'cv419_13394.txt', 'cv420_28795.txt', 'cv421_9709.txt', 'cv422_9381.txt', 'cv423_11155.txt', 'cv424_8831.txt', 'cv425_8250.txt', 'cv426_10421.txt', 'cv427_10825.txt', 'cv428_11347.txt', 'cv429_7439.txt', 'cv430_17351.txt', 'cv431_7085.txt', 'cv432_14224.txt', 'cv433_10144.txt', 'cv434_5793.txt', 'cv435_23110.txt', 'cv436_19179.txt', 'cv437_22849.txt', 'cv438_8043.txt', 'cv439_15970.txt', 'cv440_15243.txt', 'cv441_13711.txt', 'cv442_13846.txt', 'cv443_21118.txt', 'cv444_9974.txt', 'cv445_25882.txt', 'cv446_11353.txt', 'cv447_27332.txt', 'cv448_14695.txt', 'cv449_8785.txt', 'cv450_7890.txt', 'cv451_10690.txt', 'cv452_5088.txt', 'cv453_10379.txt', 'cv454_2053.txt', 'cv455_29000.txt', 'cv456_18985.txt', 'cv457_18453.txt', 'cv458_8604.txt', 'cv459_20319.txt', 'cv460_10842.txt', 'cv461_19600.txt', 'cv462_19350.txt', 'cv463_10343.txt', 'cv464_15650.txt', 'cv465_22431.txt', 'cv466_18722.txt', 'cv467_25773.txt', 'cv468_15228.txt', 'cv469_20630.txt', 'cv470_15952.txt', 'cv471_16858.txt', 'cv472_29280.txt', 'cv473_7367.txt', 'cv474_10209.txt', 'cv475_21692.txt', 'cv476_16856.txt', 'cv477_22479.txt', 'cv478_14309.txt', 'cv479_5649.txt', 'cv480_19817.txt', 'cv481_7436.txt', 'cv482_10580.txt', 'cv483_16378.txt', 'cv484_25054.txt', 'cv485_26649.txt', 'cv486_9799.txt', 'cv487_10446.txt', 'cv488_19856.txt', 'cv489_17906.txt', 'cv490_17872.txt', 'cv491_12145.txt', 'cv492_18271.txt', 'cv493_12839.txt', 'cv494_17389.txt', 'cv495_14518.txt', 'cv496_10530.txt', 'cv497_26980.txt', 'cv498_8832.txt', 'cv499_10658.txt', 'cv500_10251.txt', 'cv501_11657.txt', 'cv502_10406.txt', 'cv503_10558.txt', 'cv504_29243.txt', 'cv505_12090.txt', 'cv506_15956.txt', 'cv507_9220.txt', 'cv508_16006.txt', 'cv509_15888.txt', 'cv510_23360.txt', 'cv511_10132.txt', 'cv512_15965.txt', 'cv513_6923.txt', 'cv514_11187.txt', 'cv515_17069.txt', 'cv516_11172.txt', 'cv517_19219.txt', 'cv518_13331.txt', 'cv519_14661.txt', 'cv520_12295.txt', 'cv521_15828.txt', 'cv522_5583.txt', 'cv523_16615.txt', 'cv524_23627.txt', 'cv525_16122.txt', 'cv526_12083.txt', 'cv527_10123.txt', 'cv528_10822.txt', 'cv529_10420.txt', 'cv530_16212.txt', 'cv531_26486.txt', 'cv532_6522.txt', 'cv533_9821.txt', 'cv534_14083.txt', 'cv535_19728.txt', 'cv536_27134.txt', 'cv537_12370.txt', 'cv538_28667.txt', 'cv539_20347.txt', 'cv540_3421.txt', 'cv541_28835.txt', 'cv542_18980.txt', 'cv543_5045.txt', 'cv544_5108.txt', 'cv545_12014.txt', 'cv546_11767.txt', 'cv547_16324.txt', 'cv548_17731.txt', 'cv549_21443.txt', 'cv550_22211.txt', 'cv551_10565.txt', 'cv552_10016.txt', 'cv553_26915.txt', 'cv554_13151.txt', 'cv555_23922.txt', 'cv556_14808.txt', 'cv557_11449.txt', 'cv558_29507.txt', 'cv559_0050.txt', 'cv560_17175.txt', 'cv561_9201.txt', 'cv562_10359.txt', 'cv563_17257.txt', 'cv564_11110.txt', 'cv565_29572.txt', 'cv566_8581.txt', 'cv567_29611.txt', 'cv568_15638.txt', 'cv569_26381.txt', 'cv570_29082.txt', 'cv571_29366.txt', 'cv572_18657.txt', 'cv573_29525.txt', 'cv574_22156.txt', 'cv575_21150.txt', 'cv576_14094.txt', 'cv577_28549.txt', 'cv578_15094.txt', 'cv579_11605.txt', 'cv580_14064.txt', 'cv581_19381.txt', 'cv582_6559.txt', 'cv583_29692.txt', 'cv584_29722.txt', 'cv585_22496.txt', 'cv586_7543.txt', 'cv587_19162.txt', 'cv588_13008.txt', 'cv589_12064.txt', 'cv590_19290.txt', 'cv591_23640.txt', 'cv592_22315.txt', 'cv593_10987.txt', 'cv594_11039.txt', 'cv595_25335.txt', 'cv596_28311.txt', 'cv597_26360.txt', 'cv598_16452.txt', 'cv599_20988.txt', 'cv600_23878.txt', 'cv601_23453.txt', 'cv602_8300.txt', 'cv603_17694.txt', 'cv604_2230.txt', 'cv605_11800.txt', 'cv606_15985.txt', 'cv607_7717.txt', 'cv608_23231.txt', 'cv609_23877.txt', 'cv610_2287.txt', 'cv611_21120.txt', 'cv612_5461.txt', 'cv613_21796.txt', 'cv614_10626.txt', 'cv615_14182.txt', 'cv616_29319.txt', 'cv617_9322.txt', 'cv618_8974.txt', 'cv619_12462.txt', 'cv620_24265.txt', 'cv621_14368.txt', 'cv622_8147.txt', 'cv623_15356.txt', 'cv624_10744.txt', 'cv625_12440.txt', 'cv626_7410.txt', 'cv627_11620.txt', 'cv628_19325.txt', 'cv629_14909.txt', 'cv630_10057.txt', 'cv631_4967.txt', 'cv632_9610.txt', 'cv633_29837.txt', 'cv634_11101.txt', 'cv635_10022.txt', 'cv636_15279.txt', 'cv637_1250.txt', 'cv638_2953.txt', 'cv639_10308.txt', 'cv640_5378.txt', 'cv641_12349.txt', 'cv642_29867.txt', 'cv643_29349.txt', 'cv644_17154.txt', 'cv645_15668.txt', 'cv646_15065.txt', 'cv647_13691.txt', 'cv648_15792.txt', 'cv649_12735.txt', 'cv650_14340.txt', 'cv651_10492.txt', 'cv652_13972.txt', 'cv653_19583.txt', 'cv654_18246.txt', 'cv655_11154.txt', 'cv656_24201.txt', 'cv657_24513.txt', 'cv658_10532.txt', 'cv659_19944.txt', 'cv660_21893.txt', 'cv661_2450.txt', 'cv662_13320.txt', 'cv663_13019.txt', 'cv664_4389.txt', 'cv665_29538.txt', 'cv666_18963.txt', 'cv667_18467.txt', 'cv668_17604.txt', 'cv669_22995.txt', 'cv670_25826.txt', 'cv671_5054.txt', 'cv672_28083.txt', 'cv673_24714.txt', 'cv674_10732.txt', 'cv675_21588.txt', 'cv676_21090.txt', 'cv677_17715.txt', 'cv678_13419.txt', 'cv679_28559.txt', 'cv680_10160.txt', 'cv681_9692.txt', 'cv682_16139.txt', 'cv683_12167.txt', 'cv684_11798.txt', 'cv685_5947.txt', 'cv686_13900.txt', 'cv687_21100.txt', 'cv688_7368.txt', 'cv689_12587.txt', 'cv690_5619.txt', 'cv691_5043.txt', 'cv692_15451.txt', 'cv693_18063.txt', 'cv694_4876.txt', 'cv695_21108.txt', 'cv696_29740.txt', 'cv697_11162.txt', 'cv698_15253.txt', 'cv699_7223.txt', 'cv700_21947.txt', 'cv701_14252.txt', 'cv702_11500.txt', 'cv703_16143.txt', 'cv704_15969.txt', 'cv705_11059.txt', 'cv706_24716.txt', 'cv707_10678.txt', 'cv708_28729.txt', 'cv709_10529.txt', 'cv710_22577.txt', 'cv711_11665.txt', 'cv712_22920.txt', 'cv713_29155.txt', 'cv714_18502.txt', 'cv715_18179.txt', 'cv716_10514.txt', 'cv717_15953.txt', 'cv718_11434.txt', 'cv719_5713.txt', 'cv720_5389.txt', 'cv721_29121.txt', 'cv722_7110.txt', 'cv723_8648.txt', 'cv724_13681.txt', 'cv725_10103.txt', 'cv726_4719.txt', 'cv727_4978.txt', 'cv728_16133.txt', 'cv729_10154.txt', 'cv730_10279.txt', 'cv731_4136.txt', 'cv732_12245.txt', 'cv733_9839.txt', 'cv734_21568.txt', 'cv735_18801.txt', 'cv736_23670.txt', 'cv737_28907.txt', 'cv738_10116.txt', 'cv739_11209.txt', 'cv740_12445.txt', 'cv741_11890.txt', 'cv742_7751.txt', 'cv743_15449.txt', 'cv744_10038.txt', 'cv745_12773.txt', 'cv746_10147.txt', 'cv747_16556.txt', 'cv748_12786.txt', 'cv749_17765.txt', 'cv750_10180.txt', 'cv751_15719.txt', 'cv752_24155.txt', 'cv753_10875.txt', 'cv754_7216.txt', 'cv755_23616.txt', 'cv756_22540.txt', 'cv757_10189.txt', 'cv758_9671.txt', 'cv759_13522.txt', 'cv760_8597.txt', 'cv761_12620.txt', 'cv762_13927.txt', 'cv763_14729.txt', 'cv764_11739.txt', 'cv765_19037.txt', 'cv766_7540.txt', 'cv767_14062.txt', 'cv768_11751.txt', 'cv769_8123.txt', 'cv770_10451.txt', 'cv771_28665.txt', 'cv772_12119.txt', 'cv773_18817.txt', 'cv774_13845.txt', 'cv775_16237.txt', 'cv776_20529.txt', 'cv777_10094.txt', 'cv778_17330.txt', 'cv779_17881.txt', 'cv780_7984.txt', 'cv781_5262.txt', 'cv782_19526.txt', 'cv783_13227.txt', 'cv784_14394.txt', 'cv785_22600.txt', 'cv786_22497.txt', 'cv787_13743.txt', 'cv788_25272.txt', 'cv789_12136.txt', 'cv790_14600.txt', 'cv791_16302.txt', 'cv792_3832.txt', 'cv793_13650.txt', 'cv794_15868.txt', 'cv795_10122.txt', 'cv796_15782.txt', 'cv797_6957.txt', 'cv798_23531.txt', 'cv799_18543.txt', 'cv800_12368.txt', 'cv801_25228.txt', 'cv802_28664.txt', 'cv803_8207.txt', 'cv804_10862.txt', 'cv805_19601.txt', 'cv806_8842.txt', 'cv807_21740.txt', 'cv808_12635.txt', 'cv809_5009.txt', 'cv810_12458.txt', 'cv811_21386.txt', 'cv812_17924.txt', 'cv813_6534.txt', 'cv814_18975.txt', 'cv815_22456.txt', 'cv816_13655.txt', 'cv817_4041.txt', 'cv818_10211.txt', 'cv819_9364.txt', 'cv820_22892.txt', 'cv821_29364.txt', 'cv822_20049.txt', 'cv823_15569.txt', 'cv824_8838.txt', 'cv825_5063.txt', 'cv826_11834.txt', 'cv827_18331.txt', 'cv828_19831.txt', 'cv829_20289.txt', 'cv830_6014.txt', 'cv831_14689.txt', 'cv832_23275.txt', 'cv833_11053.txt', 'cv834_22195.txt', 'cv835_19159.txt', 'cv836_12968.txt', 'cv837_27325.txt', 'cv838_24728.txt', 'cv839_21467.txt', 'cv840_16321.txt', 'cv841_3967.txt', 'cv842_5866.txt', 'cv843_15544.txt', 'cv844_12690.txt', 'cv845_14290.txt', 'cv846_29497.txt', 'cv847_1941.txt', 'cv848_10036.txt', 'cv849_15729.txt', 'cv850_16466.txt', 'cv851_20469.txt', 'cv852_27523.txt', 'cv853_29233.txt', 'cv854_17740.txt', 'cv855_20661.txt', 'cv856_29013.txt', 'cv857_15958.txt', 'cv858_18819.txt', 'cv859_14107.txt', 'cv860_13853.txt', 'cv861_1198.txt', 'cv862_14324.txt', 'cv863_7424.txt', 'cv864_3416.txt', 'cv865_2895.txt', 'cv866_29691.txt', 'cv867_16661.txt', 'cv868_11948.txt', 'cv869_23611.txt', 'cv870_16348.txt', 'cv871_24888.txt', 'cv872_12591.txt', 'cv873_18636.txt', 'cv874_11236.txt', 'cv875_5754.txt', 'cv876_9390.txt', 'cv877_29274.txt', 'cv878_15694.txt', 'cv879_14903.txt', 'cv880_29800.txt', 'cv881_13254.txt', 'cv882_10026.txt', 'cv883_27751.txt', 'cv884_13632.txt', 'cv885_12318.txt', 'cv886_18177.txt', 'cv887_5126.txt', 'cv888_24435.txt', 'cv889_21430.txt', 'cv890_3977.txt', 'cv891_6385.txt', 'cv892_17576.txt', 'cv893_26269.txt', 'cv894_2068.txt', 'cv895_21022.txt', 'cv896_16071.txt', 'cv897_10837.txt', 'cv898_14187.txt', 'cv899_16014.txt', 'cv900_10331.txt', 'cv901_11017.txt', 'cv902_12256.txt', 'cv903_17822.txt', 'cv904_24353.txt', 'cv905_29114.txt', 'cv906_11491.txt', 'cv907_3541.txt', 'cv908_16009.txt', 'cv909_9960.txt', 'cv910_20488.txt', 'cv911_20260.txt', 'cv912_5674.txt', 'cv913_29252.txt', 'cv914_28742.txt', 'cv915_8841.txt', 'cv916_15467.txt', 'cv917_29715.txt', 'cv918_2693.txt', 'cv919_16380.txt', 'cv920_29622.txt', 'cv921_12747.txt', 'cv922_10073.txt', 'cv923_11051.txt', 'cv924_29540.txt', 'cv925_8969.txt', 'cv926_17059.txt', 'cv927_10681.txt', 'cv928_9168.txt', 'cv929_16908.txt', 'cv930_13475.txt', 'cv931_17563.txt', 'cv932_13401.txt', 'cv933_23776.txt', 'cv934_19027.txt', 'cv935_23841.txt', 'cv936_15954.txt', 'cv937_9811.txt', 'cv938_10220.txt', 'cv939_10583.txt', 'cv940_17705.txt', 'cv941_10246.txt', 'cv942_17082.txt', 'cv943_22488.txt', 'cv944_13521.txt', 'cv945_12160.txt', 'cv946_18658.txt', 'cv947_10601.txt', 'cv948_24606.txt', 'cv949_20112.txt', 'cv950_12350.txt', 'cv951_10926.txt', 'cv952_25240.txt', 'cv953_6836.txt', 'cv954_18628.txt', 'cv955_25001.txt', 'cv956_11609.txt', 'cv957_8737.txt', 'cv958_12162.txt', 'cv959_14611.txt', 'cv960_29007.txt', 'cv961_5682.txt', 'cv962_9803.txt', 'cv963_6895.txt', 'cv964_6021.txt', 'cv965_26071.txt', 'cv966_28832.txt', 'cv967_5788.txt', 'cv968_24218.txt', 'cv969_13250.txt', 'cv970_18450.txt', 'cv971_10874.txt', 'cv972_26417.txt', 'cv973_10066.txt', 'cv974_22941.txt', 'cv975_10981.txt', 'cv976_10267.txt', 'cv977_4938.txt', 'cv978_20929.txt', 'cv979_18921.txt', 'cv980_10953.txt', 'cv981_14989.txt', 'cv982_21103.txt', 'cv983_22928.txt', 'cv984_12767.txt', 'cv985_6359.txt', 'cv986_13527.txt', 'cv987_6965.txt', 'cv988_18740.txt', 'cv989_15824.txt', 'cv990_11591.txt', 'cv991_18645.txt', 'cv992_11962.txt', 'cv993_29737.txt', 'cv994_12270.txt', 'cv995_21821.txt', 'cv996_11592.txt', 'cv997_5046.txt', 'cv998_14111.txt', 'cv999_13106.txt'])\n",
            "dict_keys(['cv000_29416.txt', 'cv001_19502.txt', 'cv002_17424.txt', 'cv003_12683.txt', 'cv004_12641.txt', 'cv005_29357.txt', 'cv006_17022.txt', 'cv007_4992.txt', 'cv008_29326.txt', 'cv009_29417.txt', 'cv010_29063.txt', 'cv011_13044.txt', 'cv012_29411.txt', 'cv013_10494.txt', 'cv014_15600.txt', 'cv015_29356.txt', 'cv016_4348.txt', 'cv017_23487.txt', 'cv018_21672.txt', 'cv019_16117.txt', 'cv020_9234.txt', 'cv021_17313.txt', 'cv022_14227.txt', 'cv023_13847.txt', 'cv024_7033.txt', 'cv025_29825.txt', 'cv026_29229.txt', 'cv027_26270.txt', 'cv028_26964.txt', 'cv029_19943.txt', 'cv030_22893.txt', 'cv031_19540.txt', 'cv032_23718.txt', 'cv033_25680.txt', 'cv034_29446.txt', 'cv035_3343.txt', 'cv036_18385.txt', 'cv037_19798.txt', 'cv038_9781.txt', 'cv039_5963.txt', 'cv040_8829.txt', 'cv041_22364.txt', 'cv042_11927.txt', 'cv043_16808.txt', 'cv044_18429.txt', 'cv045_25077.txt', 'cv046_10613.txt', 'cv047_18725.txt', 'cv048_18380.txt', 'cv049_21917.txt', 'cv050_12128.txt', 'cv051_10751.txt', 'cv052_29318.txt', 'cv053_23117.txt', 'cv054_4101.txt', 'cv055_8926.txt', 'cv056_14663.txt', 'cv057_7962.txt', 'cv058_8469.txt', 'cv059_28723.txt', 'cv060_11754.txt', 'cv061_9321.txt', 'cv062_24556.txt', 'cv063_28852.txt', 'cv064_25842.txt', 'cv065_16909.txt', 'cv066_11668.txt', 'cv067_21192.txt', 'cv068_14810.txt', 'cv069_11613.txt', 'cv070_13249.txt', 'cv071_12969.txt', 'cv072_5928.txt', 'cv073_23039.txt', 'cv074_7188.txt', 'cv075_6250.txt', 'cv076_26009.txt', 'cv077_23172.txt', 'cv078_16506.txt', 'cv079_12766.txt', 'cv080_14899.txt', 'cv081_18241.txt', 'cv082_11979.txt', 'cv083_25491.txt', 'cv084_15183.txt', 'cv085_15286.txt', 'cv086_19488.txt', 'cv087_2145.txt', 'cv088_25274.txt', 'cv089_12222.txt', 'cv090_0049.txt', 'cv091_7899.txt', 'cv092_27987.txt', 'cv093_15606.txt', 'cv094_27868.txt', 'cv095_28730.txt', 'cv096_12262.txt', 'cv097_26081.txt', 'cv098_17021.txt', 'cv099_11189.txt', 'cv100_12406.txt', 'cv101_10537.txt', 'cv102_8306.txt', 'cv103_11943.txt', 'cv104_19176.txt', 'cv105_19135.txt', 'cv106_18379.txt', 'cv107_25639.txt', 'cv108_17064.txt', 'cv109_22599.txt', 'cv110_27832.txt', 'cv111_12253.txt', 'cv112_12178.txt', 'cv113_24354.txt', 'cv114_19501.txt', 'cv115_26443.txt', 'cv116_28734.txt', 'cv117_25625.txt', 'cv118_28837.txt', 'cv119_9909.txt', 'cv120_3793.txt', 'cv121_18621.txt', 'cv122_7891.txt', 'cv123_12165.txt', 'cv124_3903.txt', 'cv125_9636.txt', 'cv126_28821.txt', 'cv127_16451.txt', 'cv128_29444.txt', 'cv129_18373.txt', 'cv130_18521.txt', 'cv131_11568.txt', 'cv132_5423.txt', 'cv133_18065.txt', 'cv134_23300.txt', 'cv135_12506.txt', 'cv136_12384.txt', 'cv137_17020.txt', 'cv138_13903.txt', 'cv139_14236.txt', 'cv140_7963.txt', 'cv141_17179.txt', 'cv142_23657.txt', 'cv143_21158.txt', 'cv144_5010.txt', 'cv145_12239.txt', 'cv146_19587.txt', 'cv147_22625.txt', 'cv148_18084.txt', 'cv149_17084.txt', 'cv150_14279.txt', 'cv151_17231.txt', 'cv152_9052.txt', 'cv153_11607.txt', 'cv154_9562.txt', 'cv155_7845.txt', 'cv156_11119.txt', 'cv157_29302.txt', 'cv158_10914.txt', 'cv159_29374.txt', 'cv160_10848.txt', 'cv161_12224.txt', 'cv162_10977.txt', 'cv163_10110.txt', 'cv164_23451.txt', 'cv165_2389.txt', 'cv166_11959.txt', 'cv167_18094.txt', 'cv168_7435.txt', 'cv169_24973.txt', 'cv170_29808.txt', 'cv171_15164.txt', 'cv172_12037.txt', 'cv173_4295.txt', 'cv174_9735.txt', 'cv175_7375.txt', 'cv176_14196.txt', 'cv177_10904.txt', 'cv178_14380.txt', 'cv179_9533.txt', 'cv180_17823.txt', 'cv181_16083.txt', 'cv182_7791.txt', 'cv183_19826.txt', 'cv184_26935.txt', 'cv185_28372.txt', 'cv186_2396.txt', 'cv187_14112.txt', 'cv188_20687.txt', 'cv189_24248.txt', 'cv190_27176.txt', 'cv191_29539.txt', 'cv192_16079.txt', 'cv193_5393.txt', 'cv194_12855.txt', 'cv195_16146.txt', 'cv196_28898.txt', 'cv197_29271.txt', 'cv198_19313.txt', 'cv199_9721.txt', 'cv200_29006.txt', 'cv201_7421.txt', 'cv202_11382.txt', 'cv203_19052.txt', 'cv204_8930.txt', 'cv205_9676.txt', 'cv206_15893.txt', 'cv207_29141.txt', 'cv208_9475.txt', 'cv209_28973.txt', 'cv210_9557.txt', 'cv211_9955.txt', 'cv212_10054.txt', 'cv213_20300.txt', 'cv214_13285.txt', 'cv215_23246.txt', 'cv216_20165.txt', 'cv217_28707.txt', 'cv218_25651.txt', 'cv219_19874.txt', 'cv220_28906.txt', 'cv221_27081.txt', 'cv222_18720.txt', 'cv223_28923.txt', 'cv224_18875.txt', 'cv225_29083.txt', 'cv226_26692.txt', 'cv227_25406.txt', 'cv228_5644.txt', 'cv229_15200.txt', 'cv230_7913.txt', 'cv231_11028.txt', 'cv232_16768.txt', 'cv233_17614.txt', 'cv234_22123.txt', 'cv235_10704.txt', 'cv236_12427.txt', 'cv237_20635.txt', 'cv238_14285.txt', 'cv239_29828.txt', 'cv240_15948.txt', 'cv241_24602.txt', 'cv242_11354.txt', 'cv243_22164.txt', 'cv244_22935.txt', 'cv245_8938.txt', 'cv246_28668.txt', 'cv247_14668.txt', 'cv248_15672.txt', 'cv249_12674.txt', 'cv250_26462.txt', 'cv251_23901.txt', 'cv252_24974.txt', 'cv253_10190.txt', 'cv254_5870.txt', 'cv255_15267.txt', 'cv256_16529.txt', 'cv257_11856.txt', 'cv258_5627.txt', 'cv259_11827.txt', 'cv260_15652.txt', 'cv261_11855.txt', 'cv262_13812.txt', 'cv263_20693.txt', 'cv264_14108.txt', 'cv265_11625.txt', 'cv266_26644.txt', 'cv267_16618.txt', 'cv268_20288.txt', 'cv269_23018.txt', 'cv270_5873.txt', 'cv271_15364.txt', 'cv272_20313.txt', 'cv273_28961.txt', 'cv274_26379.txt', 'cv275_28725.txt', 'cv276_17126.txt', 'cv277_20467.txt', 'cv278_14533.txt', 'cv279_19452.txt', 'cv280_8651.txt', 'cv281_24711.txt', 'cv282_6833.txt', 'cv283_11963.txt', 'cv284_20530.txt', 'cv285_18186.txt', 'cv286_26156.txt', 'cv287_17410.txt', 'cv288_20212.txt', 'cv289_6239.txt', 'cv290_11981.txt', 'cv291_26844.txt', 'cv292_7804.txt', 'cv293_29731.txt', 'cv294_12695.txt', 'cv295_17060.txt', 'cv296_13146.txt', 'cv297_10104.txt', 'cv298_24487.txt', 'cv299_17950.txt', 'cv300_23302.txt', 'cv301_13010.txt', 'cv302_26481.txt', 'cv303_27366.txt', 'cv304_28489.txt', 'cv305_9937.txt', 'cv306_10859.txt', 'cv307_26382.txt', 'cv308_5079.txt', 'cv309_23737.txt', 'cv310_14568.txt', 'cv311_17708.txt', 'cv312_29308.txt', 'cv313_19337.txt', 'cv314_16095.txt', 'cv315_12638.txt', 'cv316_5972.txt', 'cv317_25111.txt', 'cv318_11146.txt', 'cv319_16459.txt', 'cv320_9693.txt', 'cv321_14191.txt', 'cv322_21820.txt', 'cv323_29633.txt', 'cv324_7502.txt', 'cv325_18330.txt', 'cv326_14777.txt', 'cv327_21743.txt', 'cv328_10908.txt', 'cv329_29293.txt', 'cv330_29675.txt', 'cv331_8656.txt', 'cv332_17997.txt', 'cv333_9443.txt', 'cv334_0074.txt', 'cv335_16299.txt', 'cv336_10363.txt', 'cv337_29061.txt', 'cv338_9183.txt', 'cv339_22452.txt', 'cv340_14776.txt', 'cv341_25667.txt', 'cv342_20917.txt', 'cv343_10906.txt', 'cv344_5376.txt', 'cv345_9966.txt', 'cv346_19198.txt', 'cv347_14722.txt', 'cv348_19207.txt', 'cv349_15032.txt', 'cv350_22139.txt', 'cv351_17029.txt', 'cv352_5414.txt', 'cv353_19197.txt', 'cv354_8573.txt', 'cv355_18174.txt', 'cv356_26170.txt', 'cv357_14710.txt', 'cv358_11557.txt', 'cv359_6751.txt', 'cv360_8927.txt', 'cv361_28738.txt', 'cv362_16985.txt', 'cv363_29273.txt', 'cv364_14254.txt', 'cv365_12442.txt', 'cv366_10709.txt', 'cv367_24065.txt', 'cv368_11090.txt', 'cv369_14245.txt', 'cv370_5338.txt', 'cv371_8197.txt', 'cv372_6654.txt', 'cv373_21872.txt', 'cv374_26455.txt', 'cv375_9932.txt', 'cv376_20883.txt', 'cv377_8440.txt', 'cv378_21982.txt', 'cv379_23167.txt', 'cv380_8164.txt', 'cv381_21673.txt', 'cv382_8393.txt', 'cv383_14662.txt', 'cv384_18536.txt', 'cv385_29621.txt', 'cv386_10229.txt', 'cv387_12391.txt', 'cv388_12810.txt', 'cv389_9611.txt', 'cv390_12187.txt', 'cv391_11615.txt', 'cv392_12238.txt', 'cv393_29234.txt', 'cv394_5311.txt', 'cv395_11761.txt', 'cv396_19127.txt', 'cv397_28890.txt', 'cv398_17047.txt', 'cv399_28593.txt', 'cv400_20631.txt', 'cv401_13758.txt', 'cv402_16097.txt', 'cv403_6721.txt', 'cv404_21805.txt', 'cv405_21868.txt', 'cv406_22199.txt', 'cv407_23928.txt', 'cv408_5367.txt', 'cv409_29625.txt', 'cv410_25624.txt', 'cv411_16799.txt', 'cv412_25254.txt', 'cv413_7893.txt', 'cv414_11161.txt', 'cv415_23674.txt', 'cv416_12048.txt', 'cv417_14653.txt', 'cv418_16562.txt', 'cv419_14799.txt', 'cv420_28631.txt', 'cv421_9752.txt', 'cv422_9632.txt', 'cv423_12089.txt', 'cv424_9268.txt', 'cv425_8603.txt', 'cv426_10976.txt', 'cv427_11693.txt', 'cv428_12202.txt', 'cv429_7937.txt', 'cv430_18662.txt', 'cv431_7538.txt', 'cv432_15873.txt', 'cv433_10443.txt', 'cv434_5641.txt', 'cv435_24355.txt', 'cv436_20564.txt', 'cv437_24070.txt', 'cv438_8500.txt', 'cv439_17633.txt', 'cv440_16891.txt', 'cv441_15276.txt', 'cv442_15499.txt', 'cv443_22367.txt', 'cv444_9975.txt', 'cv445_26683.txt', 'cv446_12209.txt', 'cv447_27334.txt', 'cv448_16409.txt', 'cv449_9126.txt', 'cv450_8319.txt', 'cv451_11502.txt', 'cv452_5179.txt', 'cv453_10911.txt', 'cv454_21961.txt', 'cv455_28866.txt', 'cv456_20370.txt', 'cv457_19546.txt', 'cv458_9000.txt', 'cv459_21834.txt', 'cv460_11723.txt', 'cv461_21124.txt', 'cv462_20788.txt', 'cv463_10846.txt', 'cv464_17076.txt', 'cv465_23401.txt', 'cv466_20092.txt', 'cv467_26610.txt', 'cv468_16844.txt', 'cv469_21998.txt', 'cv470_17444.txt', 'cv471_18405.txt', 'cv472_29140.txt', 'cv473_7869.txt', 'cv474_10682.txt', 'cv475_22978.txt', 'cv476_18402.txt', 'cv477_23530.txt', 'cv478_15921.txt', 'cv479_5450.txt', 'cv480_21195.txt', 'cv481_7930.txt', 'cv482_11233.txt', 'cv483_18103.txt', 'cv484_26169.txt', 'cv485_26879.txt', 'cv486_9788.txt', 'cv487_11058.txt', 'cv488_21453.txt', 'cv489_19046.txt', 'cv490_18986.txt', 'cv491_12992.txt', 'cv492_19370.txt', 'cv493_14135.txt', 'cv494_18689.txt', 'cv495_16121.txt', 'cv496_11185.txt', 'cv497_27086.txt', 'cv498_9288.txt', 'cv499_11407.txt', 'cv500_10722.txt', 'cv501_12675.txt', 'cv502_10970.txt', 'cv503_11196.txt', 'cv504_29120.txt', 'cv505_12926.txt', 'cv506_17521.txt', 'cv507_9509.txt', 'cv508_17742.txt', 'cv509_17354.txt', 'cv510_24758.txt', 'cv511_10360.txt', 'cv512_17618.txt', 'cv513_7236.txt', 'cv514_12173.txt', 'cv515_18484.txt', 'cv516_12117.txt', 'cv517_20616.txt', 'cv518_14798.txt', 'cv519_16239.txt', 'cv520_13297.txt', 'cv521_1730.txt', 'cv522_5418.txt', 'cv523_18285.txt', 'cv524_24885.txt', 'cv525_17930.txt', 'cv526_12868.txt', 'cv527_10338.txt', 'cv528_11669.txt', 'cv529_10972.txt', 'cv530_17949.txt', 'cv531_26838.txt', 'cv532_6495.txt', 'cv533_9843.txt', 'cv534_15683.txt', 'cv535_21183.txt', 'cv536_27221.txt', 'cv537_13516.txt', 'cv538_28485.txt', 'cv539_21865.txt', 'cv540_3092.txt', 'cv541_28683.txt', 'cv542_20359.txt', 'cv543_5107.txt', 'cv544_5301.txt', 'cv545_12848.txt', 'cv546_12723.txt', 'cv547_18043.txt', 'cv548_18944.txt', 'cv549_22771.txt', 'cv550_23226.txt', 'cv551_11214.txt', 'cv552_0150.txt', 'cv553_26965.txt', 'cv554_14678.txt', 'cv555_25047.txt', 'cv556_16563.txt', 'cv557_12237.txt', 'cv558_29376.txt', 'cv559_0057.txt', 'cv560_18608.txt', 'cv561_9484.txt', 'cv562_10847.txt', 'cv563_18610.txt', 'cv564_12011.txt', 'cv565_29403.txt', 'cv566_8967.txt', 'cv567_29420.txt', 'cv568_17065.txt', 'cv569_26750.txt', 'cv570_28960.txt', 'cv571_29292.txt', 'cv572_20053.txt', 'cv573_29384.txt', 'cv574_23191.txt', 'cv575_22598.txt', 'cv576_15688.txt', 'cv577_28220.txt', 'cv578_16825.txt', 'cv579_12542.txt', 'cv580_15681.txt', 'cv581_20790.txt', 'cv582_6678.txt', 'cv583_29465.txt', 'cv584_29549.txt', 'cv585_23576.txt', 'cv586_8048.txt', 'cv587_20532.txt', 'cv588_14467.txt', 'cv589_12853.txt', 'cv590_20712.txt', 'cv591_24887.txt', 'cv592_23391.txt', 'cv593_11931.txt', 'cv594_11945.txt', 'cv595_26420.txt', 'cv596_4367.txt', 'cv597_26744.txt', 'cv598_18184.txt', 'cv599_22197.txt', 'cv600_25043.txt', 'cv601_24759.txt', 'cv602_8830.txt', 'cv603_18885.txt', 'cv604_23339.txt', 'cv605_12730.txt', 'cv606_17672.txt', 'cv607_8235.txt', 'cv608_24647.txt', 'cv609_25038.txt', 'cv610_24153.txt', 'cv611_2253.txt', 'cv612_5396.txt', 'cv613_23104.txt', 'cv614_11320.txt', 'cv615_15734.txt', 'cv616_29187.txt', 'cv617_9561.txt', 'cv618_9469.txt', 'cv619_13677.txt', 'cv620_2556.txt', 'cv621_15984.txt', 'cv622_8583.txt', 'cv623_16988.txt', 'cv624_11601.txt', 'cv625_13518.txt', 'cv626_7907.txt', 'cv627_12603.txt', 'cv628_20758.txt', 'cv629_16604.txt', 'cv630_10152.txt', 'cv631_4782.txt', 'cv632_9704.txt', 'cv633_29730.txt', 'cv634_11989.txt', 'cv635_0984.txt', 'cv636_16954.txt', 'cv637_13682.txt', 'cv638_29394.txt', 'cv639_10797.txt', 'cv640_5380.txt', 'cv641_13412.txt', 'cv642_29788.txt', 'cv643_29282.txt', 'cv644_18551.txt', 'cv645_17078.txt', 'cv646_16817.txt', 'cv647_15275.txt', 'cv648_17277.txt', 'cv649_13947.txt', 'cv650_15974.txt', 'cv651_11120.txt', 'cv652_15653.txt', 'cv653_2107.txt', 'cv654_19345.txt', 'cv655_12055.txt', 'cv656_25395.txt', 'cv657_25835.txt', 'cv658_11186.txt', 'cv659_21483.txt', 'cv660_23140.txt', 'cv661_25780.txt', 'cv662_14791.txt', 'cv663_14484.txt', 'cv664_4264.txt', 'cv665_29386.txt', 'cv666_20301.txt', 'cv667_19672.txt', 'cv668_18848.txt', 'cv669_24318.txt', 'cv670_2666.txt', 'cv671_5164.txt', 'cv672_27988.txt', 'cv673_25874.txt', 'cv674_11593.txt', 'cv675_22871.txt', 'cv676_22202.txt', 'cv677_18938.txt', 'cv678_14887.txt', 'cv679_28221.txt', 'cv680_10533.txt', 'cv681_9744.txt', 'cv682_17947.txt', 'cv683_13047.txt', 'cv684_12727.txt', 'cv685_5710.txt', 'cv686_15553.txt', 'cv687_22207.txt', 'cv688_7884.txt', 'cv689_13701.txt', 'cv690_5425.txt', 'cv691_5090.txt', 'cv692_17026.txt', 'cv693_19147.txt', 'cv694_4526.txt', 'cv695_22268.txt', 'cv696_29619.txt', 'cv697_12106.txt', 'cv698_16930.txt', 'cv699_7773.txt', 'cv700_23163.txt', 'cv701_15880.txt', 'cv702_12371.txt', 'cv703_17948.txt', 'cv704_17622.txt', 'cv705_11973.txt', 'cv706_25883.txt', 'cv707_11421.txt', 'cv708_28539.txt', 'cv709_11173.txt', 'cv710_23745.txt', 'cv711_12687.txt', 'cv712_24217.txt', 'cv713_29002.txt', 'cv714_19704.txt', 'cv715_19246.txt', 'cv716_11153.txt', 'cv717_17472.txt', 'cv718_12227.txt', 'cv719_5581.txt', 'cv720_5383.txt', 'cv721_28993.txt', 'cv722_7571.txt', 'cv723_9002.txt', 'cv724_15265.txt', 'cv725_10266.txt', 'cv726_4365.txt', 'cv727_5006.txt', 'cv728_17931.txt', 'cv729_10475.txt', 'cv730_10729.txt', 'cv731_3968.txt', 'cv732_13092.txt', 'cv733_9891.txt', 'cv734_22821.txt', 'cv735_20218.txt', 'cv736_24947.txt', 'cv737_28733.txt', 'cv738_10287.txt', 'cv739_12179.txt', 'cv740_13643.txt', 'cv741_12765.txt', 'cv742_8279.txt', 'cv743_17023.txt', 'cv744_10091.txt', 'cv745_14009.txt', 'cv746_10471.txt', 'cv747_18189.txt', 'cv748_14044.txt', 'cv749_18960.txt', 'cv750_10606.txt', 'cv751_17208.txt', 'cv752_25330.txt', 'cv753_11812.txt', 'cv754_7709.txt', 'cv755_24881.txt', 'cv756_23676.txt', 'cv757_10668.txt', 'cv758_9740.txt', 'cv759_15091.txt', 'cv760_8977.txt', 'cv761_13769.txt', 'cv762_15604.txt', 'cv763_16486.txt', 'cv764_12701.txt', 'cv765_20429.txt', 'cv766_7983.txt', 'cv767_15673.txt', 'cv768_12709.txt', 'cv769_8565.txt', 'cv770_11061.txt', 'cv771_28466.txt', 'cv772_12971.txt', 'cv773_20264.txt', 'cv774_15488.txt', 'cv775_17966.txt', 'cv776_21934.txt', 'cv777_10247.txt', 'cv778_18629.txt', 'cv779_18989.txt', 'cv780_8467.txt', 'cv781_5358.txt', 'cv782_21078.txt', 'cv783_14724.txt', 'cv784_16077.txt', 'cv785_23748.txt', 'cv786_23608.txt', 'cv787_15277.txt', 'cv788_26409.txt', 'cv789_12991.txt', 'cv790_16202.txt', 'cv791_17995.txt', 'cv792_3257.txt', 'cv793_15235.txt', 'cv794_17353.txt', 'cv795_10291.txt', 'cv796_17243.txt', 'cv797_7245.txt', 'cv798_24779.txt', 'cv799_19812.txt', 'cv800_13494.txt', 'cv801_26335.txt', 'cv802_28381.txt', 'cv803_8584.txt', 'cv804_11763.txt', 'cv805_21128.txt', 'cv806_9405.txt', 'cv807_23024.txt', 'cv808_13773.txt', 'cv809_5012.txt', 'cv810_13660.txt', 'cv811_22646.txt', 'cv812_19051.txt', 'cv813_6649.txt', 'cv814_20316.txt', 'cv815_23466.txt', 'cv816_15257.txt', 'cv817_3675.txt', 'cv818_10698.txt', 'cv819_9567.txt', 'cv820_24157.txt', 'cv821_29283.txt', 'cv822_21545.txt', 'cv823_17055.txt', 'cv824_9335.txt', 'cv825_5168.txt', 'cv826_12761.txt', 'cv827_19479.txt', 'cv828_21392.txt', 'cv829_21725.txt', 'cv830_5778.txt', 'cv831_16325.txt', 'cv832_24713.txt', 'cv833_11961.txt', 'cv834_23192.txt', 'cv835_20531.txt', 'cv836_14311.txt', 'cv837_27232.txt', 'cv838_25886.txt', 'cv839_22807.txt', 'cv840_18033.txt', 'cv841_3367.txt', 'cv842_5702.txt', 'cv843_17054.txt', 'cv844_13890.txt', 'cv845_15886.txt', 'cv846_29359.txt', 'cv847_20855.txt', 'cv848_10061.txt', 'cv849_17215.txt', 'cv850_18185.txt', 'cv851_21895.txt', 'cv852_27512.txt', 'cv853_29119.txt', 'cv854_18955.txt', 'cv855_22134.txt', 'cv856_28882.txt', 'cv857_17527.txt', 'cv858_20266.txt', 'cv859_15689.txt', 'cv860_15520.txt', 'cv861_12809.txt', 'cv862_15924.txt', 'cv863_7912.txt', 'cv864_3087.txt', 'cv865_28796.txt', 'cv866_29447.txt', 'cv867_18362.txt', 'cv868_12799.txt', 'cv869_24782.txt', 'cv870_18090.txt', 'cv871_25971.txt', 'cv872_13710.txt', 'cv873_19937.txt', 'cv874_12182.txt', 'cv875_5622.txt', 'cv876_9633.txt', 'cv877_29132.txt', 'cv878_17204.txt', 'cv879_16585.txt', 'cv880_29629.txt', 'cv881_14767.txt', 'cv882_10042.txt', 'cv883_27621.txt', 'cv884_15230.txt', 'cv885_13390.txt', 'cv886_19210.txt', 'cv887_5306.txt', 'cv888_25678.txt', 'cv889_22670.txt', 'cv890_3515.txt', 'cv891_6035.txt', 'cv892_18788.txt', 'cv893_26731.txt', 'cv894_22140.txt', 'cv895_22200.txt', 'cv896_17819.txt', 'cv897_11703.txt', 'cv898_1576.txt', 'cv899_17812.txt', 'cv900_10800.txt', 'cv901_11934.txt', 'cv902_13217.txt', 'cv903_18981.txt', 'cv904_25663.txt', 'cv905_28965.txt', 'cv906_12332.txt', 'cv907_3193.txt', 'cv908_17779.txt', 'cv909_9973.txt', 'cv910_21930.txt', 'cv911_21695.txt', 'cv912_5562.txt', 'cv913_29127.txt', 'cv914_2856.txt', 'cv915_9342.txt', 'cv916_17034.txt', 'cv917_29484.txt', 'cv918_27080.txt', 'cv919_18155.txt', 'cv920_29423.txt', 'cv921_13988.txt', 'cv922_10185.txt', 'cv923_11951.txt', 'cv924_29397.txt', 'cv925_9459.txt', 'cv926_18471.txt', 'cv927_11471.txt', 'cv928_9478.txt', 'cv929_1841.txt', 'cv930_14949.txt', 'cv931_18783.txt', 'cv932_14854.txt', 'cv933_24953.txt', 'cv934_20426.txt', 'cv935_24977.txt', 'cv936_17473.txt', 'cv937_9816.txt', 'cv938_10706.txt', 'cv939_11247.txt', 'cv940_18935.txt', 'cv941_10718.txt', 'cv942_18509.txt', 'cv943_23547.txt', 'cv944_15042.txt', 'cv945_13012.txt', 'cv946_20084.txt', 'cv947_11316.txt', 'cv948_25870.txt', 'cv949_21565.txt', 'cv950_13478.txt', 'cv951_11816.txt', 'cv952_26375.txt', 'cv953_7078.txt', 'cv954_19932.txt', 'cv955_26154.txt', 'cv956_12547.txt', 'cv957_9059.txt', 'cv958_13020.txt', 'cv959_16218.txt', 'cv960_28877.txt', 'cv961_5578.txt', 'cv962_9813.txt', 'cv963_7208.txt', 'cv964_5794.txt', 'cv965_26688.txt', 'cv966_28671.txt', 'cv967_5626.txt', 'cv968_25413.txt', 'cv969_14760.txt', 'cv970_19532.txt', 'cv971_11790.txt', 'cv972_26837.txt', 'cv973_10171.txt', 'cv974_24303.txt', 'cv975_11920.txt', 'cv976_10724.txt', 'cv977_4776.txt', 'cv978_22192.txt', 'cv979_2029.txt', 'cv980_11851.txt', 'cv981_16679.txt', 'cv982_22209.txt', 'cv983_24219.txt', 'cv984_14006.txt', 'cv985_5964.txt', 'cv986_15092.txt', 'cv987_7394.txt', 'cv988_20168.txt', 'cv989_17297.txt', 'cv990_12443.txt', 'cv991_19973.txt', 'cv992_12806.txt', 'cv993_29565.txt', 'cv994_13229.txt', 'cv995_23113.txt', 'cv996_12447.txt', 'cv997_5152.txt', 'cv998_15691.txt', 'cv999_14636.txt'])\n"
          ]
        }
      ]
    },
    {
      "cell_type": "code",
      "metadata": {
        "id": "5j4mi3p02Utl"
      },
      "source": [
        ""
      ],
      "execution_count": null,
      "outputs": []
    }
  ]
}