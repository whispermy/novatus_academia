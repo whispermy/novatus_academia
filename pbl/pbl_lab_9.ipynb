{
  "nbformat": 4,
  "nbformat_minor": 0,
  "metadata": {
    "colab": {
      "name": "pbl_lab_9.ipynb",
      "provenance": [],
      "authorship_tag": "ABX9TyOKI2NIJJztNIe5Ze10aF8W",
      "include_colab_link": true
    },
    "kernelspec": {
      "name": "python3",
      "display_name": "Python 3"
    },
    "language_info": {
      "name": "python"
    },
    "accelerator": "GPU"
  },
  "cells": [
    {
      "cell_type": "markdown",
      "metadata": {
        "id": "view-in-github",
        "colab_type": "text"
      },
      "source": [
        "<a href=\"https://colab.research.google.com/github/whispermy/novatus_academia/blob/main/pbl/pbl_lab_9.ipynb\" target=\"_parent\"><img src=\"https://colab.research.google.com/assets/colab-badge.svg\" alt=\"Open In Colab\"/></a>"
      ]
    },
    {
      "cell_type": "code",
      "execution_count": 1,
      "metadata": {
        "colab": {
          "base_uri": "https://localhost:8080/"
        },
        "id": "k0s_y8Oiv-KQ",
        "outputId": "e0f503d6-2372-48aa-f11e-b3c1f4f03b83"
      },
      "outputs": [
        {
          "output_type": "stream",
          "name": "stdout",
          "text": [
            "Mounted at /content/drive\n"
          ]
        }
      ],
      "source": [
        "from google.colab import drive\n",
        "drive.mount('/content/drive')"
      ]
    },
    {
      "cell_type": "code",
      "source": [
        "import pandas as pd\n",
        "\n",
        "data = pd.read_csv(\"/content/drive/MyDrive/pbl/trainingData2_211210.csv\")\n",
        "data.head()"
      ],
      "metadata": {
        "colab": {
          "base_uri": "https://localhost:8080/",
          "height": 206
        },
        "id": "9UyjpLN-xEkX",
        "outputId": "d3d0ff33-d11b-455f-a220-e288d29038ce"
      },
      "execution_count": 3,
      "outputs": [
        {
          "output_type": "execute_result",
          "data": {
            "text/html": [
              "<div>\n",
              "<style scoped>\n",
              "    .dataframe tbody tr th:only-of-type {\n",
              "        vertical-align: middle;\n",
              "    }\n",
              "\n",
              "    .dataframe tbody tr th {\n",
              "        vertical-align: top;\n",
              "    }\n",
              "\n",
              "    .dataframe thead th {\n",
              "        text-align: right;\n",
              "    }\n",
              "</style>\n",
              "<table border=\"1\" class=\"dataframe\">\n",
              "  <thead>\n",
              "    <tr style=\"text-align: right;\">\n",
              "      <th></th>\n",
              "      <th>INPUT</th>\n",
              "      <th>OUTPUT</th>\n",
              "      <th>종류</th>\n",
              "    </tr>\n",
              "  </thead>\n",
              "  <tbody>\n",
              "    <tr>\n",
              "      <th>0</th>\n",
              "      <td>A는 B</td>\n",
              "      <td>A = B</td>\n",
              "      <td>선언</td>\n",
              "    </tr>\n",
              "    <tr>\n",
              "      <th>1</th>\n",
              "      <td>A는 B로 설정</td>\n",
              "      <td>A = B</td>\n",
              "      <td>선언</td>\n",
              "    </tr>\n",
              "    <tr>\n",
              "      <th>2</th>\n",
              "      <td>A는 B로 초기화</td>\n",
              "      <td>A = B</td>\n",
              "      <td>선언</td>\n",
              "    </tr>\n",
              "    <tr>\n",
              "      <th>3</th>\n",
              "      <td>A를 B로</td>\n",
              "      <td>A = B</td>\n",
              "      <td>선언</td>\n",
              "    </tr>\n",
              "    <tr>\n",
              "      <th>4</th>\n",
              "      <td>A에다가 입력받아줘</td>\n",
              "      <td>A = input()</td>\n",
              "      <td>입력</td>\n",
              "    </tr>\n",
              "  </tbody>\n",
              "</table>\n",
              "</div>"
            ],
            "text/plain": [
              "         INPUT       OUTPUT  종류\n",
              "0         A는 B        A = B  선언\n",
              "1     A는 B로 설정        A = B  선언\n",
              "2    A는 B로 초기화        A = B  선언\n",
              "3       A를 B로         A = B  선언\n",
              "4  A에다가 입력받아줘   A = input()  입력"
            ]
          },
          "metadata": {},
          "execution_count": 3
        }
      ]
    },
    {
      "cell_type": "code",
      "source": [
        "####################### training / test 나누기 ##########################\n",
        "\n"
      ],
      "metadata": {
        "id": "qVQlmheuyPGC"
      },
      "execution_count": 4,
      "outputs": []
    },
    {
      "cell_type": "code",
      "source": [
        "import numpy as np\n",
        "\n",
        "np.random.seed(50)\n",
        "indexes=np.arange(len(data))\n",
        "np.random.shuffle(indexes)\n",
        "\n",
        "\n"
      ],
      "metadata": {
        "id": "XFepQXlexQdV"
      },
      "execution_count": 5,
      "outputs": []
    },
    {
      "cell_type": "code",
      "source": [
        "test_ration = int(len(data) * 0.2)"
      ],
      "metadata": {
        "id": "GIlyJbt8yQAu"
      },
      "execution_count": 6,
      "outputs": []
    },
    {
      "cell_type": "code",
      "source": [
        "training_indexes=indexes[:-test_ration]\n",
        "test_indexes=indexes[-test_ration:]"
      ],
      "metadata": {
        "id": "PBaQUY7WyVEV"
      },
      "execution_count": 7,
      "outputs": []
    },
    {
      "cell_type": "code",
      "source": [
        "test_data=data.loc[test_indexes]\n",
        "data=data.loc[training_indexes]"
      ],
      "metadata": {
        "id": "UGqGDouRyVBi"
      },
      "execution_count": 8,
      "outputs": []
    },
    {
      "cell_type": "code",
      "source": [
        "len(data), len(test_data)"
      ],
      "metadata": {
        "colab": {
          "base_uri": "https://localhost:8080/"
        },
        "id": "Kd1tEh0lyU_B",
        "outputId": "ec884664-46f7-4dd9-eb16-ad971ad09e4a"
      },
      "execution_count": 9,
      "outputs": [
        {
          "output_type": "execute_result",
          "data": {
            "text/plain": [
              "(379, 94)"
            ]
          },
          "metadata": {},
          "execution_count": 9
        }
      ]
    },
    {
      "cell_type": "code",
      "source": [
        "########################################################\n",
        "###################데이터 증강하기 #####################\n",
        "########################################################\n",
        "\n",
        "import random\n",
        "\n",
        "input = list(data['INPUT'])\n",
        "output = list(data['OUTPUT'])\n",
        "\n",
        "new_input = []\n",
        "new_output = []\n",
        "\n",
        "문장 = \"A가 B보다 크다면\" \n",
        "문장1 = \"ㄱ가 ㄴ보다 크다면\"\n",
        "최종 = \"C가 D보다 크다면\"\n",
        "\n",
        "alpha_1 = ['ㄱ','ㄴ','ㄷ','ㄹ','ㅁ','ㅂ','ㅅ','ㅇ','ㅈ']\n",
        "alpha_2 = ['A', 'B','C','D','E','F','G','H','I']\n",
        "\n",
        "j = 10\n",
        "\n",
        "for i in range(len(input)):\n",
        "\n",
        "  input_sentence = input[i]\n",
        "  output_sentence = output[i]\n",
        "\n",
        "  unique = []\n",
        "\n",
        "  for char in input_sentence:\n",
        "    if char.encode().isalpha():\n",
        "      unique.append(char)\n",
        "  \n",
        "  unique = list(set(unique))\n",
        "  alpha_1_copy = alpha_1.copy()\n",
        "\n",
        "\n",
        "  for uni in unique:\n",
        "    random_index = random.randint(0, len(alpha_1_copy)-1)\n",
        "    input_sentence = input_sentence.replace(uni, alpha_1_copy[random_index])\n",
        "    output_sentence = output_sentence.replace(uni, alpha_1_copy[random_index])\n",
        "    alpha_1_copy.remove(alpha_1_copy[random_index])\n",
        "\n",
        "  \n",
        "\n",
        "  for jj in range(j):\n",
        "    new_input_sentence = input_sentence\n",
        "    new_output_sentence = output_sentence\n",
        "    alpha_2_copy = alpha_2.copy()\n",
        "    for uni in alpha_1:\n",
        "      random_index = random.randint(0, len(alpha_2_copy)-1)\n",
        "      new_input_sentence = new_input_sentence.replace(uni, alpha_2_copy[random_index])\n",
        "      new_output_sentence = new_output_sentence.replace(uni, alpha_2_copy[random_index])\n",
        "      alpha_2_copy.remove(alpha_2_copy[random_index])\n",
        "\n",
        "    new_input.append(new_input_sentence)\n",
        "    new_output.append(new_output_sentence)\n",
        "\n",
        "print(new_input[:10])\n",
        "print(new_output[:10])\n",
        "\n",
        "\n",
        "data_aug = pd.DataFrame({'INPUT' : new_input, 'OUTPUT' : new_output})\n",
        "data = pd.concat([data, data_aug])\n",
        "\n",
        "\n",
        "    \n"
      ],
      "metadata": {
        "colab": {
          "base_uri": "https://localhost:8080/"
        },
        "id": "QZyGcFUByU8X",
        "outputId": "d07f962e-3e28-46a3-eef0-aecc77a3ad1c"
      },
      "execution_count": 10,
      "outputs": [
        {
          "output_type": "stream",
          "name": "stdout",
          "text": [
            "['만약 C가 I와 다르고 B가 H보다 작다면', '만약 D가 B와 다르고 I가 A보다 작다면', '만약 D가 B와 다르고 E가 C보다 작다면', '만약 A가 F와 다르고 I가 E보다 작다면', '만약 A가 C와 다르고 E가 D보다 작다면', '만약 B가 E와 다르고 G가 I보다 작다면', '만약 G가 H와 다르고 D가 B보다 작다면', '만약 C가 I와 다르고 E가 A보다 작다면', '만약 G가 B와 다르고 H가 C보다 작다면', '만약 G가 A와 다르고 E가 F보다 작다면']\n",
            "['if C != I and B < H :', 'if D != B and I < A :', 'if D != B and E < C :', 'if A != F and I < E :', 'if A != C and E < D :', 'if B != E and G < I :', 'if G != H and D < B :', 'if C != I and E < A :', 'if G != B and H < C :', 'if G != A and E < F :']\n"
          ]
        }
      ]
    },
    {
      "cell_type": "code",
      "source": [
        "data_aug[:30]"
      ],
      "metadata": {
        "colab": {
          "base_uri": "https://localhost:8080/",
          "height": 990
        },
        "id": "xgNV58uayU5-",
        "outputId": "47c08ebe-dac2-4b77-d3ec-70057a5530be"
      },
      "execution_count": 11,
      "outputs": [
        {
          "output_type": "execute_result",
          "data": {
            "text/html": [
              "<div>\n",
              "<style scoped>\n",
              "    .dataframe tbody tr th:only-of-type {\n",
              "        vertical-align: middle;\n",
              "    }\n",
              "\n",
              "    .dataframe tbody tr th {\n",
              "        vertical-align: top;\n",
              "    }\n",
              "\n",
              "    .dataframe thead th {\n",
              "        text-align: right;\n",
              "    }\n",
              "</style>\n",
              "<table border=\"1\" class=\"dataframe\">\n",
              "  <thead>\n",
              "    <tr style=\"text-align: right;\">\n",
              "      <th></th>\n",
              "      <th>INPUT</th>\n",
              "      <th>OUTPUT</th>\n",
              "    </tr>\n",
              "  </thead>\n",
              "  <tbody>\n",
              "    <tr>\n",
              "      <th>0</th>\n",
              "      <td>만약 C가 I와 다르고 B가 H보다 작다면</td>\n",
              "      <td>if C != I and B &lt; H :</td>\n",
              "    </tr>\n",
              "    <tr>\n",
              "      <th>1</th>\n",
              "      <td>만약 D가 B와 다르고 I가 A보다 작다면</td>\n",
              "      <td>if D != B and I &lt; A :</td>\n",
              "    </tr>\n",
              "    <tr>\n",
              "      <th>2</th>\n",
              "      <td>만약 D가 B와 다르고 E가 C보다 작다면</td>\n",
              "      <td>if D != B and E &lt; C :</td>\n",
              "    </tr>\n",
              "    <tr>\n",
              "      <th>3</th>\n",
              "      <td>만약 A가 F와 다르고 I가 E보다 작다면</td>\n",
              "      <td>if A != F and I &lt; E :</td>\n",
              "    </tr>\n",
              "    <tr>\n",
              "      <th>4</th>\n",
              "      <td>만약 A가 C와 다르고 E가 D보다 작다면</td>\n",
              "      <td>if A != C and E &lt; D :</td>\n",
              "    </tr>\n",
              "    <tr>\n",
              "      <th>5</th>\n",
              "      <td>만약 B가 E와 다르고 G가 I보다 작다면</td>\n",
              "      <td>if B != E and G &lt; I :</td>\n",
              "    </tr>\n",
              "    <tr>\n",
              "      <th>6</th>\n",
              "      <td>만약 G가 H와 다르고 D가 B보다 작다면</td>\n",
              "      <td>if G != H and D &lt; B :</td>\n",
              "    </tr>\n",
              "    <tr>\n",
              "      <th>7</th>\n",
              "      <td>만약 C가 I와 다르고 E가 A보다 작다면</td>\n",
              "      <td>if C != I and E &lt; A :</td>\n",
              "    </tr>\n",
              "    <tr>\n",
              "      <th>8</th>\n",
              "      <td>만약 G가 B와 다르고 H가 C보다 작다면</td>\n",
              "      <td>if G != B and H &lt; C :</td>\n",
              "    </tr>\n",
              "    <tr>\n",
              "      <th>9</th>\n",
              "      <td>만약 G가 A와 다르고 E가 F보다 작다면</td>\n",
              "      <td>if G != A and E &lt; F :</td>\n",
              "    </tr>\n",
              "    <tr>\n",
              "      <th>10</th>\n",
              "      <td>만일 C가 B보다 크거나 같다면</td>\n",
              "      <td>if C &gt;= B:</td>\n",
              "    </tr>\n",
              "    <tr>\n",
              "      <th>11</th>\n",
              "      <td>만일 B가 G보다 크거나 같다면</td>\n",
              "      <td>if B &gt;= G:</td>\n",
              "    </tr>\n",
              "    <tr>\n",
              "      <th>12</th>\n",
              "      <td>만일 D가 B보다 크거나 같다면</td>\n",
              "      <td>if D &gt;= B:</td>\n",
              "    </tr>\n",
              "    <tr>\n",
              "      <th>13</th>\n",
              "      <td>만일 E가 I보다 크거나 같다면</td>\n",
              "      <td>if E &gt;= I:</td>\n",
              "    </tr>\n",
              "    <tr>\n",
              "      <th>14</th>\n",
              "      <td>만일 B가 G보다 크거나 같다면</td>\n",
              "      <td>if B &gt;= G:</td>\n",
              "    </tr>\n",
              "    <tr>\n",
              "      <th>15</th>\n",
              "      <td>만일 A가 G보다 크거나 같다면</td>\n",
              "      <td>if A &gt;= G:</td>\n",
              "    </tr>\n",
              "    <tr>\n",
              "      <th>16</th>\n",
              "      <td>만일 I가 D보다 크거나 같다면</td>\n",
              "      <td>if I &gt;= D:</td>\n",
              "    </tr>\n",
              "    <tr>\n",
              "      <th>17</th>\n",
              "      <td>만일 F가 C보다 크거나 같다면</td>\n",
              "      <td>if F &gt;= C:</td>\n",
              "    </tr>\n",
              "    <tr>\n",
              "      <th>18</th>\n",
              "      <td>만일 B가 I보다 크거나 같다면</td>\n",
              "      <td>if B &gt;= I:</td>\n",
              "    </tr>\n",
              "    <tr>\n",
              "      <th>19</th>\n",
              "      <td>만일 D가 C보다 크거나 같다면</td>\n",
              "      <td>if D &gt;= C:</td>\n",
              "    </tr>\n",
              "    <tr>\n",
              "      <th>20</th>\n",
              "      <td>I가 D미만이면서 또는 B가 E이상일때까지 반복해줘</td>\n",
              "      <td>while I &lt; D or B &gt;= E :</td>\n",
              "    </tr>\n",
              "    <tr>\n",
              "      <th>21</th>\n",
              "      <td>D가 G미만이면서 또는 F가 C이상일때까지 반복해줘</td>\n",
              "      <td>while D &lt; G or F &gt;= C :</td>\n",
              "    </tr>\n",
              "    <tr>\n",
              "      <th>22</th>\n",
              "      <td>I가 C미만이면서 또는 E가 A이상일때까지 반복해줘</td>\n",
              "      <td>while I &lt; C or E &gt;= A :</td>\n",
              "    </tr>\n",
              "    <tr>\n",
              "      <th>23</th>\n",
              "      <td>B가 C미만이면서 또는 H가 A이상일때까지 반복해줘</td>\n",
              "      <td>while B &lt; C or H &gt;= A :</td>\n",
              "    </tr>\n",
              "    <tr>\n",
              "      <th>24</th>\n",
              "      <td>I가 D미만이면서 또는 E가 F이상일때까지 반복해줘</td>\n",
              "      <td>while I &lt; D or E &gt;= F :</td>\n",
              "    </tr>\n",
              "    <tr>\n",
              "      <th>25</th>\n",
              "      <td>H가 A미만이면서 또는 C가 I이상일때까지 반복해줘</td>\n",
              "      <td>while H &lt; A or C &gt;= I :</td>\n",
              "    </tr>\n",
              "    <tr>\n",
              "      <th>26</th>\n",
              "      <td>I가 F미만이면서 또는 A가 D이상일때까지 반복해줘</td>\n",
              "      <td>while I &lt; F or A &gt;= D :</td>\n",
              "    </tr>\n",
              "    <tr>\n",
              "      <th>27</th>\n",
              "      <td>E가 H미만이면서 또는 I가 C이상일때까지 반복해줘</td>\n",
              "      <td>while E &lt; H or I &gt;= C :</td>\n",
              "    </tr>\n",
              "    <tr>\n",
              "      <th>28</th>\n",
              "      <td>B가 F미만이면서 또는 H가 E이상일때까지 반복해줘</td>\n",
              "      <td>while B &lt; F or H &gt;= E :</td>\n",
              "    </tr>\n",
              "    <tr>\n",
              "      <th>29</th>\n",
              "      <td>D가 G미만이면서 또는 A가 C이상일때까지 반복해줘</td>\n",
              "      <td>while D &lt; G or A &gt;= C :</td>\n",
              "    </tr>\n",
              "  </tbody>\n",
              "</table>\n",
              "</div>"
            ],
            "text/plain": [
              "                           INPUT                   OUTPUT\n",
              "0        만약 C가 I와 다르고 B가 H보다 작다면    if C != I and B < H :\n",
              "1        만약 D가 B와 다르고 I가 A보다 작다면    if D != B and I < A :\n",
              "2        만약 D가 B와 다르고 E가 C보다 작다면    if D != B and E < C :\n",
              "3        만약 A가 F와 다르고 I가 E보다 작다면    if A != F and I < E :\n",
              "4        만약 A가 C와 다르고 E가 D보다 작다면    if A != C and E < D :\n",
              "5        만약 B가 E와 다르고 G가 I보다 작다면    if B != E and G < I :\n",
              "6        만약 G가 H와 다르고 D가 B보다 작다면    if G != H and D < B :\n",
              "7        만약 C가 I와 다르고 E가 A보다 작다면    if C != I and E < A :\n",
              "8        만약 G가 B와 다르고 H가 C보다 작다면    if G != B and H < C :\n",
              "9        만약 G가 A와 다르고 E가 F보다 작다면    if G != A and E < F :\n",
              "10             만일 C가 B보다 크거나 같다면               if C >= B:\n",
              "11             만일 B가 G보다 크거나 같다면               if B >= G:\n",
              "12             만일 D가 B보다 크거나 같다면               if D >= B:\n",
              "13             만일 E가 I보다 크거나 같다면               if E >= I:\n",
              "14             만일 B가 G보다 크거나 같다면               if B >= G:\n",
              "15             만일 A가 G보다 크거나 같다면               if A >= G:\n",
              "16             만일 I가 D보다 크거나 같다면               if I >= D:\n",
              "17             만일 F가 C보다 크거나 같다면               if F >= C:\n",
              "18             만일 B가 I보다 크거나 같다면               if B >= I:\n",
              "19             만일 D가 C보다 크거나 같다면               if D >= C:\n",
              "20  I가 D미만이면서 또는 B가 E이상일때까지 반복해줘  while I < D or B >= E :\n",
              "21  D가 G미만이면서 또는 F가 C이상일때까지 반복해줘  while D < G or F >= C :\n",
              "22  I가 C미만이면서 또는 E가 A이상일때까지 반복해줘  while I < C or E >= A :\n",
              "23  B가 C미만이면서 또는 H가 A이상일때까지 반복해줘  while B < C or H >= A :\n",
              "24  I가 D미만이면서 또는 E가 F이상일때까지 반복해줘  while I < D or E >= F :\n",
              "25  H가 A미만이면서 또는 C가 I이상일때까지 반복해줘  while H < A or C >= I :\n",
              "26  I가 F미만이면서 또는 A가 D이상일때까지 반복해줘  while I < F or A >= D :\n",
              "27  E가 H미만이면서 또는 I가 C이상일때까지 반복해줘  while E < H or I >= C :\n",
              "28  B가 F미만이면서 또는 H가 E이상일때까지 반복해줘  while B < F or H >= E :\n",
              "29  D가 G미만이면서 또는 A가 C이상일때까지 반복해줘  while D < G or A >= C :"
            ]
          },
          "metadata": {},
          "execution_count": 11
        }
      ]
    },
    {
      "cell_type": "code",
      "source": [
        "np.random.seed(50)\n",
        "indexes=np.arange(len(data))\n",
        "np.random.shuffle(indexes)\n",
        "data=data.loc[training_indexes]\n",
        "data.head()"
      ],
      "metadata": {
        "colab": {
          "base_uri": "https://localhost:8080/",
          "height": 206
        },
        "id": "EZ1OIVlPyU3P",
        "outputId": "a65dec56-f238-4865-865f-9ada71289233"
      },
      "execution_count": 12,
      "outputs": [
        {
          "output_type": "execute_result",
          "data": {
            "text/html": [
              "<div>\n",
              "<style scoped>\n",
              "    .dataframe tbody tr th:only-of-type {\n",
              "        vertical-align: middle;\n",
              "    }\n",
              "\n",
              "    .dataframe tbody tr th {\n",
              "        vertical-align: top;\n",
              "    }\n",
              "\n",
              "    .dataframe thead th {\n",
              "        text-align: right;\n",
              "    }\n",
              "</style>\n",
              "<table border=\"1\" class=\"dataframe\">\n",
              "  <thead>\n",
              "    <tr style=\"text-align: right;\">\n",
              "      <th></th>\n",
              "      <th>INPUT</th>\n",
              "      <th>OUTPUT</th>\n",
              "      <th>종류</th>\n",
              "    </tr>\n",
              "  </thead>\n",
              "  <tbody>\n",
              "    <tr>\n",
              "      <th>172</th>\n",
              "      <td>만약 A가 B와 다르고 C가 D보다 작다면</td>\n",
              "      <td>if A != B and C &lt; D :</td>\n",
              "      <td>조건문</td>\n",
              "    </tr>\n",
              "    <tr>\n",
              "      <th>172</th>\n",
              "      <td>G랑 B랑 다르고 또는 C가 D이상일때까지 돌려줘</td>\n",
              "      <td>while G != B or C &gt;= D :</td>\n",
              "      <td>NaN</td>\n",
              "    </tr>\n",
              "    <tr>\n",
              "      <th>148</th>\n",
              "      <td>만일 A가 B보다 크거나 같다면</td>\n",
              "      <td>if A &gt;= B:</td>\n",
              "      <td>조건문</td>\n",
              "    </tr>\n",
              "    <tr>\n",
              "      <th>148</th>\n",
              "      <td>만약 C가 I와 같다면</td>\n",
              "      <td>if C == I:</td>\n",
              "      <td>NaN</td>\n",
              "    </tr>\n",
              "    <tr>\n",
              "      <th>349</th>\n",
              "      <td>A가 B미만이면서 또는 C가 D이상일때까지 반복해줘</td>\n",
              "      <td>while A &lt; B or C &gt;= D :</td>\n",
              "      <td>NaN</td>\n",
              "    </tr>\n",
              "  </tbody>\n",
              "</table>\n",
              "</div>"
            ],
            "text/plain": [
              "                            INPUT                    OUTPUT   종류\n",
              "172       만약 A가 B와 다르고 C가 D보다 작다면     if A != B and C < D :  조건문\n",
              "172   G랑 B랑 다르고 또는 C가 D이상일때까지 돌려줘  while G != B or C >= D :  NaN\n",
              "148             만일 A가 B보다 크거나 같다면                if A >= B:  조건문\n",
              "148                  만약 C가 I와 같다면                if C == I:  NaN\n",
              "349  A가 B미만이면서 또는 C가 D이상일때까지 반복해줘   while A < B or C >= D :  NaN"
            ]
          },
          "metadata": {},
          "execution_count": 12
        }
      ]
    },
    {
      "cell_type": "code",
      "source": [
        "# #형태소 분석기 사용하기 \n",
        "# !pip install konlpy"
      ],
      "metadata": {
        "id": "J-nVnrcJyU0i"
      },
      "execution_count": 13,
      "outputs": []
    },
    {
      "cell_type": "code",
      "source": [
        "# from konlpy.tag import Kkma, Komoran, Okt, Mecab\n",
        "\n",
        "# okt = Okt()\n",
        "# txt = data['INPUT'][1000]\n",
        "# print(okt.pos(txt,norm=True, stem=False, join=False))"
      ],
      "metadata": {
        "id": "UB6IyWtPyUx0"
      },
      "execution_count": 14,
      "outputs": []
    },
    {
      "cell_type": "code",
      "source": [
        "# list_input = []\n",
        "\n",
        "# for txt in data['INPUT']:\n",
        "#   tokens = okt.pos(txt,norm=True, stem=False, join=False)\n",
        "#   s = []\n",
        "#   for token in tokens:\n",
        "#     s.append(token[0])\n",
        "#   list_input.append(s)\n",
        "\n",
        "# list_input[:10]"
      ],
      "metadata": {
        "id": "UTvFnzuwyUvK"
      },
      "execution_count": 15,
      "outputs": []
    },
    {
      "cell_type": "code",
      "source": [
        "list_input = []\n",
        "\n",
        "for txt in data['INPUT']:\n",
        "  \n",
        "  s = []\n",
        "  for token in txt:\n",
        "    if token != ' ':\n",
        "      s.append(token)\n",
        "  list_input.append(s)\n",
        "\n",
        "list_input[:10]"
      ],
      "metadata": {
        "colab": {
          "base_uri": "https://localhost:8080/"
        },
        "id": "Zmbl9lA2yUse",
        "outputId": "0cd701aa-7dee-46f3-fde5-57135c1264cd"
      },
      "execution_count": 16,
      "outputs": [
        {
          "output_type": "execute_result",
          "data": {
            "text/plain": [
              "[['만',\n",
              "  '약',\n",
              "  'A',\n",
              "  '가',\n",
              "  'B',\n",
              "  '와',\n",
              "  '다',\n",
              "  '르',\n",
              "  '고',\n",
              "  'C',\n",
              "  '가',\n",
              "  'D',\n",
              "  '보',\n",
              "  '다',\n",
              "  '작',\n",
              "  '다',\n",
              "  '면'],\n",
              " ['G',\n",
              "  '랑',\n",
              "  'B',\n",
              "  '랑',\n",
              "  '다',\n",
              "  '르',\n",
              "  '고',\n",
              "  '또',\n",
              "  '는',\n",
              "  'C',\n",
              "  '가',\n",
              "  'D',\n",
              "  '이',\n",
              "  '상',\n",
              "  '일',\n",
              "  '때',\n",
              "  '까',\n",
              "  '지',\n",
              "  '돌',\n",
              "  '려',\n",
              "  '줘'],\n",
              " ['만', '일', 'A', '가', 'B', '보', '다', '크', '거', '나', '같', '다', '면'],\n",
              " ['만', '약', 'C', '가', 'I', '와', '같', '다', '면'],\n",
              " ['A',\n",
              "  '가',\n",
              "  'B',\n",
              "  '미',\n",
              "  '만',\n",
              "  '이',\n",
              "  '면',\n",
              "  '서',\n",
              "  '또',\n",
              "  '는',\n",
              "  'C',\n",
              "  '가',\n",
              "  'D',\n",
              "  '이',\n",
              "  '상',\n",
              "  '일',\n",
              "  '때',\n",
              "  '까',\n",
              "  '지',\n",
              "  '반',\n",
              "  '복',\n",
              "  '해',\n",
              "  '줘'],\n",
              " ['만',\n",
              "  '약',\n",
              "  'B',\n",
              "  '랑',\n",
              "  'H',\n",
              "  '랑',\n",
              "  '다',\n",
              "  '르',\n",
              "  '고',\n",
              "  'E',\n",
              "  '가',\n",
              "  'A',\n",
              "  '랑',\n",
              "  '같',\n",
              "  '으',\n",
              "  '면'],\n",
              " ['만', '일', 'A', '가', 'B', '와', '같', '다', '면'],\n",
              " ['만',\n",
              "  '약',\n",
              "  'E',\n",
              "  '가',\n",
              "  'H',\n",
              "  '보',\n",
              "  '다',\n",
              "  '작',\n",
              "  '으',\n",
              "  '면',\n",
              "  '서',\n",
              "  'C',\n",
              "  '가',\n",
              "  'I',\n",
              "  '랑',\n",
              "  '같',\n",
              "  '다',\n",
              "  '면'],\n",
              " ['만',\n",
              "  '약',\n",
              "  'A',\n",
              "  '보',\n",
              "  '다',\n",
              "  'B',\n",
              "  '가',\n",
              "  '크',\n",
              "  '면',\n",
              "  '서',\n",
              "  '또',\n",
              "  '는',\n",
              "  'C',\n",
              "  '가',\n",
              "  'D',\n",
              "  '와',\n",
              "  '같',\n",
              "  '다',\n",
              "  '면'],\n",
              " ['만',\n",
              "  '약',\n",
              "  'F',\n",
              "  '랑',\n",
              "  'C',\n",
              "  '랑',\n",
              "  '다',\n",
              "  '르',\n",
              "  '고',\n",
              "  'H',\n",
              "  '가',\n",
              "  'G',\n",
              "  '보',\n",
              "  '다',\n",
              "  '크',\n",
              "  '다',\n",
              "  '면']]"
            ]
          },
          "metadata": {},
          "execution_count": 16
        }
      ]
    },
    {
      "cell_type": "code",
      "source": [
        "#word2vec\n",
        "from gensim.models import Word2Vec\n",
        "dimension_word = 20\n",
        "# train word2vec model\n",
        "model_input = Word2Vec(list_input, size=dimension_word, window=2, workers=8, min_count=1)\n",
        "# summarize vocabulary size in model\n",
        "words = list(model_input.wv.vocab)\n",
        "print('Vocabulary size: %d' % len(words))"
      ],
      "metadata": {
        "colab": {
          "base_uri": "https://localhost:8080/"
        },
        "id": "-uJrvCdiyUp3",
        "outputId": "60d53dba-3c6a-4be2-aba9-dff03dc511aa"
      },
      "execution_count": 53,
      "outputs": [
        {
          "output_type": "stream",
          "name": "stdout",
          "text": [
            "Vocabulary size: 113\n"
          ]
        }
      ]
    },
    {
      "cell_type": "code",
      "source": [
        "input_vector = model_input.wv\n",
        "input_vector['문']"
      ],
      "metadata": {
        "colab": {
          "base_uri": "https://localhost:8080/"
        },
        "id": "X8rc0z56yUnF",
        "outputId": "f37bf2c7-6682-49d5-fcda-7a9628df2888"
      },
      "execution_count": 54,
      "outputs": [
        {
          "output_type": "execute_result",
          "data": {
            "text/plain": [
              "array([-0.37492123,  0.10799509, -0.22975151,  0.4655215 , -0.23770925,\n",
              "       -0.16102782,  0.05911404,  0.9834869 ,  0.389114  ,  0.00694156,\n",
              "        0.33654884,  0.02549857, -0.08757313,  0.53049606,  0.18462467,\n",
              "       -0.25005814,  0.5057817 , -0.0886256 , -0.11131348, -0.41925195],\n",
              "      dtype=float32)"
            ]
          },
          "metadata": {},
          "execution_count": 54
        }
      ]
    },
    {
      "cell_type": "code",
      "source": [
        "from keras.preprocessing.text import Tokenizer\n",
        "\n",
        "tokenizer_input = Tokenizer(lower=False)\n",
        "tokenizer_input.fit_on_texts(list_input)\n",
        "encoded_input = tokenizer_input.texts_to_sequences(list_input)\n",
        "encoded_input[:10]"
      ],
      "metadata": {
        "colab": {
          "base_uri": "https://localhost:8080/"
        },
        "id": "7aoJ73L8yUki",
        "outputId": "ff19899c-68a8-41d2-e0f8-548f96191266"
      },
      "execution_count": 55,
      "outputs": [
        {
          "output_type": "execute_result",
          "data": {
            "text/plain": [
              "[[11, 20, 3, 1, 4, 40, 2, 38, 17, 7, 1, 8, 6, 2, 22, 2, 5],\n",
              " [36,\n",
              "  10,\n",
              "  4,\n",
              "  10,\n",
              "  2,\n",
              "  38,\n",
              "  17,\n",
              "  27,\n",
              "  18,\n",
              "  7,\n",
              "  1,\n",
              "  8,\n",
              "  9,\n",
              "  41,\n",
              "  39,\n",
              "  15,\n",
              "  13,\n",
              "  12,\n",
              "  25,\n",
              "  26,\n",
              "  14],\n",
              " [11, 39, 3, 1, 4, 6, 2, 28, 31, 30, 16, 2, 5],\n",
              " [11, 20, 7, 1, 35, 40, 16, 2, 5],\n",
              " [3,\n",
              "  1,\n",
              "  4,\n",
              "  50,\n",
              "  11,\n",
              "  9,\n",
              "  5,\n",
              "  21,\n",
              "  27,\n",
              "  18,\n",
              "  7,\n",
              "  1,\n",
              "  8,\n",
              "  9,\n",
              "  41,\n",
              "  39,\n",
              "  15,\n",
              "  13,\n",
              "  12,\n",
              "  23,\n",
              "  24,\n",
              "  19,\n",
              "  14],\n",
              " [11, 20, 4, 10, 32, 10, 2, 38, 17, 33, 1, 3, 10, 16, 42, 5],\n",
              " [11, 39, 3, 1, 4, 40, 16, 2, 5],\n",
              " [11, 20, 33, 1, 32, 6, 2, 22, 42, 5, 21, 7, 1, 35, 10, 16, 2, 5],\n",
              " [11, 20, 3, 6, 2, 4, 1, 28, 5, 21, 27, 18, 7, 1, 8, 40, 16, 2, 5],\n",
              " [11, 20, 34, 10, 7, 10, 2, 38, 17, 32, 1, 36, 6, 2, 28, 2, 5]]"
            ]
          },
          "metadata": {},
          "execution_count": 55
        }
      ]
    },
    {
      "cell_type": "code",
      "source": [
        "#input 가중치 행렬\n",
        "import numpy as np\n",
        "\n",
        "input_vector_dic = {}\n",
        "for key in input_vector.wv.vocab.keys():\n",
        "    input_vector_dic[key] = input_vector[key]\n",
        "input_vector_dic['A']\n",
        "\n",
        "def get_weight_matrix(embedding, vocab):\n",
        "\n",
        "\t# total vocabulary size plus 0 for unknown words\n",
        "  vocab_size = len(vocab) + 1\n",
        "  weight_matrix = np.zeros((vocab_size, dimension_word))\n",
        "\t# step vocab, store vectors using the Tokenizer's integer mapping\n",
        "  for word, i in vocab.items():\n",
        "    weight_matrix[i] = embedding.get(word)\n",
        "  return weight_matrix\n",
        "\n",
        "input_embedding_vectors = get_weight_matrix(input_vector_dic, tokenizer_input.word_index)\n",
        "input_embedding_vectors[np.isnan(input_embedding_vectors)] = 0\n",
        "#정규화 \n",
        "input_embedding_vectors = input_embedding_vectors / np.absolute(input_embedding_vectors).max(axis=0)\n",
        "\n",
        "input_embedding_vectors.shape"
      ],
      "metadata": {
        "colab": {
          "base_uri": "https://localhost:8080/"
        },
        "id": "05vfeJ8syUh-",
        "outputId": "c9346afa-2941-4cc6-d916-ad09b5dea56d"
      },
      "execution_count": 56,
      "outputs": [
        {
          "output_type": "stream",
          "name": "stderr",
          "text": [
            "/usr/local/lib/python3.7/dist-packages/ipykernel_launcher.py:5: DeprecationWarning: Call to deprecated `wv` (Attribute will be removed in 4.0.0, use self instead).\n",
            "  \"\"\"\n"
          ]
        },
        {
          "output_type": "execute_result",
          "data": {
            "text/plain": [
              "(114, 20)"
            ]
          },
          "metadata": {},
          "execution_count": 56
        }
      ]
    },
    {
      "cell_type": "code",
      "source": [
        "list_output_in = []\n",
        "\n",
        "for txt in data['OUTPUT']:\n",
        "  s = []\n",
        "  s.append(\"<sos>\")\n",
        "  txt = txt.split()\n",
        "  for token in txt:\n",
        "    s.append(token)\n",
        "  list_output_in.append(s)\n",
        "\n",
        "list_output_in[:20]"
      ],
      "metadata": {
        "colab": {
          "base_uri": "https://localhost:8080/"
        },
        "id": "1PXZ27AyyUfM",
        "outputId": "3fc57ec6-460c-4c91-f009-a84aea8980f6"
      },
      "execution_count": 57,
      "outputs": [
        {
          "output_type": "execute_result",
          "data": {
            "text/plain": [
              "[['<sos>', 'if', 'A', '!=', 'B', 'and', 'C', '<', 'D', ':'],\n",
              " ['<sos>', 'while', 'G', '!=', 'B', 'or', 'C', '>=', 'D', ':'],\n",
              " ['<sos>', 'if', 'A', '>=', 'B:'],\n",
              " ['<sos>', 'if', 'C', '==', 'I:'],\n",
              " ['<sos>', 'while', 'A', '<', 'B', 'or', 'C', '>=', 'D', ':'],\n",
              " ['<sos>', 'if', 'B', '!=', 'H', 'and', 'E', '==', 'A', ':'],\n",
              " ['<sos>', 'if', 'A', '==', 'B:'],\n",
              " ['<sos>', 'if', 'E', '<', 'H', 'and', 'C', '==', 'I', ':'],\n",
              " ['<sos>', 'if', 'A', '<', 'B', 'or', 'C', '==', 'D', ':'],\n",
              " ['<sos>', 'if', 'F', '!=', 'C', 'and', 'H', '>', 'G', ':'],\n",
              " ['<sos>', 'if', 'A', 'is', 'not', 'B:'],\n",
              " ['<sos>', 'while', 'G', '!=', 'H', ':'],\n",
              " ['<sos>', 'while', 'A', '<=', 'B', 'or', 'C', '>=', 'D', ':'],\n",
              " ['<sos>', 'while', 'A', '<', 'D', ':'],\n",
              " ['<sos>', 'def', 'A', '(', 'B', ',', 'C', ')', ':'],\n",
              " ['<sos>', 'if', 'G', '>=', 'I', 'or', 'A', '>', 'E', ':'],\n",
              " ['<sos>',\n",
              "  'if',\n",
              "  'A',\n",
              "  '<',\n",
              "  'B',\n",
              "  'and',\n",
              "  'C',\n",
              "  '==',\n",
              "  'D',\n",
              "  'or',\n",
              "  'E',\n",
              "  '<',\n",
              "  'F',\n",
              "  ':'],\n",
              " ['<sos>', 'for', 'B', 'in', 'range(', 'A', ',', 'E', ',', 'C', ')', ':'],\n",
              " ['<sos>', 'while', 'A', '<', 'B', ':'],\n",
              " ['<sos>', 'if', 'B', '==', 'D:']]"
            ]
          },
          "metadata": {},
          "execution_count": 57
        }
      ]
    },
    {
      "cell_type": "code",
      "source": [
        "list_output_target = []\n",
        "\n",
        "for txt in data['OUTPUT']:\n",
        "  s = []\n",
        "  txt = txt.split()\n",
        "  for token in txt:\n",
        "    s.append(token)\n",
        "  s.append(\"<eos>\")\n",
        "  list_output_target.append(s)\n",
        "\n",
        "list_output_target[:20]"
      ],
      "metadata": {
        "colab": {
          "base_uri": "https://localhost:8080/"
        },
        "id": "_GlRDFqxyUcr",
        "outputId": "3c164fa5-a569-47a2-cf18-91b91bf6fcca"
      },
      "execution_count": 58,
      "outputs": [
        {
          "output_type": "execute_result",
          "data": {
            "text/plain": [
              "[['if', 'A', '!=', 'B', 'and', 'C', '<', 'D', ':', '<eos>'],\n",
              " ['while', 'G', '!=', 'B', 'or', 'C', '>=', 'D', ':', '<eos>'],\n",
              " ['if', 'A', '>=', 'B:', '<eos>'],\n",
              " ['if', 'C', '==', 'I:', '<eos>'],\n",
              " ['while', 'A', '<', 'B', 'or', 'C', '>=', 'D', ':', '<eos>'],\n",
              " ['if', 'B', '!=', 'H', 'and', 'E', '==', 'A', ':', '<eos>'],\n",
              " ['if', 'A', '==', 'B:', '<eos>'],\n",
              " ['if', 'E', '<', 'H', 'and', 'C', '==', 'I', ':', '<eos>'],\n",
              " ['if', 'A', '<', 'B', 'or', 'C', '==', 'D', ':', '<eos>'],\n",
              " ['if', 'F', '!=', 'C', 'and', 'H', '>', 'G', ':', '<eos>'],\n",
              " ['if', 'A', 'is', 'not', 'B:', '<eos>'],\n",
              " ['while', 'G', '!=', 'H', ':', '<eos>'],\n",
              " ['while', 'A', '<=', 'B', 'or', 'C', '>=', 'D', ':', '<eos>'],\n",
              " ['while', 'A', '<', 'D', ':', '<eos>'],\n",
              " ['def', 'A', '(', 'B', ',', 'C', ')', ':', '<eos>'],\n",
              " ['if', 'G', '>=', 'I', 'or', 'A', '>', 'E', ':', '<eos>'],\n",
              " ['if',\n",
              "  'A',\n",
              "  '<',\n",
              "  'B',\n",
              "  'and',\n",
              "  'C',\n",
              "  '==',\n",
              "  'D',\n",
              "  'or',\n",
              "  'E',\n",
              "  '<',\n",
              "  'F',\n",
              "  ':',\n",
              "  '<eos>'],\n",
              " ['for', 'B', 'in', 'range(', 'A', ',', 'E', ',', 'C', ')', ':', '<eos>'],\n",
              " ['while', 'A', '<', 'B', ':', '<eos>'],\n",
              " ['if', 'B', '==', 'D:', '<eos>']]"
            ]
          },
          "metadata": {},
          "execution_count": 58
        }
      ]
    },
    {
      "cell_type": "code",
      "source": [
        "#word2vec\n",
        "from gensim.models import Word2Vec\n",
        "\n",
        "# train word2vec model\n",
        "model_output = Word2Vec(list_output_in, size=dimension_word, window=2, workers=8, min_count=1)\n",
        "# summarize vocabulary size in model\n",
        "words = list(model_output.wv.vocab)\n",
        "print('Vocabulary size: %d' % len(words))"
      ],
      "metadata": {
        "colab": {
          "base_uri": "https://localhost:8080/"
        },
        "id": "HJTc9w8tyUaJ",
        "outputId": "c7856999-598c-4e1c-cc62-8d025a080dfe"
      },
      "execution_count": 59,
      "outputs": [
        {
          "output_type": "stream",
          "name": "stdout",
          "text": [
            "Vocabulary size: 50\n"
          ]
        }
      ]
    },
    {
      "cell_type": "code",
      "source": [
        "output_vector = model_output.wv\n",
        "output_vector['<sos>']"
      ],
      "metadata": {
        "colab": {
          "base_uri": "https://localhost:8080/"
        },
        "id": "2uShYdepyUUO",
        "outputId": "64309352-dea3-42f3-f551-91269c3a1a91"
      },
      "execution_count": 60,
      "outputs": [
        {
          "output_type": "execute_result",
          "data": {
            "text/plain": [
              "array([ 0.22116455, -0.4464739 , -0.0581246 ,  0.32979017,  0.15862134,\n",
              "       -0.12372294,  0.34922314, -0.1628795 ,  0.11291559, -0.28936833,\n",
              "       -0.13208197,  0.31516266,  0.6816756 ,  0.616229  ,  0.2869421 ,\n",
              "       -0.4424093 ,  0.4825101 ,  0.2546158 ,  0.00743445, -0.8804063 ],\n",
              "      dtype=float32)"
            ]
          },
          "metadata": {},
          "execution_count": 60
        }
      ]
    },
    {
      "cell_type": "code",
      "source": [
        "tokenizer_output = Tokenizer(lower=False)\n",
        "tokenizer_output.fit_on_texts(list_output_in)\n",
        "tokenizer_output.fit_on_texts(list_output_target)\n",
        "\n",
        "encoded_output_in = tokenizer_output.texts_to_sequences(list_output_in)\n",
        "print(encoded_output_in[:10])\n",
        "\n",
        "encoded_output_target = tokenizer_output.texts_to_sequences(list_output_target)\n",
        "print(encoded_output_target[:10])"
      ],
      "metadata": {
        "colab": {
          "base_uri": "https://localhost:8080/"
        },
        "id": "51t2bR2IyUPB",
        "outputId": "60bc6610-e51f-46ed-e264-190e91e4d191"
      },
      "execution_count": 61,
      "outputs": [
        {
          "output_type": "stream",
          "name": "stdout",
          "text": [
            "[[5, 8, 2, 16, 3, 10, 4, 11, 7, 1], [5, 9, 22, 16, 3, 12, 4, 19, 7, 1], [5, 8, 2, 19, 28], [5, 8, 4, 13, 39], [5, 9, 2, 11, 3, 12, 4, 19, 7, 1], [5, 8, 3, 16, 17, 10, 18, 13, 2, 1], [5, 8, 2, 13, 28], [5, 8, 18, 11, 17, 10, 4, 13, 21, 1], [5, 8, 2, 11, 3, 12, 4, 13, 7, 1], [5, 8, 20, 16, 4, 10, 17, 14, 22, 1]]\n",
            "[[8, 2, 16, 3, 10, 4, 11, 7, 1, 6], [9, 22, 16, 3, 12, 4, 19, 7, 1, 6], [8, 2, 19, 28, 6], [8, 4, 13, 39, 6], [9, 2, 11, 3, 12, 4, 19, 7, 1, 6], [8, 3, 16, 17, 10, 18, 13, 2, 1, 6], [8, 2, 13, 28, 6], [8, 18, 11, 17, 10, 4, 13, 21, 1, 6], [8, 2, 11, 3, 12, 4, 13, 7, 1, 6], [8, 20, 16, 4, 10, 17, 14, 22, 1, 6]]\n"
          ]
        }
      ]
    },
    {
      "cell_type": "code",
      "source": [
        "output_vector_dic = {}\n",
        "for key in model_output.wv.vocab.keys():\n",
        "    output_vector_dic[key] = output_vector[key]"
      ],
      "metadata": {
        "id": "nICuFPzAyUMS"
      },
      "execution_count": 62,
      "outputs": []
    },
    {
      "cell_type": "code",
      "source": [
        "output_embedding_vectors = get_weight_matrix(output_vector_dic, tokenizer_output.word_index)\n",
        "output_embedding_vectors[np.isnan(output_embedding_vectors)] = 0\n",
        "#정규화 \n",
        "output_embedding_vectors = output_embedding_vectors / np.absolute(output_embedding_vectors).max(axis=0)\n",
        "output_embedding_vectors"
      ],
      "metadata": {
        "colab": {
          "base_uri": "https://localhost:8080/"
        },
        "id": "QzIoMb3XyUJ_",
        "outputId": "33ae5677-2d09-4234-c0e7-1ad7185f4ec6"
      },
      "execution_count": 63,
      "outputs": [
        {
          "output_type": "execute_result",
          "data": {
            "text/plain": [
              "array([[ 0.        ,  0.        ,  0.        , ...,  0.        ,\n",
              "         0.        ,  0.        ],\n",
              "       [ 0.80765292, -0.81820255, -0.7780826 , ...,  0.93780918,\n",
              "         0.36587886, -0.80212212],\n",
              "       [ 0.7188818 , -0.78145317, -0.79846589, ...,  0.87347138,\n",
              "         0.98705055, -0.83203662],\n",
              "       ...,\n",
              "       [-0.04838908,  0.01485259,  0.15085124, ...,  0.0590222 ,\n",
              "         0.54640126, -0.01236218],\n",
              "       [ 0.04264871, -0.01593877,  0.17752448, ...,  0.10690509,\n",
              "         0.33113726, -0.01996827],\n",
              "       [ 0.08666669, -0.06783195,  0.11173033, ..., -0.01487024,\n",
              "         0.32461795,  0.0080168 ]])"
            ]
          },
          "metadata": {},
          "execution_count": 63
        }
      ]
    },
    {
      "cell_type": "code",
      "source": [
        "output_embedding_vectors.shape"
      ],
      "metadata": {
        "colab": {
          "base_uri": "https://localhost:8080/"
        },
        "id": "8t9uqiTeyUHP",
        "outputId": "358b01ca-79f8-48f6-ba9e-09c18d587f2a"
      },
      "execution_count": 64,
      "outputs": [
        {
          "output_type": "execute_result",
          "data": {
            "text/plain": [
              "(52, 20)"
            ]
          },
          "metadata": {},
          "execution_count": 64
        }
      ]
    },
    {
      "cell_type": "code",
      "source": [
        "from keras.preprocessing.sequence import pad_sequences\n",
        "\n",
        "encoder_max_length = max([len(s) for s in list_input])\n",
        "encoder_input = pad_sequences(encoded_input, maxlen=encoder_max_length, padding='post')\n",
        "print(encoder_input.shape)\n",
        "\n",
        "decoder_max_length_in = max([len(s) for s in list_output_in])\n",
        "decoder_input = pad_sequences(encoded_output_in, maxlen=decoder_max_length_in, padding='post')\n",
        "print(decoder_input.shape)\n",
        "\n",
        "decoder_max_length_target = max([len(s) for s in list_output_target])\n",
        "decoder_target = pad_sequences(encoded_output_target, maxlen=decoder_max_length_target, padding='post')\n",
        "print(decoder_target.shape)"
      ],
      "metadata": {
        "colab": {
          "base_uri": "https://localhost:8080/"
        },
        "id": "VYy3y7PvyUET",
        "outputId": "3d6da075-0f76-449b-ae08-18ba5dce712b"
      },
      "execution_count": 65,
      "outputs": [
        {
          "output_type": "stream",
          "name": "stdout",
          "text": [
            "(758, 36)\n",
            "(758, 14)\n",
            "(758, 14)\n"
          ]
        }
      ]
    },
    {
      "cell_type": "code",
      "source": [
        "from tensorflow.keras.layers import Input, LSTM, Embedding, Dense, Masking, GRU, Conv1D, MaxPooling1D, Flatten, TimeDistributed\n",
        "from tensorflow.keras.models import Model\n",
        "\n",
        "# encoder를 gru로\n",
        "\n",
        "encoder_inputs = Input(shape=(None,))\n",
        "enc_emb =  Embedding(input_embedding_vectors.shape[0], dimension_word, weights=[input_embedding_vectors])(encoder_inputs)\n",
        "enc_masking = Masking(mask_value=0.0)(enc_emb) # 패딩 0은 연산에서 제외\n",
        "encoder_gru = GRU(70, activation='relu')\n",
        "encoder_outputs = encoder_gru(enc_masking)"
      ],
      "metadata": {
        "colab": {
          "base_uri": "https://localhost:8080/"
        },
        "id": "nTAlSpTIyUBs",
        "outputId": "9e0985d0-410e-4e21-9dd8-ab5bcb5d965f"
      },
      "execution_count": 66,
      "outputs": [
        {
          "output_type": "stream",
          "name": "stdout",
          "text": [
            "WARNING:tensorflow:Layer gru_2 will not use cuDNN kernels since it doesn't meet the criteria. It will use a generic GPU kernel as fallback when running on GPU.\n"
          ]
        }
      ]
    },
    {
      "cell_type": "code",
      "source": [
        "#train encoder를 cnn으로 \n",
        "\n",
        "encoder_inputs = Input(shape=(encoder_input.shape[1],))\n",
        "enc_emb =  Embedding(input_embedding_vectors.shape[0], dimension_word, weights=[input_embedding_vectors])(encoder_inputs)\n",
        "conv = Conv1D(filters=128, kernel_size=2, activation='relu')(enc_emb)\n",
        "maxpool = MaxPooling1D(pool_size=2)(conv)\n",
        "flatten = Flatten()(maxpool)\n",
        "dense = Dense(256, activation='linear')\n",
        "encoder_outputs = dense(flatten)"
      ],
      "metadata": {
        "id": "YAziGG6vyT-v"
      },
      "execution_count": 67,
      "outputs": []
    },
    {
      "cell_type": "code",
      "source": [
        "#train decoder\n",
        "\n",
        "\n",
        "from tensorflow.keras.layers import TimeDistributed\n",
        "\n",
        "decoder_inputs = Input(shape=(None,))\n",
        "dec_emb = Embedding(output_embedding_vectors.shape[0], dimension_word, weights=[output_embedding_vectors])(decoder_inputs)\n",
        "decoder_gru = GRU(256, return_sequences=True, return_state=True, activation='relu')\n",
        "decoder_outputs, _ = decoder_gru(dec_emb, initial_state=encoder_outputs)\n",
        "decoder_dense = TimeDistributed(Dense(output_embedding_vectors.shape[0], activation='softmax'))\n",
        "decoder_outputs = decoder_dense(decoder_outputs)\n"
      ],
      "metadata": {
        "colab": {
          "base_uri": "https://localhost:8080/"
        },
        "id": "fGKgNwf-yT72",
        "outputId": "89052265-232f-4427-fa71-d6e8932d2b44"
      },
      "execution_count": 68,
      "outputs": [
        {
          "output_type": "stream",
          "name": "stdout",
          "text": [
            "WARNING:tensorflow:Layer gru_3 will not use cuDNN kernels since it doesn't meet the criteria. It will use a generic GPU kernel as fallback when running on GPU.\n"
          ]
        }
      ]
    },
    {
      "cell_type": "code",
      "source": [
        "model = Model([encoder_inputs, decoder_inputs], decoder_outputs)"
      ],
      "metadata": {
        "id": "HPueMwNGyT5I"
      },
      "execution_count": 69,
      "outputs": []
    },
    {
      "cell_type": "code",
      "source": [
        "from tensorflow.keras import optimizers\n",
        "\n",
        "model.compile(optimizer='adam', loss='sparse_categorical_crossentropy', metrics=['acc'])"
      ],
      "metadata": {
        "id": "5Abzt6URyT28"
      },
      "execution_count": 70,
      "outputs": []
    },
    {
      "cell_type": "code",
      "source": [
        "model.summary()"
      ],
      "metadata": {
        "colab": {
          "base_uri": "https://localhost:8080/"
        },
        "id": "oph84V9_yT0R",
        "outputId": "3ef053b6-5b0d-4a7b-f013-413f07427aa8"
      },
      "execution_count": 71,
      "outputs": [
        {
          "output_type": "stream",
          "name": "stdout",
          "text": [
            "Model: \"model_3\"\n",
            "__________________________________________________________________________________________________\n",
            " Layer (type)                   Output Shape         Param #     Connected to                     \n",
            "==================================================================================================\n",
            " input_6 (InputLayer)           [(None, 36)]         0           []                               \n",
            "                                                                                                  \n",
            " embedding_4 (Embedding)        (None, 36, 20)       2280        ['input_6[0][0]']                \n",
            "                                                                                                  \n",
            " conv1d_1 (Conv1D)              (None, 35, 128)      5248        ['embedding_4[0][0]']            \n",
            "                                                                                                  \n",
            " max_pooling1d_1 (MaxPooling1D)  (None, 17, 128)     0           ['conv1d_1[0][0]']               \n",
            "                                                                                                  \n",
            " input_7 (InputLayer)           [(None, None)]       0           []                               \n",
            "                                                                                                  \n",
            " flatten_1 (Flatten)            (None, 2176)         0           ['max_pooling1d_1[0][0]']        \n",
            "                                                                                                  \n",
            " embedding_5 (Embedding)        (None, None, 20)     1040        ['input_7[0][0]']                \n",
            "                                                                                                  \n",
            " dense_2 (Dense)                (None, 256)          557312      ['flatten_1[0][0]']              \n",
            "                                                                                                  \n",
            " gru_3 (GRU)                    [(None, None, 256),  213504      ['embedding_5[0][0]',            \n",
            "                                 (None, 256)]                     'dense_2[0][0]']                \n",
            "                                                                                                  \n",
            " time_distributed_1 (TimeDistri  (None, None, 52)    13364       ['gru_3[0][0]']                  \n",
            " buted)                                                                                           \n",
            "                                                                                                  \n",
            "==================================================================================================\n",
            "Total params: 792,748\n",
            "Trainable params: 792,748\n",
            "Non-trainable params: 0\n",
            "__________________________________________________________________________________________________\n"
          ]
        }
      ]
    },
    {
      "cell_type": "code",
      "source": [
        "#model.fit(x = [encoder_input, decoder_input], y = decoder_target, batch_size = 1000, epochs = 20)\n",
        "model.fit(x = [encoder_input, decoder_input], y = decoder_target, batch_size = 20, epochs = 50)"
      ],
      "metadata": {
        "colab": {
          "base_uri": "https://localhost:8080/"
        },
        "id": "W4zCC99yyTwa",
        "outputId": "d26a4d0d-5cd2-456e-817f-93d3a52e7e27"
      },
      "execution_count": 72,
      "outputs": [
        {
          "output_type": "stream",
          "name": "stdout",
          "text": [
            "Epoch 1/50\n",
            "38/38 [==============================] - 5s 66ms/step - loss: 2.2303 - acc: 0.5140\n",
            "Epoch 2/50\n",
            "38/38 [==============================] - 2s 61ms/step - loss: 1.2831 - acc: 0.6645\n",
            "Epoch 3/50\n",
            "38/38 [==============================] - 2s 64ms/step - loss: 0.9670 - acc: 0.7431\n",
            "Epoch 4/50\n",
            "38/38 [==============================] - 2s 61ms/step - loss: 0.7174 - acc: 0.7896\n",
            "Epoch 5/50\n",
            "38/38 [==============================] - 2s 62ms/step - loss: 0.5958 - acc: 0.8171\n",
            "Epoch 6/50\n",
            "38/38 [==============================] - 2s 62ms/step - loss: 0.5155 - acc: 0.8405\n",
            "Epoch 7/50\n",
            "38/38 [==============================] - 2s 64ms/step - loss: 0.4404 - acc: 0.8542\n",
            "Epoch 8/50\n",
            "38/38 [==============================] - 2s 63ms/step - loss: 0.3861 - acc: 0.8730\n",
            "Epoch 9/50\n",
            "38/38 [==============================] - 2s 64ms/step - loss: 0.3425 - acc: 0.8842\n",
            "Epoch 10/50\n",
            "38/38 [==============================] - 2s 62ms/step - loss: 0.3101 - acc: 0.8938\n",
            "Epoch 11/50\n",
            "38/38 [==============================] - 2s 62ms/step - loss: 0.2900 - acc: 0.8965\n",
            "Epoch 12/50\n",
            "38/38 [==============================] - 2s 65ms/step - loss: 0.2692 - acc: 0.9051\n",
            "Epoch 13/50\n",
            "38/38 [==============================] - 2s 65ms/step - loss: 0.2457 - acc: 0.9157\n",
            "Epoch 14/50\n",
            "38/38 [==============================] - 2s 63ms/step - loss: 0.2293 - acc: 0.9188\n",
            "Epoch 15/50\n",
            "38/38 [==============================] - 2s 63ms/step - loss: 0.2068 - acc: 0.9286\n",
            "Epoch 16/50\n",
            "38/38 [==============================] - 2s 62ms/step - loss: 0.1990 - acc: 0.9294\n",
            "Epoch 17/50\n",
            "38/38 [==============================] - 2s 64ms/step - loss: 0.1780 - acc: 0.9355\n",
            "Epoch 18/50\n",
            "38/38 [==============================] - 2s 63ms/step - loss: 0.1651 - acc: 0.9426\n",
            "Epoch 19/50\n",
            "38/38 [==============================] - 2s 64ms/step - loss: 0.1509 - acc: 0.9465\n",
            "Epoch 20/50\n",
            "38/38 [==============================] - 2s 63ms/step - loss: 0.1298 - acc: 0.9551\n",
            "Epoch 21/50\n",
            "38/38 [==============================] - 2s 63ms/step - loss: 0.1256 - acc: 0.9554\n",
            "Epoch 22/50\n",
            "38/38 [==============================] - 2s 63ms/step - loss: 0.1025 - acc: 0.9649\n",
            "Epoch 23/50\n",
            "38/38 [==============================] - 2s 65ms/step - loss: 0.0916 - acc: 0.9681\n",
            "Epoch 24/50\n",
            "38/38 [==============================] - 2s 65ms/step - loss: 0.0980 - acc: 0.9679\n",
            "Epoch 25/50\n",
            "38/38 [==============================] - 2s 64ms/step - loss: 0.0700 - acc: 0.9775\n",
            "Epoch 26/50\n",
            "38/38 [==============================] - 2s 63ms/step - loss: 0.0611 - acc: 0.9812\n",
            "Epoch 27/50\n",
            "38/38 [==============================] - 2s 60ms/step - loss: 0.0521 - acc: 0.9845\n",
            "Epoch 28/50\n",
            "38/38 [==============================] - 2s 65ms/step - loss: 0.0521 - acc: 0.9847\n",
            "Epoch 29/50\n",
            "38/38 [==============================] - 2s 64ms/step - loss: 0.0491 - acc: 0.9845\n",
            "Epoch 30/50\n",
            "38/38 [==============================] - 2s 63ms/step - loss: 0.0374 - acc: 0.9884\n",
            "Epoch 31/50\n",
            "38/38 [==============================] - 2s 64ms/step - loss: 0.0329 - acc: 0.9900\n",
            "Epoch 32/50\n",
            "38/38 [==============================] - 2s 61ms/step - loss: 0.0237 - acc: 0.9946\n",
            "Epoch 33/50\n",
            "38/38 [==============================] - 2s 62ms/step - loss: 0.0202 - acc: 0.9951\n",
            "Epoch 34/50\n",
            "38/38 [==============================] - 2s 62ms/step - loss: 0.0187 - acc: 0.9947\n",
            "Epoch 35/50\n",
            "38/38 [==============================] - 2s 62ms/step - loss: 0.0118 - acc: 0.9976\n",
            "Epoch 36/50\n",
            "38/38 [==============================] - 2s 62ms/step - loss: 0.0134 - acc: 0.9972\n",
            "Epoch 37/50\n",
            "38/38 [==============================] - 2s 65ms/step - loss: 0.0073 - acc: 0.9985\n",
            "Epoch 38/50\n",
            "38/38 [==============================] - 2s 64ms/step - loss: 0.0104 - acc: 0.9975\n",
            "Epoch 39/50\n",
            "38/38 [==============================] - 2s 64ms/step - loss: 0.0175 - acc: 0.9963\n",
            "Epoch 40/50\n",
            "38/38 [==============================] - 2s 62ms/step - loss: 0.0161 - acc: 0.9956\n",
            "Epoch 41/50\n",
            "38/38 [==============================] - 2s 63ms/step - loss: 0.0234 - acc: 0.9944\n",
            "Epoch 42/50\n",
            "38/38 [==============================] - 2s 64ms/step - loss: 0.0397 - acc: 0.9891\n",
            "Epoch 43/50\n",
            "38/38 [==============================] - 2s 63ms/step - loss: 0.0286 - acc: 0.9919\n",
            "Epoch 44/50\n",
            "38/38 [==============================] - 2s 63ms/step - loss: 0.0131 - acc: 0.9964\n",
            "Epoch 45/50\n",
            "38/38 [==============================] - 2s 63ms/step - loss: 0.0107 - acc: 0.9972\n",
            "Epoch 46/50\n",
            "38/38 [==============================] - 2s 62ms/step - loss: 0.0102 - acc: 0.9973\n",
            "Epoch 47/50\n",
            "38/38 [==============================] - 2s 63ms/step - loss: 0.0106 - acc: 0.9972\n",
            "Epoch 48/50\n",
            "38/38 [==============================] - 2s 63ms/step - loss: 0.0151 - acc: 0.9963\n",
            "Epoch 49/50\n",
            "38/38 [==============================] - 2s 63ms/step - loss: 0.0082 - acc: 0.9984\n",
            "Epoch 50/50\n",
            "38/38 [==============================] - 2s 63ms/step - loss: 0.0052 - acc: 0.9985\n"
          ]
        },
        {
          "output_type": "execute_result",
          "data": {
            "text/plain": [
              "<keras.callbacks.History at 0x7f9bbe315950>"
            ]
          },
          "metadata": {},
          "execution_count": 72
        }
      ]
    },
    {
      "cell_type": "code",
      "source": [
        "#test encoder\n",
        "encoder_model_test = Model(encoder_inputs, encoder_outputs)"
      ],
      "metadata": {
        "id": "k3q-65YPyTto"
      },
      "execution_count": 73,
      "outputs": []
    },
    {
      "cell_type": "code",
      "source": [
        "decoder_states_inputs = Input(shape=(256, ))\n",
        "dec_emb2 = dec_emb\n",
        "decoder_outputs_test, decoder_states = decoder_gru(dec_emb2, initial_state=decoder_states_inputs)\n",
        "decoder_outputs_test = decoder_dense(decoder_outputs_test)\n",
        "decoder_model = Model([decoder_inputs, decoder_states_inputs], [decoder_outputs_test, decoder_states])"
      ],
      "metadata": {
        "id": "a4xLe8A9yTqi"
      },
      "execution_count": 74,
      "outputs": []
    },
    {
      "cell_type": "code",
      "source": [
        "input_to_index = tokenizer_input.word_index\n",
        "index_to_input = tokenizer_input.index_word\n",
        "target_to_index = tokenizer_output.word_index \n",
        "index_to_target = tokenizer_output.index_word"
      ],
      "metadata": {
        "id": "PjLMm6C0yTlF"
      },
      "execution_count": 75,
      "outputs": []
    },
    {
      "cell_type": "code",
      "source": [
        "def decode_sequence(input_seq):\n",
        "  states_value = encoder_model_test.predict(input_seq)\n",
        "\n",
        "  target_seq = np.array(target_to_index['<sos>']).reshape((1,1,1))\n",
        "  decoded_sentence = \"\"\n",
        "  predict_char = \"\"\n",
        "\n",
        "  while True:\n",
        "    output_tokens, state = decoder_model.predict([target_seq, states_value])\n",
        "    predict_char_index = np.argmax(output_tokens[0][0])\n",
        "    predict_char = index_to_target[predict_char_index]\n",
        "\n",
        "    if predict_char == '<eos>':\n",
        "      break\n",
        "\n",
        "    decoded_sentence = decoded_sentence + ' ' + predict_char\n",
        "    target_seq[0][0] = predict_char_index\n",
        "    states_value = [state]\n",
        "\n",
        "  return decoded_sentence"
      ],
      "metadata": {
        "id": "2UXeq-XyyTiW"
      },
      "execution_count": 76,
      "outputs": []
    },
    {
      "cell_type": "code",
      "source": [
        "def seq2input(input_seq):\n",
        "  sentence = \"\"\n",
        "  for i in input_seq:\n",
        "    if i != 0:\n",
        "      sentence = sentence + index_to_input[i]+' '\n",
        "  return sentence"
      ],
      "metadata": {
        "id": "XL0zMok-yTfi"
      },
      "execution_count": 77,
      "outputs": []
    },
    {
      "cell_type": "code",
      "source": [
        "def seq2target(input_seq):\n",
        "  sentence = \"\"\n",
        "  for i in input_seq[1:]:\n",
        "    if i != 0:\n",
        "      sentence = sentence + index_to_target[i] + ' '\n",
        "  return sentence"
      ],
      "metadata": {
        "id": "TsXbg6uvyTcz"
      },
      "execution_count": 78,
      "outputs": []
    },
    {
      "cell_type": "code",
      "source": [
        "list_input_test = []\n",
        "\n",
        "for txt in test_data['INPUT']:\n",
        "  \n",
        "  s = []\n",
        "  for token in txt:\n",
        "    if token != ' ':\n",
        "      s.append(token)\n",
        "  list_input_test.append(s)\n",
        "\n",
        "list_input_test[:10]"
      ],
      "metadata": {
        "colab": {
          "base_uri": "https://localhost:8080/"
        },
        "id": "N2UG2zLqyTZ9",
        "outputId": "61430fc8-979d-4a0a-d3f1-37cabca080dc"
      },
      "execution_count": 79,
      "outputs": [
        {
          "output_type": "execute_result",
          "data": {
            "text/plain": [
              "[['A', '에', '다', '가', '입', '력', '받', '아', '줘'],\n",
              " ['A',\n",
              "  '가',\n",
              "  'B',\n",
              "  '랑',\n",
              "  '같',\n",
              "  '으',\n",
              "  '면',\n",
              "  '서',\n",
              "  'C',\n",
              "  '가',\n",
              "  'D',\n",
              "  '이',\n",
              "  '상',\n",
              "  '일',\n",
              "  '때',\n",
              "  '까',\n",
              "  '지',\n",
              "  '반',\n",
              "  '복',\n",
              "  '해',\n",
              "  '줘'],\n",
              " ['A',\n",
              "  '가',\n",
              "  'B',\n",
              "  '랑',\n",
              "  '같',\n",
              "  '고',\n",
              "  '또',\n",
              "  '는',\n",
              "  'C',\n",
              "  '가',\n",
              "  'D',\n",
              "  '랑',\n",
              "  '같',\n",
              "  '을',\n",
              "  '때',\n",
              "  '까',\n",
              "  '지',\n",
              "  '반',\n",
              "  '복',\n",
              "  '해',\n",
              "  '줘'],\n",
              " ['A',\n",
              "  '가',\n",
              "  'B',\n",
              "  '랑',\n",
              "  '같',\n",
              "  '고',\n",
              "  'C',\n",
              "  '가',\n",
              "  'D',\n",
              "  '보',\n",
              "  '다',\n",
              "  '클',\n",
              "  '때',\n",
              "  '까',\n",
              "  '지',\n",
              "  '반',\n",
              "  '복',\n",
              "  '해',\n",
              "  '줘'],\n",
              " ['만',\n",
              "  '약',\n",
              "  'A',\n",
              "  '랑',\n",
              "  'B',\n",
              "  '랑',\n",
              "  '다',\n",
              "  '르',\n",
              "  '고',\n",
              "  '또',\n",
              "  '는',\n",
              "  'C',\n",
              "  '가',\n",
              "  'D',\n",
              "  '보',\n",
              "  '다',\n",
              "  '크',\n",
              "  '다',\n",
              "  '면'],\n",
              " ['A',\n",
              "  '가',\n",
              "  'B',\n",
              "  '미',\n",
              "  '만',\n",
              "  '이',\n",
              "  '면',\n",
              "  '서',\n",
              "  '또',\n",
              "  '는',\n",
              "  'C',\n",
              "  '가',\n",
              "  'D',\n",
              "  '보',\n",
              "  '다',\n",
              "  '클',\n",
              "  '때',\n",
              "  '까',\n",
              "  '지',\n",
              "  '반',\n",
              "  '복',\n",
              "  '해',\n",
              "  '줘'],\n",
              " ['A', '가', 'B', '와', '다', '를', '경', '우'],\n",
              " ['A',\n",
              "  '가',\n",
              "  'B',\n",
              "  '보',\n",
              "  '다',\n",
              "  '작',\n",
              "  '으',\n",
              "  '면',\n",
              "  '서',\n",
              "  '또',\n",
              "  '는',\n",
              "  'C',\n",
              "  '가',\n",
              "  'D',\n",
              "  '보',\n",
              "  '다',\n",
              "  '작',\n",
              "  '을',\n",
              "  '때',\n",
              "  '까',\n",
              "  '지',\n",
              "  '반',\n",
              "  '복',\n",
              "  '해',\n",
              "  '줘'],\n",
              " ['A',\n",
              "  '보',\n",
              "  '다',\n",
              "  'B',\n",
              "  '가',\n",
              "  '크',\n",
              "  '거',\n",
              "  '나',\n",
              "  '같',\n",
              "  '으',\n",
              "  '면',\n",
              "  '서',\n",
              "  'C',\n",
              "  '와',\n",
              "  'D',\n",
              "  '가',\n",
              "  '같',\n",
              "  '을',\n",
              "  '때',\n",
              "  '까',\n",
              "  '지',\n",
              "  '돌',\n",
              "  '려',\n",
              "  '줘'],\n",
              " ['A',\n",
              "  '가',\n",
              "  'B',\n",
              "  '랑',\n",
              "  '다',\n",
              "  '르',\n",
              "  '거',\n",
              "  '나',\n",
              "  '또',\n",
              "  '는',\n",
              "  'C',\n",
              "  '가',\n",
              "  'D',\n",
              "  '랑',\n",
              "  '같',\n",
              "  '거',\n",
              "  '나',\n",
              "  '작',\n",
              "  '을',\n",
              "  '때',\n",
              "  '까',\n",
              "  '지',\n",
              "  '반',\n",
              "  '복',\n",
              "  '해']]"
            ]
          },
          "metadata": {},
          "execution_count": 79
        }
      ]
    },
    {
      "cell_type": "code",
      "source": [
        "encoded_input_test = tokenizer_input.texts_to_sequences(list_input_test)\n",
        "encoded_input_test[:10]"
      ],
      "metadata": {
        "colab": {
          "base_uri": "https://localhost:8080/"
        },
        "id": "c7eYy5XPyTXc",
        "outputId": "5e528210-c13f-4a47-c610-bb724600b8ce"
      },
      "execution_count": 80,
      "outputs": [
        {
          "output_type": "execute_result",
          "data": {
            "text/plain": [
              "[[3, 86, 2, 1, 97, 58, 109, 70, 14],\n",
              " [3, 1, 4, 10, 16, 42, 5, 21, 7, 1, 8, 9, 41, 39, 15, 13, 12, 23, 24, 19, 14],\n",
              " [3,\n",
              "  1,\n",
              "  4,\n",
              "  10,\n",
              "  16,\n",
              "  17,\n",
              "  27,\n",
              "  18,\n",
              "  7,\n",
              "  1,\n",
              "  8,\n",
              "  10,\n",
              "  16,\n",
              "  37,\n",
              "  15,\n",
              "  13,\n",
              "  12,\n",
              "  23,\n",
              "  24,\n",
              "  19,\n",
              "  14],\n",
              " [3, 1, 4, 10, 16, 17, 7, 1, 8, 6, 2, 44, 15, 13, 12, 23, 24, 19, 14],\n",
              " [11, 20, 3, 10, 4, 10, 2, 38, 17, 27, 18, 7, 1, 8, 6, 2, 28, 2, 5],\n",
              " [3,\n",
              "  1,\n",
              "  4,\n",
              "  50,\n",
              "  11,\n",
              "  9,\n",
              "  5,\n",
              "  21,\n",
              "  27,\n",
              "  18,\n",
              "  7,\n",
              "  1,\n",
              "  8,\n",
              "  6,\n",
              "  2,\n",
              "  44,\n",
              "  15,\n",
              "  13,\n",
              "  12,\n",
              "  23,\n",
              "  24,\n",
              "  19,\n",
              "  14],\n",
              " [3, 1, 4, 40, 2, 29, 80, 81],\n",
              " [3,\n",
              "  1,\n",
              "  4,\n",
              "  6,\n",
              "  2,\n",
              "  22,\n",
              "  42,\n",
              "  5,\n",
              "  21,\n",
              "  27,\n",
              "  18,\n",
              "  7,\n",
              "  1,\n",
              "  8,\n",
              "  6,\n",
              "  2,\n",
              "  22,\n",
              "  37,\n",
              "  15,\n",
              "  13,\n",
              "  12,\n",
              "  23,\n",
              "  24,\n",
              "  19,\n",
              "  14],\n",
              " [3,\n",
              "  6,\n",
              "  2,\n",
              "  4,\n",
              "  1,\n",
              "  28,\n",
              "  31,\n",
              "  30,\n",
              "  16,\n",
              "  42,\n",
              "  5,\n",
              "  21,\n",
              "  7,\n",
              "  40,\n",
              "  8,\n",
              "  1,\n",
              "  16,\n",
              "  37,\n",
              "  15,\n",
              "  13,\n",
              "  12,\n",
              "  25,\n",
              "  26,\n",
              "  14],\n",
              " [3,\n",
              "  1,\n",
              "  4,\n",
              "  10,\n",
              "  2,\n",
              "  38,\n",
              "  31,\n",
              "  30,\n",
              "  27,\n",
              "  18,\n",
              "  7,\n",
              "  1,\n",
              "  8,\n",
              "  10,\n",
              "  16,\n",
              "  31,\n",
              "  30,\n",
              "  22,\n",
              "  37,\n",
              "  15,\n",
              "  13,\n",
              "  12,\n",
              "  23,\n",
              "  24,\n",
              "  19]]"
            ]
          },
          "metadata": {},
          "execution_count": 80
        }
      ]
    },
    {
      "cell_type": "code",
      "source": [
        "encoder_input_test = pad_sequences(encoded_input_test, maxlen=encoder_max_length, padding='post')\n",
        "print(encoder_input_test.shape)\n"
      ],
      "metadata": {
        "colab": {
          "base_uri": "https://localhost:8080/"
        },
        "id": "rZ2Ept9HyTUi",
        "outputId": "08b76ba4-c5b1-41de-95f2-3b4f2f520b15"
      },
      "execution_count": 81,
      "outputs": [
        {
          "output_type": "stream",
          "name": "stdout",
          "text": [
            "(94, 36)\n"
          ]
        }
      ]
    },
    {
      "cell_type": "code",
      "source": [
        "for seq_index in range(11,16,1):\n",
        "  input_seq = encoder_input_test[seq_index:seq_index+1]\n",
        "  decoded_sentence = decode_sequence(input_seq)\n",
        "  print(\"한국어 :\",seq2input(encoder_input_test[seq_index]))\n",
        "  print(\"정답코드 : \", test_data.iloc[seq_index]['OUTPUT'])\n",
        "  print(\"예측코드 : \",decoded_sentence,\"\\n\")"
      ],
      "metadata": {
        "colab": {
          "base_uri": "https://localhost:8080/"
        },
        "id": "VQQ6nuhUyTRG",
        "outputId": "cc76a278-c786-42c6-c452-c86c0b67f82e"
      },
      "execution_count": 82,
      "outputs": [
        {
          "output_type": "stream",
          "name": "stdout",
          "text": [
            "한국어 : A 보 다 B 가 크 거 나 같 을 때 까 지 반 복 해 \n",
            "정답코드 :  while A <= B :\n",
            "예측코드 :   while A >= B : \n",
            "\n",
            "한국어 : A 가 B 이 상 이 고 C 가 D 이 하 일 때 까 지 반 복 돌 려 줘 \n",
            "정답코드 :  while A>= B and C <= D :\n",
            "예측코드 :   while A>= B and C <= D : \n",
            "\n",
            "한국어 : A 가 B 이 하 이 고 C 가 D 보 다 클 때 까 지 돌 려 \n",
            "정답코드 :  while A <= B and C > D :\n",
            "예측코드 :   while A <= B and C > D : \n",
            "\n",
            "한국어 : A 보 다 B 가 크 거 나 같 으 면 서 또 는 C 가 D 보 다 클 때 까 지 돌 려 \n",
            "정답코드 :  while A <= B or C > D :\n",
            "예측코드 :   while A <= B or C > D : \n",
            "\n",
            "한국어 : 반 복 문 인 데 무 한 번 으 로 \n",
            "정답코드 :  while True :\n",
            "예측코드 :   if E == D: \n",
            "\n"
          ]
        }
      ]
    },
    {
      "cell_type": "code",
      "source": [
        "#집합 S만들기\n",
        "\n",
        "!pip install konlpy\n",
        "\n",
        "from konlpy.tag import Twitter\n",
        "\n",
        "S = []\n",
        "twitter = Twitter()\n",
        "for input in list(data['INPUT']):\n",
        "  twitter_result = twitter.pos(input, stem = True)\n",
        "\n",
        "  # break\n",
        "  for char in twitter_result:\n",
        "    S.append(char[0])\n",
        "\n",
        "S = list(set(S))\n",
        "S"
      ],
      "metadata": {
        "colab": {
          "base_uri": "https://localhost:8080/"
        },
        "id": "aw1D8JcSyTJc",
        "outputId": "7402c399-2fc5-443c-ab1e-53029af041ba"
      },
      "execution_count": 111,
      "outputs": [
        {
          "output_type": "stream",
          "name": "stdout",
          "text": [
            "Requirement already satisfied: konlpy in /usr/local/lib/python3.7/dist-packages (0.5.2)\n",
            "Requirement already satisfied: colorama in /usr/local/lib/python3.7/dist-packages (from konlpy) (0.4.4)\n",
            "Requirement already satisfied: tweepy>=3.7.0 in /usr/local/lib/python3.7/dist-packages (from konlpy) (3.10.0)\n",
            "Requirement already satisfied: JPype1>=0.7.0 in /usr/local/lib/python3.7/dist-packages (from konlpy) (1.3.0)\n",
            "Requirement already satisfied: beautifulsoup4==4.6.0 in /usr/local/lib/python3.7/dist-packages (from konlpy) (4.6.0)\n",
            "Requirement already satisfied: lxml>=4.1.0 in /usr/local/lib/python3.7/dist-packages (from konlpy) (4.2.6)\n",
            "Requirement already satisfied: numpy>=1.6 in /usr/local/lib/python3.7/dist-packages (from konlpy) (1.19.5)\n",
            "Requirement already satisfied: typing-extensions in /usr/local/lib/python3.7/dist-packages (from JPype1>=0.7.0->konlpy) (3.10.0.2)\n",
            "Requirement already satisfied: requests[socks]>=2.11.1 in /usr/local/lib/python3.7/dist-packages (from tweepy>=3.7.0->konlpy) (2.23.0)\n",
            "Requirement already satisfied: requests-oauthlib>=0.7.0 in /usr/local/lib/python3.7/dist-packages (from tweepy>=3.7.0->konlpy) (1.3.0)\n",
            "Requirement already satisfied: six>=1.10.0 in /usr/local/lib/python3.7/dist-packages (from tweepy>=3.7.0->konlpy) (1.15.0)\n",
            "Requirement already satisfied: oauthlib>=3.0.0 in /usr/local/lib/python3.7/dist-packages (from requests-oauthlib>=0.7.0->tweepy>=3.7.0->konlpy) (3.1.1)\n",
            "Requirement already satisfied: certifi>=2017.4.17 in /usr/local/lib/python3.7/dist-packages (from requests[socks]>=2.11.1->tweepy>=3.7.0->konlpy) (2021.10.8)\n",
            "Requirement already satisfied: idna<3,>=2.5 in /usr/local/lib/python3.7/dist-packages (from requests[socks]>=2.11.1->tweepy>=3.7.0->konlpy) (2.10)\n",
            "Requirement already satisfied: chardet<4,>=3.0.2 in /usr/local/lib/python3.7/dist-packages (from requests[socks]>=2.11.1->tweepy>=3.7.0->konlpy) (3.0.4)\n",
            "Requirement already satisfied: urllib3!=1.25.0,!=1.25.1,<1.26,>=1.21.1 in /usr/local/lib/python3.7/dist-packages (from requests[socks]>=2.11.1->tweepy>=3.7.0->konlpy) (1.24.3)\n",
            "Requirement already satisfied: PySocks!=1.5.7,>=1.5.6 in /usr/local/lib/python3.7/dist-packages (from requests[socks]>=2.11.1->tweepy>=3.7.0->konlpy) (1.7.1)\n"
          ]
        },
        {
          "output_type": "stream",
          "name": "stderr",
          "text": [
            "/usr/local/lib/python3.7/dist-packages/konlpy/tag/_okt.py:16: UserWarning: \"Twitter\" has changed to \"Okt\" since KoNLPy v0.4.5.\n",
            "  warn('\"Twitter\" has changed to \"Okt\" since KoNLPy v0.4.5.')\n"
          ]
        },
        {
          "output_type": "execute_result",
          "data": {
            "text/plain": [
              "['받다',\n",
              " '무한',\n",
              " '라면',\n",
              " '해주다',\n",
              " '이면',\n",
              " '반복',\n",
              " '하',\n",
              " '려',\n",
              " '거',\n",
              " '가다',\n",
              " 'A',\n",
              " '리턴',\n",
              " '까지',\n",
              " '반',\n",
              " '커지다',\n",
              " '에',\n",
              " '이상일',\n",
              " '지다',\n",
              " '서',\n",
              " '해',\n",
              " '미만',\n",
              " '이하이',\n",
              " '보다',\n",
              " '작',\n",
              " '고',\n",
              " '거나',\n",
              " 'B',\n",
              " 'F',\n",
              " '라는',\n",
              " '랑',\n",
              " '로',\n",
              " '이다',\n",
              " '오다',\n",
              " '이고',\n",
              " '변수',\n",
              " 'G',\n",
              " '돌리다',\n",
              " '입력',\n",
              " '초과',\n",
              " 'I',\n",
              " '작고',\n",
              " '씩',\n",
              " '때',\n",
              " '빼다',\n",
              " '대입',\n",
              " '동일하다',\n",
              " '초기',\n",
              " '실행',\n",
              " '아니다',\n",
              " '더하다',\n",
              " '되다',\n",
              " '계속',\n",
              " '이',\n",
              " '문',\n",
              " 'H',\n",
              " '이하',\n",
              " '만약',\n",
              " '인자',\n",
              " '하고',\n",
              " '화하다',\n",
              " '문자열',\n",
              " '목문',\n",
              " '를',\n",
              " '시키다',\n",
              " '다르다',\n",
              " '않다',\n",
              " '그렇다',\n",
              " '매개변수',\n",
              " '서로',\n",
              " '만큼',\n",
              " '또는',\n",
              " '만일',\n",
              " '늘다',\n",
              " '같다',\n",
              " '바꾸다',\n",
              " '부터',\n",
              " '화',\n",
              " '포함',\n",
              " '넣다',\n",
              " '주다',\n",
              " '복',\n",
              " '설정',\n",
              " '있다',\n",
              " 'D',\n",
              " 'E',\n",
              " '화해',\n",
              " '증가',\n",
              " '인데',\n",
              " '면',\n",
              " '함수',\n",
              " 'C',\n",
              " '인',\n",
              " '문해',\n",
              " '끄다',\n",
              " '작다',\n",
              " '에는',\n",
              " '돌려주다',\n",
              " '경우',\n",
              " '크다',\n",
              " '감소',\n",
              " '일',\n",
              " '을',\n",
              " '만들다',\n",
              " '보',\n",
              " '다',\n",
              " '번',\n",
              " '이상',\n",
              " '출력',\n",
              " '돌',\n",
              " '하다',\n",
              " '나',\n",
              " '이하일']"
            ]
          },
          "metadata": {},
          "execution_count": 111
        }
      ]
    },
    {
      "cell_type": "code",
      "source": [
        "  print(twitter_result)"
      ],
      "metadata": {
        "colab": {
          "base_uri": "https://localhost:8080/"
        },
        "id": "iKHeZOmnzh3s",
        "outputId": "6b2938c0-ea8a-4a6b-b522-a00d12e09175"
      },
      "execution_count": 112,
      "outputs": [
        {
          "output_type": "stream",
          "name": "stdout",
          "text": [
            "[('만약', 'Noun'), ('A', 'Alpha'), ('랑', 'Josa'), ('I', 'Alpha'), ('랑', 'Josa'), ('다르다', 'Adjective'), ('H', 'Alpha'), ('가다', 'Verb'), ('B', 'Alpha'), ('랑', 'Josa'), ('같다', 'Adjective')]\n"
          ]
        }
      ]
    },
    {
      "cell_type": "code",
      "source": [
        "########################유닛 추출하기#########################\n",
        "\n",
        "sentence = \"만약 바나나가 3보다 작고 사과가 수박보다 작다면\"\n",
        "alpha_2 = ['A', 'B','C','D','E','F','G','H','I']\n",
        "\n",
        "twitter_sentence = twitter.pos(sentence, stem=True)\n",
        "\n",
        "alpha_to_unit = {}\n",
        "unit_to_alpha = {}\n",
        "i = 0\n",
        "for char in twitter_sentence:\n",
        "  if char[0] in S:\n",
        "    continue\n",
        "  if char[1] == 'Noun' or char[1] == 'Number':\n",
        "    alpha_to_unit[alpha_2[i]] = char[0]\n",
        "    unit_to_alpha[char[0]] = alpha_2[i]\n",
        "    i += 1\n",
        "print(alpha_to_unit)\n",
        "print(unit_to_alpha)"
      ],
      "metadata": {
        "colab": {
          "base_uri": "https://localhost:8080/"
        },
        "id": "9VJtM-Xyzh1d",
        "outputId": "b15150b1-c196-470e-e87b-b1f095b2b070"
      },
      "execution_count": 113,
      "outputs": [
        {
          "output_type": "stream",
          "name": "stdout",
          "text": [
            "{'A': '바나나', 'B': '3', 'C': '사과', 'D': '수박'}\n",
            "{'바나나': 'A', '3': 'B', '사과': 'C', '수박': 'D'}\n"
          ]
        }
      ]
    },
    {
      "cell_type": "code",
      "source": [
        "#####################문장 알파벳화하기#########################\n",
        "\n",
        "for key, item in unit_to_alpha.items():\n",
        "  sentence = sentence.replace(key, item)\n",
        "\n",
        "print(sentence)"
      ],
      "metadata": {
        "colab": {
          "base_uri": "https://localhost:8080/"
        },
        "id": "loIj50wrzhzF",
        "outputId": "2385c2f4-14cb-4b60-9be8-26f8b628b641"
      },
      "execution_count": 114,
      "outputs": [
        {
          "output_type": "stream",
          "name": "stdout",
          "text": [
            "만약 A가 B보다 작고 C가 D보다 작다면\n"
          ]
        }
      ]
    },
    {
      "cell_type": "code",
      "source": [
        "###############학습모형 이용하여 알파벳화된 문장을 코드로 바꾸기 ##############\n",
        "\n",
        "seq = []\n",
        "for sen in sentence:\n",
        "  if sen != ' ':\n",
        "    k = input_to_index[sen]\n",
        "    seq.append(k)\n",
        "d = pad_sequences([seq], maxlen=encoder_max_length, padding='post')\n",
        "\n",
        "code = decode_sequence([d])\n",
        "print('INPUT :',sentence)\n",
        "print('OUTPUT :',code)"
      ],
      "metadata": {
        "colab": {
          "base_uri": "https://localhost:8080/"
        },
        "id": "GJLzeJ-jzhwv",
        "outputId": "54ae4a42-a437-4eee-de23-3855315296c3"
      },
      "execution_count": 115,
      "outputs": [
        {
          "output_type": "stream",
          "name": "stdout",
          "text": [
            "INPUT : 만약 A가 B보다 작고 C가 D보다 작다면\n",
            "OUTPUT :  if A < B and C < D :\n"
          ]
        }
      ]
    },
    {
      "cell_type": "code",
      "source": [
        "####################코드에서 알파벳을 다시 기존 단어/숫자로 대체하기###################### \n",
        "\n",
        "for key, item in alpha_to_unit.items():\n",
        "  code = code.replace(key,item)\n",
        "print(code)"
      ],
      "metadata": {
        "colab": {
          "base_uri": "https://localhost:8080/"
        },
        "id": "VWplNRVHzhuj",
        "outputId": "c0eaa7f9-b8d5-44b6-fe8c-34e433e9fc4f"
      },
      "execution_count": 116,
      "outputs": [
        {
          "output_type": "stream",
          "name": "stdout",
          "text": [
            " if 바나나 < 3 and 사과 < 수박 :\n"
          ]
        }
      ]
    },
    {
      "cell_type": "code",
      "source": [
        "!apt install libasound2-dev portaudio19-dev libportaudio2 libportaudiocpp0 ffmpeg"
      ],
      "metadata": {
        "colab": {
          "base_uri": "https://localhost:8080/"
        },
        "id": "K0VW_Kgpzhrl",
        "outputId": "6560fd87-8ffb-410b-aa92-fa8771855c4c"
      },
      "execution_count": 89,
      "outputs": [
        {
          "output_type": "stream",
          "name": "stdout",
          "text": [
            "Reading package lists... Done\n",
            "Building dependency tree       \n",
            "Reading state information... Done\n",
            "libasound2-dev is already the newest version (1.1.3-5ubuntu0.6).\n",
            "ffmpeg is already the newest version (7:3.4.8-0ubuntu0.2).\n",
            "Suggested packages:\n",
            "  portaudio19-doc\n",
            "The following NEW packages will be installed:\n",
            "  libportaudio2 libportaudiocpp0 portaudio19-dev\n",
            "0 upgraded, 3 newly installed, 0 to remove and 37 not upgraded.\n",
            "Need to get 184 kB of archives.\n",
            "After this operation, 891 kB of additional disk space will be used.\n",
            "Get:1 http://archive.ubuntu.com/ubuntu bionic/universe amd64 libportaudio2 amd64 19.6.0-1 [64.6 kB]\n",
            "Get:2 http://archive.ubuntu.com/ubuntu bionic/universe amd64 libportaudiocpp0 amd64 19.6.0-1 [15.1 kB]\n",
            "Get:3 http://archive.ubuntu.com/ubuntu bionic/universe amd64 portaudio19-dev amd64 19.6.0-1 [104 kB]\n",
            "Fetched 184 kB in 0s (2,445 kB/s)\n",
            "Selecting previously unselected package libportaudio2:amd64.\n",
            "(Reading database ... 155222 files and directories currently installed.)\n",
            "Preparing to unpack .../libportaudio2_19.6.0-1_amd64.deb ...\n",
            "Unpacking libportaudio2:amd64 (19.6.0-1) ...\n",
            "Selecting previously unselected package libportaudiocpp0:amd64.\n",
            "Preparing to unpack .../libportaudiocpp0_19.6.0-1_amd64.deb ...\n",
            "Unpacking libportaudiocpp0:amd64 (19.6.0-1) ...\n",
            "Selecting previously unselected package portaudio19-dev:amd64.\n",
            "Preparing to unpack .../portaudio19-dev_19.6.0-1_amd64.deb ...\n",
            "Unpacking portaudio19-dev:amd64 (19.6.0-1) ...\n",
            "Setting up libportaudio2:amd64 (19.6.0-1) ...\n",
            "Setting up libportaudiocpp0:amd64 (19.6.0-1) ...\n",
            "Setting up portaudio19-dev:amd64 (19.6.0-1) ...\n",
            "Processing triggers for libc-bin (2.27-3ubuntu1.3) ...\n",
            "/sbin/ldconfig.real: /usr/local/lib/python3.7/dist-packages/ideep4py/lib/libmkldnn.so.0 is not a symbolic link\n",
            "\n"
          ]
        }
      ]
    },
    {
      "cell_type": "code",
      "source": [
        "!pip install PyAudio"
      ],
      "metadata": {
        "colab": {
          "base_uri": "https://localhost:8080/"
        },
        "id": "WJisfRHQzhow",
        "outputId": "b6ea01f4-8e52-410a-8dc3-708679e80ce3"
      },
      "execution_count": 90,
      "outputs": [
        {
          "output_type": "stream",
          "name": "stdout",
          "text": [
            "Collecting PyAudio\n",
            "  Downloading PyAudio-0.2.11.tar.gz (37 kB)\n",
            "Building wheels for collected packages: PyAudio\n",
            "  Building wheel for PyAudio (setup.py) ... \u001b[?25l\u001b[?25hdone\n",
            "  Created wheel for PyAudio: filename=PyAudio-0.2.11-cp37-cp37m-linux_x86_64.whl size=52614 sha256=23eae05355a1861f60aea4fc9445408e4be58daddc17175ee2f59f25a99419f7\n",
            "  Stored in directory: /root/.cache/pip/wheels/40/2e/4c/b71e7e96c861a46e6213bc6bb482b94dcf293a92c5e736c1ec\n",
            "Successfully built PyAudio\n",
            "Installing collected packages: PyAudio\n",
            "Successfully installed PyAudio-0.2.11\n"
          ]
        }
      ]
    },
    {
      "cell_type": "code",
      "source": [
        "!pip install ffmpeg-python"
      ],
      "metadata": {
        "colab": {
          "base_uri": "https://localhost:8080/"
        },
        "id": "7HG0wnsazhmQ",
        "outputId": "12e59eea-487c-45e8-ec3f-9cbba710b94e"
      },
      "execution_count": 91,
      "outputs": [
        {
          "output_type": "stream",
          "name": "stdout",
          "text": [
            "Collecting ffmpeg-python\n",
            "  Downloading ffmpeg_python-0.2.0-py3-none-any.whl (25 kB)\n",
            "Requirement already satisfied: future in /usr/local/lib/python3.7/dist-packages (from ffmpeg-python) (0.16.0)\n",
            "Installing collected packages: ffmpeg-python\n",
            "Successfully installed ffmpeg-python-0.2.0\n"
          ]
        }
      ]
    },
    {
      "cell_type": "code",
      "source": [
        "from IPython.display import HTML, Audio\n",
        "from google.colab.output import eval_js\n",
        "from base64 import b64decode\n",
        "import numpy as np\n",
        "from scipy.io.wavfile import read as wav_read\n",
        "import io\n",
        "import ffmpeg\n",
        "\n",
        "AUDIO_HTML = \"\"\"\n",
        "<script>\n",
        "var my_div = document.createElement(\"DIV\");\n",
        "var my_p = document.createElement(\"P\");\n",
        "var my_btn = document.createElement(\"BUTTON\");\n",
        "var t = document.createTextNode(\"Press to start recording\");\n",
        "\n",
        "my_btn.appendChild(t);\n",
        "//my_p.appendChild(my_btn);\n",
        "my_div.appendChild(my_btn);\n",
        "document.body.appendChild(my_div);\n",
        "\n",
        "var base64data = 0;\n",
        "var reader;\n",
        "var recorder, gumStream;\n",
        "var recordButton = my_btn;\n",
        "\n",
        "var handleSuccess = function(stream) {\n",
        "  gumStream = stream;\n",
        "  var options = {\n",
        "    //bitsPerSecond: 8000, //chrome seems to ignore, always 48k\n",
        "    mimeType : 'audio/webm;codecs=opus'\n",
        "    //mimeType : 'audio/webm;codecs=pcm'\n",
        "  };            \n",
        "  //recorder = new MediaRecorder(stream, options);\n",
        "  recorder = new MediaRecorder(stream);\n",
        "  recorder.ondataavailable = function(e) {            \n",
        "    var url = URL.createObjectURL(e.data);\n",
        "    var preview = document.createElement('audio');\n",
        "    preview.controls = true;\n",
        "    preview.src = url;\n",
        "    document.body.appendChild(preview);\n",
        "\n",
        "    reader = new FileReader();\n",
        "    reader.readAsDataURL(e.data); \n",
        "    reader.onloadend = function() {\n",
        "      base64data = reader.result;\n",
        "      //console.log(\"Inside FileReader:\" + base64data);\n",
        "    }\n",
        "  };\n",
        "  recorder.start();\n",
        "  };\n",
        "\n",
        "recordButton.innerText = \"Recording... press to stop\";\n",
        "\n",
        "navigator.mediaDevices.getUserMedia({audio: true}).then(handleSuccess);\n",
        "\n",
        "\n",
        "function toggleRecording() {\n",
        "  if (recorder && recorder.state == \"recording\") {\n",
        "      recorder.stop();\n",
        "      gumStream.getAudioTracks()[0].stop();\n",
        "      recordButton.innerText = \"Saving the recording... pls wait!\"\n",
        "  }\n",
        "}\n",
        "\n",
        "// https://stackoverflow.com/a/951057\n",
        "function sleep(ms) {\n",
        "  return new Promise(resolve => setTimeout(resolve, ms));\n",
        "}\n",
        "\n",
        "var data = new Promise(resolve=>{\n",
        "//recordButton.addEventListener(\"click\", toggleRecording);\n",
        "recordButton.onclick = ()=>{\n",
        "toggleRecording()\n",
        "\n",
        "sleep(2000).then(() => {\n",
        "  // wait 2000ms for the data to be available...\n",
        "  // ideally this should use something like await...\n",
        "  //console.log(\"Inside data:\" + base64data)\n",
        "  resolve(base64data.toString())\n",
        "\n",
        "});\n",
        "\n",
        "}\n",
        "});\n",
        "      \n",
        "</script>\n",
        "\"\"\"\n",
        "\n",
        "def get_audio():\n",
        "  display(HTML(AUDIO_HTML))\n",
        "  data = eval_js(\"data\")\n",
        "  binary = b64decode(data.split(',')[1])\n",
        "  \n",
        "  process = (ffmpeg\n",
        "    .input('pipe:0')\n",
        "    .output('pipe:1', format='wav')\n",
        "    .run_async(pipe_stdin=True, pipe_stdout=True, pipe_stderr=True, quiet=True, overwrite_output=True)\n",
        "  )\n",
        "  output, err = process.communicate(input=binary)\n",
        "  \n",
        "  riff_chunk_size = len(output) - 8\n",
        "  # Break up the chunk size into four bytes, held in b.\n",
        "  q = riff_chunk_size\n",
        "  b = []\n",
        "  for i in range(4):\n",
        "      q, r = divmod(q, 256)\n",
        "      b.append(r)\n",
        "\n",
        "  # Replace bytes 4:8 in proc.stdout with the actual size of the RIFF chunk.\n",
        "  riff = output[:4] + bytes(b) + output[8:]\n",
        "\n",
        "  sr, audio = wav_read(io.BytesIO(riff))\n",
        "\n",
        "  return audio, sr"
      ],
      "metadata": {
        "id": "JRdYaD0Ezhjk"
      },
      "execution_count": 92,
      "outputs": []
    },
    {
      "cell_type": "code",
      "source": [
        "audio, sr = get_audio()"
      ],
      "metadata": {
        "colab": {
          "base_uri": "https://localhost:8080/",
          "height": 95
        },
        "id": "u7aYAXJJzhg8",
        "outputId": "0dab888a-6488-4531-8e2b-b8416e8a712b"
      },
      "execution_count": 100,
      "outputs": [
        {
          "output_type": "display_data",
          "data": {
            "text/html": [
              "\n",
              "<script>\n",
              "var my_div = document.createElement(\"DIV\");\n",
              "var my_p = document.createElement(\"P\");\n",
              "var my_btn = document.createElement(\"BUTTON\");\n",
              "var t = document.createTextNode(\"Press to start recording\");\n",
              "\n",
              "my_btn.appendChild(t);\n",
              "//my_p.appendChild(my_btn);\n",
              "my_div.appendChild(my_btn);\n",
              "document.body.appendChild(my_div);\n",
              "\n",
              "var base64data = 0;\n",
              "var reader;\n",
              "var recorder, gumStream;\n",
              "var recordButton = my_btn;\n",
              "\n",
              "var handleSuccess = function(stream) {\n",
              "  gumStream = stream;\n",
              "  var options = {\n",
              "    //bitsPerSecond: 8000, //chrome seems to ignore, always 48k\n",
              "    mimeType : 'audio/webm;codecs=opus'\n",
              "    //mimeType : 'audio/webm;codecs=pcm'\n",
              "  };            \n",
              "  //recorder = new MediaRecorder(stream, options);\n",
              "  recorder = new MediaRecorder(stream);\n",
              "  recorder.ondataavailable = function(e) {            \n",
              "    var url = URL.createObjectURL(e.data);\n",
              "    var preview = document.createElement('audio');\n",
              "    preview.controls = true;\n",
              "    preview.src = url;\n",
              "    document.body.appendChild(preview);\n",
              "\n",
              "    reader = new FileReader();\n",
              "    reader.readAsDataURL(e.data); \n",
              "    reader.onloadend = function() {\n",
              "      base64data = reader.result;\n",
              "      //console.log(\"Inside FileReader:\" + base64data);\n",
              "    }\n",
              "  };\n",
              "  recorder.start();\n",
              "  };\n",
              "\n",
              "recordButton.innerText = \"Recording... press to stop\";\n",
              "\n",
              "navigator.mediaDevices.getUserMedia({audio: true}).then(handleSuccess);\n",
              "\n",
              "\n",
              "function toggleRecording() {\n",
              "  if (recorder && recorder.state == \"recording\") {\n",
              "      recorder.stop();\n",
              "      gumStream.getAudioTracks()[0].stop();\n",
              "      recordButton.innerText = \"Saving the recording... pls wait!\"\n",
              "  }\n",
              "}\n",
              "\n",
              "// https://stackoverflow.com/a/951057\n",
              "function sleep(ms) {\n",
              "  return new Promise(resolve => setTimeout(resolve, ms));\n",
              "}\n",
              "\n",
              "var data = new Promise(resolve=>{\n",
              "//recordButton.addEventListener(\"click\", toggleRecording);\n",
              "recordButton.onclick = ()=>{\n",
              "toggleRecording()\n",
              "\n",
              "sleep(2000).then(() => {\n",
              "  // wait 2000ms for the data to be available...\n",
              "  // ideally this should use something like await...\n",
              "  //console.log(\"Inside data:\" + base64data)\n",
              "  resolve(base64data.toString())\n",
              "\n",
              "});\n",
              "\n",
              "}\n",
              "});\n",
              "      \n",
              "</script>\n"
            ],
            "text/plain": [
              "<IPython.core.display.HTML object>"
            ]
          },
          "metadata": {}
        }
      ]
    },
    {
      "cell_type": "code",
      "source": [
        "from scipy.io.wavfile import write as wav_write\n",
        "wav_write(\"/content/drive/MyDrive/pbl/example.wav\", 44100, audio.astype(np.int16))"
      ],
      "metadata": {
        "id": "rejqyl3lzheX"
      },
      "execution_count": 101,
      "outputs": []
    },
    {
      "cell_type": "code",
      "source": [
        "!pip install speechrecognition "
      ],
      "metadata": {
        "colab": {
          "base_uri": "https://localhost:8080/"
        },
        "id": "Abhtwhp7zhby",
        "outputId": "ea2c97fb-89d5-4096-9dc9-7716cfd0fbcf"
      },
      "execution_count": 102,
      "outputs": [
        {
          "output_type": "stream",
          "name": "stdout",
          "text": [
            "Requirement already satisfied: speechrecognition in /usr/local/lib/python3.7/dist-packages (3.8.1)\n"
          ]
        }
      ]
    },
    {
      "cell_type": "code",
      "source": [
        "import speech_recognition as sr\n",
        "r = sr.Recognizer()\n",
        "harvard = sr.AudioFile('/content/drive/MyDrive/pbl/example.wav')\n",
        "with harvard as source:\n",
        "  audio = r.record(source)\n",
        "  print(r.recognize_google(audio, language='ko-KR'))"
      ],
      "metadata": {
        "colab": {
          "base_uri": "https://localhost:8080/"
        },
        "id": "o81yAIuDzhZP",
        "outputId": "39d2f032-9d4d-4785-ada7-1688f12aada2"
      },
      "execution_count": 103,
      "outputs": [
        {
          "output_type": "stream",
          "name": "stdout",
          "text": [
            "반복문을 무한 번으로 돌려 줘\n"
          ]
        }
      ]
    },
    {
      "cell_type": "code",
      "source": [
        "sound_sentence = r.recognize_google(audio, language='ko-KR')"
      ],
      "metadata": {
        "id": "-zRSpdn5zhWl"
      },
      "execution_count": 104,
      "outputs": []
    },
    {
      "cell_type": "code",
      "source": [
        ""
      ],
      "metadata": {
        "id": "4fSvjIGszhRb"
      },
      "execution_count": null,
      "outputs": []
    },
    {
      "cell_type": "code",
      "source": [
        ""
      ],
      "metadata": {
        "id": "-nPqGeWZzhOu"
      },
      "execution_count": null,
      "outputs": []
    }
  ]
}