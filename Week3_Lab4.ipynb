{
  "nbformat": 4,
  "nbformat_minor": 0,
  "metadata": {
    "colab": {
      "name": "Week3_Lab4-현장.ipynb의 사본",
      "provenance": [],
      "collapsed_sections": [],
      "toc_visible": true,
      "include_colab_link": true
    },
    "kernelspec": {
      "display_name": "Python 3",
      "language": "python",
      "name": "python3"
    },
    "language_info": {
      "codemirror_mode": {
        "name": "ipython",
        "version": 3
      },
      "file_extension": ".py",
      "mimetype": "text/x-python",
      "name": "python",
      "nbconvert_exporter": "python",
      "pygments_lexer": "ipython3",
      "version": "3.8.5"
    }
  },
  "cells": [
    {
      "cell_type": "markdown",
      "metadata": {
        "id": "view-in-github",
        "colab_type": "text"
      },
      "source": [
        "<a href=\"https://colab.research.google.com/github/whispermy/novatus_academia/blob/main/Week3_Lab4.ipynb\" target=\"_parent\"><img src=\"https://colab.research.google.com/assets/colab-badge.svg\" alt=\"Open In Colab\"/></a>"
      ]
    },
    {
      "cell_type": "markdown",
      "metadata": {
        "id": "dk1W_sk12TRc"
      },
      "source": [
        "**AI 노바투스과정**\n",
        "\n",
        "Week 3: 딥러닝 기초 I (2021-08-20)\n",
        "\n",
        "실습 #4: 깊은 신경망 학습에 필요한 기술 익히기"
      ]
    },
    {
      "cell_type": "code",
      "metadata": {
        "id": "JLvN_WS1--lA"
      },
      "source": [
        "#keras 라이브러리 가져오기\n",
        "\n",
        "import tensorflow.keras as keras"
      ],
      "execution_count": 1,
      "outputs": []
    },
    {
      "cell_type": "code",
      "metadata": {
        "id": "5w9C0Guw_dHh"
      },
      "source": [
        "#MNIST 패션 데이터 로딩하기\n",
        "\n",
        "fashion_mnist=keras.datasets.fashion_mnist"
      ],
      "execution_count": 2,
      "outputs": []
    },
    {
      "cell_type": "code",
      "metadata": {
        "id": "5THzsbWu_oAb",
        "colab": {
          "base_uri": "https://localhost:8080/"
        },
        "outputId": "3c0e21e8-bd6c-4951-d3a3-39ea157b62de"
      },
      "source": [
        "(X_train_full, y_train_full), (X_test, y_test) =fashion_mnist.load_data()"
      ],
      "execution_count": 3,
      "outputs": [
        {
          "output_type": "stream",
          "text": [
            "Downloading data from https://storage.googleapis.com/tensorflow/tf-keras-datasets/train-labels-idx1-ubyte.gz\n",
            "32768/29515 [=================================] - 0s 0us/step\n",
            "40960/29515 [=========================================] - 0s 0us/step\n",
            "Downloading data from https://storage.googleapis.com/tensorflow/tf-keras-datasets/train-images-idx3-ubyte.gz\n",
            "26427392/26421880 [==============================] - 0s 0us/step\n",
            "26435584/26421880 [==============================] - 0s 0us/step\n",
            "Downloading data from https://storage.googleapis.com/tensorflow/tf-keras-datasets/t10k-labels-idx1-ubyte.gz\n",
            "16384/5148 [===============================================================================================] - 0s 0us/step\n",
            "Downloading data from https://storage.googleapis.com/tensorflow/tf-keras-datasets/t10k-images-idx3-ubyte.gz\n",
            "4423680/4422102 [==============================] - 0s 0us/step\n",
            "4431872/4422102 [==============================] - 0s 0us/step\n"
          ],
          "name": "stdout"
        }
      ]
    },
    {
      "cell_type": "code",
      "metadata": {
        "id": "yVGIpeMgABS5"
      },
      "source": [
        "#target 의 각 숫자값에 해당하는 클래스 명 지정하기\n",
        "\n",
        "class_names=[\"T-shirt/top\",'Trouser','Pullover','Dress',\"Coat\", \"Sandal\", \"Shirt\", \"Sneaker\", \"Bag\", \"Ankle boot\"]"
      ],
      "execution_count": 4,
      "outputs": []
    },
    {
      "cell_type": "code",
      "metadata": {
        "id": "a70Q2VQJ_ziq"
      },
      "source": [
        "# 학습용 데이터를 다시 학습용 데이터와 검증용 데이터 (valdiation set) 으로 분리\n",
        "# 분리와 동시에 정규화\n",
        "\n",
        "X_valid, X_train= X_train_full[:5000]/255.0, X_train_full[5000:]/255.0\n",
        "y_valid, y_train= y_train_full[:5000], y_train_full[5000:]\n",
        "\n",
        "X_test=X_test/255.0"
      ],
      "execution_count": 5,
      "outputs": []
    },
    {
      "cell_type": "markdown",
      "metadata": {
        "id": "YTYa0jX42-GF"
      },
      "source": [
        "## 1. 다양한 활성함수 사용해보기"
      ]
    },
    {
      "cell_type": "code",
      "metadata": {
        "id": "QKxXMaXDASBx"
      },
      "source": [
        "# keras 의 Sequential API 를 활용하여 신경망 모형의 골격 만들기 \n",
        "# 은닉층이 2개이며 첫번째 은닉층에 뉴런 300개, 두번째 은닉층에 뉴런 100개 인 골격 만들기\n",
        "### 새로운 활성함수 사용해보기 !! \n",
        "\n",
        "model=keras.models.Sequential()\n",
        "\n",
        "model.add(keras.layers.Flatten(input_shape=[28,28]))\n",
        "# model.add(keras.layers.Dense(300,activation=\"relu\"))\n",
        "# model.add(keras.layers.Dense(300,activation=\"selu\"))\n",
        "model.add(keras.layers.Dense(300,activation=\"elu\"))\n",
        "# model.add(keras.layers.LeakyReLU(alpha=0.3)) \n",
        "# default alpha=0.2\n",
        "model.add(keras.layers.Dense(100,activation=\"relu\"))\n",
        "model.add(keras.layers.Dense(10,activation=\"softmax\"))"
      ],
      "execution_count": 9,
      "outputs": []
    },
    {
      "cell_type": "code",
      "metadata": {
        "id": "anR1jTNmCUml",
        "colab": {
          "base_uri": "https://localhost:8080/"
        },
        "outputId": "1e6dcc9f-d678-4171-e741-9b3845c0c2e1"
      },
      "source": [
        "model.summary()"
      ],
      "execution_count": 10,
      "outputs": [
        {
          "output_type": "stream",
          "text": [
            "Model: \"sequential_1\"\n",
            "_________________________________________________________________\n",
            "Layer (type)                 Output Shape              Param #   \n",
            "=================================================================\n",
            "flatten_1 (Flatten)          (None, 784)               0         \n",
            "_________________________________________________________________\n",
            "dense_3 (Dense)              (None, 300)               235500    \n",
            "_________________________________________________________________\n",
            "dense_4 (Dense)              (None, 100)               30100     \n",
            "_________________________________________________________________\n",
            "dense_5 (Dense)              (None, 10)                1010      \n",
            "=================================================================\n",
            "Total params: 266,610\n",
            "Trainable params: 266,610\n",
            "Non-trainable params: 0\n",
            "_________________________________________________________________\n"
          ],
          "name": "stdout"
        }
      ]
    },
    {
      "cell_type": "markdown",
      "metadata": {
        "id": "7O7I3dXS3Kfc"
      },
      "source": [
        "## 2. 다양한 최적화 방법 사용해보기"
      ]
    },
    {
      "cell_type": "code",
      "metadata": {
        "id": "mMCuI62aCuuZ",
        "colab": {
          "base_uri": "https://localhost:8080/"
        },
        "outputId": "cf9f52ad-fc8c-4ace-86ae-f5f99a4415c5"
      },
      "source": [
        "# 모형 컴파일하기 (손실함수, 최적화 방법 지정하기)\n",
        "### 다양한 최적화 방법 사용해보기 !\n",
        "\n",
        "# optimizer=keras.optimizers.SGD(lr=0.001, momentum=0.9, nesterov=True)\n",
        "# momentum default = 0.9\n",
        "# optimizer=keras.optimizers.RMSprop(lr=0.001, rho=0.9)\n",
        "optimizer=keras.optimizers.Adam(lr=0.001, beta_1=0.9, beta_2=0.999)\n",
        "\n",
        "model.compile(loss=\"sparse_categorical_crossentropy\", optimizer=optimizer, metrics=[\"accuracy\"])\n"
      ],
      "execution_count": 11,
      "outputs": [
        {
          "output_type": "stream",
          "text": [
            "/usr/local/lib/python3.7/dist-packages/keras/optimizer_v2/optimizer_v2.py:356: UserWarning: The `lr` argument is deprecated, use `learning_rate` instead.\n",
            "  \"The `lr` argument is deprecated, use `learning_rate` instead.\")\n"
          ],
          "name": "stderr"
        }
      ]
    },
    {
      "cell_type": "code",
      "metadata": {
        "id": "9FF8L3GJFhhQ"
      },
      "source": [
        "#모형 학습하기\n",
        "\n",
        "history=model.fit(X_train, y_train, epochs=30, validation_data=(X_valid, y_valid))"
      ],
      "execution_count": null,
      "outputs": []
    },
    {
      "cell_type": "markdown",
      "metadata": {
        "id": "lbtl1xRK3Z8-"
      },
      "source": [
        "## 3. Dropout 사용해보기"
      ]
    },
    {
      "cell_type": "code",
      "metadata": {
        "id": "E10CARVtg-9u"
      },
      "source": [
        "model=keras.models.Sequential()\n",
        "\n",
        "model.add(keras.layers.Flatten(input_shape=[28,28]))\n",
        "model.add(keras.layers.Dropout(0.2))\n",
        "model.add(keras.layers.Dense(300,activation=\"elu\"))\n",
        "model.add(keras.layers.Dropout(0.2))\n",
        "model.add(keras.layers.Dense(100,activation=\"elu\"))\n",
        "model.add(keras.layers.Dropout(0.2))\n",
        "model.add(keras.layers.Dense(10,activation=\"softmax\"))"
      ],
      "execution_count": 13,
      "outputs": []
    },
    {
      "cell_type": "code",
      "metadata": {
        "id": "PR9EcCHohVMU",
        "colab": {
          "base_uri": "https://localhost:8080/"
        },
        "outputId": "3f209fbd-50f7-4ade-e25d-5c9c189aa6c0"
      },
      "source": [
        "model.compile(loss=\"sparse_categorical_crossentropy\", optimizer=\"sgd\", metrics=[\"accuracy\"])\n",
        "model.summary()"
      ],
      "execution_count": 15,
      "outputs": [
        {
          "output_type": "stream",
          "text": [
            "Model: \"sequential_3\"\n",
            "_________________________________________________________________\n",
            "Layer (type)                 Output Shape              Param #   \n",
            "=================================================================\n",
            "flatten_3 (Flatten)          (None, 784)               0         \n",
            "_________________________________________________________________\n",
            "dropout (Dropout)            (None, 784)               0         \n",
            "_________________________________________________________________\n",
            "dense_6 (Dense)              (None, 300)               235500    \n",
            "_________________________________________________________________\n",
            "dropout_1 (Dropout)          (None, 300)               0         \n",
            "_________________________________________________________________\n",
            "dense_7 (Dense)              (None, 100)               30100     \n",
            "_________________________________________________________________\n",
            "dropout_2 (Dropout)          (None, 100)               0         \n",
            "_________________________________________________________________\n",
            "dense_8 (Dense)              (None, 10)                1010      \n",
            "=================================================================\n",
            "Total params: 266,610\n",
            "Trainable params: 266,610\n",
            "Non-trainable params: 0\n",
            "_________________________________________________________________\n"
          ],
          "name": "stdout"
        }
      ]
    },
    {
      "cell_type": "code",
      "metadata": {
        "id": "PA3HtNKChPRc"
      },
      "source": [
        "history=model.fit(X_train, y_train, epochs=30, validation_data=(X_valid, y_valid))"
      ],
      "execution_count": null,
      "outputs": []
    },
    {
      "cell_type": "markdown",
      "metadata": {
        "id": "cuaY91c93i-H"
      },
      "source": [
        "## 4. Batch Normalization 사용해보기"
      ]
    },
    {
      "cell_type": "code",
      "metadata": {
        "id": "bqp8vvzviz6S"
      },
      "source": [
        "model=keras.models.Sequential()\n",
        "\n",
        "model.add(keras.layers.Flatten(input_shape=[28,28]))\n",
        "model.add(keras.layers.BatchNormalization())\n",
        "model.add(keras.layers.Dense(300,activation=\"elu\"))\n",
        "model.add(keras.layers.BatchNormalization())\n",
        "model.add(keras.layers.Dense(100,activation=\"elu\"))\n",
        "model.add(keras.layers.BatchNormalization())\n",
        "model.add(keras.layers.Dense(10,activation=\"softmax\"))"
      ],
      "execution_count": 16,
      "outputs": []
    },
    {
      "cell_type": "code",
      "metadata": {
        "id": "hun7gfqU44Fw",
        "colab": {
          "base_uri": "https://localhost:8080/"
        },
        "outputId": "f360f024-885c-4967-eac8-309316d643cd"
      },
      "source": [
        "model.summary()"
      ],
      "execution_count": 17,
      "outputs": [
        {
          "output_type": "stream",
          "text": [
            "Model: \"sequential_4\"\n",
            "_________________________________________________________________\n",
            "Layer (type)                 Output Shape              Param #   \n",
            "=================================================================\n",
            "flatten_4 (Flatten)          (None, 784)               0         \n",
            "_________________________________________________________________\n",
            "batch_normalization (BatchNo (None, 784)               3136      \n",
            "_________________________________________________________________\n",
            "dense_9 (Dense)              (None, 300)               235500    \n",
            "_________________________________________________________________\n",
            "batch_normalization_1 (Batch (None, 300)               1200      \n",
            "_________________________________________________________________\n",
            "dense_10 (Dense)             (None, 100)               30100     \n",
            "_________________________________________________________________\n",
            "batch_normalization_2 (Batch (None, 100)               400       \n",
            "_________________________________________________________________\n",
            "dense_11 (Dense)             (None, 10)                1010      \n",
            "=================================================================\n",
            "Total params: 271,346\n",
            "Trainable params: 268,978\n",
            "Non-trainable params: 2,368\n",
            "_________________________________________________________________\n"
          ],
          "name": "stdout"
        }
      ]
    },
    {
      "cell_type": "code",
      "metadata": {
        "id": "OOzNdltYi7f9"
      },
      "source": [
        "model.compile(loss=\"sparse_categorical_crossentropy\", optimizer=\"sgd\", metrics=[\"accuracy\"])\n"
      ],
      "execution_count": 18,
      "outputs": []
    },
    {
      "cell_type": "code",
      "metadata": {
        "id": "lcK5OV9ii8Br"
      },
      "source": [
        "history=model.fit(X_train, y_train, epochs=30, validation_data=(X_valid, y_valid))"
      ],
      "execution_count": null,
      "outputs": []
    },
    {
      "cell_type": "markdown",
      "metadata": {
        "id": "ofYeNbjB3ypm"
      },
      "source": [
        "## 5. L1, L2, max norm 정규화 해보기"
      ]
    },
    {
      "cell_type": "code",
      "metadata": {
        "id": "c_FZI3nZj35m"
      },
      "source": [
        "model=keras.models.Sequential()\n",
        "\n",
        "model.add(keras.layers.Flatten(input_shape=[28,28]))\n",
        "model.add(keras.layers.Dense(300,activation=\"elu\"))\n",
        "model.add(keras.layers.Dense(100,activation=\"elu\", kernel_regularizer=keras.regularizers.l1(0.01)))\n",
        "# model.add(keras.layers.Dense(100,activation=\"elu\", kernel_regularizer=keras.regularizers.l2(0.01)))\n",
        "# model.add(keras.layers.Dense(100,activation=\"elu\", kernel_constraint=keras.constraints.max_norm(1.)))\n",
        "\n",
        "\n",
        "model.add(keras.layers.Dense(10,activation=\"softmax\"))"
      ],
      "execution_count": 19,
      "outputs": []
    },
    {
      "cell_type": "code",
      "metadata": {
        "id": "R0jSBsRQlOWa"
      },
      "source": [
        "model.compile(loss=\"sparse_categorical_crossentropy\", optimizer=\"sgd\", metrics=[\"accuracy\"])\n"
      ],
      "execution_count": 20,
      "outputs": []
    },
    {
      "cell_type": "code",
      "metadata": {
        "id": "pUJ8oayxlPXr"
      },
      "source": [
        "history=model.fit(X_train, y_train, epochs=30, validation_data=(X_valid, y_valid))"
      ],
      "execution_count": null,
      "outputs": []
    }
  ]
}