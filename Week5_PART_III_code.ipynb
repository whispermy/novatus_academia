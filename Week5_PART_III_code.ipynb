{
  "nbformat": 4,
  "nbformat_minor": 0,
  "metadata": {
    "colab": {
      "name": "Week5_PART_III_code.ipynb",
      "provenance": [],
      "collapsed_sections": [],
      "include_colab_link": true
    },
    "kernelspec": {
      "name": "python3",
      "display_name": "Python 3"
    },
    "widgets": {
      "application/vnd.jupyter.widget-state+json": {
        "39a39142fdff45459ec64a2b3a0470dc": {
          "model_module": "@jupyter-widgets/controls",
          "model_name": "HBoxModel",
          "model_module_version": "1.5.0",
          "state": {
            "_view_name": "HBoxView",
            "_dom_classes": [],
            "_model_name": "HBoxModel",
            "_view_module": "@jupyter-widgets/controls",
            "_model_module_version": "1.5.0",
            "_view_count": null,
            "_view_module_version": "1.5.0",
            "box_style": "",
            "layout": "IPY_MODEL_bbc3e4144a154c999b26746c965864e1",
            "_model_module": "@jupyter-widgets/controls",
            "children": [
              "IPY_MODEL_363755789382458591ade787f0069918",
              "IPY_MODEL_5aa184b462e14e35ad2a76bec018bcaa",
              "IPY_MODEL_a5b8a9f00c6b46aeb3576e7e5b127209"
            ]
          }
        },
        "bbc3e4144a154c999b26746c965864e1": {
          "model_module": "@jupyter-widgets/base",
          "model_name": "LayoutModel",
          "model_module_version": "1.2.0",
          "state": {
            "_view_name": "LayoutView",
            "grid_template_rows": null,
            "right": null,
            "justify_content": null,
            "_view_module": "@jupyter-widgets/base",
            "overflow": null,
            "_model_module_version": "1.2.0",
            "_view_count": null,
            "flex_flow": null,
            "width": null,
            "min_width": null,
            "border": null,
            "align_items": null,
            "bottom": null,
            "_model_module": "@jupyter-widgets/base",
            "top": null,
            "grid_column": null,
            "overflow_y": null,
            "overflow_x": null,
            "grid_auto_flow": null,
            "grid_area": null,
            "grid_template_columns": null,
            "flex": null,
            "_model_name": "LayoutModel",
            "justify_items": null,
            "grid_row": null,
            "max_height": null,
            "align_content": null,
            "visibility": null,
            "align_self": null,
            "height": null,
            "min_height": null,
            "padding": null,
            "grid_auto_rows": null,
            "grid_gap": null,
            "max_width": null,
            "order": null,
            "_view_module_version": "1.2.0",
            "grid_template_areas": null,
            "object_position": null,
            "object_fit": null,
            "grid_auto_columns": null,
            "margin": null,
            "display": null,
            "left": null
          }
        },
        "363755789382458591ade787f0069918": {
          "model_module": "@jupyter-widgets/controls",
          "model_name": "HTMLModel",
          "model_module_version": "1.5.0",
          "state": {
            "_view_name": "HTMLView",
            "style": "IPY_MODEL_879e1908620f4e25bf920ab1f0c4ef1b",
            "_dom_classes": [],
            "description": "",
            "_model_name": "HTMLModel",
            "placeholder": "​",
            "_view_module": "@jupyter-widgets/controls",
            "_model_module_version": "1.5.0",
            "value": "",
            "_view_count": null,
            "_view_module_version": "1.5.0",
            "description_tooltip": null,
            "_model_module": "@jupyter-widgets/controls",
            "layout": "IPY_MODEL_8d0126576ced47b39f99c254c0faf4e4"
          }
        },
        "5aa184b462e14e35ad2a76bec018bcaa": {
          "model_module": "@jupyter-widgets/controls",
          "model_name": "FloatProgressModel",
          "model_module_version": "1.5.0",
          "state": {
            "_view_name": "ProgressView",
            "style": "IPY_MODEL_e0a4edb40ee04e1794c22744e8aafe97",
            "_dom_classes": [],
            "description": "",
            "_model_name": "FloatProgressModel",
            "bar_style": "success",
            "max": 1,
            "_view_module": "@jupyter-widgets/controls",
            "_model_module_version": "1.5.0",
            "value": 1,
            "_view_count": null,
            "_view_module_version": "1.5.0",
            "orientation": "horizontal",
            "min": 0,
            "description_tooltip": null,
            "_model_module": "@jupyter-widgets/controls",
            "layout": "IPY_MODEL_7abe123c6a724555aa80244089329e1e"
          }
        },
        "a5b8a9f00c6b46aeb3576e7e5b127209": {
          "model_module": "@jupyter-widgets/controls",
          "model_name": "HTMLModel",
          "model_module_version": "1.5.0",
          "state": {
            "_view_name": "HTMLView",
            "style": "IPY_MODEL_0744d4ae63d44dae8d699c5feba9928f",
            "_dom_classes": [],
            "description": "",
            "_model_name": "HTMLModel",
            "placeholder": "​",
            "_view_module": "@jupyter-widgets/controls",
            "_model_module_version": "1.5.0",
            "value": " 78/? [00:59&lt;00:00,  1.31it/s]",
            "_view_count": null,
            "_view_module_version": "1.5.0",
            "description_tooltip": null,
            "_model_module": "@jupyter-widgets/controls",
            "layout": "IPY_MODEL_902c54dd113a4f549445c45045f40ef4"
          }
        },
        "879e1908620f4e25bf920ab1f0c4ef1b": {
          "model_module": "@jupyter-widgets/controls",
          "model_name": "DescriptionStyleModel",
          "model_module_version": "1.5.0",
          "state": {
            "_view_name": "StyleView",
            "_model_name": "DescriptionStyleModel",
            "description_width": "",
            "_view_module": "@jupyter-widgets/base",
            "_model_module_version": "1.5.0",
            "_view_count": null,
            "_view_module_version": "1.2.0",
            "_model_module": "@jupyter-widgets/controls"
          }
        },
        "8d0126576ced47b39f99c254c0faf4e4": {
          "model_module": "@jupyter-widgets/base",
          "model_name": "LayoutModel",
          "model_module_version": "1.2.0",
          "state": {
            "_view_name": "LayoutView",
            "grid_template_rows": null,
            "right": null,
            "justify_content": null,
            "_view_module": "@jupyter-widgets/base",
            "overflow": null,
            "_model_module_version": "1.2.0",
            "_view_count": null,
            "flex_flow": null,
            "width": null,
            "min_width": null,
            "border": null,
            "align_items": null,
            "bottom": null,
            "_model_module": "@jupyter-widgets/base",
            "top": null,
            "grid_column": null,
            "overflow_y": null,
            "overflow_x": null,
            "grid_auto_flow": null,
            "grid_area": null,
            "grid_template_columns": null,
            "flex": null,
            "_model_name": "LayoutModel",
            "justify_items": null,
            "grid_row": null,
            "max_height": null,
            "align_content": null,
            "visibility": null,
            "align_self": null,
            "height": null,
            "min_height": null,
            "padding": null,
            "grid_auto_rows": null,
            "grid_gap": null,
            "max_width": null,
            "order": null,
            "_view_module_version": "1.2.0",
            "grid_template_areas": null,
            "object_position": null,
            "object_fit": null,
            "grid_auto_columns": null,
            "margin": null,
            "display": null,
            "left": null
          }
        },
        "e0a4edb40ee04e1794c22744e8aafe97": {
          "model_module": "@jupyter-widgets/controls",
          "model_name": "ProgressStyleModel",
          "model_module_version": "1.5.0",
          "state": {
            "_view_name": "StyleView",
            "_model_name": "ProgressStyleModel",
            "description_width": "",
            "_view_module": "@jupyter-widgets/base",
            "_model_module_version": "1.5.0",
            "_view_count": null,
            "_view_module_version": "1.2.0",
            "bar_color": null,
            "_model_module": "@jupyter-widgets/controls"
          }
        },
        "7abe123c6a724555aa80244089329e1e": {
          "model_module": "@jupyter-widgets/base",
          "model_name": "LayoutModel",
          "model_module_version": "1.2.0",
          "state": {
            "_view_name": "LayoutView",
            "grid_template_rows": null,
            "right": null,
            "justify_content": null,
            "_view_module": "@jupyter-widgets/base",
            "overflow": null,
            "_model_module_version": "1.2.0",
            "_view_count": null,
            "flex_flow": null,
            "width": "20px",
            "min_width": null,
            "border": null,
            "align_items": null,
            "bottom": null,
            "_model_module": "@jupyter-widgets/base",
            "top": null,
            "grid_column": null,
            "overflow_y": null,
            "overflow_x": null,
            "grid_auto_flow": null,
            "grid_area": null,
            "grid_template_columns": null,
            "flex": null,
            "_model_name": "LayoutModel",
            "justify_items": null,
            "grid_row": null,
            "max_height": null,
            "align_content": null,
            "visibility": null,
            "align_self": null,
            "height": null,
            "min_height": null,
            "padding": null,
            "grid_auto_rows": null,
            "grid_gap": null,
            "max_width": null,
            "order": null,
            "_view_module_version": "1.2.0",
            "grid_template_areas": null,
            "object_position": null,
            "object_fit": null,
            "grid_auto_columns": null,
            "margin": null,
            "display": null,
            "left": null
          }
        },
        "0744d4ae63d44dae8d699c5feba9928f": {
          "model_module": "@jupyter-widgets/controls",
          "model_name": "DescriptionStyleModel",
          "model_module_version": "1.5.0",
          "state": {
            "_view_name": "StyleView",
            "_model_name": "DescriptionStyleModel",
            "description_width": "",
            "_view_module": "@jupyter-widgets/base",
            "_model_module_version": "1.5.0",
            "_view_count": null,
            "_view_module_version": "1.2.0",
            "_model_module": "@jupyter-widgets/controls"
          }
        },
        "902c54dd113a4f549445c45045f40ef4": {
          "model_module": "@jupyter-widgets/base",
          "model_name": "LayoutModel",
          "model_module_version": "1.2.0",
          "state": {
            "_view_name": "LayoutView",
            "grid_template_rows": null,
            "right": null,
            "justify_content": null,
            "_view_module": "@jupyter-widgets/base",
            "overflow": null,
            "_model_module_version": "1.2.0",
            "_view_count": null,
            "flex_flow": null,
            "width": null,
            "min_width": null,
            "border": null,
            "align_items": null,
            "bottom": null,
            "_model_module": "@jupyter-widgets/base",
            "top": null,
            "grid_column": null,
            "overflow_y": null,
            "overflow_x": null,
            "grid_auto_flow": null,
            "grid_area": null,
            "grid_template_columns": null,
            "flex": null,
            "_model_name": "LayoutModel",
            "justify_items": null,
            "grid_row": null,
            "max_height": null,
            "align_content": null,
            "visibility": null,
            "align_self": null,
            "height": null,
            "min_height": null,
            "padding": null,
            "grid_auto_rows": null,
            "grid_gap": null,
            "max_width": null,
            "order": null,
            "_view_module_version": "1.2.0",
            "grid_template_areas": null,
            "object_position": null,
            "object_fit": null,
            "grid_auto_columns": null,
            "margin": null,
            "display": null,
            "left": null
          }
        },
        "ede8b28b4897452391199248d2f42a3b": {
          "model_module": "@jupyter-widgets/controls",
          "model_name": "HBoxModel",
          "model_module_version": "1.5.0",
          "state": {
            "_view_name": "HBoxView",
            "_dom_classes": [],
            "_model_name": "HBoxModel",
            "_view_module": "@jupyter-widgets/controls",
            "_model_module_version": "1.5.0",
            "_view_count": null,
            "_view_module_version": "1.5.0",
            "box_style": "",
            "layout": "IPY_MODEL_5db5b0253b1d4955b09d1d74dd975191",
            "_model_module": "@jupyter-widgets/controls",
            "children": [
              "IPY_MODEL_bd4f3d8293374305b0a04b238ce93cae",
              "IPY_MODEL_6911e34f01b845869513313ea6083227",
              "IPY_MODEL_74066bbf54d14e8a923ba7e441771c28"
            ]
          }
        },
        "5db5b0253b1d4955b09d1d74dd975191": {
          "model_module": "@jupyter-widgets/base",
          "model_name": "LayoutModel",
          "model_module_version": "1.2.0",
          "state": {
            "_view_name": "LayoutView",
            "grid_template_rows": null,
            "right": null,
            "justify_content": null,
            "_view_module": "@jupyter-widgets/base",
            "overflow": null,
            "_model_module_version": "1.2.0",
            "_view_count": null,
            "flex_flow": null,
            "width": null,
            "min_width": null,
            "border": null,
            "align_items": null,
            "bottom": null,
            "_model_module": "@jupyter-widgets/base",
            "top": null,
            "grid_column": null,
            "overflow_y": null,
            "overflow_x": null,
            "grid_auto_flow": null,
            "grid_area": null,
            "grid_template_columns": null,
            "flex": null,
            "_model_name": "LayoutModel",
            "justify_items": null,
            "grid_row": null,
            "max_height": null,
            "align_content": null,
            "visibility": null,
            "align_self": null,
            "height": null,
            "min_height": null,
            "padding": null,
            "grid_auto_rows": null,
            "grid_gap": null,
            "max_width": null,
            "order": null,
            "_view_module_version": "1.2.0",
            "grid_template_areas": null,
            "object_position": null,
            "object_fit": null,
            "grid_auto_columns": null,
            "margin": null,
            "display": null,
            "left": null
          }
        },
        "bd4f3d8293374305b0a04b238ce93cae": {
          "model_module": "@jupyter-widgets/controls",
          "model_name": "HTMLModel",
          "model_module_version": "1.5.0",
          "state": {
            "_view_name": "HTMLView",
            "style": "IPY_MODEL_f7483079e5cf45b0870c4ab517d4ed52",
            "_dom_classes": [],
            "description": "",
            "_model_name": "HTMLModel",
            "placeholder": "​",
            "_view_module": "@jupyter-widgets/controls",
            "_model_module_version": "1.5.0",
            "value": "100%",
            "_view_count": null,
            "_view_module_version": "1.5.0",
            "description_tooltip": null,
            "_model_module": "@jupyter-widgets/controls",
            "layout": "IPY_MODEL_3ddecda84bbe4070b2f062cc5f021e74"
          }
        },
        "6911e34f01b845869513313ea6083227": {
          "model_module": "@jupyter-widgets/controls",
          "model_name": "FloatProgressModel",
          "model_module_version": "1.5.0",
          "state": {
            "_view_name": "ProgressView",
            "style": "IPY_MODEL_fbbea06dfe9548798ad186d3fa6aace0",
            "_dom_classes": [],
            "description": "",
            "_model_name": "FloatProgressModel",
            "bar_style": "success",
            "max": 78,
            "_view_module": "@jupyter-widgets/controls",
            "_model_module_version": "1.5.0",
            "value": 78,
            "_view_count": null,
            "_view_module_version": "1.5.0",
            "orientation": "horizontal",
            "min": 0,
            "description_tooltip": null,
            "_model_module": "@jupyter-widgets/controls",
            "layout": "IPY_MODEL_2af558a2201948cc850a6e53224383f9"
          }
        },
        "74066bbf54d14e8a923ba7e441771c28": {
          "model_module": "@jupyter-widgets/controls",
          "model_name": "HTMLModel",
          "model_module_version": "1.5.0",
          "state": {
            "_view_name": "HTMLView",
            "style": "IPY_MODEL_100c934000434b0e87a0c140ffd26046",
            "_dom_classes": [],
            "description": "",
            "_model_name": "HTMLModel",
            "placeholder": "​",
            "_view_module": "@jupyter-widgets/controls",
            "_model_module_version": "1.5.0",
            "value": " 78/78 [01:01&lt;00:00,  1.28it/s]",
            "_view_count": null,
            "_view_module_version": "1.5.0",
            "description_tooltip": null,
            "_model_module": "@jupyter-widgets/controls",
            "layout": "IPY_MODEL_35bdc52970e74ff6aa04d128d791dd6d"
          }
        },
        "f7483079e5cf45b0870c4ab517d4ed52": {
          "model_module": "@jupyter-widgets/controls",
          "model_name": "DescriptionStyleModel",
          "model_module_version": "1.5.0",
          "state": {
            "_view_name": "StyleView",
            "_model_name": "DescriptionStyleModel",
            "description_width": "",
            "_view_module": "@jupyter-widgets/base",
            "_model_module_version": "1.5.0",
            "_view_count": null,
            "_view_module_version": "1.2.0",
            "_model_module": "@jupyter-widgets/controls"
          }
        },
        "3ddecda84bbe4070b2f062cc5f021e74": {
          "model_module": "@jupyter-widgets/base",
          "model_name": "LayoutModel",
          "model_module_version": "1.2.0",
          "state": {
            "_view_name": "LayoutView",
            "grid_template_rows": null,
            "right": null,
            "justify_content": null,
            "_view_module": "@jupyter-widgets/base",
            "overflow": null,
            "_model_module_version": "1.2.0",
            "_view_count": null,
            "flex_flow": null,
            "width": null,
            "min_width": null,
            "border": null,
            "align_items": null,
            "bottom": null,
            "_model_module": "@jupyter-widgets/base",
            "top": null,
            "grid_column": null,
            "overflow_y": null,
            "overflow_x": null,
            "grid_auto_flow": null,
            "grid_area": null,
            "grid_template_columns": null,
            "flex": null,
            "_model_name": "LayoutModel",
            "justify_items": null,
            "grid_row": null,
            "max_height": null,
            "align_content": null,
            "visibility": null,
            "align_self": null,
            "height": null,
            "min_height": null,
            "padding": null,
            "grid_auto_rows": null,
            "grid_gap": null,
            "max_width": null,
            "order": null,
            "_view_module_version": "1.2.0",
            "grid_template_areas": null,
            "object_position": null,
            "object_fit": null,
            "grid_auto_columns": null,
            "margin": null,
            "display": null,
            "left": null
          }
        },
        "fbbea06dfe9548798ad186d3fa6aace0": {
          "model_module": "@jupyter-widgets/controls",
          "model_name": "ProgressStyleModel",
          "model_module_version": "1.5.0",
          "state": {
            "_view_name": "StyleView",
            "_model_name": "ProgressStyleModel",
            "description_width": "",
            "_view_module": "@jupyter-widgets/base",
            "_model_module_version": "1.5.0",
            "_view_count": null,
            "_view_module_version": "1.2.0",
            "bar_color": null,
            "_model_module": "@jupyter-widgets/controls"
          }
        },
        "2af558a2201948cc850a6e53224383f9": {
          "model_module": "@jupyter-widgets/base",
          "model_name": "LayoutModel",
          "model_module_version": "1.2.0",
          "state": {
            "_view_name": "LayoutView",
            "grid_template_rows": null,
            "right": null,
            "justify_content": null,
            "_view_module": "@jupyter-widgets/base",
            "overflow": null,
            "_model_module_version": "1.2.0",
            "_view_count": null,
            "flex_flow": null,
            "width": null,
            "min_width": null,
            "border": null,
            "align_items": null,
            "bottom": null,
            "_model_module": "@jupyter-widgets/base",
            "top": null,
            "grid_column": null,
            "overflow_y": null,
            "overflow_x": null,
            "grid_auto_flow": null,
            "grid_area": null,
            "grid_template_columns": null,
            "flex": null,
            "_model_name": "LayoutModel",
            "justify_items": null,
            "grid_row": null,
            "max_height": null,
            "align_content": null,
            "visibility": null,
            "align_self": null,
            "height": null,
            "min_height": null,
            "padding": null,
            "grid_auto_rows": null,
            "grid_gap": null,
            "max_width": null,
            "order": null,
            "_view_module_version": "1.2.0",
            "grid_template_areas": null,
            "object_position": null,
            "object_fit": null,
            "grid_auto_columns": null,
            "margin": null,
            "display": null,
            "left": null
          }
        },
        "100c934000434b0e87a0c140ffd26046": {
          "model_module": "@jupyter-widgets/controls",
          "model_name": "DescriptionStyleModel",
          "model_module_version": "1.5.0",
          "state": {
            "_view_name": "StyleView",
            "_model_name": "DescriptionStyleModel",
            "description_width": "",
            "_view_module": "@jupyter-widgets/base",
            "_model_module_version": "1.5.0",
            "_view_count": null,
            "_view_module_version": "1.2.0",
            "_model_module": "@jupyter-widgets/controls"
          }
        },
        "35bdc52970e74ff6aa04d128d791dd6d": {
          "model_module": "@jupyter-widgets/base",
          "model_name": "LayoutModel",
          "model_module_version": "1.2.0",
          "state": {
            "_view_name": "LayoutView",
            "grid_template_rows": null,
            "right": null,
            "justify_content": null,
            "_view_module": "@jupyter-widgets/base",
            "overflow": null,
            "_model_module_version": "1.2.0",
            "_view_count": null,
            "flex_flow": null,
            "width": null,
            "min_width": null,
            "border": null,
            "align_items": null,
            "bottom": null,
            "_model_module": "@jupyter-widgets/base",
            "top": null,
            "grid_column": null,
            "overflow_y": null,
            "overflow_x": null,
            "grid_auto_flow": null,
            "grid_area": null,
            "grid_template_columns": null,
            "flex": null,
            "_model_name": "LayoutModel",
            "justify_items": null,
            "grid_row": null,
            "max_height": null,
            "align_content": null,
            "visibility": null,
            "align_self": null,
            "height": null,
            "min_height": null,
            "padding": null,
            "grid_auto_rows": null,
            "grid_gap": null,
            "max_width": null,
            "order": null,
            "_view_module_version": "1.2.0",
            "grid_template_areas": null,
            "object_position": null,
            "object_fit": null,
            "grid_auto_columns": null,
            "margin": null,
            "display": null,
            "left": null
          }
        },
        "f175f6ef979c435bad165bbb7349b241": {
          "model_module": "@jupyter-widgets/controls",
          "model_name": "HBoxModel",
          "model_module_version": "1.5.0",
          "state": {
            "_view_name": "HBoxView",
            "_dom_classes": [],
            "_model_name": "HBoxModel",
            "_view_module": "@jupyter-widgets/controls",
            "_model_module_version": "1.5.0",
            "_view_count": null,
            "_view_module_version": "1.5.0",
            "box_style": "",
            "layout": "IPY_MODEL_44bdbc90a4644ce19783376a26b01d2f",
            "_model_module": "@jupyter-widgets/controls",
            "children": [
              "IPY_MODEL_6ea873c37f304df392c8cbab032e1982",
              "IPY_MODEL_5ca4ac33c382422db1afb1a4670f20a1",
              "IPY_MODEL_508d4434329549b59af795cd2295a0c9"
            ]
          }
        },
        "44bdbc90a4644ce19783376a26b01d2f": {
          "model_module": "@jupyter-widgets/base",
          "model_name": "LayoutModel",
          "model_module_version": "1.2.0",
          "state": {
            "_view_name": "LayoutView",
            "grid_template_rows": null,
            "right": null,
            "justify_content": null,
            "_view_module": "@jupyter-widgets/base",
            "overflow": null,
            "_model_module_version": "1.2.0",
            "_view_count": null,
            "flex_flow": null,
            "width": null,
            "min_width": null,
            "border": null,
            "align_items": null,
            "bottom": null,
            "_model_module": "@jupyter-widgets/base",
            "top": null,
            "grid_column": null,
            "overflow_y": null,
            "overflow_x": null,
            "grid_auto_flow": null,
            "grid_area": null,
            "grid_template_columns": null,
            "flex": null,
            "_model_name": "LayoutModel",
            "justify_items": null,
            "grid_row": null,
            "max_height": null,
            "align_content": null,
            "visibility": null,
            "align_self": null,
            "height": null,
            "min_height": null,
            "padding": null,
            "grid_auto_rows": null,
            "grid_gap": null,
            "max_width": null,
            "order": null,
            "_view_module_version": "1.2.0",
            "grid_template_areas": null,
            "object_position": null,
            "object_fit": null,
            "grid_auto_columns": null,
            "margin": null,
            "display": null,
            "left": null
          }
        },
        "6ea873c37f304df392c8cbab032e1982": {
          "model_module": "@jupyter-widgets/controls",
          "model_name": "HTMLModel",
          "model_module_version": "1.5.0",
          "state": {
            "_view_name": "HTMLView",
            "style": "IPY_MODEL_e0922224d50144febb8480209356f9f0",
            "_dom_classes": [],
            "description": "",
            "_model_name": "HTMLModel",
            "placeholder": "​",
            "_view_module": "@jupyter-widgets/controls",
            "_model_module_version": "1.5.0",
            "value": "100%",
            "_view_count": null,
            "_view_module_version": "1.5.0",
            "description_tooltip": null,
            "_model_module": "@jupyter-widgets/controls",
            "layout": "IPY_MODEL_36131a67c108413b880a80b15ed1885c"
          }
        },
        "5ca4ac33c382422db1afb1a4670f20a1": {
          "model_module": "@jupyter-widgets/controls",
          "model_name": "FloatProgressModel",
          "model_module_version": "1.5.0",
          "state": {
            "_view_name": "ProgressView",
            "style": "IPY_MODEL_1fc2cc07e204408c86b9570cd07f325c",
            "_dom_classes": [],
            "description": "",
            "_model_name": "FloatProgressModel",
            "bar_style": "success",
            "max": 20,
            "_view_module": "@jupyter-widgets/controls",
            "_model_module_version": "1.5.0",
            "value": 20,
            "_view_count": null,
            "_view_module_version": "1.5.0",
            "orientation": "horizontal",
            "min": 0,
            "description_tooltip": null,
            "_model_module": "@jupyter-widgets/controls",
            "layout": "IPY_MODEL_fba83ecd90b3497faa65583b7e0b07ee"
          }
        },
        "508d4434329549b59af795cd2295a0c9": {
          "model_module": "@jupyter-widgets/controls",
          "model_name": "HTMLModel",
          "model_module_version": "1.5.0",
          "state": {
            "_view_name": "HTMLView",
            "style": "IPY_MODEL_10b0b4fa34734b74b9cec08da14f6396",
            "_dom_classes": [],
            "description": "",
            "_model_name": "HTMLModel",
            "placeholder": "​",
            "_view_module": "@jupyter-widgets/controls",
            "_model_module_version": "1.5.0",
            "value": " 20/20 [00:15&lt;00:00,  1.32it/s]",
            "_view_count": null,
            "_view_module_version": "1.5.0",
            "description_tooltip": null,
            "_model_module": "@jupyter-widgets/controls",
            "layout": "IPY_MODEL_7b8a7af163f846fb8236cdfcbb2a9da2"
          }
        },
        "e0922224d50144febb8480209356f9f0": {
          "model_module": "@jupyter-widgets/controls",
          "model_name": "DescriptionStyleModel",
          "model_module_version": "1.5.0",
          "state": {
            "_view_name": "StyleView",
            "_model_name": "DescriptionStyleModel",
            "description_width": "",
            "_view_module": "@jupyter-widgets/base",
            "_model_module_version": "1.5.0",
            "_view_count": null,
            "_view_module_version": "1.2.0",
            "_model_module": "@jupyter-widgets/controls"
          }
        },
        "36131a67c108413b880a80b15ed1885c": {
          "model_module": "@jupyter-widgets/base",
          "model_name": "LayoutModel",
          "model_module_version": "1.2.0",
          "state": {
            "_view_name": "LayoutView",
            "grid_template_rows": null,
            "right": null,
            "justify_content": null,
            "_view_module": "@jupyter-widgets/base",
            "overflow": null,
            "_model_module_version": "1.2.0",
            "_view_count": null,
            "flex_flow": null,
            "width": null,
            "min_width": null,
            "border": null,
            "align_items": null,
            "bottom": null,
            "_model_module": "@jupyter-widgets/base",
            "top": null,
            "grid_column": null,
            "overflow_y": null,
            "overflow_x": null,
            "grid_auto_flow": null,
            "grid_area": null,
            "grid_template_columns": null,
            "flex": null,
            "_model_name": "LayoutModel",
            "justify_items": null,
            "grid_row": null,
            "max_height": null,
            "align_content": null,
            "visibility": null,
            "align_self": null,
            "height": null,
            "min_height": null,
            "padding": null,
            "grid_auto_rows": null,
            "grid_gap": null,
            "max_width": null,
            "order": null,
            "_view_module_version": "1.2.0",
            "grid_template_areas": null,
            "object_position": null,
            "object_fit": null,
            "grid_auto_columns": null,
            "margin": null,
            "display": null,
            "left": null
          }
        },
        "1fc2cc07e204408c86b9570cd07f325c": {
          "model_module": "@jupyter-widgets/controls",
          "model_name": "ProgressStyleModel",
          "model_module_version": "1.5.0",
          "state": {
            "_view_name": "StyleView",
            "_model_name": "ProgressStyleModel",
            "description_width": "",
            "_view_module": "@jupyter-widgets/base",
            "_model_module_version": "1.5.0",
            "_view_count": null,
            "_view_module_version": "1.2.0",
            "bar_color": null,
            "_model_module": "@jupyter-widgets/controls"
          }
        },
        "fba83ecd90b3497faa65583b7e0b07ee": {
          "model_module": "@jupyter-widgets/base",
          "model_name": "LayoutModel",
          "model_module_version": "1.2.0",
          "state": {
            "_view_name": "LayoutView",
            "grid_template_rows": null,
            "right": null,
            "justify_content": null,
            "_view_module": "@jupyter-widgets/base",
            "overflow": null,
            "_model_module_version": "1.2.0",
            "_view_count": null,
            "flex_flow": null,
            "width": null,
            "min_width": null,
            "border": null,
            "align_items": null,
            "bottom": null,
            "_model_module": "@jupyter-widgets/base",
            "top": null,
            "grid_column": null,
            "overflow_y": null,
            "overflow_x": null,
            "grid_auto_flow": null,
            "grid_area": null,
            "grid_template_columns": null,
            "flex": null,
            "_model_name": "LayoutModel",
            "justify_items": null,
            "grid_row": null,
            "max_height": null,
            "align_content": null,
            "visibility": null,
            "align_self": null,
            "height": null,
            "min_height": null,
            "padding": null,
            "grid_auto_rows": null,
            "grid_gap": null,
            "max_width": null,
            "order": null,
            "_view_module_version": "1.2.0",
            "grid_template_areas": null,
            "object_position": null,
            "object_fit": null,
            "grid_auto_columns": null,
            "margin": null,
            "display": null,
            "left": null
          }
        },
        "10b0b4fa34734b74b9cec08da14f6396": {
          "model_module": "@jupyter-widgets/controls",
          "model_name": "DescriptionStyleModel",
          "model_module_version": "1.5.0",
          "state": {
            "_view_name": "StyleView",
            "_model_name": "DescriptionStyleModel",
            "description_width": "",
            "_view_module": "@jupyter-widgets/base",
            "_model_module_version": "1.5.0",
            "_view_count": null,
            "_view_module_version": "1.2.0",
            "_model_module": "@jupyter-widgets/controls"
          }
        },
        "7b8a7af163f846fb8236cdfcbb2a9da2": {
          "model_module": "@jupyter-widgets/base",
          "model_name": "LayoutModel",
          "model_module_version": "1.2.0",
          "state": {
            "_view_name": "LayoutView",
            "grid_template_rows": null,
            "right": null,
            "justify_content": null,
            "_view_module": "@jupyter-widgets/base",
            "overflow": null,
            "_model_module_version": "1.2.0",
            "_view_count": null,
            "flex_flow": null,
            "width": null,
            "min_width": null,
            "border": null,
            "align_items": null,
            "bottom": null,
            "_model_module": "@jupyter-widgets/base",
            "top": null,
            "grid_column": null,
            "overflow_y": null,
            "overflow_x": null,
            "grid_auto_flow": null,
            "grid_area": null,
            "grid_template_columns": null,
            "flex": null,
            "_model_name": "LayoutModel",
            "justify_items": null,
            "grid_row": null,
            "max_height": null,
            "align_content": null,
            "visibility": null,
            "align_self": null,
            "height": null,
            "min_height": null,
            "padding": null,
            "grid_auto_rows": null,
            "grid_gap": null,
            "max_width": null,
            "order": null,
            "_view_module_version": "1.2.0",
            "grid_template_areas": null,
            "object_position": null,
            "object_fit": null,
            "grid_auto_columns": null,
            "margin": null,
            "display": null,
            "left": null
          }
        },
        "d5300e1970484e30b8e7a6453ec876ba": {
          "model_module": "@jupyter-widgets/controls",
          "model_name": "HBoxModel",
          "model_module_version": "1.5.0",
          "state": {
            "_view_name": "HBoxView",
            "_dom_classes": [],
            "_model_name": "HBoxModel",
            "_view_module": "@jupyter-widgets/controls",
            "_model_module_version": "1.5.0",
            "_view_count": null,
            "_view_module_version": "1.5.0",
            "box_style": "",
            "layout": "IPY_MODEL_92b19fa41dd9422a943e853946558de0",
            "_model_module": "@jupyter-widgets/controls",
            "children": [
              "IPY_MODEL_ab536bd8300545eda9736c01de43a04c",
              "IPY_MODEL_18be9f03d1cb421384c05767168f67c8",
              "IPY_MODEL_fff699fb1ce4424cb164d084a6625459"
            ]
          }
        },
        "92b19fa41dd9422a943e853946558de0": {
          "model_module": "@jupyter-widgets/base",
          "model_name": "LayoutModel",
          "model_module_version": "1.2.0",
          "state": {
            "_view_name": "LayoutView",
            "grid_template_rows": null,
            "right": null,
            "justify_content": null,
            "_view_module": "@jupyter-widgets/base",
            "overflow": null,
            "_model_module_version": "1.2.0",
            "_view_count": null,
            "flex_flow": null,
            "width": null,
            "min_width": null,
            "border": null,
            "align_items": null,
            "bottom": null,
            "_model_module": "@jupyter-widgets/base",
            "top": null,
            "grid_column": null,
            "overflow_y": null,
            "overflow_x": null,
            "grid_auto_flow": null,
            "grid_area": null,
            "grid_template_columns": null,
            "flex": null,
            "_model_name": "LayoutModel",
            "justify_items": null,
            "grid_row": null,
            "max_height": null,
            "align_content": null,
            "visibility": null,
            "align_self": null,
            "height": null,
            "min_height": null,
            "padding": null,
            "grid_auto_rows": null,
            "grid_gap": null,
            "max_width": null,
            "order": null,
            "_view_module_version": "1.2.0",
            "grid_template_areas": null,
            "object_position": null,
            "object_fit": null,
            "grid_auto_columns": null,
            "margin": null,
            "display": null,
            "left": null
          }
        },
        "ab536bd8300545eda9736c01de43a04c": {
          "model_module": "@jupyter-widgets/controls",
          "model_name": "HTMLModel",
          "model_module_version": "1.5.0",
          "state": {
            "_view_name": "HTMLView",
            "style": "IPY_MODEL_fd19b656bd784b48afb48381ffcda57d",
            "_dom_classes": [],
            "description": "",
            "_model_name": "HTMLModel",
            "placeholder": "​",
            "_view_module": "@jupyter-widgets/controls",
            "_model_module_version": "1.5.0",
            "value": "100%",
            "_view_count": null,
            "_view_module_version": "1.5.0",
            "description_tooltip": null,
            "_model_module": "@jupyter-widgets/controls",
            "layout": "IPY_MODEL_1352dc436120455b8eab28774260dbda"
          }
        },
        "18be9f03d1cb421384c05767168f67c8": {
          "model_module": "@jupyter-widgets/controls",
          "model_name": "FloatProgressModel",
          "model_module_version": "1.5.0",
          "state": {
            "_view_name": "ProgressView",
            "style": "IPY_MODEL_805ef63b836a4f08aa9f3e3fd0588a58",
            "_dom_classes": [],
            "description": "",
            "_model_name": "FloatProgressModel",
            "bar_style": "success",
            "max": 20,
            "_view_module": "@jupyter-widgets/controls",
            "_model_module_version": "1.5.0",
            "value": 20,
            "_view_count": null,
            "_view_module_version": "1.5.0",
            "orientation": "horizontal",
            "min": 0,
            "description_tooltip": null,
            "_model_module": "@jupyter-widgets/controls",
            "layout": "IPY_MODEL_9929539f557b452f871d0952e5e8ce73"
          }
        },
        "fff699fb1ce4424cb164d084a6625459": {
          "model_module": "@jupyter-widgets/controls",
          "model_name": "HTMLModel",
          "model_module_version": "1.5.0",
          "state": {
            "_view_name": "HTMLView",
            "style": "IPY_MODEL_eeca5539b7fc4f8198c17ee98c0c9535",
            "_dom_classes": [],
            "description": "",
            "_model_name": "HTMLModel",
            "placeholder": "​",
            "_view_module": "@jupyter-widgets/controls",
            "_model_module_version": "1.5.0",
            "value": " 20/20 [00:15&lt;00:00,  1.27it/s]",
            "_view_count": null,
            "_view_module_version": "1.5.0",
            "description_tooltip": null,
            "_model_module": "@jupyter-widgets/controls",
            "layout": "IPY_MODEL_ca8d8b08129f46a0a63c6dc2ef09fdb3"
          }
        },
        "fd19b656bd784b48afb48381ffcda57d": {
          "model_module": "@jupyter-widgets/controls",
          "model_name": "DescriptionStyleModel",
          "model_module_version": "1.5.0",
          "state": {
            "_view_name": "StyleView",
            "_model_name": "DescriptionStyleModel",
            "description_width": "",
            "_view_module": "@jupyter-widgets/base",
            "_model_module_version": "1.5.0",
            "_view_count": null,
            "_view_module_version": "1.2.0",
            "_model_module": "@jupyter-widgets/controls"
          }
        },
        "1352dc436120455b8eab28774260dbda": {
          "model_module": "@jupyter-widgets/base",
          "model_name": "LayoutModel",
          "model_module_version": "1.2.0",
          "state": {
            "_view_name": "LayoutView",
            "grid_template_rows": null,
            "right": null,
            "justify_content": null,
            "_view_module": "@jupyter-widgets/base",
            "overflow": null,
            "_model_module_version": "1.2.0",
            "_view_count": null,
            "flex_flow": null,
            "width": null,
            "min_width": null,
            "border": null,
            "align_items": null,
            "bottom": null,
            "_model_module": "@jupyter-widgets/base",
            "top": null,
            "grid_column": null,
            "overflow_y": null,
            "overflow_x": null,
            "grid_auto_flow": null,
            "grid_area": null,
            "grid_template_columns": null,
            "flex": null,
            "_model_name": "LayoutModel",
            "justify_items": null,
            "grid_row": null,
            "max_height": null,
            "align_content": null,
            "visibility": null,
            "align_self": null,
            "height": null,
            "min_height": null,
            "padding": null,
            "grid_auto_rows": null,
            "grid_gap": null,
            "max_width": null,
            "order": null,
            "_view_module_version": "1.2.0",
            "grid_template_areas": null,
            "object_position": null,
            "object_fit": null,
            "grid_auto_columns": null,
            "margin": null,
            "display": null,
            "left": null
          }
        },
        "805ef63b836a4f08aa9f3e3fd0588a58": {
          "model_module": "@jupyter-widgets/controls",
          "model_name": "ProgressStyleModel",
          "model_module_version": "1.5.0",
          "state": {
            "_view_name": "StyleView",
            "_model_name": "ProgressStyleModel",
            "description_width": "",
            "_view_module": "@jupyter-widgets/base",
            "_model_module_version": "1.5.0",
            "_view_count": null,
            "_view_module_version": "1.2.0",
            "bar_color": null,
            "_model_module": "@jupyter-widgets/controls"
          }
        },
        "9929539f557b452f871d0952e5e8ce73": {
          "model_module": "@jupyter-widgets/base",
          "model_name": "LayoutModel",
          "model_module_version": "1.2.0",
          "state": {
            "_view_name": "LayoutView",
            "grid_template_rows": null,
            "right": null,
            "justify_content": null,
            "_view_module": "@jupyter-widgets/base",
            "overflow": null,
            "_model_module_version": "1.2.0",
            "_view_count": null,
            "flex_flow": null,
            "width": null,
            "min_width": null,
            "border": null,
            "align_items": null,
            "bottom": null,
            "_model_module": "@jupyter-widgets/base",
            "top": null,
            "grid_column": null,
            "overflow_y": null,
            "overflow_x": null,
            "grid_auto_flow": null,
            "grid_area": null,
            "grid_template_columns": null,
            "flex": null,
            "_model_name": "LayoutModel",
            "justify_items": null,
            "grid_row": null,
            "max_height": null,
            "align_content": null,
            "visibility": null,
            "align_self": null,
            "height": null,
            "min_height": null,
            "padding": null,
            "grid_auto_rows": null,
            "grid_gap": null,
            "max_width": null,
            "order": null,
            "_view_module_version": "1.2.0",
            "grid_template_areas": null,
            "object_position": null,
            "object_fit": null,
            "grid_auto_columns": null,
            "margin": null,
            "display": null,
            "left": null
          }
        },
        "eeca5539b7fc4f8198c17ee98c0c9535": {
          "model_module": "@jupyter-widgets/controls",
          "model_name": "DescriptionStyleModel",
          "model_module_version": "1.5.0",
          "state": {
            "_view_name": "StyleView",
            "_model_name": "DescriptionStyleModel",
            "description_width": "",
            "_view_module": "@jupyter-widgets/base",
            "_model_module_version": "1.5.0",
            "_view_count": null,
            "_view_module_version": "1.2.0",
            "_model_module": "@jupyter-widgets/controls"
          }
        },
        "ca8d8b08129f46a0a63c6dc2ef09fdb3": {
          "model_module": "@jupyter-widgets/base",
          "model_name": "LayoutModel",
          "model_module_version": "1.2.0",
          "state": {
            "_view_name": "LayoutView",
            "grid_template_rows": null,
            "right": null,
            "justify_content": null,
            "_view_module": "@jupyter-widgets/base",
            "overflow": null,
            "_model_module_version": "1.2.0",
            "_view_count": null,
            "flex_flow": null,
            "width": null,
            "min_width": null,
            "border": null,
            "align_items": null,
            "bottom": null,
            "_model_module": "@jupyter-widgets/base",
            "top": null,
            "grid_column": null,
            "overflow_y": null,
            "overflow_x": null,
            "grid_auto_flow": null,
            "grid_area": null,
            "grid_template_columns": null,
            "flex": null,
            "_model_name": "LayoutModel",
            "justify_items": null,
            "grid_row": null,
            "max_height": null,
            "align_content": null,
            "visibility": null,
            "align_self": null,
            "height": null,
            "min_height": null,
            "padding": null,
            "grid_auto_rows": null,
            "grid_gap": null,
            "max_width": null,
            "order": null,
            "_view_module_version": "1.2.0",
            "grid_template_areas": null,
            "object_position": null,
            "object_fit": null,
            "grid_auto_columns": null,
            "margin": null,
            "display": null,
            "left": null
          }
        },
        "60c69734830d4458850d85c610da4b73": {
          "model_module": "@jupyter-widgets/controls",
          "model_name": "HBoxModel",
          "model_module_version": "1.5.0",
          "state": {
            "_view_name": "HBoxView",
            "_dom_classes": [],
            "_model_name": "HBoxModel",
            "_view_module": "@jupyter-widgets/controls",
            "_model_module_version": "1.5.0",
            "_view_count": null,
            "_view_module_version": "1.5.0",
            "box_style": "",
            "layout": "IPY_MODEL_20e45574414c46538fd723c87bd7af47",
            "_model_module": "@jupyter-widgets/controls",
            "children": [
              "IPY_MODEL_851573d015274f67870cda33b3ac61b6",
              "IPY_MODEL_d20441ebe0e94128bc42a4c047f69047",
              "IPY_MODEL_a01c0644d1024801bf957e59215d8709"
            ]
          }
        },
        "20e45574414c46538fd723c87bd7af47": {
          "model_module": "@jupyter-widgets/base",
          "model_name": "LayoutModel",
          "model_module_version": "1.2.0",
          "state": {
            "_view_name": "LayoutView",
            "grid_template_rows": null,
            "right": null,
            "justify_content": null,
            "_view_module": "@jupyter-widgets/base",
            "overflow": null,
            "_model_module_version": "1.2.0",
            "_view_count": null,
            "flex_flow": null,
            "width": null,
            "min_width": null,
            "border": null,
            "align_items": null,
            "bottom": null,
            "_model_module": "@jupyter-widgets/base",
            "top": null,
            "grid_column": null,
            "overflow_y": null,
            "overflow_x": null,
            "grid_auto_flow": null,
            "grid_area": null,
            "grid_template_columns": null,
            "flex": null,
            "_model_name": "LayoutModel",
            "justify_items": null,
            "grid_row": null,
            "max_height": null,
            "align_content": null,
            "visibility": null,
            "align_self": null,
            "height": null,
            "min_height": null,
            "padding": null,
            "grid_auto_rows": null,
            "grid_gap": null,
            "max_width": null,
            "order": null,
            "_view_module_version": "1.2.0",
            "grid_template_areas": null,
            "object_position": null,
            "object_fit": null,
            "grid_auto_columns": null,
            "margin": null,
            "display": null,
            "left": null
          }
        },
        "851573d015274f67870cda33b3ac61b6": {
          "model_module": "@jupyter-widgets/controls",
          "model_name": "HTMLModel",
          "model_module_version": "1.5.0",
          "state": {
            "_view_name": "HTMLView",
            "style": "IPY_MODEL_227e2c561d374e16ad22082f27a91517",
            "_dom_classes": [],
            "description": "",
            "_model_name": "HTMLModel",
            "placeholder": "​",
            "_view_module": "@jupyter-widgets/controls",
            "_model_module_version": "1.5.0",
            "value": "100%",
            "_view_count": null,
            "_view_module_version": "1.5.0",
            "description_tooltip": null,
            "_model_module": "@jupyter-widgets/controls",
            "layout": "IPY_MODEL_96a9656d95d942078c33d03f3d920d45"
          }
        },
        "d20441ebe0e94128bc42a4c047f69047": {
          "model_module": "@jupyter-widgets/controls",
          "model_name": "FloatProgressModel",
          "model_module_version": "1.5.0",
          "state": {
            "_view_name": "ProgressView",
            "style": "IPY_MODEL_93f35243be2341dd972c291a51797530",
            "_dom_classes": [],
            "description": "",
            "_model_name": "FloatProgressModel",
            "bar_style": "success",
            "max": 20,
            "_view_module": "@jupyter-widgets/controls",
            "_model_module_version": "1.5.0",
            "value": 20,
            "_view_count": null,
            "_view_module_version": "1.5.0",
            "orientation": "horizontal",
            "min": 0,
            "description_tooltip": null,
            "_model_module": "@jupyter-widgets/controls",
            "layout": "IPY_MODEL_6ea007a6e50641f78cabaa7473a8b6c6"
          }
        },
        "a01c0644d1024801bf957e59215d8709": {
          "model_module": "@jupyter-widgets/controls",
          "model_name": "HTMLModel",
          "model_module_version": "1.5.0",
          "state": {
            "_view_name": "HTMLView",
            "style": "IPY_MODEL_8a6eb435be0042089bea66ad7b815e52",
            "_dom_classes": [],
            "description": "",
            "_model_name": "HTMLModel",
            "placeholder": "​",
            "_view_module": "@jupyter-widgets/controls",
            "_model_module_version": "1.5.0",
            "value": " 20/20 [00:01&lt;00:00, 15.81it/s]",
            "_view_count": null,
            "_view_module_version": "1.5.0",
            "description_tooltip": null,
            "_model_module": "@jupyter-widgets/controls",
            "layout": "IPY_MODEL_fde5b99fec264c7c9d2e6097a32c472d"
          }
        },
        "227e2c561d374e16ad22082f27a91517": {
          "model_module": "@jupyter-widgets/controls",
          "model_name": "DescriptionStyleModel",
          "model_module_version": "1.5.0",
          "state": {
            "_view_name": "StyleView",
            "_model_name": "DescriptionStyleModel",
            "description_width": "",
            "_view_module": "@jupyter-widgets/base",
            "_model_module_version": "1.5.0",
            "_view_count": null,
            "_view_module_version": "1.2.0",
            "_model_module": "@jupyter-widgets/controls"
          }
        },
        "96a9656d95d942078c33d03f3d920d45": {
          "model_module": "@jupyter-widgets/base",
          "model_name": "LayoutModel",
          "model_module_version": "1.2.0",
          "state": {
            "_view_name": "LayoutView",
            "grid_template_rows": null,
            "right": null,
            "justify_content": null,
            "_view_module": "@jupyter-widgets/base",
            "overflow": null,
            "_model_module_version": "1.2.0",
            "_view_count": null,
            "flex_flow": null,
            "width": null,
            "min_width": null,
            "border": null,
            "align_items": null,
            "bottom": null,
            "_model_module": "@jupyter-widgets/base",
            "top": null,
            "grid_column": null,
            "overflow_y": null,
            "overflow_x": null,
            "grid_auto_flow": null,
            "grid_area": null,
            "grid_template_columns": null,
            "flex": null,
            "_model_name": "LayoutModel",
            "justify_items": null,
            "grid_row": null,
            "max_height": null,
            "align_content": null,
            "visibility": null,
            "align_self": null,
            "height": null,
            "min_height": null,
            "padding": null,
            "grid_auto_rows": null,
            "grid_gap": null,
            "max_width": null,
            "order": null,
            "_view_module_version": "1.2.0",
            "grid_template_areas": null,
            "object_position": null,
            "object_fit": null,
            "grid_auto_columns": null,
            "margin": null,
            "display": null,
            "left": null
          }
        },
        "93f35243be2341dd972c291a51797530": {
          "model_module": "@jupyter-widgets/controls",
          "model_name": "ProgressStyleModel",
          "model_module_version": "1.5.0",
          "state": {
            "_view_name": "StyleView",
            "_model_name": "ProgressStyleModel",
            "description_width": "",
            "_view_module": "@jupyter-widgets/base",
            "_model_module_version": "1.5.0",
            "_view_count": null,
            "_view_module_version": "1.2.0",
            "bar_color": null,
            "_model_module": "@jupyter-widgets/controls"
          }
        },
        "6ea007a6e50641f78cabaa7473a8b6c6": {
          "model_module": "@jupyter-widgets/base",
          "model_name": "LayoutModel",
          "model_module_version": "1.2.0",
          "state": {
            "_view_name": "LayoutView",
            "grid_template_rows": null,
            "right": null,
            "justify_content": null,
            "_view_module": "@jupyter-widgets/base",
            "overflow": null,
            "_model_module_version": "1.2.0",
            "_view_count": null,
            "flex_flow": null,
            "width": null,
            "min_width": null,
            "border": null,
            "align_items": null,
            "bottom": null,
            "_model_module": "@jupyter-widgets/base",
            "top": null,
            "grid_column": null,
            "overflow_y": null,
            "overflow_x": null,
            "grid_auto_flow": null,
            "grid_area": null,
            "grid_template_columns": null,
            "flex": null,
            "_model_name": "LayoutModel",
            "justify_items": null,
            "grid_row": null,
            "max_height": null,
            "align_content": null,
            "visibility": null,
            "align_self": null,
            "height": null,
            "min_height": null,
            "padding": null,
            "grid_auto_rows": null,
            "grid_gap": null,
            "max_width": null,
            "order": null,
            "_view_module_version": "1.2.0",
            "grid_template_areas": null,
            "object_position": null,
            "object_fit": null,
            "grid_auto_columns": null,
            "margin": null,
            "display": null,
            "left": null
          }
        },
        "8a6eb435be0042089bea66ad7b815e52": {
          "model_module": "@jupyter-widgets/controls",
          "model_name": "DescriptionStyleModel",
          "model_module_version": "1.5.0",
          "state": {
            "_view_name": "StyleView",
            "_model_name": "DescriptionStyleModel",
            "description_width": "",
            "_view_module": "@jupyter-widgets/base",
            "_model_module_version": "1.5.0",
            "_view_count": null,
            "_view_module_version": "1.2.0",
            "_model_module": "@jupyter-widgets/controls"
          }
        },
        "fde5b99fec264c7c9d2e6097a32c472d": {
          "model_module": "@jupyter-widgets/base",
          "model_name": "LayoutModel",
          "model_module_version": "1.2.0",
          "state": {
            "_view_name": "LayoutView",
            "grid_template_rows": null,
            "right": null,
            "justify_content": null,
            "_view_module": "@jupyter-widgets/base",
            "overflow": null,
            "_model_module_version": "1.2.0",
            "_view_count": null,
            "flex_flow": null,
            "width": null,
            "min_width": null,
            "border": null,
            "align_items": null,
            "bottom": null,
            "_model_module": "@jupyter-widgets/base",
            "top": null,
            "grid_column": null,
            "overflow_y": null,
            "overflow_x": null,
            "grid_auto_flow": null,
            "grid_area": null,
            "grid_template_columns": null,
            "flex": null,
            "_model_name": "LayoutModel",
            "justify_items": null,
            "grid_row": null,
            "max_height": null,
            "align_content": null,
            "visibility": null,
            "align_self": null,
            "height": null,
            "min_height": null,
            "padding": null,
            "grid_auto_rows": null,
            "grid_gap": null,
            "max_width": null,
            "order": null,
            "_view_module_version": "1.2.0",
            "grid_template_areas": null,
            "object_position": null,
            "object_fit": null,
            "grid_auto_columns": null,
            "margin": null,
            "display": null,
            "left": null
          }
        }
      }
    }
  },
  "cells": [
    {
      "cell_type": "markdown",
      "metadata": {
        "id": "view-in-github",
        "colab_type": "text"
      },
      "source": [
        "<a href=\"https://colab.research.google.com/github/whispermy/novatus_academia/blob/main/Week5_PART_III_code.ipynb\" target=\"_parent\"><img src=\"https://colab.research.google.com/assets/colab-badge.svg\" alt=\"Open In Colab\"/></a>"
      ]
    },
    {
      "cell_type": "code",
      "metadata": {
        "id": "1U8a3BAoZ6o9"
      },
      "source": [
        "import pandas as pd\n",
        "import numpy as np\n",
        "import os\n",
        "import random\n",
        "import matplotlib.pyplot as plt\n",
        "from tqdm.auto import tqdm\n",
        "from sklearn.preprocessing import MinMaxScaler"
      ],
      "execution_count": 1,
      "outputs": []
    },
    {
      "cell_type": "code",
      "metadata": {
        "id": "5lBH-5PgcRuY"
      },
      "source": [
        "import tensorflow as tf\n",
        "from tensorflow.keras.models import Sequential\n",
        "from tensorflow.keras import layers"
      ],
      "execution_count": 2,
      "outputs": []
    },
    {
      "cell_type": "code",
      "metadata": {
        "id": "_vyEaByrJg8_"
      },
      "source": [
        "from tqdm.auto import tqdm\n",
        "import warnings"
      ],
      "execution_count": 3,
      "outputs": []
    },
    {
      "cell_type": "code",
      "metadata": {
        "id": "udNBRNW1lkOz"
      },
      "source": [
        "warnings.filterwarnings('ignore')"
      ],
      "execution_count": 4,
      "outputs": []
    },
    {
      "cell_type": "code",
      "metadata": {
        "id": "_f950rvFrAb7"
      },
      "source": [
        "random.seed(123)"
      ],
      "execution_count": 5,
      "outputs": []
    },
    {
      "cell_type": "markdown",
      "metadata": {
        "id": "wlrwDOCku4Wu"
      },
      "source": [
        "### 데이터 불러오기\n",
        "    \n",
        "1. 센서데이터\n",
        "+ 센서 데이터는 98개의 sheet로 이루어진 엑셀 데이터\n",
        "+ panda에서 여러개의 sheet로 구성된 엑셀 데이터에서 특정 sheet만 불러오고 싶을때는 다음과 같은 코드를 이용\n",
        "\n",
        "```\n",
        "# load excel sheet\n",
        "data = pd.read_excel('<excel data 경로>', sheet_name='<sheet name>')\n",
        "```\n",
        "\n"
      ]
    },
    {
      "cell_type": "code",
      "metadata": {
        "id": "1a8M0MIyFNDH"
      },
      "source": [
        "sheet_name = ['sample 1', 'sample 2', 'sample 3', 'sample 4', 'sample 5', 'sample 6', 'sample 7', 'sample 8', 'sample 9', \\\n",
        "              'sample 10', 'sample 11', 'sample 12', 'sample 13', 'sample 14', 'sample 15', 'sample 16', 'sample 17', 'sample 18',\\\n",
        "              'sample 19', 'sample 20', 'sample 21', 'sample 22', 'sample 23', 'sample 24', 'sample 25', 'sample 26', 'sample 27',\\\n",
        "              'sample 28', 'sample 29', 'sample 30', 'sample 31', 'sample 32', 'sample 33', 'sample 34', 'sample 35', 'sample 36',\\\n",
        "              'sample 37', 'sample 38', 'sample 39', 'sample 40', 'sample 41', 'sample 42', 'sample 43', 'sample 44', 'sample 45',\\\n",
        "              'sample 46', 'sample 47', 'sample 48', 'sample 49', 'sample 50', 'sample 51', 'sample 52', 'sample 53', 'sample 54',\\\n",
        "              'sample 55', 'sample 56', 'sample 57', 'sample 58', 'sample 59', 'sample 60', 'sample 61', 'sample 62', 'sample 63',\\\n",
        "              'sample 64', 'sample 65', 'sample 66', 'sample 67', 'sample 68', 'sample 69', 'sample 70', 'sample 71', 'sample 72',\\\n",
        "              'sample 73', 'sample 74', 'sample 75', 'sample 76', 'sample 77', 'sample 78', 'sample 79', 'sample 80', 'sample 81',\\\n",
        "              'sample 82', 'sample 83', 'sample 84', 'sample 85', 'sample 86', 'sample 87', 'sample 88', 'sample 89', 'sample 90',\\\n",
        "              'sample 91', 'sample 92', 'sample 93', 'sample 94', 'sample 95', 'sample 96', 'sample 97', 'sample 98']"
      ],
      "execution_count": 6,
      "outputs": []
    },
    {
      "cell_type": "markdown",
      "metadata": {
        "id": "7uwYeS8QwWDv"
      },
      "source": [
        "#### \"sample 1\"이라고 이름 붙여진 sheet 불러오기"
      ]
    },
    {
      "cell_type": "markdown",
      "metadata": {
        "id": "UjV28S6sgFB_"
      },
      "source": [
        "+ sample 1 sheet 불러오기"
      ]
    },
    {
      "cell_type": "code",
      "metadata": {
        "id": "O50ZY-wmu7fD"
      },
      "source": [
        "sensor_data_1 = pd.read_excel('sensor_data.xlsx', sheet_name='sample 1')"
      ],
      "execution_count": 7,
      "outputs": []
    },
    {
      "cell_type": "code",
      "metadata": {
        "colab": {
          "base_uri": "https://localhost:8080/"
        },
        "id": "o0MTuxr4OncS",
        "outputId": "10b42d68-7ab5-4287-9d2d-b245086ab931"
      },
      "source": [
        "sensor_data_1.shape"
      ],
      "execution_count": 8,
      "outputs": [
        {
          "output_type": "execute_result",
          "data": {
            "text/plain": [
              "(92, 13)"
            ]
          },
          "metadata": {},
          "execution_count": 8
        }
      ]
    },
    {
      "cell_type": "code",
      "metadata": {
        "colab": {
          "base_uri": "https://localhost:8080/",
          "height": 204
        },
        "id": "ZG6qnEpvvbNs",
        "outputId": "c0be1bde-fe87-4c05-ac79-323382d39969"
      },
      "source": [
        "sensor_data_1.head()"
      ],
      "execution_count": 9,
      "outputs": [
        {
          "output_type": "execute_result",
          "data": {
            "text/html": [
              "<div>\n",
              "<style scoped>\n",
              "    .dataframe tbody tr th:only-of-type {\n",
              "        vertical-align: middle;\n",
              "    }\n",
              "\n",
              "    .dataframe tbody tr th {\n",
              "        vertical-align: top;\n",
              "    }\n",
              "\n",
              "    .dataframe thead th {\n",
              "        text-align: right;\n",
              "    }\n",
              "</style>\n",
              "<table border=\"1\" class=\"dataframe\">\n",
              "  <thead>\n",
              "    <tr style=\"text-align: right;\">\n",
              "      <th></th>\n",
              "      <th>temp</th>\n",
              "      <th>humi</th>\n",
              "      <th>sensor1</th>\n",
              "      <th>sensor2</th>\n",
              "      <th>sensor3</th>\n",
              "      <th>sensor4</th>\n",
              "      <th>sensor5</th>\n",
              "      <th>sensor6</th>\n",
              "      <th>sensor7</th>\n",
              "      <th>sensor8</th>\n",
              "      <th>sensor9</th>\n",
              "      <th>sensor10</th>\n",
              "      <th>sensor11</th>\n",
              "    </tr>\n",
              "  </thead>\n",
              "  <tbody>\n",
              "    <tr>\n",
              "      <th>0</th>\n",
              "      <td>322.85</td>\n",
              "      <td>360.98</td>\n",
              "      <td>37.24</td>\n",
              "      <td>33.23</td>\n",
              "      <td>16.67</td>\n",
              "      <td>16.93</td>\n",
              "      <td>21.78</td>\n",
              "      <td>22.94</td>\n",
              "      <td>36.98</td>\n",
              "      <td>29.62</td>\n",
              "      <td>20.25</td>\n",
              "      <td>23.88</td>\n",
              "      <td>21.96</td>\n",
              "    </tr>\n",
              "    <tr>\n",
              "      <th>1</th>\n",
              "      <td>324.85</td>\n",
              "      <td>359.98</td>\n",
              "      <td>37.24</td>\n",
              "      <td>33.23</td>\n",
              "      <td>16.67</td>\n",
              "      <td>16.93</td>\n",
              "      <td>20.78</td>\n",
              "      <td>19.94</td>\n",
              "      <td>35.98</td>\n",
              "      <td>22.62</td>\n",
              "      <td>16.25</td>\n",
              "      <td>27.88</td>\n",
              "      <td>29.96</td>\n",
              "    </tr>\n",
              "    <tr>\n",
              "      <th>2</th>\n",
              "      <td>322.85</td>\n",
              "      <td>360.98</td>\n",
              "      <td>37.24</td>\n",
              "      <td>34.23</td>\n",
              "      <td>16.67</td>\n",
              "      <td>16.93</td>\n",
              "      <td>21.78</td>\n",
              "      <td>27.94</td>\n",
              "      <td>35.98</td>\n",
              "      <td>18.62</td>\n",
              "      <td>26.25</td>\n",
              "      <td>21.88</td>\n",
              "      <td>25.96</td>\n",
              "    </tr>\n",
              "    <tr>\n",
              "      <th>3</th>\n",
              "      <td>324.85</td>\n",
              "      <td>360.98</td>\n",
              "      <td>38.24</td>\n",
              "      <td>34.23</td>\n",
              "      <td>16.67</td>\n",
              "      <td>16.93</td>\n",
              "      <td>20.78</td>\n",
              "      <td>29.94</td>\n",
              "      <td>36.98</td>\n",
              "      <td>24.62</td>\n",
              "      <td>23.25</td>\n",
              "      <td>22.88</td>\n",
              "      <td>31.96</td>\n",
              "    </tr>\n",
              "    <tr>\n",
              "      <th>4</th>\n",
              "      <td>325.85</td>\n",
              "      <td>360.98</td>\n",
              "      <td>37.24</td>\n",
              "      <td>34.23</td>\n",
              "      <td>16.67</td>\n",
              "      <td>23.93</td>\n",
              "      <td>21.78</td>\n",
              "      <td>16.94</td>\n",
              "      <td>36.98</td>\n",
              "      <td>20.62</td>\n",
              "      <td>19.25</td>\n",
              "      <td>20.88</td>\n",
              "      <td>32.96</td>\n",
              "    </tr>\n",
              "  </tbody>\n",
              "</table>\n",
              "</div>"
            ],
            "text/plain": [
              "     temp    humi  sensor1  sensor2  ...  sensor8  sensor9  sensor10  sensor11\n",
              "0  322.85  360.98    37.24    33.23  ...    29.62    20.25     23.88     21.96\n",
              "1  324.85  359.98    37.24    33.23  ...    22.62    16.25     27.88     29.96\n",
              "2  322.85  360.98    37.24    34.23  ...    18.62    26.25     21.88     25.96\n",
              "3  324.85  360.98    38.24    34.23  ...    24.62    23.25     22.88     31.96\n",
              "4  325.85  360.98    37.24    34.23  ...    20.62    19.25     20.88     32.96\n",
              "\n",
              "[5 rows x 13 columns]"
            ]
          },
          "metadata": {},
          "execution_count": 9
        }
      ]
    },
    {
      "cell_type": "markdown",
      "metadata": {
        "id": "Ge0s6xucgWfx"
      },
      "source": [
        "+ sample 81 불러오기"
      ]
    },
    {
      "cell_type": "code",
      "metadata": {
        "id": "JdVZV5DnMpEk"
      },
      "source": [
        "sensor_data_81 = pd.read_excel('sensor_data.xlsx', sheet_name='sample 81')"
      ],
      "execution_count": 10,
      "outputs": []
    },
    {
      "cell_type": "code",
      "metadata": {
        "colab": {
          "base_uri": "https://localhost:8080/"
        },
        "id": "-Il0g1rXMr06",
        "outputId": "da29c30a-c784-4055-b51d-f482d9b87dfe"
      },
      "source": [
        "sensor_data_81.shape"
      ],
      "execution_count": 11,
      "outputs": [
        {
          "output_type": "execute_result",
          "data": {
            "text/plain": [
              "(57, 13)"
            ]
          },
          "metadata": {},
          "execution_count": 11
        }
      ]
    },
    {
      "cell_type": "code",
      "metadata": {
        "id": "csYGtW6_GEZC",
        "colab": {
          "base_uri": "https://localhost:8080/",
          "height": 204
        },
        "outputId": "96bc53cf-24de-4fd2-fe3f-1f09461382b4"
      },
      "source": [
        "sensor_data_81.head()"
      ],
      "execution_count": 12,
      "outputs": [
        {
          "output_type": "execute_result",
          "data": {
            "text/html": [
              "<div>\n",
              "<style scoped>\n",
              "    .dataframe tbody tr th:only-of-type {\n",
              "        vertical-align: middle;\n",
              "    }\n",
              "\n",
              "    .dataframe tbody tr th {\n",
              "        vertical-align: top;\n",
              "    }\n",
              "\n",
              "    .dataframe thead th {\n",
              "        text-align: right;\n",
              "    }\n",
              "</style>\n",
              "<table border=\"1\" class=\"dataframe\">\n",
              "  <thead>\n",
              "    <tr style=\"text-align: right;\">\n",
              "      <th></th>\n",
              "      <th>temp</th>\n",
              "      <th>humi</th>\n",
              "      <th>sensor1</th>\n",
              "      <th>sensor2</th>\n",
              "      <th>sensor3</th>\n",
              "      <th>sensor4</th>\n",
              "      <th>sensor5</th>\n",
              "      <th>sensor6</th>\n",
              "      <th>sensor7</th>\n",
              "      <th>sensor8</th>\n",
              "      <th>sensor9</th>\n",
              "      <th>sensor10</th>\n",
              "      <th>sensor11</th>\n",
              "    </tr>\n",
              "  </thead>\n",
              "  <tbody>\n",
              "    <tr>\n",
              "      <th>0</th>\n",
              "      <td>1647.58</td>\n",
              "      <td>1695.95</td>\n",
              "      <td>117.6</td>\n",
              "      <td>115.07</td>\n",
              "      <td>77.88</td>\n",
              "      <td>64.74</td>\n",
              "      <td>97.84</td>\n",
              "      <td>55.86</td>\n",
              "      <td>181.96</td>\n",
              "      <td>99.85</td>\n",
              "      <td>71.26</td>\n",
              "      <td>155.72</td>\n",
              "      <td>95.81</td>\n",
              "    </tr>\n",
              "    <tr>\n",
              "      <th>1</th>\n",
              "      <td>1644.58</td>\n",
              "      <td>1696.95</td>\n",
              "      <td>119.6</td>\n",
              "      <td>114.07</td>\n",
              "      <td>76.88</td>\n",
              "      <td>69.74</td>\n",
              "      <td>94.84</td>\n",
              "      <td>64.86</td>\n",
              "      <td>181.96</td>\n",
              "      <td>96.85</td>\n",
              "      <td>95.26</td>\n",
              "      <td>156.72</td>\n",
              "      <td>109.81</td>\n",
              "    </tr>\n",
              "    <tr>\n",
              "      <th>2</th>\n",
              "      <td>1646.58</td>\n",
              "      <td>1696.95</td>\n",
              "      <td>118.6</td>\n",
              "      <td>115.07</td>\n",
              "      <td>76.88</td>\n",
              "      <td>63.74</td>\n",
              "      <td>100.84</td>\n",
              "      <td>48.86</td>\n",
              "      <td>180.96</td>\n",
              "      <td>102.85</td>\n",
              "      <td>82.26</td>\n",
              "      <td>163.72</td>\n",
              "      <td>95.81</td>\n",
              "    </tr>\n",
              "    <tr>\n",
              "      <th>3</th>\n",
              "      <td>1644.58</td>\n",
              "      <td>1695.95</td>\n",
              "      <td>118.6</td>\n",
              "      <td>112.07</td>\n",
              "      <td>75.88</td>\n",
              "      <td>64.74</td>\n",
              "      <td>93.84</td>\n",
              "      <td>40.86</td>\n",
              "      <td>181.96</td>\n",
              "      <td>106.85</td>\n",
              "      <td>78.26</td>\n",
              "      <td>160.72</td>\n",
              "      <td>98.81</td>\n",
              "    </tr>\n",
              "    <tr>\n",
              "      <th>4</th>\n",
              "      <td>1649.58</td>\n",
              "      <td>1694.95</td>\n",
              "      <td>116.6</td>\n",
              "      <td>108.07</td>\n",
              "      <td>74.88</td>\n",
              "      <td>56.74</td>\n",
              "      <td>89.84</td>\n",
              "      <td>62.86</td>\n",
              "      <td>181.96</td>\n",
              "      <td>94.85</td>\n",
              "      <td>82.26</td>\n",
              "      <td>164.72</td>\n",
              "      <td>107.81</td>\n",
              "    </tr>\n",
              "  </tbody>\n",
              "</table>\n",
              "</div>"
            ],
            "text/plain": [
              "      temp     humi  sensor1  sensor2  ...  sensor8  sensor9  sensor10  sensor11\n",
              "0  1647.58  1695.95    117.6   115.07  ...    99.85    71.26    155.72     95.81\n",
              "1  1644.58  1696.95    119.6   114.07  ...    96.85    95.26    156.72    109.81\n",
              "2  1646.58  1696.95    118.6   115.07  ...   102.85    82.26    163.72     95.81\n",
              "3  1644.58  1695.95    118.6   112.07  ...   106.85    78.26    160.72     98.81\n",
              "4  1649.58  1694.95    116.6   108.07  ...    94.85    82.26    164.72    107.81\n",
              "\n",
              "[5 rows x 13 columns]"
            ]
          },
          "metadata": {},
          "execution_count": 12
        }
      ]
    },
    {
      "cell_type": "markdown",
      "metadata": {
        "id": "qyO-FLZYHcx-"
      },
      "source": [
        "+ sheet1부터 sheet98까지 차원을 확인해보기"
      ]
    },
    {
      "cell_type": "code",
      "metadata": {
        "colab": {
          "base_uri": "https://localhost:8080/"
        },
        "id": "ZZeBgZ8vGGVH",
        "outputId": "28ac9d73-6a63-42d1-d8a1-4f30c356e075"
      },
      "source": [
        "for sheet in sheet_name[0:10]:\n",
        "    tmp_sheet = pd.read_excel('sensor_data.xlsx', sheet_name=sheet)\n",
        "    print(\"{} 의 차원 : {}\".format(sheet, tmp_sheet.shape))"
      ],
      "execution_count": 13,
      "outputs": [
        {
          "output_type": "stream",
          "name": "stdout",
          "text": [
            "sample 1 의 차원 : (92, 13)\n",
            "sample 2 의 차원 : (75, 13)\n",
            "sample 3 의 차원 : (70, 13)\n",
            "sample 4 의 차원 : (62, 13)\n",
            "sample 5 의 차원 : (57, 13)\n",
            "sample 6 의 차원 : (234, 13)\n",
            "sample 7 의 차원 : (77, 13)\n",
            "sample 8 의 차원 : (71, 13)\n",
            "sample 9 의 차원 : (67, 13)\n",
            "sample 10 의 차원 : (50, 13)\n"
          ]
        }
      ]
    },
    {
      "cell_type": "markdown",
      "metadata": {
        "id": "OPFU3lVZvKew"
      },
      "source": [
        "2. 라벨데이터 \n",
        " + 각 센서 데이터 샘플이 어떠한 시료배합으로 실험을 진행하였는지를 보여주는 데이터\n",
        " \n",
        " + 변수 설명\n",
        "\n",
        "    + sample : sample name\n",
        "    + gas1 : 첫 번째의 원료 포함량\n",
        "    + gas2 : 두 번째의 원료 포함량\n",
        "    + gas3 : 세 번째의 원료 포함량\n",
        "    + class : 같은 클래스 같은 원료 배합량을 가짐 (같은 클래스는 같은 원료배합량을 가짐) \n"
      ]
    },
    {
      "cell_type": "markdown",
      "metadata": {
        "id": "UyyDRZ3mgcCU"
      },
      "source": [
        "+ label 데이터 불러오기"
      ]
    },
    {
      "cell_type": "code",
      "metadata": {
        "id": "ZfEaSYebvWu1"
      },
      "source": [
        "label = pd.read_excel('label.xlsx')\n",
        "# sheet 정보를 포함하지 않으면 자동적으로 첫번째 시트를 가져온다. "
      ],
      "execution_count": 17,
      "outputs": []
    },
    {
      "cell_type": "markdown",
      "metadata": {
        "id": "5VnFKsDtgfNf"
      },
      "source": [
        "+ label 데이터 차원 확인"
      ]
    },
    {
      "cell_type": "code",
      "metadata": {
        "id": "J3DCTtVF_IAi",
        "colab": {
          "base_uri": "https://localhost:8080/"
        },
        "outputId": "4f359107-9590-43d9-b90d-b5df30910d35"
      },
      "source": [
        "label.shape"
      ],
      "execution_count": 18,
      "outputs": [
        {
          "output_type": "execute_result",
          "data": {
            "text/plain": [
              "(98, 4)"
            ]
          },
          "metadata": {},
          "execution_count": 18
        }
      ]
    },
    {
      "cell_type": "markdown",
      "metadata": {
        "id": "z9nG35Chgiz3"
      },
      "source": [
        "+ label 데이터 첫 5행 확인"
      ]
    },
    {
      "cell_type": "code",
      "metadata": {
        "id": "jfq4opdZwmmC",
        "colab": {
          "base_uri": "https://localhost:8080/",
          "height": 204
        },
        "outputId": "6fb98565-c9d1-4605-ef75-d840d3ec2654"
      },
      "source": [
        "label.head(5)"
      ],
      "execution_count": 19,
      "outputs": [
        {
          "output_type": "execute_result",
          "data": {
            "text/html": [
              "<div>\n",
              "<style scoped>\n",
              "    .dataframe tbody tr th:only-of-type {\n",
              "        vertical-align: middle;\n",
              "    }\n",
              "\n",
              "    .dataframe tbody tr th {\n",
              "        vertical-align: top;\n",
              "    }\n",
              "\n",
              "    .dataframe thead th {\n",
              "        text-align: right;\n",
              "    }\n",
              "</style>\n",
              "<table border=\"1\" class=\"dataframe\">\n",
              "  <thead>\n",
              "    <tr style=\"text-align: right;\">\n",
              "      <th></th>\n",
              "      <th>sample</th>\n",
              "      <th>gas1</th>\n",
              "      <th>gas2</th>\n",
              "      <th>gas3</th>\n",
              "    </tr>\n",
              "  </thead>\n",
              "  <tbody>\n",
              "    <tr>\n",
              "      <th>0</th>\n",
              "      <td>sample 1</td>\n",
              "      <td>1.0</td>\n",
              "      <td>1.0</td>\n",
              "      <td>2.0</td>\n",
              "    </tr>\n",
              "    <tr>\n",
              "      <th>1</th>\n",
              "      <td>sample 2</td>\n",
              "      <td>1.0</td>\n",
              "      <td>1.0</td>\n",
              "      <td>2.0</td>\n",
              "    </tr>\n",
              "    <tr>\n",
              "      <th>2</th>\n",
              "      <td>sample 3</td>\n",
              "      <td>1.0</td>\n",
              "      <td>1.0</td>\n",
              "      <td>2.0</td>\n",
              "    </tr>\n",
              "    <tr>\n",
              "      <th>3</th>\n",
              "      <td>sample 4</td>\n",
              "      <td>1.0</td>\n",
              "      <td>1.0</td>\n",
              "      <td>2.0</td>\n",
              "    </tr>\n",
              "    <tr>\n",
              "      <th>4</th>\n",
              "      <td>sample 5</td>\n",
              "      <td>1.0</td>\n",
              "      <td>2.0</td>\n",
              "      <td>1.0</td>\n",
              "    </tr>\n",
              "  </tbody>\n",
              "</table>\n",
              "</div>"
            ],
            "text/plain": [
              "     sample  gas1  gas2  gas3\n",
              "0  sample 1   1.0   1.0   2.0\n",
              "1  sample 2   1.0   1.0   2.0\n",
              "2  sample 3   1.0   1.0   2.0\n",
              "3  sample 4   1.0   1.0   2.0\n",
              "4  sample 5   1.0   2.0   1.0"
            ]
          },
          "metadata": {},
          "execution_count": 19
        }
      ]
    },
    {
      "cell_type": "markdown",
      "metadata": {
        "id": "HxRR_qMT3TvR"
      },
      "source": [
        "### Label 데이터의 결측값 처리\n",
        "\n",
        "+ label 데이터에는 결측값이 존재하는데 이 경우에는 해당 가스를 투입하지 않은 것을 의미하기 대문에 결측값을 0으로 대체합니다"
      ]
    },
    {
      "cell_type": "markdown",
      "metadata": {
        "id": "S1hr05wBgmIN"
      },
      "source": [
        "+ label 데이터 결측치 확인"
      ]
    },
    {
      "cell_type": "code",
      "metadata": {
        "id": "xvDPqCt23hNO",
        "colab": {
          "base_uri": "https://localhost:8080/"
        },
        "outputId": "a8e37c4c-9eff-463e-c971-d9be742a1a25"
      },
      "source": [
        "label.isnull().sum()"
      ],
      "execution_count": 20,
      "outputs": [
        {
          "output_type": "execute_result",
          "data": {
            "text/plain": [
              "sample    0\n",
              "gas1      4\n",
              "gas2      4\n",
              "gas3      4\n",
              "dtype: int64"
            ]
          },
          "metadata": {},
          "execution_count": 20
        }
      ]
    },
    {
      "cell_type": "markdown",
      "metadata": {
        "id": "MM97-7i8gqxt"
      },
      "source": [
        "+ label 데이터 결측치 0으로 대체"
      ]
    },
    {
      "cell_type": "code",
      "metadata": {
        "id": "6tLQYflz3knY"
      },
      "source": [
        "label.fillna(0, inplace=True) ## 방법2 "
      ],
      "execution_count": 21,
      "outputs": []
    },
    {
      "cell_type": "markdown",
      "metadata": {
        "id": "_qhDJG6gg0ND"
      },
      "source": [
        "+ label 데이터의 결측치가 잘 대체 되었는지 확인"
      ]
    },
    {
      "cell_type": "code",
      "metadata": {
        "id": "yoJqgIP3FYx-",
        "colab": {
          "base_uri": "https://localhost:8080/"
        },
        "outputId": "d4ff8507-5800-4563-fce8-681f7f8cf195"
      },
      "source": [
        "label.isnull().sum()"
      ],
      "execution_count": 22,
      "outputs": [
        {
          "output_type": "execute_result",
          "data": {
            "text/plain": [
              "sample    0\n",
              "gas1      0\n",
              "gas2      0\n",
              "gas3      0\n",
              "dtype: int64"
            ]
          },
          "metadata": {},
          "execution_count": 22
        }
      ]
    },
    {
      "cell_type": "markdown",
      "metadata": {
        "id": "TSRFxKUg2oEv"
      },
      "source": [
        "#### Label 할당함수\n",
        "\n",
        "+ component의 투입량이 0보다 크면 1을 할당\n",
        "+ 0값을 가지면 0을 할당"
      ]
    },
    {
      "cell_type": "code",
      "metadata": {
        "id": "QGoVo05M0qwg"
      },
      "source": [
        "def label_allocation(gas):\n",
        "    if gas > 0:\n",
        "        return 1\n",
        "    else:\n",
        "        return 0"
      ],
      "execution_count": 23,
      "outputs": []
    },
    {
      "cell_type": "markdown",
      "metadata": {
        "id": "vfI0AdzG1QJH"
      },
      "source": [
        "#### apply 함수\n",
        "\n",
        "+ 데이터프레임의 열에 함수를 적용시키는 기능을 가짐\n",
        "+ gas1_label이라는 열을 새로 만들고 새로 할당된 값들을 넣어주는 작업을 수행"
      ]
    },
    {
      "cell_type": "markdown",
      "metadata": {
        "id": "G0UqSGhCg9Xd"
      },
      "source": [
        "+ 반복문 보다는 apply가 코드가 간편"
      ]
    },
    {
      "cell_type": "code",
      "metadata": {
        "id": "fKGzI41BDm4A"
      },
      "source": [
        "# label['gas1_label'] = None\n",
        "# label['gas2_label'] = None\n",
        "# label['gas3_label'] = None\n",
        "# for i in range(label.shape[0]):\n",
        "#     label.loc[i, 'gas1_label'] = label_allocation(label.loc[i, 'gas1'])\n",
        "#     label.loc[i, 'gas2_label'] = label_allocation(label.loc[i, 'gas2'])\n",
        "#     label.loc[i, 'gas3_label'] = label_allocation(label.loc[i, 'gas3'])"
      ],
      "execution_count": 24,
      "outputs": []
    },
    {
      "cell_type": "markdown",
      "metadata": {
        "id": "0-eegBJQhDv5"
      },
      "source": [
        "+ gas1에 label_allocation 함수 적용\n",
        "\n"
      ]
    },
    {
      "cell_type": "code",
      "metadata": {
        "id": "1ecu5Wwh1LvQ"
      },
      "source": [
        "label['gas1_label'] = label['gas1'].apply(label_allocation)"
      ],
      "execution_count": 25,
      "outputs": []
    },
    {
      "cell_type": "markdown",
      "metadata": {
        "id": "iBO6uB3S4IsB"
      },
      "source": [
        "+ gas2와 gas3에도 차례로 적용"
      ]
    },
    {
      "cell_type": "code",
      "metadata": {
        "id": "N6QG7nzX3z82"
      },
      "source": [
        "label['gas2_label'] = label['gas2'].apply(label_allocation)\n",
        "label['gas3_label'] = label['gas3'].apply(label_allocation)"
      ],
      "execution_count": 26,
      "outputs": []
    },
    {
      "cell_type": "markdown",
      "metadata": {
        "id": "7yPfMp2X6oD6"
      },
      "source": [
        "+ 새로운 열 3개 가 추가 된 것을 볼 수 있음"
      ]
    },
    {
      "cell_type": "markdown",
      "metadata": {
        "id": "a4rpSLUkcPUM"
      },
      "source": [
        "+ 차후에 딥러닝 데이터를 만들때 좀더 효율적인 계산을 위해서 새로 추가된 3열의 데이터를 하나의 리스트로 묶어놓은 열(column)을 새로 추가"
      ]
    },
    {
      "cell_type": "code",
      "metadata": {
        "id": "3kX6St4UbbzG"
      },
      "source": [
        "cols = ['gas1_label', 'gas2_label', 'gas3_label']\n",
        "label['one_hot'] = label[cols].values.tolist()"
      ],
      "execution_count": 27,
      "outputs": []
    },
    {
      "cell_type": "code",
      "metadata": {
        "id": "fCWTj9kz6khq",
        "colab": {
          "base_uri": "https://localhost:8080/",
          "height": 204
        },
        "outputId": "b20c0f16-5ccc-4eb6-b6e5-a1a0b3330301"
      },
      "source": [
        "label.head()"
      ],
      "execution_count": 28,
      "outputs": [
        {
          "output_type": "execute_result",
          "data": {
            "text/html": [
              "<div>\n",
              "<style scoped>\n",
              "    .dataframe tbody tr th:only-of-type {\n",
              "        vertical-align: middle;\n",
              "    }\n",
              "\n",
              "    .dataframe tbody tr th {\n",
              "        vertical-align: top;\n",
              "    }\n",
              "\n",
              "    .dataframe thead th {\n",
              "        text-align: right;\n",
              "    }\n",
              "</style>\n",
              "<table border=\"1\" class=\"dataframe\">\n",
              "  <thead>\n",
              "    <tr style=\"text-align: right;\">\n",
              "      <th></th>\n",
              "      <th>sample</th>\n",
              "      <th>gas1</th>\n",
              "      <th>gas2</th>\n",
              "      <th>gas3</th>\n",
              "      <th>gas1_label</th>\n",
              "      <th>gas2_label</th>\n",
              "      <th>gas3_label</th>\n",
              "      <th>one_hot</th>\n",
              "    </tr>\n",
              "  </thead>\n",
              "  <tbody>\n",
              "    <tr>\n",
              "      <th>0</th>\n",
              "      <td>sample 1</td>\n",
              "      <td>1.0</td>\n",
              "      <td>1.0</td>\n",
              "      <td>2.0</td>\n",
              "      <td>1</td>\n",
              "      <td>1</td>\n",
              "      <td>1</td>\n",
              "      <td>[1, 1, 1]</td>\n",
              "    </tr>\n",
              "    <tr>\n",
              "      <th>1</th>\n",
              "      <td>sample 2</td>\n",
              "      <td>1.0</td>\n",
              "      <td>1.0</td>\n",
              "      <td>2.0</td>\n",
              "      <td>1</td>\n",
              "      <td>1</td>\n",
              "      <td>1</td>\n",
              "      <td>[1, 1, 1]</td>\n",
              "    </tr>\n",
              "    <tr>\n",
              "      <th>2</th>\n",
              "      <td>sample 3</td>\n",
              "      <td>1.0</td>\n",
              "      <td>1.0</td>\n",
              "      <td>2.0</td>\n",
              "      <td>1</td>\n",
              "      <td>1</td>\n",
              "      <td>1</td>\n",
              "      <td>[1, 1, 1]</td>\n",
              "    </tr>\n",
              "    <tr>\n",
              "      <th>3</th>\n",
              "      <td>sample 4</td>\n",
              "      <td>1.0</td>\n",
              "      <td>1.0</td>\n",
              "      <td>2.0</td>\n",
              "      <td>1</td>\n",
              "      <td>1</td>\n",
              "      <td>1</td>\n",
              "      <td>[1, 1, 1]</td>\n",
              "    </tr>\n",
              "    <tr>\n",
              "      <th>4</th>\n",
              "      <td>sample 5</td>\n",
              "      <td>1.0</td>\n",
              "      <td>2.0</td>\n",
              "      <td>1.0</td>\n",
              "      <td>1</td>\n",
              "      <td>1</td>\n",
              "      <td>1</td>\n",
              "      <td>[1, 1, 1]</td>\n",
              "    </tr>\n",
              "  </tbody>\n",
              "</table>\n",
              "</div>"
            ],
            "text/plain": [
              "     sample  gas1  gas2  gas3  gas1_label  gas2_label  gas3_label    one_hot\n",
              "0  sample 1   1.0   1.0   2.0           1           1           1  [1, 1, 1]\n",
              "1  sample 2   1.0   1.0   2.0           1           1           1  [1, 1, 1]\n",
              "2  sample 3   1.0   1.0   2.0           1           1           1  [1, 1, 1]\n",
              "3  sample 4   1.0   1.0   2.0           1           1           1  [1, 1, 1]\n",
              "4  sample 5   1.0   2.0   1.0           1           1           1  [1, 1, 1]"
            ]
          },
          "metadata": {},
          "execution_count": 28
        }
      ]
    },
    {
      "cell_type": "markdown",
      "metadata": {
        "id": "9pb-ixTYDpCj"
      },
      "source": [
        "Train/Test 데이터 분할"
      ]
    },
    {
      "cell_type": "markdown",
      "metadata": {
        "id": "vkg76QGLF2Cu"
      },
      "source": [
        "\n",
        "\n",
        "```\n",
        "random.sample(<전체 데이터 리스트>, <sampling할 표본의 수>)\n",
        "```\n",
        "\n",
        "\n",
        "```\n",
        "# 차집합\n",
        "set(A).difference(set(B))\n",
        "```\n",
        "\n",
        "\n"
      ]
    },
    {
      "cell_type": "markdown",
      "metadata": {
        "id": "2OyK_P0XqEGa"
      },
      "source": [
        "+ .tolist() : pandas 데이터 열을 list 데이터 형태로 변환"
      ]
    },
    {
      "cell_type": "code",
      "metadata": {
        "colab": {
          "base_uri": "https://localhost:8080/"
        },
        "id": "qBVn7-yKhUf_",
        "outputId": "b4cb3791-e019-411c-e37a-5ac972923f75"
      },
      "source": [
        "label['sample']"
      ],
      "execution_count": 29,
      "outputs": [
        {
          "output_type": "execute_result",
          "data": {
            "text/plain": [
              "0      sample 1\n",
              "1      sample 2\n",
              "2      sample 3\n",
              "3      sample 4\n",
              "4      sample 5\n",
              "        ...    \n",
              "93    sample 94\n",
              "94    sample 95\n",
              "95    sample 96\n",
              "96    sample 97\n",
              "97    sample 98\n",
              "Name: sample, Length: 98, dtype: object"
            ]
          },
          "metadata": {},
          "execution_count": 29
        }
      ]
    },
    {
      "cell_type": "code",
      "metadata": {
        "colab": {
          "base_uri": "https://localhost:8080/"
        },
        "id": "h2CTYbdvp_n4",
        "outputId": "0bf82283-ba6a-4666-b406-eb55b794771d"
      },
      "source": [
        "print(label['sample'].tolist())\n",
        "print(\"전체 샘플 개수 : {}\".format(len(label['sample'].tolist())))"
      ],
      "execution_count": 30,
      "outputs": [
        {
          "output_type": "stream",
          "name": "stdout",
          "text": [
            "['sample 1', 'sample 2', 'sample 3', 'sample 4', 'sample 5', 'sample 6', 'sample 7', 'sample 8', 'sample 9', 'sample 10', 'sample 11', 'sample 12', 'sample 13', 'sample 14', 'sample 15', 'sample 16', 'sample 17', 'sample 18', 'sample 19', 'sample 20', 'sample 21', 'sample 22', 'sample 23', 'sample 24', 'sample 25', 'sample 26', 'sample 27', 'sample 28', 'sample 29', 'sample 30', 'sample 31', 'sample 32', 'sample 33', 'sample 34', 'sample 35', 'sample 36', 'sample 37', 'sample 38', 'sample 39', 'sample 40', 'sample 41', 'sample 42', 'sample 43', 'sample 44', 'sample 45', 'sample 46', 'sample 47', 'sample 48', 'sample 49', 'sample 50', 'sample 51', 'sample 52', 'sample 53', 'sample 54', 'sample 55', 'sample 56', 'sample 57', 'sample 58', 'sample 59', 'sample 60', 'sample 61', 'sample 62', 'sample 63', 'sample 64', 'sample 65', 'sample 66', 'sample 67', 'sample 68', 'sample 69', 'sample 70', 'sample 71', 'sample 72', 'sample 73', 'sample 74', 'sample 75', 'sample 76', 'sample 77', 'sample 78', 'sample 79', 'sample 80', 'sample 81', 'sample 82', 'sample 83', 'sample 84', 'sample 85', 'sample 86', 'sample 87', 'sample 88', 'sample 89', 'sample 90', 'sample 91', 'sample 92', 'sample 93', 'sample 94', 'sample 95', 'sample 96', 'sample 97', 'sample 98']\n",
            "전체 샘플 개수 : 98\n"
          ]
        }
      ]
    },
    {
      "cell_type": "markdown",
      "metadata": {
        "id": "BcyKYXbBigt2"
      },
      "source": [
        "+ random sampling"
      ]
    },
    {
      "cell_type": "code",
      "metadata": {
        "id": "O8w2fbjoDorP"
      },
      "source": [
        "train_sample = random.sample(label['sample'].tolist(), int(98 * 0.8))\n",
        "test_sample = list(set(label['sample'].tolist()).difference(set(train_sample)))"
      ],
      "execution_count": 31,
      "outputs": []
    },
    {
      "cell_type": "code",
      "metadata": {
        "id": "c09nHQCIyKSH"
      },
      "source": [
        "# train_sample = ['sample 1', 'sample 3', 'sample 5', 'sample 6', 'sample 7', 'sample 9', 'sample 11',  'sample 12',\\\n",
        "#                'sample 13', 'sample 14', 'sample 16', 'sample 17', 'sample 18', 'sample 19', 'sample 20', 'sample 21',\\\n",
        "#                'sample 22', 'sample 24', 'sample 26', 'sample 27', 'sample 28', 'sample 31', 'sample 32', 'sample 33',\\\n",
        "#                'sample 34', 'sample 35', 'sample 36', 'sample 37', 'sample 38', 'sample 39', 'sample 41', 'sample 42',\\\n",
        "#                'sample 43', 'sample 44', 'sample 46', 'sample 47', 'sample 48', 'sample 49', 'sample 50', 'sample 51',\\\n",
        "#                'sample 52', 'sample 53', 'sample 54', 'sample 56', 'sample 58', 'sample 59', 'sample 60', 'sample 61',\\\n",
        "#                'sample 62', 'sample 65', 'sample 66', 'sample 68', 'sample 69', 'sample 70', 'sample 71', 'sample 72',\\\n",
        "#                'sample 73', 'sample 74', 'sample 75', 'sample 76', 'sample 77', 'sample 78', 'sample 79', 'sample 80',\\\n",
        "#                'sample 82', 'sample 84', 'sample 85', 'sample 87', 'sample 88', 'sample 89', 'sample 90', 'sample 91',\\\n",
        "#                'sample 93', 'sample 94', 'sample 95', 'sample 96', 'sample 97', 'sample 98']\n",
        "# test_sample = ['sample 2', 'sample 4', 'sample 8', 'sample 10', 'sample 15', 'sample 23', 'sample 25', 'sample 29', 'sample 30',\\\n",
        "#                'sample 40', 'sample 45', 'sample 55', 'sample 57', 'sample 63', 'sample 64', 'sample 67', 'sample 81', 'sample 83',\\\n",
        "#                'sample 86', 'sample 92']"
      ],
      "execution_count": 32,
      "outputs": []
    },
    {
      "cell_type": "markdown",
      "metadata": {
        "id": "iAajVxbtN1gN"
      },
      "source": [
        "+ train_sample"
      ]
    },
    {
      "cell_type": "code",
      "metadata": {
        "colab": {
          "base_uri": "https://localhost:8080/"
        },
        "id": "v_bUKm_bjEAe",
        "outputId": "791fe500-6691-43b4-f4c8-e11b5a33679d"
      },
      "source": [
        "print(train_sample)"
      ],
      "execution_count": 33,
      "outputs": [
        {
          "output_type": "stream",
          "name": "stdout",
          "text": [
            "['sample 7', 'sample 35', 'sample 12', 'sample 53', 'sample 97', 'sample 14', 'sample 5', 'sample 49', 'sample 69', 'sample 72', 'sample 43', 'sample 44', 'sample 98', 'sample 21', 'sample 18', 'sample 87', 'sample 89', 'sample 88', 'sample 32', 'sample 85', 'sample 1', 'sample 56', 'sample 96', 'sample 91', 'sample 9', 'sample 78', 'sample 41', 'sample 58', 'sample 93', 'sample 6', 'sample 76', 'sample 19', 'sample 17', 'sample 3', 'sample 38', 'sample 59', 'sample 28', 'sample 37', 'sample 31', 'sample 66', 'sample 60', 'sample 54', 'sample 65', 'sample 50', 'sample 20', 'sample 22', 'sample 34', 'sample 71', 'sample 70', 'sample 39', 'sample 82', 'sample 52', 'sample 61', 'sample 79', 'sample 73', 'sample 26', 'sample 42', 'sample 33', 'sample 62', 'sample 94', 'sample 80', 'sample 47', 'sample 27', 'sample 24', 'sample 48', 'sample 77', 'sample 68', 'sample 75', 'sample 36', 'sample 46', 'sample 16', 'sample 95', 'sample 74', 'sample 90', 'sample 11', 'sample 51', 'sample 84', 'sample 13']\n"
          ]
        }
      ]
    },
    {
      "cell_type": "markdown",
      "metadata": {
        "id": "ZKzbPd5VHWdO"
      },
      "source": [
        "+ test sample"
      ]
    },
    {
      "cell_type": "code",
      "metadata": {
        "colab": {
          "base_uri": "https://localhost:8080/"
        },
        "id": "hGSEzQrSjDfJ",
        "outputId": "1897092e-c739-4ac3-e536-b4464021a855"
      },
      "source": [
        "print(test_sample)"
      ],
      "execution_count": 34,
      "outputs": [
        {
          "output_type": "stream",
          "name": "stdout",
          "text": [
            "['sample 63', 'sample 83', 'sample 8', 'sample 57', 'sample 92', 'sample 10', 'sample 15', 'sample 4', 'sample 45', 'sample 64', 'sample 30', 'sample 67', 'sample 23', 'sample 2', 'sample 29', 'sample 81', 'sample 55', 'sample 25', 'sample 40', 'sample 86']\n"
          ]
        }
      ]
    },
    {
      "cell_type": "code",
      "metadata": {
        "colab": {
          "base_uri": "https://localhost:8080/"
        },
        "id": "__svLlAKH2dq",
        "outputId": "0e2ea7f9-dbe5-433e-d0ba-1fa58e2cbd91"
      },
      "source": [
        "print(\"train_sample의 수 :\", len(train_sample))\n",
        "print(\"test_sample의 수 :\", len(test_sample))"
      ],
      "execution_count": 35,
      "outputs": [
        {
          "output_type": "stream",
          "name": "stdout",
          "text": [
            "train_sample의 수 : 78\n",
            "test_sample의 수 : 20\n"
          ]
        }
      ]
    },
    {
      "cell_type": "markdown",
      "metadata": {
        "id": "_u7ZbyUR6k1h"
      },
      "source": [
        "### train data sample 하나로 합치기\n",
        "+ 전체 데이터의 최대값, 최소값, 평균, 표준편차 확인\n",
        "+ 향후 minmax normalization에 사용"
      ]
    },
    {
      "cell_type": "code",
      "metadata": {
        "id": "7Pf59ivS6jzH",
        "colab": {
          "base_uri": "https://localhost:8080/",
          "height": 49,
          "referenced_widgets": [
            "39a39142fdff45459ec64a2b3a0470dc",
            "bbc3e4144a154c999b26746c965864e1",
            "363755789382458591ade787f0069918",
            "5aa184b462e14e35ad2a76bec018bcaa",
            "a5b8a9f00c6b46aeb3576e7e5b127209",
            "879e1908620f4e25bf920ab1f0c4ef1b",
            "8d0126576ced47b39f99c254c0faf4e4",
            "e0a4edb40ee04e1794c22744e8aafe97",
            "7abe123c6a724555aa80244089329e1e",
            "0744d4ae63d44dae8d699c5feba9928f",
            "902c54dd113a4f549445c45045f40ef4"
          ]
        },
        "outputId": "c224eecb-15d2-4ffb-8b93-79ecb04a2cad"
      },
      "source": [
        "for idx, sheet in tqdm(enumerate(train_sample)):\n",
        "    tmp_sheet = pd.read_excel('sensor_data.xlsx', sheet_name=sheet)\n",
        "    if idx == 0:\n",
        "        total_df = tmp_sheet\n",
        "    else:\n",
        "        total_df = total_df.append(tmp_sheet)"
      ],
      "execution_count": 36,
      "outputs": [
        {
          "output_type": "display_data",
          "data": {
            "application/vnd.jupyter.widget-view+json": {
              "model_id": "39a39142fdff45459ec64a2b3a0470dc",
              "version_minor": 0,
              "version_major": 2
            },
            "text/plain": [
              "0it [00:00, ?it/s]"
            ]
          },
          "metadata": {}
        }
      ]
    },
    {
      "cell_type": "code",
      "metadata": {
        "id": "F-Em0NHf6l84"
      },
      "source": [
        "total_max = total_df.max(axis=0).values\n",
        "total_min = total_df.min(axis=0).values\n",
        "total_mean = total_df.mean(axis=0).values\n",
        "total_std = total_df.std(axis=0).values"
      ],
      "execution_count": 37,
      "outputs": []
    },
    {
      "cell_type": "code",
      "metadata": {
        "id": "pAg90rgx6lz6",
        "colab": {
          "base_uri": "https://localhost:8080/"
        },
        "outputId": "90c50782-85fa-4cbb-9af1-d7c9d7f1e247"
      },
      "source": [
        "print(\"total df 최대 : \", total_max)\n",
        "print(\"total df 최소 : \", total_min)\n",
        "print(\"total df 평균 : \", total_mean)\n",
        "print(\"total df 표준편차 : \", total_std)"
      ],
      "execution_count": 38,
      "outputs": [
        {
          "output_type": "stream",
          "name": "stdout",
          "text": [
            "total df 최대 :  [2082.37 2110.96 3987.37 3981.53 1387.84  280.32 1765.26  414.09  319.93\n",
            " 2772.1  3917.89  561.38  194.8 ]\n",
            "total df 최소 :  [ 2.8485e+02  3.4697e+02  2.5120e+01  2.8050e+01  1.3630e+01 -7.0000e-02\n",
            "  7.1000e-01 -6.0000e-01  3.5980e+01 -2.7400e+00 -1.6800e+01 -1.6200e+00\n",
            "  8.7700e+00]\n",
            "total df 평균 :  [1418.68677643 1699.83710945 1248.87604303  384.23886623  191.37886249\n",
            "   45.45766137  197.51255753  122.34943124  167.85483817  270.94441908\n",
            "  813.23318616  127.31556221  111.02730028]\n",
            "total df 표준편차 :  [ 301.05261071  308.23939076 1579.81863277  629.53585613  230.78734944\n",
            "   39.74114809  224.63125593   51.02934963   39.73547924  341.10293639\n",
            " 1007.18149805   54.8016694    32.23606251]\n"
          ]
        }
      ]
    },
    {
      "cell_type": "markdown",
      "metadata": {
        "id": "V8WSoqp6IWfq"
      },
      "source": [
        "#### CNN을 위한 데이터 셋을 만들기\n",
        "\n",
        "+ 딥러닝의 장점을 활용하기에는 데이터의 수가 너무 적음\n",
        "+ 데이터를 일정 시간단위로 잘라서 CNN학습을 진행하기 위한 데이터셋을 만드는 것을 목표로함\n",
        "+ 함수의 파라미터 normalize를 통해서 정규화 방법 변환 가능\n",
        "    1. minmax\n",
        "    2. standardization"
      ]
    },
    {
      "cell_type": "code",
      "metadata": {
        "id": "LHVyesMnIWH-"
      },
      "source": [
        "time_lag = 30"
      ],
      "execution_count": 39,
      "outputs": []
    },
    {
      "cell_type": "code",
      "metadata": {
        "id": "JZxQrkvM6e_J"
      },
      "source": [
        "def making_data(sensor_data, time_lag, normalize='minmax'):\n",
        "    total_data = []\n",
        "    sensor_data = sensor_data.values   # index값을 제외한 array값만 추출하기\n",
        "    ## minmax\n",
        "    if normalize=='minmax':\n",
        "        sensor_data = (sensor_data - total_min) / (total_max - total_min)\n",
        "    ## Z-score standardization \n",
        "    else:\n",
        "        sensor_data = (sensor_data - total_mean) / total_std\n",
        "    for i in range(len(sensor_data)-time_lag+1):\n",
        "        tmp_data = sensor_data[i:i+time_lag]\n",
        "        total_data.append(tmp_data)\n",
        "    \n",
        "    total_data = np.array(total_data)\n",
        "    return total_data"
      ],
      "execution_count": 40,
      "outputs": []
    },
    {
      "cell_type": "markdown",
      "metadata": {
        "id": "PXl-QiXSuNzY"
      },
      "source": [
        "![sensor_data_preprocessing3.png](data:image/png;base64,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)"
      ]
    },
    {
      "cell_type": "markdown",
      "metadata": {
        "id": "1wkE_AIR98ir"
      },
      "source": [
        "+ 첫 번째 sample의 센서데이터로 실험"
      ]
    },
    {
      "cell_type": "code",
      "metadata": {
        "colab": {
          "base_uri": "https://localhost:8080/"
        },
        "id": "Km1w85c3NBPk",
        "outputId": "37a2687c-75cc-4315-d172-883ea9e4b317"
      },
      "source": [
        "sensor_data_1.shape "
      ],
      "execution_count": 41,
      "outputs": [
        {
          "output_type": "execute_result",
          "data": {
            "text/plain": [
              "(92, 13)"
            ]
          },
          "metadata": {},
          "execution_count": 41
        }
      ]
    },
    {
      "cell_type": "code",
      "metadata": {
        "id": "CTNuWiKw8lln"
      },
      "source": [
        "sensor_data_split_01 = making_data(sensor_data_1, time_lag)"
      ],
      "execution_count": 42,
      "outputs": []
    },
    {
      "cell_type": "markdown",
      "metadata": {
        "id": "a-nnek-2NoKI"
      },
      "source": [
        "+ 분할된 샘플의 개수 : 92-30+1 = 63"
      ]
    },
    {
      "cell_type": "code",
      "metadata": {
        "colab": {
          "base_uri": "https://localhost:8080/"
        },
        "id": "x8oYt2Xp9D0n",
        "outputId": "2e1d6e34-7dcf-432c-8adf-98db5e69ef8c"
      },
      "source": [
        "sensor_data_split_01.shape"
      ],
      "execution_count": 43,
      "outputs": [
        {
          "output_type": "execute_result",
          "data": {
            "text/plain": [
              "(63, 30, 13)"
            ]
          },
          "metadata": {},
          "execution_count": 43
        }
      ]
    },
    {
      "cell_type": "code",
      "metadata": {
        "colab": {
          "base_uri": "https://localhost:8080/"
        },
        "id": "cHpRrnv6XtsM",
        "outputId": "f4d7c36f-1af5-4773-c3eb-e0830551270b"
      },
      "source": [
        "label.loc[label['sample'] == 'sample 1', 'one_hot'].item()"
      ],
      "execution_count": 44,
      "outputs": [
        {
          "output_type": "execute_result",
          "data": {
            "text/plain": [
              "[1, 1, 1]"
            ]
          },
          "metadata": {},
          "execution_count": 44
        }
      ]
    },
    {
      "cell_type": "markdown",
      "metadata": {
        "id": "sGRcWOslOEq-"
      },
      "source": [
        "+ 81번째 sample의 센서데이터로 실험"
      ]
    },
    {
      "cell_type": "code",
      "metadata": {
        "colab": {
          "base_uri": "https://localhost:8080/"
        },
        "id": "SuRfSWrHNicI",
        "outputId": "4ceefc66-ad44-4eef-ce05-4d28f383486b"
      },
      "source": [
        "sensor_data_81.shape"
      ],
      "execution_count": 45,
      "outputs": [
        {
          "output_type": "execute_result",
          "data": {
            "text/plain": [
              "(57, 13)"
            ]
          },
          "metadata": {},
          "execution_count": 45
        }
      ]
    },
    {
      "cell_type": "code",
      "metadata": {
        "id": "9iODML9cIZ4Q"
      },
      "source": [
        "sensor_data_split_81 = making_data(sensor_data_81, time_lag)"
      ],
      "execution_count": 46,
      "outputs": []
    },
    {
      "cell_type": "markdown",
      "metadata": {
        "id": "N-_0Vt33Nxuh"
      },
      "source": [
        "+ 분할된 샘플의 개수 : 57-30+1"
      ]
    },
    {
      "cell_type": "code",
      "metadata": {
        "colab": {
          "base_uri": "https://localhost:8080/"
        },
        "id": "MaxKnCY8NkUx",
        "outputId": "6845e8be-79dd-45da-9757-072be6bc1296"
      },
      "source": [
        "sensor_data_split_81.shape "
      ],
      "execution_count": 47,
      "outputs": [
        {
          "output_type": "execute_result",
          "data": {
            "text/plain": [
              "(28, 30, 13)"
            ]
          },
          "metadata": {},
          "execution_count": 47
        }
      ]
    },
    {
      "cell_type": "code",
      "metadata": {
        "colab": {
          "base_uri": "https://localhost:8080/"
        },
        "id": "pv1gsnQBNnO4",
        "outputId": "e9cc8361-c4bd-4e9b-bff4-67b3a7b3b1e0"
      },
      "source": [
        "label.loc[label['sample'] == 'sample 81', 'one_hot'].item()"
      ],
      "execution_count": 48,
      "outputs": [
        {
          "output_type": "execute_result",
          "data": {
            "text/plain": [
              "[0, 1, 1]"
            ]
          },
          "metadata": {},
          "execution_count": 48
        }
      ]
    },
    {
      "cell_type": "markdown",
      "metadata": {
        "id": "Fl26KTQPtDRU"
      },
      "source": [
        "### 딥러닝학습을 위한 전처리"
      ]
    },
    {
      "cell_type": "markdown",
      "metadata": {
        "id": "-wPdX-WIuYHX"
      },
      "source": [
        "+ 딥러닝의 장점은 많은 양에 데이터셋에서 더 잘 발휘될 수 있음.\n",
        "+ 현재 센서 데이터는 98개의 실험 데이터로 이루어져 있음.\n",
        "+ 1개의 실험 데이터는 여러개의 row를 가지는 시계열 데이터셋으로 이루어 져 있으므로 이를 일정 시간단위를 기준으로 나누어 데이터 셋을 늘리는 작업을 수행"
      ]
    },
    {
      "cell_type": "markdown",
      "metadata": {
        "id": "nLvUOx0kgb_V"
      },
      "source": [
        "+ train dataset"
      ]
    },
    {
      "cell_type": "code",
      "metadata": {
        "colab": {
          "base_uri": "https://localhost:8080/",
          "height": 49,
          "referenced_widgets": [
            "ede8b28b4897452391199248d2f42a3b",
            "5db5b0253b1d4955b09d1d74dd975191",
            "bd4f3d8293374305b0a04b238ce93cae",
            "6911e34f01b845869513313ea6083227",
            "74066bbf54d14e8a923ba7e441771c28",
            "f7483079e5cf45b0870c4ab517d4ed52",
            "3ddecda84bbe4070b2f062cc5f021e74",
            "fbbea06dfe9548798ad186d3fa6aace0",
            "2af558a2201948cc850a6e53224383f9",
            "100c934000434b0e87a0c140ffd26046",
            "35bdc52970e74ff6aa04d128d791dd6d"
          ]
        },
        "id": "hlkr6DgOJaC8",
        "outputId": "cf394eff-2409-46a7-8b9a-82e9880e2e13"
      },
      "source": [
        "train_data = np.empty((0, time_lag, 13, 1), float)\n",
        "train_y1 = []\n",
        "train_y2 = []\n",
        "train_y3 = []\n",
        "for tr_sample in tqdm(train_sample):\n",
        "    tmp_data = pd.read_excel('sensor_data.xlsx', sheet_name=tr_sample)    \n",
        "    tmp_result = making_data(tmp_data,time_lag)\n",
        "    tmp_result = tmp_result.reshape(len(tmp_result),time_lag,13,1)\n",
        "    train_data = np.append(train_data, tmp_result, axis=0)\n",
        "    one_hot = label.loc[label['sample'] == tr_sample, 'one_hot'].item()\n",
        "    for i in range(tmp_result.shape[0]):\n",
        "        train_y1.append(one_hot[0])\n",
        "        train_y2.append(one_hot[1])\n",
        "        train_y3.append(one_hot[2])"
      ],
      "execution_count": 49,
      "outputs": [
        {
          "output_type": "display_data",
          "data": {
            "application/vnd.jupyter.widget-view+json": {
              "model_id": "ede8b28b4897452391199248d2f42a3b",
              "version_minor": 0,
              "version_major": 2
            },
            "text/plain": [
              "  0%|          | 0/78 [00:00<?, ?it/s]"
            ]
          },
          "metadata": {}
        }
      ]
    },
    {
      "cell_type": "markdown",
      "metadata": {
        "id": "IWkQtNZghZKW"
      },
      "source": [
        "+ numpt array로 바꾸기"
      ]
    },
    {
      "cell_type": "code",
      "metadata": {
        "id": "iimv-DozYjNa"
      },
      "source": [
        "train_X = np.array(train_data)\n",
        "train_y1 = np.array(train_y1)\n",
        "train_y2 = np.array(train_y2)\n",
        "train_y3 = np.array(train_y3)"
      ],
      "execution_count": 50,
      "outputs": []
    },
    {
      "cell_type": "code",
      "metadata": {
        "colab": {
          "base_uri": "https://localhost:8080/"
        },
        "id": "O2z2m-uTYiKd",
        "outputId": "8c3a563e-a9a3-43bf-af8a-24151eb4851c"
      },
      "source": [
        "train_X.shape, train_y1.shape, train_y2.shape, train_y3.shape"
      ],
      "execution_count": 51,
      "outputs": [
        {
          "output_type": "execute_result",
          "data": {
            "text/plain": [
              "((3083, 30, 13, 1), (3083,), (3083,), (3083,))"
            ]
          },
          "metadata": {},
          "execution_count": 51
        }
      ]
    },
    {
      "cell_type": "code",
      "metadata": {
        "colab": {
          "base_uri": "https://localhost:8080/",
          "height": 49,
          "referenced_widgets": [
            "f175f6ef979c435bad165bbb7349b241",
            "44bdbc90a4644ce19783376a26b01d2f",
            "6ea873c37f304df392c8cbab032e1982",
            "5ca4ac33c382422db1afb1a4670f20a1",
            "508d4434329549b59af795cd2295a0c9",
            "e0922224d50144febb8480209356f9f0",
            "36131a67c108413b880a80b15ed1885c",
            "1fc2cc07e204408c86b9570cd07f325c",
            "fba83ecd90b3497faa65583b7e0b07ee",
            "10b0b4fa34734b74b9cec08da14f6396",
            "7b8a7af163f846fb8236cdfcbb2a9da2"
          ]
        },
        "id": "ALGcJDVWh_xf",
        "outputId": "291b312e-f9ee-4b33-978e-4127b8e71420"
      },
      "source": [
        "test_data = np.empty((0, time_lag, 13, 1), float)\n",
        "test_y1 = []\n",
        "test_y2 = []\n",
        "test_y3 = []\n",
        "for ts in tqdm(test_sample):\n",
        "    tmp_data = pd.read_excel('sensor_data.xlsx', sheet_name=ts)    \n",
        "    tmp_result = making_data(tmp_data,time_lag)\n",
        "    tmp_result = tmp_result.reshape(len(tmp_result),time_lag,13,1)\n",
        "    test_data = np.append(test_data, tmp_result, axis=0)\n",
        "    one_hot = label.loc[label['sample'] == ts, 'one_hot'].item()\n",
        "    for i in range(tmp_result.shape[0]):\n",
        "        test_y1.append(one_hot[0])\n",
        "        test_y2.append(one_hot[1])\n",
        "        test_y3.append(one_hot[2])"
      ],
      "execution_count": 52,
      "outputs": [
        {
          "output_type": "display_data",
          "data": {
            "application/vnd.jupyter.widget-view+json": {
              "model_id": "f175f6ef979c435bad165bbb7349b241",
              "version_minor": 0,
              "version_major": 2
            },
            "text/plain": [
              "  0%|          | 0/20 [00:00<?, ?it/s]"
            ]
          },
          "metadata": {}
        }
      ]
    },
    {
      "cell_type": "code",
      "metadata": {
        "id": "g8Wf89O5iBdO"
      },
      "source": [
        "test_X = np.array(test_data)\n",
        "test_y1 = np.array(test_y1)\n",
        "test_y2 = np.array(test_y2)\n",
        "test_y3 = np.array(test_y3)"
      ],
      "execution_count": 53,
      "outputs": []
    },
    {
      "cell_type": "code",
      "metadata": {
        "colab": {
          "base_uri": "https://localhost:8080/"
        },
        "id": "ru9N09jjiGPP",
        "outputId": "6696e5e2-aa0e-4ef6-9ec2-23dfec21bfc6"
      },
      "source": [
        "test_X.shape, test_y1.shape, test_y2.shape, test_y3.shape"
      ],
      "execution_count": 54,
      "outputs": [
        {
          "output_type": "execute_result",
          "data": {
            "text/plain": [
              "((742, 30, 13, 1), (742,), (742,), (742,))"
            ]
          },
          "metadata": {},
          "execution_count": 54
        }
      ]
    },
    {
      "cell_type": "markdown",
      "metadata": {
        "id": "r0vx08-bsihL"
      },
      "source": [
        "### Keras CNN Model 학습"
      ]
    },
    {
      "cell_type": "markdown",
      "metadata": {
        "id": "e01aLY0keYMN"
      },
      "source": [
        "#### CNN model define"
      ]
    },
    {
      "cell_type": "code",
      "metadata": {
        "id": "eS6-u5SIfy-b"
      },
      "source": [
        "from tensorflow.keras.metrics import AUC, Precision, Recall\n",
        "from tensorflow.keras.callbacks import EarlyStopping, Callback"
      ],
      "execution_count": 55,
      "outputs": []
    },
    {
      "cell_type": "code",
      "metadata": {
        "id": "O6GpYOH44V_3"
      },
      "source": [
        "tf.random.set_seed(777)"
      ],
      "execution_count": 56,
      "outputs": []
    },
    {
      "cell_type": "code",
      "metadata": {
        "id": "BKBtfE-OeYYg"
      },
      "source": [
        "epochs = 100\n",
        "lr = 0.002\n",
        "batch_size = 64"
      ],
      "execution_count": 57,
      "outputs": []
    },
    {
      "cell_type": "markdown",
      "metadata": {
        "id": "VsVHxHDoRyBX"
      },
      "source": [
        "$$output = \\frac{input - kernel size + (2 \\times padding)}{stride} + 1$$\n",
        "\n",
        "input dimension = batch_size, data_shape, channel  \n",
        "\n",
        "channel의 경우에는 보통 이미지 분석 시에 RGB값이 들어가는 자리이므로 현재 분석에서는 사용하지 않음\n",
        "\n",
        "input dimension = (batch_size, 30, 13, 1)\n",
        "\n",
        "+ padding을 추가히자 않았을 때\n",
        "    + [{30 - 3 + (2 * 0) } / 1 ]  + 1 = 27\n",
        "    + [{13 - 3 + (2 * 0) } / 1 ]  + 1 = 11\n",
        "\n",
        "+ padding 추가 시\n",
        "    + [{30 - 3 + (2 * 1) } / 1 ]  + 1 = 30\n",
        "    + [{13 - 3 + (2 * 1) } / 1 ]  + 1 = 13"
      ]
    },
    {
      "cell_type": "code",
      "metadata": {
        "id": "PIPnGCGurxjQ"
      },
      "source": [
        "models = Sequential([\n",
        "    layers.Conv2D(32,(3,3), padding='same', activation = 'relu', input_shape=(time_lag,13,1)),\n",
        "    layers.MaxPool2D((2,2)),\n",
        "    layers.Conv2D(64,(3,3),padding='same',activation = 'relu'),\n",
        "    layers.MaxPool2D((2,2)),\n",
        "    layers.Conv2D(64,(3,3),padding='same',activation = 'relu'),\n",
        "    layers.Flatten(),\n",
        "    layers.Dense(64, activation = 'relu'),\n",
        "    layers.Dense(1, activation='sigmoid')\n",
        "])"
      ],
      "execution_count": 58,
      "outputs": []
    },
    {
      "cell_type": "code",
      "metadata": {
        "id": "wRFc8J4ns-rW",
        "colab": {
          "base_uri": "https://localhost:8080/"
        },
        "outputId": "c199dd39-f86a-43bb-9f07-bbbd66ba3082"
      },
      "source": [
        "models.summary()"
      ],
      "execution_count": 59,
      "outputs": [
        {
          "output_type": "stream",
          "name": "stdout",
          "text": [
            "Model: \"sequential\"\n",
            "_________________________________________________________________\n",
            "Layer (type)                 Output Shape              Param #   \n",
            "=================================================================\n",
            "conv2d (Conv2D)              (None, 30, 13, 32)        320       \n",
            "_________________________________________________________________\n",
            "max_pooling2d (MaxPooling2D) (None, 15, 6, 32)         0         \n",
            "_________________________________________________________________\n",
            "conv2d_1 (Conv2D)            (None, 15, 6, 64)         18496     \n",
            "_________________________________________________________________\n",
            "max_pooling2d_1 (MaxPooling2 (None, 7, 3, 64)          0         \n",
            "_________________________________________________________________\n",
            "conv2d_2 (Conv2D)            (None, 7, 3, 64)          36928     \n",
            "_________________________________________________________________\n",
            "flatten (Flatten)            (None, 1344)              0         \n",
            "_________________________________________________________________\n",
            "dense (Dense)                (None, 64)                86080     \n",
            "_________________________________________________________________\n",
            "dense_1 (Dense)              (None, 1)                 65        \n",
            "=================================================================\n",
            "Total params: 141,889\n",
            "Trainable params: 141,889\n",
            "Non-trainable params: 0\n",
            "_________________________________________________________________\n"
          ]
        }
      ]
    },
    {
      "cell_type": "markdown",
      "metadata": {
        "id": "de2-yw4vYxBI"
      },
      "source": [
        "#### 모델학습(target : component1)"
      ]
    },
    {
      "cell_type": "markdown",
      "metadata": {
        "id": "od0KtaaLT_4j"
      },
      "source": [
        "+ 모델학습시에 accuracy, precision, recall 3가지를 고려해서 학습을 수행할 예정\n",
        "+ Early stopping은 학습이 진행될 때 일정 수준 이상 loss가 줄어들지 않게 되면 학습을 종료시켜서 과적함을 방지하기 위한 기능\n",
        "    + moniotr : 학습 중단 기준\n",
        "    + min_delta : 최소한 변화량\n",
        "    + patience : 몇번까지 기다릴 것인지 여부\n",
        "\n",
        "\n",
        "```\n",
        "# loss가 0.001만큼 5번 이상 변하지 않은 다면 학습을 중단시킴\n",
        "EarlyStopping(monitor='loss', patience=5, min_delta=0.001)\n",
        "\n",
        "# accuracy가 0.01만큼 3번 이상 변하지 않은 다면 학습을 중단시킴\n",
        "EarlyStopping(monitor='accuracy', patience=3, min_delta=0.01)\n",
        "```  \n",
        "\n"
      ]
    },
    {
      "cell_type": "code",
      "metadata": {
        "id": "-VeONKlze-nP"
      },
      "source": [
        "precision = Precision()\n",
        "recall = Recall()\n",
        "# loss가 0.001만큼 3번 이상 변하지 않으면 학습을 중단시킴\n",
        "early_stopping = EarlyStopping(monitor='loss', verbose=1, patience=3, min_delta=0.001)"
      ],
      "execution_count": 60,
      "outputs": []
    },
    {
      "cell_type": "code",
      "metadata": {
        "id": "TrxOMef1e0gx"
      },
      "source": [
        "models.compile(optimizer='adam', \\\n",
        "               loss = 'binary_crossentropy',\\\n",
        "               metrics = ['accuracy', precision, recall])"
      ],
      "execution_count": 61,
      "outputs": []
    },
    {
      "cell_type": "code",
      "metadata": {
        "id": "XTnk5CM9dy3o",
        "colab": {
          "base_uri": "https://localhost:8080/"
        },
        "outputId": "e9987dff-9b26-4678-83ab-a805f13e30c9"
      },
      "source": [
        "history = models.fit(train_X,train_y1, epochs=epochs, batch_size=batch_size, callbacks=[early_stopping])"
      ],
      "execution_count": 62,
      "outputs": [
        {
          "output_type": "stream",
          "name": "stdout",
          "text": [
            "Epoch 1/100\n",
            "49/49 [==============================] - 4s 46ms/step - loss: 0.3445 - accuracy: 0.8871 - precision: 0.9049 - recall: 0.9782\n",
            "Epoch 2/100\n",
            "49/49 [==============================] - 2s 47ms/step - loss: 0.2624 - accuracy: 0.9059 - precision: 0.9059 - recall: 1.0000\n",
            "Epoch 3/100\n",
            "49/49 [==============================] - 2s 48ms/step - loss: 0.1740 - accuracy: 0.9238 - precision: 0.9298 - recall: 0.9907\n",
            "Epoch 4/100\n",
            "49/49 [==============================] - 2s 47ms/step - loss: 0.1190 - accuracy: 0.9549 - precision: 0.9666 - recall: 0.9842\n",
            "Epoch 5/100\n",
            "49/49 [==============================] - 2s 46ms/step - loss: 0.0976 - accuracy: 0.9620 - precision: 0.9741 - recall: 0.9842\n",
            "Epoch 6/100\n",
            "49/49 [==============================] - 2s 48ms/step - loss: 0.0354 - accuracy: 0.9912 - precision: 0.9939 - recall: 0.9964\n",
            "Epoch 7/100\n",
            "49/49 [==============================] - 2s 48ms/step - loss: 0.0137 - accuracy: 0.9977 - precision: 0.9989 - recall: 0.9986\n",
            "Epoch 8/100\n",
            "49/49 [==============================] - 2s 49ms/step - loss: 0.0057 - accuracy: 1.0000 - precision: 1.0000 - recall: 1.0000\n",
            "Epoch 9/100\n",
            "49/49 [==============================] - 2s 48ms/step - loss: 0.0063 - accuracy: 0.9981 - precision: 0.9993 - recall: 0.9986\n",
            "Epoch 10/100\n",
            "49/49 [==============================] - 2s 48ms/step - loss: 0.0038 - accuracy: 0.9997 - precision: 1.0000 - recall: 0.9996\n",
            "Epoch 11/100\n",
            "49/49 [==============================] - 2s 48ms/step - loss: 0.0032 - accuracy: 0.9987 - precision: 0.9996 - recall: 0.9989\n",
            "Epoch 12/100\n",
            "49/49 [==============================] - 2s 47ms/step - loss: 0.0014 - accuracy: 1.0000 - precision: 1.0000 - recall: 1.0000\n",
            "Epoch 13/100\n",
            "49/49 [==============================] - 2s 47ms/step - loss: 0.0022 - accuracy: 0.9997 - precision: 1.0000 - recall: 0.9996\n",
            "Epoch 14/100\n",
            "49/49 [==============================] - 2s 48ms/step - loss: 7.9815e-04 - accuracy: 1.0000 - precision: 1.0000 - recall: 1.0000\n",
            "Epoch 15/100\n",
            "49/49 [==============================] - 2s 47ms/step - loss: 0.0111 - accuracy: 0.9958 - precision: 0.9975 - recall: 0.9979\n",
            "Epoch 00015: early stopping\n"
          ]
        }
      ]
    },
    {
      "cell_type": "markdown",
      "metadata": {
        "id": "DJc2yf4YZMud"
      },
      "source": [
        "### Model 검증"
      ]
    },
    {
      "cell_type": "markdown",
      "metadata": {
        "id": "ahtDwigdqneT"
      },
      "source": [
        "#### model evaluation"
      ]
    },
    {
      "cell_type": "markdown",
      "metadata": {
        "id": "FR2D0D6kjLFC"
      },
      "source": [
        "+ evaluation1"
      ]
    },
    {
      "cell_type": "code",
      "metadata": {
        "id": "udjRKRkR5lH5",
        "colab": {
          "base_uri": "https://localhost:8080/"
        },
        "outputId": "7633cb04-fb70-4dd1-8813-7f6df533bb35"
      },
      "source": [
        "models.evaluate(test_X, test_y1)"
      ],
      "execution_count": 63,
      "outputs": [
        {
          "output_type": "stream",
          "name": "stdout",
          "text": [
            "24/24 [==============================] - 1s 10ms/step - loss: 0.1399 - accuracy: 0.9636 - precision: 0.9716 - recall: 0.9856\n"
          ]
        },
        {
          "output_type": "execute_result",
          "data": {
            "text/plain": [
              "[0.13985611498355865,\n",
              " 0.9636118412017822,\n",
              " 0.9716088175773621,\n",
              " 0.9855999946594238]"
            ]
          },
          "metadata": {},
          "execution_count": 63
        }
      ]
    },
    {
      "cell_type": "markdown",
      "metadata": {
        "id": "A66WPWVH50CK"
      },
      "source": [
        "+ evaluation2(using sckit-learn)"
      ]
    },
    {
      "cell_type": "code",
      "metadata": {
        "id": "fb-npC1HetyE"
      },
      "source": [
        "y_pred_prob = models.predict(test_X)"
      ],
      "execution_count": 64,
      "outputs": []
    },
    {
      "cell_type": "code",
      "metadata": {
        "id": "vkq8AJtukEYM",
        "colab": {
          "base_uri": "https://localhost:8080/"
        },
        "outputId": "70d29edb-84d4-4228-8a01-5ca039b2bfe2"
      },
      "source": [
        "y_pred_prob"
      ],
      "execution_count": 65,
      "outputs": [
        {
          "output_type": "execute_result",
          "data": {
            "text/plain": [
              "array([[9.99859214e-01],\n",
              "       [9.99959826e-01],\n",
              "       [9.99989986e-01],\n",
              "       [9.99997139e-01],\n",
              "       [9.99999166e-01],\n",
              "       [9.99999702e-01],\n",
              "       [9.99999821e-01],\n",
              "       [1.00000000e+00],\n",
              "       [1.00000000e+00],\n",
              "       [1.00000000e+00],\n",
              "       [1.00000000e+00],\n",
              "       [1.00000000e+00],\n",
              "       [1.00000000e+00],\n",
              "       [1.00000000e+00],\n",
              "       [1.00000000e+00],\n",
              "       [1.00000000e+00],\n",
              "       [1.00000000e+00],\n",
              "       [1.00000000e+00],\n",
              "       [1.00000000e+00],\n",
              "       [1.00000000e+00],\n",
              "       [1.00000000e+00],\n",
              "       [1.00000000e+00],\n",
              "       [1.00000000e+00],\n",
              "       [1.00000000e+00],\n",
              "       [1.00000000e+00],\n",
              "       [1.00000000e+00],\n",
              "       [1.00000000e+00],\n",
              "       [1.00000000e+00],\n",
              "       [1.00000000e+00],\n",
              "       [1.00000000e+00],\n",
              "       [1.00000000e+00],\n",
              "       [1.00000000e+00],\n",
              "       [1.00000000e+00],\n",
              "       [1.00000000e+00],\n",
              "       [1.00000000e+00],\n",
              "       [1.00000000e+00],\n",
              "       [1.00000000e+00],\n",
              "       [1.00000000e+00],\n",
              "       [1.00000000e+00],\n",
              "       [1.00000000e+00],\n",
              "       [1.00000000e+00],\n",
              "       [1.00000000e+00],\n",
              "       [1.00000000e+00],\n",
              "       [1.00000000e+00],\n",
              "       [1.00000000e+00],\n",
              "       [1.00000000e+00],\n",
              "       [1.00000000e+00],\n",
              "       [1.00000000e+00],\n",
              "       [1.00000000e+00],\n",
              "       [1.00000000e+00],\n",
              "       [1.00000000e+00],\n",
              "       [1.00000000e+00],\n",
              "       [1.00000000e+00],\n",
              "       [1.00000000e+00],\n",
              "       [1.00000000e+00],\n",
              "       [1.00000000e+00],\n",
              "       [1.00000000e+00],\n",
              "       [1.00000000e+00],\n",
              "       [1.00000000e+00],\n",
              "       [1.00000000e+00],\n",
              "       [1.00000000e+00],\n",
              "       [1.00000000e+00],\n",
              "       [1.00000000e+00],\n",
              "       [1.00000000e+00],\n",
              "       [1.00000000e+00],\n",
              "       [1.00000000e+00],\n",
              "       [1.00000000e+00],\n",
              "       [1.00000000e+00],\n",
              "       [1.00000000e+00],\n",
              "       [1.00000000e+00],\n",
              "       [9.99999762e-01],\n",
              "       [9.99999464e-01],\n",
              "       [9.99998808e-01],\n",
              "       [9.99997735e-01],\n",
              "       [9.99997020e-01],\n",
              "       [3.60171199e-02],\n",
              "       [1.36608183e-02],\n",
              "       [7.50994682e-03],\n",
              "       [5.72630763e-03],\n",
              "       [4.85047698e-03],\n",
              "       [4.18111682e-03],\n",
              "       [3.66392732e-03],\n",
              "       [3.21832299e-03],\n",
              "       [3.03336978e-03],\n",
              "       [2.85494328e-03],\n",
              "       [2.75015831e-03],\n",
              "       [2.72366405e-03],\n",
              "       [2.76845694e-03],\n",
              "       [2.76160240e-03],\n",
              "       [2.80535221e-03],\n",
              "       [3.00213695e-03],\n",
              "       [3.35809588e-03],\n",
              "       [3.64446640e-03],\n",
              "       [4.40740585e-03],\n",
              "       [1.61702335e-02],\n",
              "       [6.31465018e-02],\n",
              "       [2.26208091e-01],\n",
              "       [4.18044060e-01],\n",
              "       [8.68606091e-01],\n",
              "       [9.99753296e-01],\n",
              "       [9.99874592e-01],\n",
              "       [9.99927282e-01],\n",
              "       [9.99977350e-01],\n",
              "       [9.99991655e-01],\n",
              "       [9.99997377e-01],\n",
              "       [9.99998748e-01],\n",
              "       [9.99999702e-01],\n",
              "       [1.00000000e+00],\n",
              "       [1.00000000e+00],\n",
              "       [1.00000000e+00],\n",
              "       [1.00000000e+00],\n",
              "       [1.00000000e+00],\n",
              "       [1.00000000e+00],\n",
              "       [1.00000000e+00],\n",
              "       [1.00000000e+00],\n",
              "       [1.00000000e+00],\n",
              "       [1.00000000e+00],\n",
              "       [1.00000000e+00],\n",
              "       [1.00000000e+00],\n",
              "       [1.00000000e+00],\n",
              "       [1.00000000e+00],\n",
              "       [1.00000000e+00],\n",
              "       [1.00000000e+00],\n",
              "       [1.00000000e+00],\n",
              "       [1.00000000e+00],\n",
              "       [1.00000000e+00],\n",
              "       [1.00000000e+00],\n",
              "       [1.00000000e+00],\n",
              "       [1.00000000e+00],\n",
              "       [1.00000000e+00],\n",
              "       [1.00000000e+00],\n",
              "       [1.00000000e+00],\n",
              "       [1.00000000e+00],\n",
              "       [1.00000000e+00],\n",
              "       [1.00000000e+00],\n",
              "       [1.00000000e+00],\n",
              "       [1.00000000e+00],\n",
              "       [1.00000000e+00],\n",
              "       [1.00000000e+00],\n",
              "       [1.00000000e+00],\n",
              "       [1.00000000e+00],\n",
              "       [9.99999344e-01],\n",
              "       [1.00000000e+00],\n",
              "       [1.00000000e+00],\n",
              "       [1.00000000e+00],\n",
              "       [1.00000000e+00],\n",
              "       [1.00000000e+00],\n",
              "       [1.00000000e+00],\n",
              "       [1.00000000e+00],\n",
              "       [1.00000000e+00],\n",
              "       [1.00000000e+00],\n",
              "       [1.00000000e+00],\n",
              "       [1.00000000e+00],\n",
              "       [1.00000000e+00],\n",
              "       [1.00000000e+00],\n",
              "       [1.00000000e+00],\n",
              "       [1.00000000e+00],\n",
              "       [1.00000000e+00],\n",
              "       [1.00000000e+00],\n",
              "       [1.00000000e+00],\n",
              "       [1.00000000e+00],\n",
              "       [1.00000000e+00],\n",
              "       [1.00000000e+00],\n",
              "       [1.00000000e+00],\n",
              "       [1.00000000e+00],\n",
              "       [1.00000000e+00],\n",
              "       [1.00000000e+00],\n",
              "       [1.00000000e+00],\n",
              "       [1.00000000e+00],\n",
              "       [1.00000000e+00],\n",
              "       [1.00000000e+00],\n",
              "       [1.00000000e+00],\n",
              "       [1.00000000e+00],\n",
              "       [1.00000000e+00],\n",
              "       [1.00000000e+00],\n",
              "       [1.00000000e+00],\n",
              "       [1.00000000e+00],\n",
              "       [1.00000000e+00],\n",
              "       [1.00000000e+00],\n",
              "       [1.00000000e+00],\n",
              "       [1.00000000e+00],\n",
              "       [1.00000000e+00],\n",
              "       [1.00000000e+00],\n",
              "       [1.00000000e+00],\n",
              "       [1.00000000e+00],\n",
              "       [1.00000000e+00],\n",
              "       [1.00000000e+00],\n",
              "       [1.00000000e+00],\n",
              "       [1.00000000e+00],\n",
              "       [1.00000000e+00],\n",
              "       [1.96696013e-01],\n",
              "       [2.69313931e-01],\n",
              "       [1.70363635e-01],\n",
              "       [1.41990542e-01],\n",
              "       [1.60147637e-01],\n",
              "       [2.55204082e-01],\n",
              "       [2.42643476e-01],\n",
              "       [2.43747115e-01],\n",
              "       [3.84810209e-01],\n",
              "       [5.66741526e-01],\n",
              "       [8.51277411e-01],\n",
              "       [9.76780415e-01],\n",
              "       [9.98668671e-01],\n",
              "       [9.99789119e-01],\n",
              "       [9.99978900e-01],\n",
              "       [9.99996901e-01],\n",
              "       [9.99999642e-01],\n",
              "       [9.99999523e-01],\n",
              "       [9.99999762e-01],\n",
              "       [1.00000000e+00],\n",
              "       [1.00000000e+00],\n",
              "       [1.00000000e+00],\n",
              "       [1.00000000e+00],\n",
              "       [9.99999762e-01],\n",
              "       [1.00000000e+00],\n",
              "       [9.99999523e-01],\n",
              "       [9.99999702e-01],\n",
              "       [9.99999821e-01],\n",
              "       [1.00000000e+00],\n",
              "       [1.00000000e+00],\n",
              "       [1.00000000e+00],\n",
              "       [1.00000000e+00],\n",
              "       [1.00000000e+00],\n",
              "       [1.00000000e+00],\n",
              "       [1.00000000e+00],\n",
              "       [1.00000000e+00],\n",
              "       [1.00000000e+00],\n",
              "       [1.00000000e+00],\n",
              "       [1.00000000e+00],\n",
              "       [1.00000000e+00],\n",
              "       [1.00000000e+00],\n",
              "       [1.00000000e+00],\n",
              "       [1.00000000e+00],\n",
              "       [1.00000000e+00],\n",
              "       [1.00000000e+00],\n",
              "       [1.00000000e+00],\n",
              "       [1.00000000e+00],\n",
              "       [1.00000000e+00],\n",
              "       [1.00000000e+00],\n",
              "       [1.00000000e+00],\n",
              "       [1.00000000e+00],\n",
              "       [9.99685526e-01],\n",
              "       [9.99009848e-01],\n",
              "       [9.99742866e-01],\n",
              "       [9.99512196e-01],\n",
              "       [9.99870896e-01],\n",
              "       [9.99089003e-01],\n",
              "       [9.99578476e-01],\n",
              "       [9.98229146e-01],\n",
              "       [9.99193251e-01],\n",
              "       [9.87081885e-01],\n",
              "       [9.79957938e-01],\n",
              "       [7.86184788e-01],\n",
              "       [7.03375101e-01],\n",
              "       [2.48487145e-01],\n",
              "       [1.43955082e-01],\n",
              "       [1.03916168e-01],\n",
              "       [4.11268175e-02],\n",
              "       [1.99335515e-02],\n",
              "       [1.60764158e-02],\n",
              "       [2.30320394e-02],\n",
              "       [2.76758671e-02],\n",
              "       [3.36448252e-02],\n",
              "       [4.02524471e-02],\n",
              "       [3.14507186e-02],\n",
              "       [2.45999992e-02],\n",
              "       [2.62032449e-02],\n",
              "       [2.56983042e-02],\n",
              "       [1.42331719e-02],\n",
              "       [1.37671530e-02],\n",
              "       [1.38991773e-02],\n",
              "       [1.37738883e-02],\n",
              "       [1.07916892e-02],\n",
              "       [1.14577711e-02],\n",
              "       [1.32368505e-02],\n",
              "       [1.97404921e-02],\n",
              "       [1.57906115e-02],\n",
              "       [3.22976410e-02],\n",
              "       [5.64580858e-02],\n",
              "       [7.98953474e-02],\n",
              "       [7.54744112e-02],\n",
              "       [1.40714377e-01],\n",
              "       [1.00000000e+00],\n",
              "       [1.00000000e+00],\n",
              "       [1.00000000e+00],\n",
              "       [1.00000000e+00],\n",
              "       [1.00000000e+00],\n",
              "       [1.00000000e+00],\n",
              "       [1.00000000e+00],\n",
              "       [1.00000000e+00],\n",
              "       [1.00000000e+00],\n",
              "       [1.00000000e+00],\n",
              "       [1.00000000e+00],\n",
              "       [1.00000000e+00],\n",
              "       [1.00000000e+00],\n",
              "       [1.00000000e+00],\n",
              "       [1.00000000e+00],\n",
              "       [1.00000000e+00],\n",
              "       [1.00000000e+00],\n",
              "       [1.00000000e+00],\n",
              "       [1.00000000e+00],\n",
              "       [1.00000000e+00],\n",
              "       [1.00000000e+00],\n",
              "       [1.00000000e+00],\n",
              "       [1.00000000e+00],\n",
              "       [1.00000000e+00],\n",
              "       [1.00000000e+00],\n",
              "       [1.00000000e+00],\n",
              "       [1.00000000e+00],\n",
              "       [1.00000000e+00],\n",
              "       [1.00000000e+00],\n",
              "       [1.00000000e+00],\n",
              "       [1.00000000e+00],\n",
              "       [1.00000000e+00],\n",
              "       [1.00000000e+00],\n",
              "       [9.99830842e-01],\n",
              "       [9.99702990e-01],\n",
              "       [9.99601007e-01],\n",
              "       [9.99800444e-01],\n",
              "       [9.99883175e-01],\n",
              "       [9.99819875e-01],\n",
              "       [9.99813676e-01],\n",
              "       [9.99914110e-01],\n",
              "       [9.99963880e-01],\n",
              "       [9.99960542e-01],\n",
              "       [9.99966025e-01],\n",
              "       [9.99989033e-01],\n",
              "       [9.99995828e-01],\n",
              "       [9.99996066e-01],\n",
              "       [9.99995768e-01],\n",
              "       [9.99997377e-01],\n",
              "       [9.99998093e-01],\n",
              "       [9.99998450e-01],\n",
              "       [9.99997377e-01],\n",
              "       [9.99997139e-01],\n",
              "       [9.99995232e-01],\n",
              "       [9.99996722e-01],\n",
              "       [9.99995232e-01],\n",
              "       [9.99995947e-01],\n",
              "       [9.99995828e-01],\n",
              "       [9.99996424e-01],\n",
              "       [9.99994934e-01],\n",
              "       [9.99995232e-01],\n",
              "       [9.99992311e-01],\n",
              "       [9.99992728e-01],\n",
              "       [9.99985874e-01],\n",
              "       [9.99983788e-01],\n",
              "       [9.99965250e-01],\n",
              "       [9.99957502e-01],\n",
              "       [9.99922633e-01],\n",
              "       [9.99895453e-01],\n",
              "       [9.99769866e-01],\n",
              "       [9.99707341e-01],\n",
              "       [9.99912858e-01],\n",
              "       [9.99955177e-01],\n",
              "       [9.99975979e-01],\n",
              "       [9.99993086e-01],\n",
              "       [9.99996543e-01],\n",
              "       [9.99998689e-01],\n",
              "       [9.99999285e-01],\n",
              "       [9.99999821e-01],\n",
              "       [1.00000000e+00],\n",
              "       [1.00000000e+00],\n",
              "       [1.00000000e+00],\n",
              "       [1.00000000e+00],\n",
              "       [1.00000000e+00],\n",
              "       [1.00000000e+00],\n",
              "       [1.00000000e+00],\n",
              "       [1.00000000e+00],\n",
              "       [1.00000000e+00],\n",
              "       [1.00000000e+00],\n",
              "       [1.00000000e+00],\n",
              "       [1.00000000e+00],\n",
              "       [1.00000000e+00],\n",
              "       [1.00000000e+00],\n",
              "       [1.00000000e+00],\n",
              "       [1.00000000e+00],\n",
              "       [1.00000000e+00],\n",
              "       [1.00000000e+00],\n",
              "       [1.00000000e+00],\n",
              "       [1.00000000e+00],\n",
              "       [1.00000000e+00],\n",
              "       [1.00000000e+00],\n",
              "       [1.00000000e+00],\n",
              "       [1.00000000e+00],\n",
              "       [1.00000000e+00],\n",
              "       [1.00000000e+00],\n",
              "       [1.00000000e+00],\n",
              "       [1.00000000e+00],\n",
              "       [1.00000000e+00],\n",
              "       [1.00000000e+00],\n",
              "       [1.00000000e+00],\n",
              "       [1.00000000e+00],\n",
              "       [1.00000000e+00],\n",
              "       [1.00000000e+00],\n",
              "       [1.00000000e+00],\n",
              "       [1.00000000e+00],\n",
              "       [1.00000000e+00],\n",
              "       [1.00000000e+00],\n",
              "       [1.00000000e+00],\n",
              "       [1.00000000e+00],\n",
              "       [1.00000000e+00],\n",
              "       [1.00000000e+00],\n",
              "       [1.00000000e+00],\n",
              "       [1.00000000e+00],\n",
              "       [1.00000000e+00],\n",
              "       [1.00000000e+00],\n",
              "       [1.00000000e+00],\n",
              "       [1.00000000e+00],\n",
              "       [1.00000000e+00],\n",
              "       [1.00000000e+00],\n",
              "       [1.00000000e+00],\n",
              "       [1.00000000e+00],\n",
              "       [1.00000000e+00],\n",
              "       [1.00000000e+00],\n",
              "       [1.00000000e+00],\n",
              "       [9.99986410e-01],\n",
              "       [9.99994874e-01],\n",
              "       [9.99997497e-01],\n",
              "       [9.99999285e-01],\n",
              "       [9.99999762e-01],\n",
              "       [1.00000000e+00],\n",
              "       [1.00000000e+00],\n",
              "       [1.00000000e+00],\n",
              "       [1.00000000e+00],\n",
              "       [1.00000000e+00],\n",
              "       [1.00000000e+00],\n",
              "       [1.00000000e+00],\n",
              "       [1.00000000e+00],\n",
              "       [1.00000000e+00],\n",
              "       [1.00000000e+00],\n",
              "       [1.00000000e+00],\n",
              "       [1.00000000e+00],\n",
              "       [1.00000000e+00],\n",
              "       [1.00000000e+00],\n",
              "       [1.00000000e+00],\n",
              "       [1.00000000e+00],\n",
              "       [1.00000000e+00],\n",
              "       [1.00000000e+00],\n",
              "       [1.00000000e+00],\n",
              "       [1.00000000e+00],\n",
              "       [1.00000000e+00],\n",
              "       [1.00000000e+00],\n",
              "       [1.00000000e+00],\n",
              "       [1.00000000e+00],\n",
              "       [9.99999642e-01],\n",
              "       [9.99998808e-01],\n",
              "       [9.99995768e-01],\n",
              "       [9.99985874e-01],\n",
              "       [9.99933243e-01],\n",
              "       [9.99721050e-01],\n",
              "       [9.98857379e-01],\n",
              "       [9.99977469e-01],\n",
              "       [9.99992609e-01],\n",
              "       [9.99997020e-01],\n",
              "       [9.99998927e-01],\n",
              "       [9.99999642e-01],\n",
              "       [9.99999762e-01],\n",
              "       [1.00000000e+00],\n",
              "       [1.00000000e+00],\n",
              "       [1.00000000e+00],\n",
              "       [1.00000000e+00],\n",
              "       [1.00000000e+00],\n",
              "       [1.00000000e+00],\n",
              "       [1.00000000e+00],\n",
              "       [1.00000000e+00],\n",
              "       [1.00000000e+00],\n",
              "       [1.00000000e+00],\n",
              "       [1.00000000e+00],\n",
              "       [1.00000000e+00],\n",
              "       [1.00000000e+00],\n",
              "       [1.00000000e+00],\n",
              "       [1.00000000e+00],\n",
              "       [1.00000000e+00],\n",
              "       [1.00000000e+00],\n",
              "       [1.00000000e+00],\n",
              "       [1.00000000e+00],\n",
              "       [1.00000000e+00],\n",
              "       [1.00000000e+00],\n",
              "       [1.00000000e+00],\n",
              "       [1.00000000e+00],\n",
              "       [1.00000000e+00],\n",
              "       [1.00000000e+00],\n",
              "       [1.00000000e+00],\n",
              "       [1.00000000e+00],\n",
              "       [1.00000000e+00],\n",
              "       [1.00000000e+00],\n",
              "       [1.00000000e+00],\n",
              "       [1.00000000e+00],\n",
              "       [1.00000000e+00],\n",
              "       [1.00000000e+00],\n",
              "       [1.00000000e+00],\n",
              "       [1.00000000e+00],\n",
              "       [1.00000000e+00],\n",
              "       [1.00000000e+00],\n",
              "       [1.00000000e+00],\n",
              "       [1.00000000e+00],\n",
              "       [1.00000000e+00],\n",
              "       [1.00000000e+00],\n",
              "       [1.00000000e+00],\n",
              "       [1.00000000e+00],\n",
              "       [1.00000000e+00],\n",
              "       [1.00000000e+00],\n",
              "       [1.00000000e+00],\n",
              "       [1.00000000e+00],\n",
              "       [1.00000000e+00],\n",
              "       [1.00000000e+00],\n",
              "       [1.00000000e+00],\n",
              "       [1.00000000e+00],\n",
              "       [1.00000000e+00],\n",
              "       [1.00000000e+00],\n",
              "       [1.00000000e+00],\n",
              "       [1.00000000e+00],\n",
              "       [1.00000000e+00],\n",
              "       [1.00000000e+00],\n",
              "       [1.00000000e+00],\n",
              "       [1.00000000e+00],\n",
              "       [1.00000000e+00],\n",
              "       [1.00000000e+00],\n",
              "       [1.00000000e+00],\n",
              "       [1.00000000e+00],\n",
              "       [1.00000000e+00],\n",
              "       [1.00000000e+00],\n",
              "       [1.00000000e+00],\n",
              "       [1.00000000e+00],\n",
              "       [1.00000000e+00],\n",
              "       [1.00000000e+00],\n",
              "       [1.00000000e+00],\n",
              "       [1.00000000e+00],\n",
              "       [1.00000000e+00],\n",
              "       [1.00000000e+00],\n",
              "       [1.00000000e+00],\n",
              "       [1.00000000e+00],\n",
              "       [1.00000000e+00],\n",
              "       [1.00000000e+00],\n",
              "       [1.00000000e+00],\n",
              "       [1.00000000e+00],\n",
              "       [1.00000000e+00],\n",
              "       [1.00000000e+00],\n",
              "       [1.00000000e+00],\n",
              "       [1.00000000e+00],\n",
              "       [1.00000000e+00],\n",
              "       [1.00000000e+00],\n",
              "       [1.00000000e+00],\n",
              "       [1.00000000e+00],\n",
              "       [1.00000000e+00],\n",
              "       [1.00000000e+00],\n",
              "       [1.00000000e+00],\n",
              "       [1.00000000e+00],\n",
              "       [1.00000000e+00],\n",
              "       [1.00000000e+00],\n",
              "       [1.00000000e+00],\n",
              "       [1.00000000e+00],\n",
              "       [1.00000000e+00],\n",
              "       [1.00000000e+00],\n",
              "       [1.00000000e+00],\n",
              "       [1.00000000e+00],\n",
              "       [1.00000000e+00],\n",
              "       [1.00000000e+00],\n",
              "       [1.00000000e+00],\n",
              "       [1.00000000e+00],\n",
              "       [1.00000000e+00],\n",
              "       [1.00000000e+00],\n",
              "       [1.00000000e+00],\n",
              "       [1.00000000e+00],\n",
              "       [1.00000000e+00],\n",
              "       [1.00000000e+00],\n",
              "       [1.00000000e+00],\n",
              "       [1.00000000e+00],\n",
              "       [1.00000000e+00],\n",
              "       [1.00000000e+00],\n",
              "       [1.00000000e+00],\n",
              "       [1.00000000e+00],\n",
              "       [1.00000000e+00],\n",
              "       [1.00000000e+00],\n",
              "       [1.00000000e+00],\n",
              "       [1.00000000e+00],\n",
              "       [1.00000000e+00],\n",
              "       [9.99997735e-01],\n",
              "       [9.99999166e-01],\n",
              "       [9.99999583e-01],\n",
              "       [9.99999642e-01],\n",
              "       [1.00000000e+00],\n",
              "       [1.00000000e+00],\n",
              "       [1.00000000e+00],\n",
              "       [1.00000000e+00],\n",
              "       [1.00000000e+00],\n",
              "       [1.00000000e+00],\n",
              "       [1.00000000e+00],\n",
              "       [1.00000000e+00],\n",
              "       [1.00000000e+00],\n",
              "       [1.00000000e+00],\n",
              "       [1.00000000e+00],\n",
              "       [1.00000000e+00],\n",
              "       [1.00000000e+00],\n",
              "       [1.00000000e+00],\n",
              "       [1.00000000e+00],\n",
              "       [9.99999762e-01],\n",
              "       [9.99999642e-01],\n",
              "       [9.99999285e-01],\n",
              "       [9.99997497e-01],\n",
              "       [9.99989510e-01],\n",
              "       [5.28457761e-03],\n",
              "       [3.51873040e-03],\n",
              "       [2.11778283e-03],\n",
              "       [1.80721283e-03],\n",
              "       [1.63730979e-03],\n",
              "       [1.42177939e-03],\n",
              "       [1.21641159e-03],\n",
              "       [1.06289983e-03],\n",
              "       [9.71645117e-04],\n",
              "       [9.00298357e-04],\n",
              "       [8.50796700e-04],\n",
              "       [7.90625811e-04],\n",
              "       [8.00222158e-04],\n",
              "       [8.28802586e-04],\n",
              "       [8.22424889e-04],\n",
              "       [7.73251057e-04],\n",
              "       [7.98374414e-04],\n",
              "       [8.56071711e-04],\n",
              "       [8.69452953e-04],\n",
              "       [8.33064318e-04],\n",
              "       [8.84562731e-04],\n",
              "       [1.02713704e-03],\n",
              "       [2.48974562e-03],\n",
              "       [3.52936983e-03],\n",
              "       [1.55143142e-02],\n",
              "       [1.11206263e-01],\n",
              "       [5.77915013e-01],\n",
              "       [7.40634561e-01],\n",
              "       [1.00000000e+00],\n",
              "       [1.00000000e+00],\n",
              "       [1.00000000e+00],\n",
              "       [1.00000000e+00],\n",
              "       [1.00000000e+00],\n",
              "       [1.00000000e+00],\n",
              "       [1.00000000e+00],\n",
              "       [1.00000000e+00],\n",
              "       [1.00000000e+00],\n",
              "       [1.00000000e+00],\n",
              "       [1.00000000e+00],\n",
              "       [1.00000000e+00],\n",
              "       [1.00000000e+00],\n",
              "       [1.00000000e+00],\n",
              "       [1.00000000e+00],\n",
              "       [1.00000000e+00],\n",
              "       [1.00000000e+00],\n",
              "       [1.00000000e+00],\n",
              "       [1.00000000e+00],\n",
              "       [1.00000000e+00],\n",
              "       [1.00000000e+00],\n",
              "       [1.00000000e+00],\n",
              "       [1.00000000e+00],\n",
              "       [1.00000000e+00],\n",
              "       [1.00000000e+00],\n",
              "       [1.00000000e+00],\n",
              "       [1.00000000e+00],\n",
              "       [1.00000000e+00],\n",
              "       [1.00000000e+00],\n",
              "       [1.00000000e+00],\n",
              "       [1.00000000e+00],\n",
              "       [1.00000000e+00],\n",
              "       [1.00000000e+00],\n",
              "       [1.00000000e+00],\n",
              "       [1.00000000e+00],\n",
              "       [1.00000000e+00],\n",
              "       [1.00000000e+00],\n",
              "       [1.00000000e+00],\n",
              "       [1.00000000e+00],\n",
              "       [1.00000000e+00],\n",
              "       [9.99999642e-01],\n",
              "       [1.00000000e+00],\n",
              "       [1.00000000e+00],\n",
              "       [1.00000000e+00],\n",
              "       [1.00000000e+00],\n",
              "       [1.00000000e+00],\n",
              "       [1.00000000e+00],\n",
              "       [1.00000000e+00],\n",
              "       [1.00000000e+00],\n",
              "       [1.00000000e+00],\n",
              "       [1.00000000e+00],\n",
              "       [1.00000000e+00],\n",
              "       [1.00000000e+00],\n",
              "       [1.00000000e+00],\n",
              "       [1.00000000e+00],\n",
              "       [1.00000000e+00],\n",
              "       [1.00000000e+00],\n",
              "       [1.00000000e+00],\n",
              "       [1.00000000e+00],\n",
              "       [1.00000000e+00],\n",
              "       [1.00000000e+00],\n",
              "       [1.00000000e+00],\n",
              "       [1.00000000e+00],\n",
              "       [1.00000000e+00],\n",
              "       [1.00000000e+00],\n",
              "       [1.00000000e+00],\n",
              "       [1.00000000e+00],\n",
              "       [1.00000000e+00],\n",
              "       [1.00000000e+00],\n",
              "       [1.00000000e+00],\n",
              "       [1.00000000e+00],\n",
              "       [1.00000000e+00],\n",
              "       [1.00000000e+00],\n",
              "       [1.00000000e+00],\n",
              "       [1.00000000e+00],\n",
              "       [1.00000000e+00],\n",
              "       [1.00000000e+00],\n",
              "       [1.00000000e+00],\n",
              "       [1.00000000e+00],\n",
              "       [1.00000000e+00],\n",
              "       [1.00000000e+00],\n",
              "       [1.00000000e+00],\n",
              "       [1.00000000e+00],\n",
              "       [1.00000000e+00],\n",
              "       [1.00000000e+00],\n",
              "       [1.00000000e+00],\n",
              "       [9.99999702e-01],\n",
              "       [9.99999285e-01],\n",
              "       [7.08166242e-01],\n",
              "       [5.07892668e-01],\n",
              "       [1.67739004e-01],\n",
              "       [5.82358539e-02],\n",
              "       [1.62075460e-02],\n",
              "       [1.07517242e-02],\n",
              "       [6.01327419e-03],\n",
              "       [5.35610318e-03],\n",
              "       [4.78917360e-03],\n",
              "       [4.72036004e-03],\n",
              "       [4.08542156e-03],\n",
              "       [4.11057472e-03],\n",
              "       [4.09606099e-03],\n",
              "       [4.32524085e-03],\n",
              "       [3.89480591e-03],\n",
              "       [4.09889221e-03],\n",
              "       [4.33352590e-03],\n",
              "       [8.19322467e-03],\n",
              "       [8.32200050e-03],\n",
              "       [1.95068717e-02],\n",
              "       [6.81876540e-02],\n",
              "       [2.12671757e-01],\n",
              "       [2.51729667e-01],\n",
              "       [4.50053275e-01]], dtype=float32)"
            ]
          },
          "metadata": {},
          "execution_count": 65
        }
      ]
    },
    {
      "cell_type": "code",
      "metadata": {
        "id": "n9JXPduLkKcZ",
        "colab": {
          "base_uri": "https://localhost:8080/"
        },
        "outputId": "8fb41ca0-ac26-4a44-d26f-f55eb6c74293"
      },
      "source": [
        "y_pred_prob.squeeze()"
      ],
      "execution_count": 66,
      "outputs": [
        {
          "output_type": "execute_result",
          "data": {
            "text/plain": [
              "array([9.99859214e-01, 9.99959826e-01, 9.99989986e-01, 9.99997139e-01,\n",
              "       9.99999166e-01, 9.99999702e-01, 9.99999821e-01, 1.00000000e+00,\n",
              "       1.00000000e+00, 1.00000000e+00, 1.00000000e+00, 1.00000000e+00,\n",
              "       1.00000000e+00, 1.00000000e+00, 1.00000000e+00, 1.00000000e+00,\n",
              "       1.00000000e+00, 1.00000000e+00, 1.00000000e+00, 1.00000000e+00,\n",
              "       1.00000000e+00, 1.00000000e+00, 1.00000000e+00, 1.00000000e+00,\n",
              "       1.00000000e+00, 1.00000000e+00, 1.00000000e+00, 1.00000000e+00,\n",
              "       1.00000000e+00, 1.00000000e+00, 1.00000000e+00, 1.00000000e+00,\n",
              "       1.00000000e+00, 1.00000000e+00, 1.00000000e+00, 1.00000000e+00,\n",
              "       1.00000000e+00, 1.00000000e+00, 1.00000000e+00, 1.00000000e+00,\n",
              "       1.00000000e+00, 1.00000000e+00, 1.00000000e+00, 1.00000000e+00,\n",
              "       1.00000000e+00, 1.00000000e+00, 1.00000000e+00, 1.00000000e+00,\n",
              "       1.00000000e+00, 1.00000000e+00, 1.00000000e+00, 1.00000000e+00,\n",
              "       1.00000000e+00, 1.00000000e+00, 1.00000000e+00, 1.00000000e+00,\n",
              "       1.00000000e+00, 1.00000000e+00, 1.00000000e+00, 1.00000000e+00,\n",
              "       1.00000000e+00, 1.00000000e+00, 1.00000000e+00, 1.00000000e+00,\n",
              "       1.00000000e+00, 1.00000000e+00, 1.00000000e+00, 1.00000000e+00,\n",
              "       1.00000000e+00, 1.00000000e+00, 9.99999762e-01, 9.99999464e-01,\n",
              "       9.99998808e-01, 9.99997735e-01, 9.99997020e-01, 3.60171199e-02,\n",
              "       1.36608183e-02, 7.50994682e-03, 5.72630763e-03, 4.85047698e-03,\n",
              "       4.18111682e-03, 3.66392732e-03, 3.21832299e-03, 3.03336978e-03,\n",
              "       2.85494328e-03, 2.75015831e-03, 2.72366405e-03, 2.76845694e-03,\n",
              "       2.76160240e-03, 2.80535221e-03, 3.00213695e-03, 3.35809588e-03,\n",
              "       3.64446640e-03, 4.40740585e-03, 1.61702335e-02, 6.31465018e-02,\n",
              "       2.26208091e-01, 4.18044060e-01, 8.68606091e-01, 9.99753296e-01,\n",
              "       9.99874592e-01, 9.99927282e-01, 9.99977350e-01, 9.99991655e-01,\n",
              "       9.99997377e-01, 9.99998748e-01, 9.99999702e-01, 1.00000000e+00,\n",
              "       1.00000000e+00, 1.00000000e+00, 1.00000000e+00, 1.00000000e+00,\n",
              "       1.00000000e+00, 1.00000000e+00, 1.00000000e+00, 1.00000000e+00,\n",
              "       1.00000000e+00, 1.00000000e+00, 1.00000000e+00, 1.00000000e+00,\n",
              "       1.00000000e+00, 1.00000000e+00, 1.00000000e+00, 1.00000000e+00,\n",
              "       1.00000000e+00, 1.00000000e+00, 1.00000000e+00, 1.00000000e+00,\n",
              "       1.00000000e+00, 1.00000000e+00, 1.00000000e+00, 1.00000000e+00,\n",
              "       1.00000000e+00, 1.00000000e+00, 1.00000000e+00, 1.00000000e+00,\n",
              "       1.00000000e+00, 1.00000000e+00, 1.00000000e+00, 1.00000000e+00,\n",
              "       1.00000000e+00, 9.99999344e-01, 1.00000000e+00, 1.00000000e+00,\n",
              "       1.00000000e+00, 1.00000000e+00, 1.00000000e+00, 1.00000000e+00,\n",
              "       1.00000000e+00, 1.00000000e+00, 1.00000000e+00, 1.00000000e+00,\n",
              "       1.00000000e+00, 1.00000000e+00, 1.00000000e+00, 1.00000000e+00,\n",
              "       1.00000000e+00, 1.00000000e+00, 1.00000000e+00, 1.00000000e+00,\n",
              "       1.00000000e+00, 1.00000000e+00, 1.00000000e+00, 1.00000000e+00,\n",
              "       1.00000000e+00, 1.00000000e+00, 1.00000000e+00, 1.00000000e+00,\n",
              "       1.00000000e+00, 1.00000000e+00, 1.00000000e+00, 1.00000000e+00,\n",
              "       1.00000000e+00, 1.00000000e+00, 1.00000000e+00, 1.00000000e+00,\n",
              "       1.00000000e+00, 1.00000000e+00, 1.00000000e+00, 1.00000000e+00,\n",
              "       1.00000000e+00, 1.00000000e+00, 1.00000000e+00, 1.00000000e+00,\n",
              "       1.00000000e+00, 1.00000000e+00, 1.00000000e+00, 1.00000000e+00,\n",
              "       1.00000000e+00, 1.00000000e+00, 1.96696013e-01, 2.69313931e-01,\n",
              "       1.70363635e-01, 1.41990542e-01, 1.60147637e-01, 2.55204082e-01,\n",
              "       2.42643476e-01, 2.43747115e-01, 3.84810209e-01, 5.66741526e-01,\n",
              "       8.51277411e-01, 9.76780415e-01, 9.98668671e-01, 9.99789119e-01,\n",
              "       9.99978900e-01, 9.99996901e-01, 9.99999642e-01, 9.99999523e-01,\n",
              "       9.99999762e-01, 1.00000000e+00, 1.00000000e+00, 1.00000000e+00,\n",
              "       1.00000000e+00, 9.99999762e-01, 1.00000000e+00, 9.99999523e-01,\n",
              "       9.99999702e-01, 9.99999821e-01, 1.00000000e+00, 1.00000000e+00,\n",
              "       1.00000000e+00, 1.00000000e+00, 1.00000000e+00, 1.00000000e+00,\n",
              "       1.00000000e+00, 1.00000000e+00, 1.00000000e+00, 1.00000000e+00,\n",
              "       1.00000000e+00, 1.00000000e+00, 1.00000000e+00, 1.00000000e+00,\n",
              "       1.00000000e+00, 1.00000000e+00, 1.00000000e+00, 1.00000000e+00,\n",
              "       1.00000000e+00, 1.00000000e+00, 1.00000000e+00, 1.00000000e+00,\n",
              "       1.00000000e+00, 9.99685526e-01, 9.99009848e-01, 9.99742866e-01,\n",
              "       9.99512196e-01, 9.99870896e-01, 9.99089003e-01, 9.99578476e-01,\n",
              "       9.98229146e-01, 9.99193251e-01, 9.87081885e-01, 9.79957938e-01,\n",
              "       7.86184788e-01, 7.03375101e-01, 2.48487145e-01, 1.43955082e-01,\n",
              "       1.03916168e-01, 4.11268175e-02, 1.99335515e-02, 1.60764158e-02,\n",
              "       2.30320394e-02, 2.76758671e-02, 3.36448252e-02, 4.02524471e-02,\n",
              "       3.14507186e-02, 2.45999992e-02, 2.62032449e-02, 2.56983042e-02,\n",
              "       1.42331719e-02, 1.37671530e-02, 1.38991773e-02, 1.37738883e-02,\n",
              "       1.07916892e-02, 1.14577711e-02, 1.32368505e-02, 1.97404921e-02,\n",
              "       1.57906115e-02, 3.22976410e-02, 5.64580858e-02, 7.98953474e-02,\n",
              "       7.54744112e-02, 1.40714377e-01, 1.00000000e+00, 1.00000000e+00,\n",
              "       1.00000000e+00, 1.00000000e+00, 1.00000000e+00, 1.00000000e+00,\n",
              "       1.00000000e+00, 1.00000000e+00, 1.00000000e+00, 1.00000000e+00,\n",
              "       1.00000000e+00, 1.00000000e+00, 1.00000000e+00, 1.00000000e+00,\n",
              "       1.00000000e+00, 1.00000000e+00, 1.00000000e+00, 1.00000000e+00,\n",
              "       1.00000000e+00, 1.00000000e+00, 1.00000000e+00, 1.00000000e+00,\n",
              "       1.00000000e+00, 1.00000000e+00, 1.00000000e+00, 1.00000000e+00,\n",
              "       1.00000000e+00, 1.00000000e+00, 1.00000000e+00, 1.00000000e+00,\n",
              "       1.00000000e+00, 1.00000000e+00, 1.00000000e+00, 9.99830842e-01,\n",
              "       9.99702990e-01, 9.99601007e-01, 9.99800444e-01, 9.99883175e-01,\n",
              "       9.99819875e-01, 9.99813676e-01, 9.99914110e-01, 9.99963880e-01,\n",
              "       9.99960542e-01, 9.99966025e-01, 9.99989033e-01, 9.99995828e-01,\n",
              "       9.99996066e-01, 9.99995768e-01, 9.99997377e-01, 9.99998093e-01,\n",
              "       9.99998450e-01, 9.99997377e-01, 9.99997139e-01, 9.99995232e-01,\n",
              "       9.99996722e-01, 9.99995232e-01, 9.99995947e-01, 9.99995828e-01,\n",
              "       9.99996424e-01, 9.99994934e-01, 9.99995232e-01, 9.99992311e-01,\n",
              "       9.99992728e-01, 9.99985874e-01, 9.99983788e-01, 9.99965250e-01,\n",
              "       9.99957502e-01, 9.99922633e-01, 9.99895453e-01, 9.99769866e-01,\n",
              "       9.99707341e-01, 9.99912858e-01, 9.99955177e-01, 9.99975979e-01,\n",
              "       9.99993086e-01, 9.99996543e-01, 9.99998689e-01, 9.99999285e-01,\n",
              "       9.99999821e-01, 1.00000000e+00, 1.00000000e+00, 1.00000000e+00,\n",
              "       1.00000000e+00, 1.00000000e+00, 1.00000000e+00, 1.00000000e+00,\n",
              "       1.00000000e+00, 1.00000000e+00, 1.00000000e+00, 1.00000000e+00,\n",
              "       1.00000000e+00, 1.00000000e+00, 1.00000000e+00, 1.00000000e+00,\n",
              "       1.00000000e+00, 1.00000000e+00, 1.00000000e+00, 1.00000000e+00,\n",
              "       1.00000000e+00, 1.00000000e+00, 1.00000000e+00, 1.00000000e+00,\n",
              "       1.00000000e+00, 1.00000000e+00, 1.00000000e+00, 1.00000000e+00,\n",
              "       1.00000000e+00, 1.00000000e+00, 1.00000000e+00, 1.00000000e+00,\n",
              "       1.00000000e+00, 1.00000000e+00, 1.00000000e+00, 1.00000000e+00,\n",
              "       1.00000000e+00, 1.00000000e+00, 1.00000000e+00, 1.00000000e+00,\n",
              "       1.00000000e+00, 1.00000000e+00, 1.00000000e+00, 1.00000000e+00,\n",
              "       1.00000000e+00, 1.00000000e+00, 1.00000000e+00, 1.00000000e+00,\n",
              "       1.00000000e+00, 1.00000000e+00, 1.00000000e+00, 1.00000000e+00,\n",
              "       1.00000000e+00, 1.00000000e+00, 1.00000000e+00, 1.00000000e+00,\n",
              "       9.99986410e-01, 9.99994874e-01, 9.99997497e-01, 9.99999285e-01,\n",
              "       9.99999762e-01, 1.00000000e+00, 1.00000000e+00, 1.00000000e+00,\n",
              "       1.00000000e+00, 1.00000000e+00, 1.00000000e+00, 1.00000000e+00,\n",
              "       1.00000000e+00, 1.00000000e+00, 1.00000000e+00, 1.00000000e+00,\n",
              "       1.00000000e+00, 1.00000000e+00, 1.00000000e+00, 1.00000000e+00,\n",
              "       1.00000000e+00, 1.00000000e+00, 1.00000000e+00, 1.00000000e+00,\n",
              "       1.00000000e+00, 1.00000000e+00, 1.00000000e+00, 1.00000000e+00,\n",
              "       1.00000000e+00, 9.99999642e-01, 9.99998808e-01, 9.99995768e-01,\n",
              "       9.99985874e-01, 9.99933243e-01, 9.99721050e-01, 9.98857379e-01,\n",
              "       9.99977469e-01, 9.99992609e-01, 9.99997020e-01, 9.99998927e-01,\n",
              "       9.99999642e-01, 9.99999762e-01, 1.00000000e+00, 1.00000000e+00,\n",
              "       1.00000000e+00, 1.00000000e+00, 1.00000000e+00, 1.00000000e+00,\n",
              "       1.00000000e+00, 1.00000000e+00, 1.00000000e+00, 1.00000000e+00,\n",
              "       1.00000000e+00, 1.00000000e+00, 1.00000000e+00, 1.00000000e+00,\n",
              "       1.00000000e+00, 1.00000000e+00, 1.00000000e+00, 1.00000000e+00,\n",
              "       1.00000000e+00, 1.00000000e+00, 1.00000000e+00, 1.00000000e+00,\n",
              "       1.00000000e+00, 1.00000000e+00, 1.00000000e+00, 1.00000000e+00,\n",
              "       1.00000000e+00, 1.00000000e+00, 1.00000000e+00, 1.00000000e+00,\n",
              "       1.00000000e+00, 1.00000000e+00, 1.00000000e+00, 1.00000000e+00,\n",
              "       1.00000000e+00, 1.00000000e+00, 1.00000000e+00, 1.00000000e+00,\n",
              "       1.00000000e+00, 1.00000000e+00, 1.00000000e+00, 1.00000000e+00,\n",
              "       1.00000000e+00, 1.00000000e+00, 1.00000000e+00, 1.00000000e+00,\n",
              "       1.00000000e+00, 1.00000000e+00, 1.00000000e+00, 1.00000000e+00,\n",
              "       1.00000000e+00, 1.00000000e+00, 1.00000000e+00, 1.00000000e+00,\n",
              "       1.00000000e+00, 1.00000000e+00, 1.00000000e+00, 1.00000000e+00,\n",
              "       1.00000000e+00, 1.00000000e+00, 1.00000000e+00, 1.00000000e+00,\n",
              "       1.00000000e+00, 1.00000000e+00, 1.00000000e+00, 1.00000000e+00,\n",
              "       1.00000000e+00, 1.00000000e+00, 1.00000000e+00, 1.00000000e+00,\n",
              "       1.00000000e+00, 1.00000000e+00, 1.00000000e+00, 1.00000000e+00,\n",
              "       1.00000000e+00, 1.00000000e+00, 1.00000000e+00, 1.00000000e+00,\n",
              "       1.00000000e+00, 1.00000000e+00, 1.00000000e+00, 1.00000000e+00,\n",
              "       1.00000000e+00, 1.00000000e+00, 1.00000000e+00, 1.00000000e+00,\n",
              "       1.00000000e+00, 1.00000000e+00, 1.00000000e+00, 1.00000000e+00,\n",
              "       1.00000000e+00, 1.00000000e+00, 1.00000000e+00, 1.00000000e+00,\n",
              "       1.00000000e+00, 1.00000000e+00, 1.00000000e+00, 1.00000000e+00,\n",
              "       1.00000000e+00, 1.00000000e+00, 1.00000000e+00, 1.00000000e+00,\n",
              "       1.00000000e+00, 1.00000000e+00, 1.00000000e+00, 1.00000000e+00,\n",
              "       1.00000000e+00, 1.00000000e+00, 1.00000000e+00, 1.00000000e+00,\n",
              "       1.00000000e+00, 1.00000000e+00, 1.00000000e+00, 1.00000000e+00,\n",
              "       1.00000000e+00, 1.00000000e+00, 1.00000000e+00, 1.00000000e+00,\n",
              "       1.00000000e+00, 1.00000000e+00, 9.99997735e-01, 9.99999166e-01,\n",
              "       9.99999583e-01, 9.99999642e-01, 1.00000000e+00, 1.00000000e+00,\n",
              "       1.00000000e+00, 1.00000000e+00, 1.00000000e+00, 1.00000000e+00,\n",
              "       1.00000000e+00, 1.00000000e+00, 1.00000000e+00, 1.00000000e+00,\n",
              "       1.00000000e+00, 1.00000000e+00, 1.00000000e+00, 1.00000000e+00,\n",
              "       1.00000000e+00, 9.99999762e-01, 9.99999642e-01, 9.99999285e-01,\n",
              "       9.99997497e-01, 9.99989510e-01, 5.28457761e-03, 3.51873040e-03,\n",
              "       2.11778283e-03, 1.80721283e-03, 1.63730979e-03, 1.42177939e-03,\n",
              "       1.21641159e-03, 1.06289983e-03, 9.71645117e-04, 9.00298357e-04,\n",
              "       8.50796700e-04, 7.90625811e-04, 8.00222158e-04, 8.28802586e-04,\n",
              "       8.22424889e-04, 7.73251057e-04, 7.98374414e-04, 8.56071711e-04,\n",
              "       8.69452953e-04, 8.33064318e-04, 8.84562731e-04, 1.02713704e-03,\n",
              "       2.48974562e-03, 3.52936983e-03, 1.55143142e-02, 1.11206263e-01,\n",
              "       5.77915013e-01, 7.40634561e-01, 1.00000000e+00, 1.00000000e+00,\n",
              "       1.00000000e+00, 1.00000000e+00, 1.00000000e+00, 1.00000000e+00,\n",
              "       1.00000000e+00, 1.00000000e+00, 1.00000000e+00, 1.00000000e+00,\n",
              "       1.00000000e+00, 1.00000000e+00, 1.00000000e+00, 1.00000000e+00,\n",
              "       1.00000000e+00, 1.00000000e+00, 1.00000000e+00, 1.00000000e+00,\n",
              "       1.00000000e+00, 1.00000000e+00, 1.00000000e+00, 1.00000000e+00,\n",
              "       1.00000000e+00, 1.00000000e+00, 1.00000000e+00, 1.00000000e+00,\n",
              "       1.00000000e+00, 1.00000000e+00, 1.00000000e+00, 1.00000000e+00,\n",
              "       1.00000000e+00, 1.00000000e+00, 1.00000000e+00, 1.00000000e+00,\n",
              "       1.00000000e+00, 1.00000000e+00, 1.00000000e+00, 1.00000000e+00,\n",
              "       1.00000000e+00, 1.00000000e+00, 9.99999642e-01, 1.00000000e+00,\n",
              "       1.00000000e+00, 1.00000000e+00, 1.00000000e+00, 1.00000000e+00,\n",
              "       1.00000000e+00, 1.00000000e+00, 1.00000000e+00, 1.00000000e+00,\n",
              "       1.00000000e+00, 1.00000000e+00, 1.00000000e+00, 1.00000000e+00,\n",
              "       1.00000000e+00, 1.00000000e+00, 1.00000000e+00, 1.00000000e+00,\n",
              "       1.00000000e+00, 1.00000000e+00, 1.00000000e+00, 1.00000000e+00,\n",
              "       1.00000000e+00, 1.00000000e+00, 1.00000000e+00, 1.00000000e+00,\n",
              "       1.00000000e+00, 1.00000000e+00, 1.00000000e+00, 1.00000000e+00,\n",
              "       1.00000000e+00, 1.00000000e+00, 1.00000000e+00, 1.00000000e+00,\n",
              "       1.00000000e+00, 1.00000000e+00, 1.00000000e+00, 1.00000000e+00,\n",
              "       1.00000000e+00, 1.00000000e+00, 1.00000000e+00, 1.00000000e+00,\n",
              "       1.00000000e+00, 1.00000000e+00, 1.00000000e+00, 1.00000000e+00,\n",
              "       9.99999702e-01, 9.99999285e-01, 7.08166242e-01, 5.07892668e-01,\n",
              "       1.67739004e-01, 5.82358539e-02, 1.62075460e-02, 1.07517242e-02,\n",
              "       6.01327419e-03, 5.35610318e-03, 4.78917360e-03, 4.72036004e-03,\n",
              "       4.08542156e-03, 4.11057472e-03, 4.09606099e-03, 4.32524085e-03,\n",
              "       3.89480591e-03, 4.09889221e-03, 4.33352590e-03, 8.19322467e-03,\n",
              "       8.32200050e-03, 1.95068717e-02, 6.81876540e-02, 2.12671757e-01,\n",
              "       2.51729667e-01, 4.50053275e-01], dtype=float32)"
            ]
          },
          "metadata": {},
          "execution_count": 66
        }
      ]
    },
    {
      "cell_type": "code",
      "metadata": {
        "id": "idLnQb3ikNkk",
        "colab": {
          "base_uri": "https://localhost:8080/"
        },
        "outputId": "cec2886b-b431-4913-a7f7-fa80de80af12"
      },
      "source": [
        "y_pred_prob.squeeze() > 0.5"
      ],
      "execution_count": 67,
      "outputs": [
        {
          "output_type": "execute_result",
          "data": {
            "text/plain": [
              "array([ True,  True,  True,  True,  True,  True,  True,  True,  True,\n",
              "        True,  True,  True,  True,  True,  True,  True,  True,  True,\n",
              "        True,  True,  True,  True,  True,  True,  True,  True,  True,\n",
              "        True,  True,  True,  True,  True,  True,  True,  True,  True,\n",
              "        True,  True,  True,  True,  True,  True,  True,  True,  True,\n",
              "        True,  True,  True,  True,  True,  True,  True,  True,  True,\n",
              "        True,  True,  True,  True,  True,  True,  True,  True,  True,\n",
              "        True,  True,  True,  True,  True,  True,  True,  True,  True,\n",
              "        True,  True,  True, False, False, False, False, False, False,\n",
              "       False, False, False, False, False, False, False, False, False,\n",
              "       False, False, False, False, False, False, False, False,  True,\n",
              "        True,  True,  True,  True,  True,  True,  True,  True,  True,\n",
              "        True,  True,  True,  True,  True,  True,  True,  True,  True,\n",
              "        True,  True,  True,  True,  True,  True,  True,  True,  True,\n",
              "        True,  True,  True,  True,  True,  True,  True,  True,  True,\n",
              "        True,  True,  True,  True,  True,  True,  True,  True,  True,\n",
              "        True,  True,  True,  True,  True,  True,  True,  True,  True,\n",
              "        True,  True,  True,  True,  True,  True,  True,  True,  True,\n",
              "        True,  True,  True,  True,  True,  True,  True,  True,  True,\n",
              "        True,  True,  True,  True,  True,  True,  True,  True,  True,\n",
              "        True,  True,  True,  True,  True,  True,  True,  True,  True,\n",
              "        True, False, False, False, False, False, False, False, False,\n",
              "       False,  True,  True,  True,  True,  True,  True,  True,  True,\n",
              "        True,  True,  True,  True,  True,  True,  True,  True,  True,\n",
              "        True,  True,  True,  True,  True,  True,  True,  True,  True,\n",
              "        True,  True,  True,  True,  True,  True,  True,  True,  True,\n",
              "        True,  True,  True,  True,  True,  True,  True,  True,  True,\n",
              "        True,  True,  True,  True,  True,  True,  True,  True,  True,\n",
              "        True,  True, False, False, False, False, False, False, False,\n",
              "       False, False, False, False, False, False, False, False, False,\n",
              "       False, False, False, False, False, False, False, False, False,\n",
              "       False, False, False,  True,  True,  True,  True,  True,  True,\n",
              "        True,  True,  True,  True,  True,  True,  True,  True,  True,\n",
              "        True,  True,  True,  True,  True,  True,  True,  True,  True,\n",
              "        True,  True,  True,  True,  True,  True,  True,  True,  True,\n",
              "        True,  True,  True,  True,  True,  True,  True,  True,  True,\n",
              "        True,  True,  True,  True,  True,  True,  True,  True,  True,\n",
              "        True,  True,  True,  True,  True,  True,  True,  True,  True,\n",
              "        True,  True,  True,  True,  True,  True,  True,  True,  True,\n",
              "        True,  True,  True,  True,  True,  True,  True,  True,  True,\n",
              "        True,  True,  True,  True,  True,  True,  True,  True,  True,\n",
              "        True,  True,  True,  True,  True,  True,  True,  True,  True,\n",
              "        True,  True,  True,  True,  True,  True,  True,  True,  True,\n",
              "        True,  True,  True,  True,  True,  True,  True,  True,  True,\n",
              "        True,  True,  True,  True,  True,  True,  True,  True,  True,\n",
              "        True,  True,  True,  True,  True,  True,  True,  True,  True,\n",
              "        True,  True,  True,  True,  True,  True,  True,  True,  True,\n",
              "        True,  True,  True,  True,  True,  True,  True,  True,  True,\n",
              "        True,  True,  True,  True,  True,  True,  True,  True,  True,\n",
              "        True,  True,  True,  True,  True,  True,  True,  True,  True,\n",
              "        True,  True,  True,  True,  True,  True,  True,  True,  True,\n",
              "        True,  True,  True,  True,  True,  True,  True,  True,  True,\n",
              "        True,  True,  True,  True,  True,  True,  True,  True,  True,\n",
              "        True,  True,  True,  True,  True,  True,  True,  True,  True,\n",
              "        True,  True,  True,  True,  True,  True,  True,  True,  True,\n",
              "        True,  True,  True,  True,  True,  True,  True,  True,  True,\n",
              "        True,  True,  True,  True,  True,  True,  True,  True,  True,\n",
              "        True,  True,  True,  True,  True,  True,  True,  True,  True,\n",
              "        True,  True,  True,  True,  True,  True,  True,  True,  True,\n",
              "        True,  True,  True,  True,  True,  True,  True,  True,  True,\n",
              "        True,  True,  True,  True,  True,  True,  True,  True,  True,\n",
              "        True,  True,  True,  True,  True,  True,  True,  True,  True,\n",
              "        True,  True,  True,  True,  True,  True,  True,  True,  True,\n",
              "        True,  True,  True,  True,  True,  True,  True,  True,  True,\n",
              "        True,  True,  True,  True,  True,  True,  True,  True,  True,\n",
              "        True,  True,  True,  True,  True,  True,  True,  True,  True,\n",
              "        True,  True,  True,  True,  True,  True,  True,  True, False,\n",
              "       False, False, False, False, False, False, False, False, False,\n",
              "       False, False, False, False, False, False, False, False, False,\n",
              "       False, False, False, False, False, False, False,  True,  True,\n",
              "        True,  True,  True,  True,  True,  True,  True,  True,  True,\n",
              "        True,  True,  True,  True,  True,  True,  True,  True,  True,\n",
              "        True,  True,  True,  True,  True,  True,  True,  True,  True,\n",
              "        True,  True,  True,  True,  True,  True,  True,  True,  True,\n",
              "        True,  True,  True,  True,  True,  True,  True,  True,  True,\n",
              "        True,  True,  True,  True,  True,  True,  True,  True,  True,\n",
              "        True,  True,  True,  True,  True,  True,  True,  True,  True,\n",
              "        True,  True,  True,  True,  True,  True,  True,  True,  True,\n",
              "        True,  True,  True,  True,  True,  True,  True,  True,  True,\n",
              "        True,  True,  True,  True,  True,  True,  True,  True,  True,\n",
              "       False, False, False, False, False, False, False, False, False,\n",
              "       False, False, False, False, False, False, False, False, False,\n",
              "       False, False, False, False])"
            ]
          },
          "metadata": {},
          "execution_count": 67
        }
      ]
    },
    {
      "cell_type": "code",
      "metadata": {
        "id": "UXTPlyHJn9jj"
      },
      "source": [
        "y_pred = (y_pred_prob.squeeze() > 0.5).astype('int').tolist()"
      ],
      "execution_count": 68,
      "outputs": []
    },
    {
      "cell_type": "code",
      "metadata": {
        "id": "6CH8V6QhXcsh"
      },
      "source": [
        "from sklearn.metrics import (accuracy_score, \n",
        "                             precision_score, \n",
        "                             recall_score, \n",
        "                             f1_score,\n",
        "                             roc_curve,\n",
        "                             confusion_matrix,\n",
        "                             auc)"
      ],
      "execution_count": 69,
      "outputs": []
    },
    {
      "cell_type": "code",
      "metadata": {
        "id": "b4N6SHz5miEm",
        "colab": {
          "base_uri": "https://localhost:8080/"
        },
        "outputId": "e2a45a94-2d05-4367-a458-29025aaab3a2"
      },
      "source": [
        "confusion_matrix(test_y1, y_pred)"
      ],
      "execution_count": 70,
      "outputs": [
        {
          "output_type": "execute_result",
          "data": {
            "text/plain": [
              "array([[ 99,  18],\n",
              "       [  9, 616]])"
            ]
          },
          "metadata": {},
          "execution_count": 70
        }
      ]
    },
    {
      "cell_type": "code",
      "metadata": {
        "id": "Ddcqimc4pYNX",
        "colab": {
          "base_uri": "https://localhost:8080/"
        },
        "outputId": "7b33d846-392a-4102-ab2e-c70f5d051d40"
      },
      "source": [
        "accuracy_score(test_y1, y_pred)"
      ],
      "execution_count": 71,
      "outputs": [
        {
          "output_type": "execute_result",
          "data": {
            "text/plain": [
              "0.9636118598382749"
            ]
          },
          "metadata": {},
          "execution_count": 71
        }
      ]
    },
    {
      "cell_type": "code",
      "metadata": {
        "id": "RcEYz97PStsB",
        "colab": {
          "base_uri": "https://localhost:8080/"
        },
        "outputId": "6000f3fa-771a-4089-9992-ba100c1f333c"
      },
      "source": [
        "precision_score(test_y1, y_pred)"
      ],
      "execution_count": 72,
      "outputs": [
        {
          "output_type": "execute_result",
          "data": {
            "text/plain": [
              "0.9716088328075709"
            ]
          },
          "metadata": {},
          "execution_count": 72
        }
      ]
    },
    {
      "cell_type": "code",
      "metadata": {
        "id": "DnLku2QmXvoJ",
        "colab": {
          "base_uri": "https://localhost:8080/"
        },
        "outputId": "cf9bc371-db89-4299-bb1c-91a876926dff"
      },
      "source": [
        "recall_score(test_y1, y_pred)"
      ],
      "execution_count": 73,
      "outputs": [
        {
          "output_type": "execute_result",
          "data": {
            "text/plain": [
              "0.9856"
            ]
          },
          "metadata": {},
          "execution_count": 73
        }
      ]
    },
    {
      "cell_type": "code",
      "metadata": {
        "id": "nTWsVwNaXySa",
        "colab": {
          "base_uri": "https://localhost:8080/"
        },
        "outputId": "32499d74-3959-4e42-ab44-af48c05ba6af"
      },
      "source": [
        "f1_score(test_y1, y_pred)"
      ],
      "execution_count": 74,
      "outputs": [
        {
          "output_type": "execute_result",
          "data": {
            "text/plain": [
              "0.9785544082605242"
            ]
          },
          "metadata": {},
          "execution_count": 74
        }
      ]
    },
    {
      "cell_type": "markdown",
      "metadata": {
        "id": "K_3lePSWYZeP"
      },
      "source": [
        "#### ROC curve 그리기"
      ]
    },
    {
      "cell_type": "code",
      "metadata": {
        "id": "yj4Ss67HYZDq"
      },
      "source": [
        "fpr, tpr, thresholds = roc_curve(test_y1, y_pred_prob)\n",
        "roc_auc = auc(fpr, tpr)"
      ],
      "execution_count": 75,
      "outputs": []
    },
    {
      "cell_type": "code",
      "metadata": {
        "id": "nAYlep9aYY-G",
        "colab": {
          "base_uri": "https://localhost:8080/",
          "height": 295
        },
        "outputId": "2868c8f4-2025-42c7-a2f2-328760d47938"
      },
      "source": [
        "plt.plot(fpr, tpr, 'b', label = 'AUC = %0.4f' % roc_auc)\n",
        "plt.legend(loc = 'lower right')\n",
        "plt.plot([0, 1], [0, 1],'r--')\n",
        "plt.xlim([0, 1])\n",
        "plt.ylim([0, 1])\n",
        "plt.title(\"ROC curve\")\n",
        "plt.ylabel('True Positive Rate')\n",
        "plt.xlabel('False Positive Rate')\n",
        "plt.show()"
      ],
      "execution_count": 76,
      "outputs": [
        {
          "output_type": "display_data",
          "data": {
            "image/png": "[encoded data removed]",
            "text/plain": [
              "<Figure size 432x288 with 1 Axes>"
            ]
          },
          "metadata": {
            "needs_background": "light"
          }
        }
      ]
    },
    {
      "cell_type": "markdown",
      "metadata": {
        "id": "eiqG-s2ISr9k"
      },
      "source": [
        "#### sample 단위로 검증하기\n",
        "\n",
        "+ 위에 검증에서는 샘플단위로 compoent1에 포함여부를 본것이 아니기 때문에 샘플 단위로 테스트 셋을 만들어서 검증"
      ]
    },
    {
      "cell_type": "code",
      "metadata": {
        "id": "4SuEOEH2h2No"
      },
      "source": [
        "result_for_gas = label.loc[label['sample'].isin(test_sample), ['sample', 'gas1_label']]\n",
        "result_for_gas.set_index('sample', inplace=True)\n",
        "result_for_gas['gas1_predict'] = None"
      ],
      "execution_count": 77,
      "outputs": []
    },
    {
      "cell_type": "code",
      "metadata": {
        "colab": {
          "base_uri": "https://localhost:8080/",
          "height": 700
        },
        "id": "_vXv5PCnWi6o",
        "outputId": "caa407e3-0afc-4855-d950-543de9967838"
      },
      "source": [
        "result_for_gas"
      ],
      "execution_count": 78,
      "outputs": [
        {
          "output_type": "execute_result",
          "data": {
            "text/html": [
              "<div>\n",
              "<style scoped>\n",
              "    .dataframe tbody tr th:only-of-type {\n",
              "        vertical-align: middle;\n",
              "    }\n",
              "\n",
              "    .dataframe tbody tr th {\n",
              "        vertical-align: top;\n",
              "    }\n",
              "\n",
              "    .dataframe thead th {\n",
              "        text-align: right;\n",
              "    }\n",
              "</style>\n",
              "<table border=\"1\" class=\"dataframe\">\n",
              "  <thead>\n",
              "    <tr style=\"text-align: right;\">\n",
              "      <th></th>\n",
              "      <th>gas1_label</th>\n",
              "      <th>gas1_predict</th>\n",
              "    </tr>\n",
              "    <tr>\n",
              "      <th>sample</th>\n",
              "      <th></th>\n",
              "      <th></th>\n",
              "    </tr>\n",
              "  </thead>\n",
              "  <tbody>\n",
              "    <tr>\n",
              "      <th>sample 2</th>\n",
              "      <td>1</td>\n",
              "      <td>None</td>\n",
              "    </tr>\n",
              "    <tr>\n",
              "      <th>sample 4</th>\n",
              "      <td>1</td>\n",
              "      <td>None</td>\n",
              "    </tr>\n",
              "    <tr>\n",
              "      <th>sample 8</th>\n",
              "      <td>1</td>\n",
              "      <td>None</td>\n",
              "    </tr>\n",
              "    <tr>\n",
              "      <th>sample 10</th>\n",
              "      <td>1</td>\n",
              "      <td>None</td>\n",
              "    </tr>\n",
              "    <tr>\n",
              "      <th>sample 15</th>\n",
              "      <td>0</td>\n",
              "      <td>None</td>\n",
              "    </tr>\n",
              "    <tr>\n",
              "      <th>sample 23</th>\n",
              "      <td>1</td>\n",
              "      <td>None</td>\n",
              "    </tr>\n",
              "    <tr>\n",
              "      <th>sample 25</th>\n",
              "      <td>1</td>\n",
              "      <td>None</td>\n",
              "    </tr>\n",
              "    <tr>\n",
              "      <th>sample 29</th>\n",
              "      <td>1</td>\n",
              "      <td>None</td>\n",
              "    </tr>\n",
              "    <tr>\n",
              "      <th>sample 30</th>\n",
              "      <td>1</td>\n",
              "      <td>None</td>\n",
              "    </tr>\n",
              "    <tr>\n",
              "      <th>sample 40</th>\n",
              "      <td>1</td>\n",
              "      <td>None</td>\n",
              "    </tr>\n",
              "    <tr>\n",
              "      <th>sample 45</th>\n",
              "      <td>1</td>\n",
              "      <td>None</td>\n",
              "    </tr>\n",
              "    <tr>\n",
              "      <th>sample 55</th>\n",
              "      <td>1</td>\n",
              "      <td>None</td>\n",
              "    </tr>\n",
              "    <tr>\n",
              "      <th>sample 57</th>\n",
              "      <td>1</td>\n",
              "      <td>None</td>\n",
              "    </tr>\n",
              "    <tr>\n",
              "      <th>sample 63</th>\n",
              "      <td>1</td>\n",
              "      <td>None</td>\n",
              "    </tr>\n",
              "    <tr>\n",
              "      <th>sample 64</th>\n",
              "      <td>1</td>\n",
              "      <td>None</td>\n",
              "    </tr>\n",
              "    <tr>\n",
              "      <th>sample 67</th>\n",
              "      <td>1</td>\n",
              "      <td>None</td>\n",
              "    </tr>\n",
              "    <tr>\n",
              "      <th>sample 81</th>\n",
              "      <td>0</td>\n",
              "      <td>None</td>\n",
              "    </tr>\n",
              "    <tr>\n",
              "      <th>sample 83</th>\n",
              "      <td>0</td>\n",
              "      <td>None</td>\n",
              "    </tr>\n",
              "    <tr>\n",
              "      <th>sample 86</th>\n",
              "      <td>0</td>\n",
              "      <td>None</td>\n",
              "    </tr>\n",
              "    <tr>\n",
              "      <th>sample 92</th>\n",
              "      <td>1</td>\n",
              "      <td>None</td>\n",
              "    </tr>\n",
              "  </tbody>\n",
              "</table>\n",
              "</div>"
            ],
            "text/plain": [
              "           gas1_label gas1_predict\n",
              "sample                            \n",
              "sample 2            1         None\n",
              "sample 4            1         None\n",
              "sample 8            1         None\n",
              "sample 10           1         None\n",
              "sample 15           0         None\n",
              "sample 23           1         None\n",
              "sample 25           1         None\n",
              "sample 29           1         None\n",
              "sample 30           1         None\n",
              "sample 40           1         None\n",
              "sample 45           1         None\n",
              "sample 55           1         None\n",
              "sample 57           1         None\n",
              "sample 63           1         None\n",
              "sample 64           1         None\n",
              "sample 67           1         None\n",
              "sample 81           0         None\n",
              "sample 83           0         None\n",
              "sample 86           0         None\n",
              "sample 92           1         None"
            ]
          },
          "metadata": {},
          "execution_count": 78
        }
      ]
    },
    {
      "cell_type": "markdown",
      "metadata": {
        "id": "1QSOP8P7gDjK"
      },
      "source": [
        "+ 위에 있는 데이터프레임에 있는 샘플 순서대로 검증을 하기 위해서 데이터 프레임의 index를 추출"
      ]
    },
    {
      "cell_type": "code",
      "metadata": {
        "id": "V7NMvNqsjnL0",
        "colab": {
          "base_uri": "https://localhost:8080/"
        },
        "outputId": "79c57708-9456-494d-bf85-4a43c3e0264c"
      },
      "source": [
        "result_for_gas.index"
      ],
      "execution_count": 79,
      "outputs": [
        {
          "output_type": "execute_result",
          "data": {
            "text/plain": [
              "Index(['sample 2', 'sample 4', 'sample 8', 'sample 10', 'sample 15',\n",
              "       'sample 23', 'sample 25', 'sample 29', 'sample 30', 'sample 40',\n",
              "       'sample 45', 'sample 55', 'sample 57', 'sample 63', 'sample 64',\n",
              "       'sample 67', 'sample 81', 'sample 83', 'sample 86', 'sample 92'],\n",
              "      dtype='object', name='sample')"
            ]
          },
          "metadata": {},
          "execution_count": 79
        }
      ]
    },
    {
      "cell_type": "code",
      "metadata": {
        "id": "sfy2ovIzRrX0"
      },
      "source": [
        "ts_idx = result_for_gas.index.tolist()"
      ],
      "execution_count": 80,
      "outputs": []
    },
    {
      "cell_type": "markdown",
      "metadata": {
        "id": "YVkg9_lpuGjJ"
      },
      "source": [
        "['sample 2', 'sample 4', 'sample 8', 'sample 10', 'sample 15', 'sample 23', 'sample 25', 'sample 29', 'sample 30', 'sample 40', 'sample 45', 'sample 55', 'sample 57', 'sample 63', 'sample 64', 'sample 67', 'sample 81', 'sample 83', 'sample 86', 'sample 92']\n"
      ]
    },
    {
      "cell_type": "code",
      "metadata": {
        "colab": {
          "base_uri": "https://localhost:8080/"
        },
        "id": "4meE4ZYugqWb",
        "outputId": "0de020e5-0859-4b80-db63-d33f4e8d4fd5"
      },
      "source": [
        "print(ts_idx)"
      ],
      "execution_count": 81,
      "outputs": [
        {
          "output_type": "stream",
          "name": "stdout",
          "text": [
            "['sample 2', 'sample 4', 'sample 8', 'sample 10', 'sample 15', 'sample 23', 'sample 25', 'sample 29', 'sample 30', 'sample 40', 'sample 45', 'sample 55', 'sample 57', 'sample 63', 'sample 64', 'sample 67', 'sample 81', 'sample 83', 'sample 86', 'sample 92']\n"
          ]
        }
      ]
    },
    {
      "cell_type": "markdown",
      "metadata": {
        "id": "9p8bIth0ju6F"
      },
      "source": [
        "+ 샘플단위의 테스트 데이터 셋 만들기"
      ]
    },
    {
      "cell_type": "code",
      "metadata": {
        "id": "o6btJMD0pyW1",
        "colab": {
          "base_uri": "https://localhost:8080/",
          "height": 49,
          "referenced_widgets": [
            "d5300e1970484e30b8e7a6453ec876ba",
            "92b19fa41dd9422a943e853946558de0",
            "ab536bd8300545eda9736c01de43a04c",
            "18be9f03d1cb421384c05767168f67c8",
            "fff699fb1ce4424cb164d084a6625459",
            "fd19b656bd784b48afb48381ffcda57d",
            "1352dc436120455b8eab28774260dbda",
            "805ef63b836a4f08aa9f3e3fd0588a58",
            "9929539f557b452f871d0952e5e8ce73",
            "eeca5539b7fc4f8198c17ee98c0c9535",
            "ca8d8b08129f46a0a63c6dc2ef09fdb3"
          ]
        },
        "outputId": "1702001a-24f2-4f98-9c1e-b751d1f9cfcd"
      },
      "source": [
        "new_test_x = []\n",
        "for ts in tqdm(ts_idx):\n",
        "    tmp_data = pd.read_excel('./sensor_data.xlsx',sheet_name=ts)\n",
        "    tmp_result = making_data(tmp_data,time_lag)\n",
        "    tmp_result = tmp_result.reshape(len(tmp_result),time_lag,13,1)\n",
        "    new_test_x.append(tmp_result) \n",
        "new_test_x = np.array(new_test_x)"
      ],
      "execution_count": 82,
      "outputs": [
        {
          "output_type": "display_data",
          "data": {
            "application/vnd.jupyter.widget-view+json": {
              "model_id": "d5300e1970484e30b8e7a6453ec876ba",
              "version_minor": 0,
              "version_major": 2
            },
            "text/plain": [
              "  0%|          | 0/20 [00:00<?, ?it/s]"
            ]
          },
          "metadata": {}
        }
      ]
    },
    {
      "cell_type": "code",
      "metadata": {
        "colab": {
          "base_uri": "https://localhost:8080/"
        },
        "id": "hTUDEm_PVYOL",
        "outputId": "b9dcddb0-4e05-4624-b508-f1ea21764c08"
      },
      "source": [
        "new_test_x.shape "
      ],
      "execution_count": 83,
      "outputs": [
        {
          "output_type": "execute_result",
          "data": {
            "text/plain": [
              "(20,)"
            ]
          },
          "metadata": {},
          "execution_count": 83
        }
      ]
    },
    {
      "cell_type": "code",
      "metadata": {
        "colab": {
          "base_uri": "https://localhost:8080/"
        },
        "id": "kGTleRwflFmk",
        "outputId": "fd22a8fc-a5bd-4402-9c43-39d4dff0aa3d"
      },
      "source": [
        "new_test_x[0].shape"
      ],
      "execution_count": 84,
      "outputs": [
        {
          "output_type": "execute_result",
          "data": {
            "text/plain": [
              "(46, 30, 13, 1)"
            ]
          },
          "metadata": {},
          "execution_count": 84
        }
      ]
    },
    {
      "cell_type": "code",
      "metadata": {
        "id": "N-jFoiSXmS51"
      },
      "source": [
        "y_pred_tmp = models.predict(new_test_x[0])\n",
        "y_pred = (y_pred_tmp.squeeze() > 0.5).astype('int')"
      ],
      "execution_count": 85,
      "outputs": []
    },
    {
      "cell_type": "code",
      "metadata": {
        "colab": {
          "base_uri": "https://localhost:8080/"
        },
        "id": "hob-RFX2yI2e",
        "outputId": "f4d43518-d856-446d-a9ac-497d9ec8b02a"
      },
      "source": [
        "(y_pred == 0).sum()"
      ],
      "execution_count": 86,
      "outputs": [
        {
          "output_type": "execute_result",
          "data": {
            "text/plain": [
              "0"
            ]
          },
          "metadata": {},
          "execution_count": 86
        }
      ]
    },
    {
      "cell_type": "code",
      "metadata": {
        "colab": {
          "base_uri": "https://localhost:8080/"
        },
        "id": "jv4kPnYf1-ae",
        "outputId": "c9e01385-3aa7-4e72-e9ee-958769ebeeb7"
      },
      "source": [
        "(y_pred == 1).sum()"
      ],
      "execution_count": 87,
      "outputs": [
        {
          "output_type": "execute_result",
          "data": {
            "text/plain": [
              "46"
            ]
          },
          "metadata": {},
          "execution_count": 87
        }
      ]
    },
    {
      "cell_type": "markdown",
      "metadata": {
        "id": "gMnRVFoboGWw"
      },
      "source": [
        "+ 샘플중에서 0으로 예측된 것도 있고 1로 예측된 것도 있을 수 있음\n",
        "+ 이때 과반수 이상의 예측을 갖는 클래스를 할당\n",
        "+ np.floor함수는 소숫점을 올림하는 기능을 가짐"
      ]
    },
    {
      "cell_type": "code",
      "metadata": {
        "id": "yXHTMcl7nmnk"
      },
      "source": [
        "threshold = np.floor(len(new_test_x[0])/ 2)+1"
      ],
      "execution_count": 88,
      "outputs": []
    },
    {
      "cell_type": "code",
      "metadata": {
        "colab": {
          "base_uri": "https://localhost:8080/"
        },
        "id": "k7Y1ALeOnvRE",
        "outputId": "b09b6f99-6354-4a37-f4fa-39726eb75964"
      },
      "source": [
        "threshold"
      ],
      "execution_count": 89,
      "outputs": [
        {
          "output_type": "execute_result",
          "data": {
            "text/plain": [
              "24.0"
            ]
          },
          "metadata": {},
          "execution_count": 89
        }
      ]
    },
    {
      "cell_type": "markdown",
      "metadata": {
        "id": "haKgLps1pI9t"
      },
      "source": [
        "#### 전체데이터의 적용"
      ]
    },
    {
      "cell_type": "code",
      "metadata": {
        "id": "wBrV9P-4ltyy",
        "colab": {
          "base_uri": "https://localhost:8080/",
          "height": 49,
          "referenced_widgets": [
            "60c69734830d4458850d85c610da4b73",
            "20e45574414c46538fd723c87bd7af47",
            "851573d015274f67870cda33b3ac61b6",
            "d20441ebe0e94128bc42a4c047f69047",
            "a01c0644d1024801bf957e59215d8709",
            "227e2c561d374e16ad22082f27a91517",
            "96a9656d95d942078c33d03f3d920d45",
            "93f35243be2341dd972c291a51797530",
            "6ea007a6e50641f78cabaa7473a8b6c6",
            "8a6eb435be0042089bea66ad7b815e52",
            "fde5b99fec264c7c9d2e6097a32c472d"
          ]
        },
        "outputId": "4d44154e-a20a-4709-a78c-ae481e2d86b3"
      },
      "source": [
        "for idx in tqdm(range(len(new_test_x))):\n",
        "    y_pred_tmp = models.predict(new_test_x[idx])\n",
        "    y_pred = (y_pred_tmp.squeeze() > 0.5).astype('int')\n",
        "    \n",
        "    zero_check = (y_pred == 0).sum()\n",
        "    threshold = np.floor(len(new_test_x[idx])/ 2) + 1 # 과반수 구하기\n",
        "    if zero_check > threshold:\n",
        "        result_for_gas['gas1_predict'][idx] = 0\n",
        "    else: \n",
        "        result_for_gas['gas1_predict'][idx] = 1"
      ],
      "execution_count": 90,
      "outputs": [
        {
          "output_type": "display_data",
          "data": {
            "application/vnd.jupyter.widget-view+json": {
              "model_id": "60c69734830d4458850d85c610da4b73",
              "version_minor": 0,
              "version_major": 2
            },
            "text/plain": [
              "  0%|          | 0/20 [00:00<?, ?it/s]"
            ]
          },
          "metadata": {}
        }
      ]
    },
    {
      "cell_type": "code",
      "metadata": {
        "id": "zo7MLVoVMTO1",
        "colab": {
          "base_uri": "https://localhost:8080/",
          "height": 700
        },
        "outputId": "f11962c0-5f1f-4fbc-8bc0-eae1639bc3fb"
      },
      "source": [
        "result_for_gas"
      ],
      "execution_count": 91,
      "outputs": [
        {
          "output_type": "execute_result",
          "data": {
            "text/html": [
              "<div>\n",
              "<style scoped>\n",
              "    .dataframe tbody tr th:only-of-type {\n",
              "        vertical-align: middle;\n",
              "    }\n",
              "\n",
              "    .dataframe tbody tr th {\n",
              "        vertical-align: top;\n",
              "    }\n",
              "\n",
              "    .dataframe thead th {\n",
              "        text-align: right;\n",
              "    }\n",
              "</style>\n",
              "<table border=\"1\" class=\"dataframe\">\n",
              "  <thead>\n",
              "    <tr style=\"text-align: right;\">\n",
              "      <th></th>\n",
              "      <th>gas1_label</th>\n",
              "      <th>gas1_predict</th>\n",
              "    </tr>\n",
              "    <tr>\n",
              "      <th>sample</th>\n",
              "      <th></th>\n",
              "      <th></th>\n",
              "    </tr>\n",
              "  </thead>\n",
              "  <tbody>\n",
              "    <tr>\n",
              "      <th>sample 2</th>\n",
              "      <td>1</td>\n",
              "      <td>1</td>\n",
              "    </tr>\n",
              "    <tr>\n",
              "      <th>sample 4</th>\n",
              "      <td>1</td>\n",
              "      <td>1</td>\n",
              "    </tr>\n",
              "    <tr>\n",
              "      <th>sample 8</th>\n",
              "      <td>1</td>\n",
              "      <td>1</td>\n",
              "    </tr>\n",
              "    <tr>\n",
              "      <th>sample 10</th>\n",
              "      <td>1</td>\n",
              "      <td>1</td>\n",
              "    </tr>\n",
              "    <tr>\n",
              "      <th>sample 15</th>\n",
              "      <td>0</td>\n",
              "      <td>0</td>\n",
              "    </tr>\n",
              "    <tr>\n",
              "      <th>sample 23</th>\n",
              "      <td>1</td>\n",
              "      <td>1</td>\n",
              "    </tr>\n",
              "    <tr>\n",
              "      <th>sample 25</th>\n",
              "      <td>1</td>\n",
              "      <td>1</td>\n",
              "    </tr>\n",
              "    <tr>\n",
              "      <th>sample 29</th>\n",
              "      <td>1</td>\n",
              "      <td>1</td>\n",
              "    </tr>\n",
              "    <tr>\n",
              "      <th>sample 30</th>\n",
              "      <td>1</td>\n",
              "      <td>1</td>\n",
              "    </tr>\n",
              "    <tr>\n",
              "      <th>sample 40</th>\n",
              "      <td>1</td>\n",
              "      <td>1</td>\n",
              "    </tr>\n",
              "    <tr>\n",
              "      <th>sample 45</th>\n",
              "      <td>1</td>\n",
              "      <td>1</td>\n",
              "    </tr>\n",
              "    <tr>\n",
              "      <th>sample 55</th>\n",
              "      <td>1</td>\n",
              "      <td>1</td>\n",
              "    </tr>\n",
              "    <tr>\n",
              "      <th>sample 57</th>\n",
              "      <td>1</td>\n",
              "      <td>1</td>\n",
              "    </tr>\n",
              "    <tr>\n",
              "      <th>sample 63</th>\n",
              "      <td>1</td>\n",
              "      <td>1</td>\n",
              "    </tr>\n",
              "    <tr>\n",
              "      <th>sample 64</th>\n",
              "      <td>1</td>\n",
              "      <td>1</td>\n",
              "    </tr>\n",
              "    <tr>\n",
              "      <th>sample 67</th>\n",
              "      <td>1</td>\n",
              "      <td>1</td>\n",
              "    </tr>\n",
              "    <tr>\n",
              "      <th>sample 81</th>\n",
              "      <td>0</td>\n",
              "      <td>0</td>\n",
              "    </tr>\n",
              "    <tr>\n",
              "      <th>sample 83</th>\n",
              "      <td>0</td>\n",
              "      <td>0</td>\n",
              "    </tr>\n",
              "    <tr>\n",
              "      <th>sample 86</th>\n",
              "      <td>0</td>\n",
              "      <td>0</td>\n",
              "    </tr>\n",
              "    <tr>\n",
              "      <th>sample 92</th>\n",
              "      <td>1</td>\n",
              "      <td>1</td>\n",
              "    </tr>\n",
              "  </tbody>\n",
              "</table>\n",
              "</div>"
            ],
            "text/plain": [
              "           gas1_label gas1_predict\n",
              "sample                            \n",
              "sample 2            1            1\n",
              "sample 4            1            1\n",
              "sample 8            1            1\n",
              "sample 10           1            1\n",
              "sample 15           0            0\n",
              "sample 23           1            1\n",
              "sample 25           1            1\n",
              "sample 29           1            1\n",
              "sample 30           1            1\n",
              "sample 40           1            1\n",
              "sample 45           1            1\n",
              "sample 55           1            1\n",
              "sample 57           1            1\n",
              "sample 63           1            1\n",
              "sample 64           1            1\n",
              "sample 67           1            1\n",
              "sample 81           0            0\n",
              "sample 83           0            0\n",
              "sample 86           0            0\n",
              "sample 92           1            1"
            ]
          },
          "metadata": {},
          "execution_count": 91
        }
      ]
    },
    {
      "cell_type": "code",
      "metadata": {
        "id": "S04q8Zzep4QF"
      },
      "source": [
        "y_true_c1 = result_for_gas['gas1_label'].tolist()\n",
        "y_pred_c1 = result_for_gas['gas1_predict'].tolist()"
      ],
      "execution_count": 92,
      "outputs": []
    },
    {
      "cell_type": "code",
      "metadata": {
        "id": "Ng0FiRULrJX1",
        "colab": {
          "base_uri": "https://localhost:8080/"
        },
        "outputId": "84468b89-d162-4fbd-efca-a091f04b60a6"
      },
      "source": [
        "confusion_matrix(y_true_c1, y_pred_c1)"
      ],
      "execution_count": 93,
      "outputs": [
        {
          "output_type": "execute_result",
          "data": {
            "text/plain": [
              "array([[ 4,  0],\n",
              "       [ 0, 16]])"
            ]
          },
          "metadata": {},
          "execution_count": 93
        }
      ]
    },
    {
      "cell_type": "code",
      "metadata": {
        "id": "DdSH3c7qp-Go",
        "colab": {
          "base_uri": "https://localhost:8080/"
        },
        "outputId": "12bbc477-a441-4bd3-8468-2522201be4bc"
      },
      "source": [
        "accuracy_score(y_true_c1, y_pred_c1) "
      ],
      "execution_count": 94,
      "outputs": [
        {
          "output_type": "execute_result",
          "data": {
            "text/plain": [
              "1.0"
            ]
          },
          "metadata": {},
          "execution_count": 94
        }
      ]
    },
    {
      "cell_type": "code",
      "metadata": {
        "id": "8IRS7tmdqDvT",
        "colab": {
          "base_uri": "https://localhost:8080/"
        },
        "outputId": "13c2cc99-739a-4a8a-87f2-57892c3fa9ac"
      },
      "source": [
        "precision_score(y_true_c1, y_pred_c1)"
      ],
      "execution_count": 95,
      "outputs": [
        {
          "output_type": "execute_result",
          "data": {
            "text/plain": [
              "1.0"
            ]
          },
          "metadata": {},
          "execution_count": 95
        }
      ]
    },
    {
      "cell_type": "code",
      "metadata": {
        "id": "h6IrdWnxqLmt",
        "colab": {
          "base_uri": "https://localhost:8080/"
        },
        "outputId": "6134e906-0900-4001-ffd4-24664ec73598"
      },
      "source": [
        "recall_score(y_true_c1, y_pred_c1)"
      ],
      "execution_count": 96,
      "outputs": [
        {
          "output_type": "execute_result",
          "data": {
            "text/plain": [
              "1.0"
            ]
          },
          "metadata": {},
          "execution_count": 96
        }
      ]
    },
    {
      "cell_type": "code",
      "metadata": {
        "id": "snnsGX4lqNO-",
        "colab": {
          "base_uri": "https://localhost:8080/"
        },
        "outputId": "9c806e7a-765f-4780-b9a4-5acd287cfdd1"
      },
      "source": [
        "f1_score(y_true_c1, y_pred_c1)"
      ],
      "execution_count": 97,
      "outputs": [
        {
          "output_type": "execute_result",
          "data": {
            "text/plain": [
              "1.0"
            ]
          },
          "metadata": {},
          "execution_count": 97
        }
      ]
    },
    {
      "cell_type": "code",
      "metadata": {
        "id": "lSnM_pkLvbxV"
      },
      "source": [
        ""
      ],
      "execution_count": null,
      "outputs": []
    }
  ]
}